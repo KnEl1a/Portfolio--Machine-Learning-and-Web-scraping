{
 "cells": [
  {
   "cell_type": "markdown",
   "id": "dc568878",
   "metadata": {
    "papermill": {
     "duration": 0.005138,
     "end_time": "2024-12-17T22:23:32.726736",
     "exception": false,
     "start_time": "2024-12-17T22:23:32.721598",
     "status": "completed"
    },
    "tags": []
   },
   "source": [
    "# Dataset Description\n",
    "\r\n",
    "The Healthy Brain Network (HBN) dataset is a clinical sample of about five-thousand 5-22 year-olds who have undergone both clinical and research screenings. The objective of the HBN study is to find biological markers that will improve the diagnosis and treatment of mental health and learning disorders from an objective biological perspective. Two elements of this study are being used for this competition: physical activity data (wrist-worn accelerometer data, fitness assessments and questionnaires) and internet usage behavior data. The goal of this competition is to predict from this data a participant's Severity Impairment Index (sii), a standard measure of problematic internet use.\r\n",
    "\r\n",
    "Note that this is a Code Competition, in which the actual test set is hidden. In this public version, we give some sample data in the correct format to help you author your solutions. The full test set comprises about 3800 instances.\r\n",
    "\r\n",
    "The competition data is compiled into two sources, parquet files containing the accelerometer (actigraphy) series and csv files containing the remaining tabular data. The majority of measures are missing for most participants. In particular, the target sii is missing for a portion of the participants in the training set. You may wish to apply non-supervised learning techniques to this data. The sii value is present for all instances in the test set.\r\n",
    "\r\n"
   ]
  },
  {
   "cell_type": "code",
   "execution_count": 1,
   "id": "e6f1b97a",
   "metadata": {
    "_cell_guid": "b1076dfc-b9ad-4769-8c92-a6c4dae69d19",
    "_uuid": "8f2839f25d086af736a60e9eeb907d3b93b6e0e5",
    "execution": {
     "iopub.execute_input": "2024-12-17T22:23:32.737562Z",
     "iopub.status.busy": "2024-12-17T22:23:32.737139Z",
     "iopub.status.idle": "2024-12-17T22:23:33.745173Z",
     "shell.execute_reply": "2024-12-17T22:23:33.743731Z"
    },
    "papermill": {
     "duration": 1.016258,
     "end_time": "2024-12-17T22:23:33.747658",
     "exception": false,
     "start_time": "2024-12-17T22:23:32.731400",
     "status": "completed"
    },
    "tags": []
   },
   "outputs": [],
   "source": [
    "import numpy as np \n",
    "import pandas as pd\n",
    "import os\n",
    "\n",
    "train_data = pd.read_csv('/kaggle/input/handling-sii/impute_train_data.csv', index_col='id')\n",
    "test_data = pd.read_csv('/kaggle/input/child-mind-institute-problematic-internet-use/test.csv', index_col='id')"
   ]
  },
  {
   "cell_type": "code",
   "execution_count": 2,
   "id": "3ff49ddd",
   "metadata": {
    "execution": {
     "iopub.execute_input": "2024-12-17T22:23:33.761270Z",
     "iopub.status.busy": "2024-12-17T22:23:33.760865Z",
     "iopub.status.idle": "2024-12-17T22:23:33.769890Z",
     "shell.execute_reply": "2024-12-17T22:23:33.768724Z"
    },
    "papermill": {
     "duration": 0.01742,
     "end_time": "2024-12-17T22:23:33.771920",
     "exception": false,
     "start_time": "2024-12-17T22:23:33.754500",
     "status": "completed"
    },
    "tags": []
   },
   "outputs": [
    {
     "data": {
      "text/plain": [
       "((3960, 81), (20, 58))"
      ]
     },
     "execution_count": 2,
     "metadata": {},
     "output_type": "execute_result"
    }
   ],
   "source": [
    "train_df = train_data.copy()\n",
    "test_df = test_data.copy()\n",
    "\n",
    "train_df.shape, test_df.shape"
   ]
  },
  {
   "cell_type": "code",
   "execution_count": 3,
   "id": "e898bb02",
   "metadata": {
    "execution": {
     "iopub.execute_input": "2024-12-17T22:23:33.784979Z",
     "iopub.status.busy": "2024-12-17T22:23:33.784593Z",
     "iopub.status.idle": "2024-12-17T22:23:33.789254Z",
     "shell.execute_reply": "2024-12-17T22:23:33.788263Z"
    },
    "papermill": {
     "duration": 0.014035,
     "end_time": "2024-12-17T22:23:33.791197",
     "exception": false,
     "start_time": "2024-12-17T22:23:33.777162",
     "status": "completed"
    },
    "tags": []
   },
   "outputs": [],
   "source": [
    "train_cols = train_data.columns.tolist()\n",
    "test_cols = test_data.columns.tolist()"
   ]
  },
  {
   "cell_type": "code",
   "execution_count": 4,
   "id": "52002910",
   "metadata": {
    "execution": {
     "iopub.execute_input": "2024-12-17T22:23:33.802792Z",
     "iopub.status.busy": "2024-12-17T22:23:33.802403Z",
     "iopub.status.idle": "2024-12-17T22:23:33.812039Z",
     "shell.execute_reply": "2024-12-17T22:23:33.811040Z"
    },
    "papermill": {
     "duration": 0.017806,
     "end_time": "2024-12-17T22:23:33.814125",
     "exception": false,
     "start_time": "2024-12-17T22:23:33.796319",
     "status": "completed"
    },
    "tags": []
   },
   "outputs": [
    {
     "data": {
      "text/plain": [
       "(58, 47, 11)"
      ]
     },
     "execution_count": 4,
     "metadata": {},
     "output_type": "execute_result"
    }
   ],
   "source": [
    "features = test_cols.copy()\n",
    "\n",
    "num_features = [f for f in features if test_df[f].dtype == 'float' or f == 'Basic_Demos-Age']\n",
    "cat_features = [f for f in features if f not in num_features]\n",
    "\n",
    "len(features), len(num_features), len(cat_features)"
   ]
  },
  {
   "cell_type": "code",
   "execution_count": 5,
   "id": "9c3b297c",
   "metadata": {
    "execution": {
     "iopub.execute_input": "2024-12-17T22:23:33.826078Z",
     "iopub.status.busy": "2024-12-17T22:23:33.825700Z",
     "iopub.status.idle": "2024-12-17T22:23:33.836425Z",
     "shell.execute_reply": "2024-12-17T22:23:33.835460Z"
    },
    "papermill": {
     "duration": 0.019335,
     "end_time": "2024-12-17T22:23:33.838610",
     "exception": false,
     "start_time": "2024-12-17T22:23:33.819275",
     "status": "completed"
    },
    "tags": []
   },
   "outputs": [],
   "source": [
    "from tqdm import tqdm\n",
    "from IPython.display import clear_output\n",
    "from concurrent.futures import ThreadPoolExecutor\n",
    "\n",
    "import warnings\n",
    "warnings.filterwarnings('ignore')\n",
    "pd.options.display.max_columns = None"
   ]
  },
  {
   "cell_type": "code",
   "execution_count": 6,
   "id": "0c66b388",
   "metadata": {
    "execution": {
     "iopub.execute_input": "2024-12-17T22:23:33.849940Z",
     "iopub.status.busy": "2024-12-17T22:23:33.849586Z",
     "iopub.status.idle": "2024-12-17T22:25:00.217529Z",
     "shell.execute_reply": "2024-12-17T22:25:00.216261Z"
    },
    "papermill": {
     "duration": 86.376031,
     "end_time": "2024-12-17T22:25:00.219632",
     "exception": false,
     "start_time": "2024-12-17T22:23:33.843601",
     "status": "completed"
    },
    "tags": []
   },
   "outputs": [
    {
     "name": "stderr",
     "output_type": "stream",
     "text": [
      "100%|██████████| 996/996 [01:26<00:00, 11.58it/s]\n",
      "100%|██████████| 2/2 [00:00<00:00,  9.44it/s]\n"
     ]
    }
   ],
   "source": [
    "def process_file(filename, dirname):\n",
    "    data = pd.read_parquet(os.path.join(dirname, filename, 'part-0.parquet'))\n",
    "    data.drop('step', axis=1, inplace=True)\n",
    "    return data.describe().values.reshape(-1), filename.split('=')[1]\n",
    "\n",
    "def load_time_series(dirname) -> pd.DataFrame:\n",
    "    ids = os.listdir(dirname)\n",
    "    \n",
    "    with ThreadPoolExecutor() as executor:\n",
    "        results = list(tqdm(executor.map(lambda fname: process_file(fname, dirname), ids), total=len(ids)))\n",
    "    stats, indexes = zip(*results)\n",
    "    \n",
    "    data = pd.DataFrame(stats, columns=[f\"stat_{i}\" for i in range(len(stats[0]))])\n",
    "    data['id'] = indexes\n",
    "    return data\n",
    "\n",
    "train_ts = load_time_series('/kaggle/input/child-mind-institute-problematic-internet-use/series_train.parquet')\n",
    "test_ts = load_time_series('/kaggle/input/child-mind-institute-problematic-internet-use/series_test.parquet')\n",
    "\n",
    "time_series_cols = train_ts.columns.tolist()\n",
    "time_series_cols.remove('id')"
   ]
  },
  {
   "cell_type": "code",
   "execution_count": 7,
   "id": "94cd266d",
   "metadata": {
    "execution": {
     "iopub.execute_input": "2024-12-17T22:25:00.270841Z",
     "iopub.status.busy": "2024-12-17T22:25:00.270465Z",
     "iopub.status.idle": "2024-12-17T22:25:02.526883Z",
     "shell.execute_reply": "2024-12-17T22:25:02.525836Z"
    },
    "papermill": {
     "duration": 2.284429,
     "end_time": "2024-12-17T22:25:02.529491",
     "exception": false,
     "start_time": "2024-12-17T22:25:00.245062",
     "status": "completed"
    },
    "tags": []
   },
   "outputs": [],
   "source": [
    "from sklearn.compose import ColumnTransformer\n",
    "from sklearn.pipeline import Pipeline\n",
    "from sklearn.impute import KNNImputer, SimpleImputer\n",
    "from sklearn.preprocessing import MinMaxScaler, OneHotEncoder\n",
    "from sklearn.feature_selection import SelectKBest, r_regression"
   ]
  },
  {
   "cell_type": "code",
   "execution_count": 8,
   "id": "cd04bbb3",
   "metadata": {
    "execution": {
     "iopub.execute_input": "2024-12-17T22:25:02.593258Z",
     "iopub.status.busy": "2024-12-17T22:25:02.592641Z",
     "iopub.status.idle": "2024-12-17T22:25:02.598582Z",
     "shell.execute_reply": "2024-12-17T22:25:02.597460Z"
    },
    "papermill": {
     "duration": 0.041622,
     "end_time": "2024-12-17T22:25:02.600953",
     "exception": false,
     "start_time": "2024-12-17T22:25:02.559331",
     "status": "completed"
    },
    "tags": []
   },
   "outputs": [],
   "source": [
    "num_transformer = Pipeline(steps=[\n",
    "    ('KNNimputer', KNNImputer(n_neighbors=2, weights='uniform')),\n",
    "    ('MinMaxScaler', MinMaxScaler())\n",
    "])"
   ]
  },
  {
   "cell_type": "code",
   "execution_count": 9,
   "id": "7dac89fd",
   "metadata": {
    "execution": {
     "iopub.execute_input": "2024-12-17T22:25:02.651426Z",
     "iopub.status.busy": "2024-12-17T22:25:02.651031Z",
     "iopub.status.idle": "2024-12-17T22:25:02.656917Z",
     "shell.execute_reply": "2024-12-17T22:25:02.655631Z"
    },
    "papermill": {
     "duration": 0.033729,
     "end_time": "2024-12-17T22:25:02.659321",
     "exception": false,
     "start_time": "2024-12-17T22:25:02.625592",
     "status": "completed"
    },
    "tags": []
   },
   "outputs": [],
   "source": [
    "cat_transformer = Pipeline(steps=[\n",
    "    ('imputer', SimpleImputer(strategy='constant', fill_value='unknown')),\n",
    "    ('onehot', OneHotEncoder(handle_unknown='ignore'))\n",
    "])"
   ]
  },
  {
   "cell_type": "code",
   "execution_count": 10,
   "id": "efe6ac82",
   "metadata": {
    "execution": {
     "iopub.execute_input": "2024-12-17T22:25:02.709533Z",
     "iopub.status.busy": "2024-12-17T22:25:02.709052Z",
     "iopub.status.idle": "2024-12-17T22:25:02.714617Z",
     "shell.execute_reply": "2024-12-17T22:25:02.713547Z"
    },
    "papermill": {
     "duration": 0.034435,
     "end_time": "2024-12-17T22:25:02.718225",
     "exception": false,
     "start_time": "2024-12-17T22:25:02.683790",
     "status": "completed"
    },
    "tags": []
   },
   "outputs": [],
   "source": [
    "ts_transformer = Pipeline(steps=[\n",
    "    ('MinMaxScaler', MinMaxScaler()),\n",
    "    ('imputer', SimpleImputer(strategy='median'))\n",
    "])"
   ]
  },
  {
   "cell_type": "code",
   "execution_count": 11,
   "id": "313d7466",
   "metadata": {
    "execution": {
     "iopub.execute_input": "2024-12-17T22:25:02.769921Z",
     "iopub.status.busy": "2024-12-17T22:25:02.769518Z",
     "iopub.status.idle": "2024-12-17T22:25:02.775232Z",
     "shell.execute_reply": "2024-12-17T22:25:02.773941Z"
    },
    "papermill": {
     "duration": 0.035329,
     "end_time": "2024-12-17T22:25:02.778168",
     "exception": false,
     "start_time": "2024-12-17T22:25:02.742839",
     "status": "completed"
    },
    "tags": []
   },
   "outputs": [],
   "source": [
    "preprocessor = ColumnTransformer(transformers=[\n",
    "    ('numerical', num_transformer, num_features),\n",
    "    ('categorical', cat_transformer, cat_features),\n",
    "    ('time_series', ts_transformer, time_series_cols)\n",
    "])"
   ]
  },
  {
   "cell_type": "code",
   "execution_count": 12,
   "id": "9bbd38e9",
   "metadata": {
    "execution": {
     "iopub.execute_input": "2024-12-17T22:25:02.840197Z",
     "iopub.status.busy": "2024-12-17T22:25:02.839796Z",
     "iopub.status.idle": "2024-12-17T22:25:04.213894Z",
     "shell.execute_reply": "2024-12-17T22:25:04.212555Z"
    },
    "papermill": {
     "duration": 1.408039,
     "end_time": "2024-12-17T22:25:04.216565",
     "exception": false,
     "start_time": "2024-12-17T22:25:02.808526",
     "status": "completed"
    },
    "tags": []
   },
   "outputs": [],
   "source": [
    "from lightgbm import LGBMRegressor\n",
    "\n",
    "params1 = {  \n",
    "    \n",
    "    'metric'              :'rmse',\n",
    "    'objective'           :'regression',\n",
    "    'learning_rate'       : 0.04,\n",
    "    'max_depth'           : 12,\n",
    "    'num_leaves'          : 59,\n",
    "    'subsample'           : 0.70,\n",
    "    'colsample_bytree'    : 0.50,\n",
    "    'min_child_weight'    : 12, \n",
    "    'min_child_samples'   : 14,    \n",
    "    'reg_alpha'           : 0.23,\n",
    "    'reg_lambda'          : 0.36,\n",
    "}\n",
    "params2 = {  \n",
    "    \n",
    "    'metric'              :'rmse',\n",
    "    'objective'           :'regression',\n",
    "    'learning_rate'       : 0.05,\n",
    "    'max_depth'           : 9,\n",
    "    'num_leaves'          : 59,\n",
    "    'subsample'           : 0.80,\n",
    "    'colsample_bytree'    : 0.50,\n",
    "    'min_child_weight'    : 12, \n",
    "    'min_child_samples'   : 14,  \n",
    "    'reg_alpha'           : 0.23,\n",
    "    'reg_lambda'          : 0.36,\n",
    "}\n",
    "params3 = {  \n",
    "    \n",
    "    'metric'              :'rmse',\n",
    "    'objective'           :'regression',\n",
    "    'learning_rate'       : 0.046,\n",
    "    'max_depth'           : 12,\n",
    "    'num_leaves'          : 478,\n",
    "    'min_data_in_leaf'    : 13,\n",
    "    'feature_fraction'    : 0.893,\n",
    "    'bagging_fraction'    : 0.784,\n",
    "    'bagging_freq'        : 4,\n",
    "    'lambda_l1'           : 10, \n",
    "    'lambda_l2'           : 0.01, \n",
    "}\n",
    "\n",
    "model1 = LGBMRegressor(**params1, n_estimators=300, verbose=-1)\n",
    "model2 = LGBMRegressor(**params2, n_estimators=300, verbose=-1)\n",
    "model3 = LGBMRegressor(**params3, n_estimators=300, verbose=-1)"
   ]
  },
  {
   "cell_type": "code",
   "execution_count": 13,
   "id": "842f5b61",
   "metadata": {
    "execution": {
     "iopub.execute_input": "2024-12-17T22:25:04.265778Z",
     "iopub.status.busy": "2024-12-17T22:25:04.265031Z",
     "iopub.status.idle": "2024-12-17T22:25:04.273206Z",
     "shell.execute_reply": "2024-12-17T22:25:04.271219Z"
    },
    "papermill": {
     "duration": 0.035722,
     "end_time": "2024-12-17T22:25:04.275952",
     "exception": false,
     "start_time": "2024-12-17T22:25:04.240230",
     "status": "completed"
    },
    "tags": []
   },
   "outputs": [],
   "source": [
    "pipeline1 = Pipeline(steps=[\n",
    "    ('preprocess', preprocessor),\n",
    "    ('feature_selection', SelectKBest(score_func=r_regression, k=117)),\n",
    "    ('model', model1)\n",
    "])\n",
    "pipeline2 = Pipeline(steps=[\n",
    "    ('preprocess', preprocessor),\n",
    "    ('feature_selection', SelectKBest(score_func=r_regression, k=117)),\n",
    "    ('model', model2)\n",
    "])\n",
    "pipeline3 = Pipeline(steps=[\n",
    "    ('preprocess', preprocessor),\n",
    "    ('feature_selection', SelectKBest(score_func=r_regression, k=117)),\n",
    "    ('model', model3)\n",
    "])"
   ]
  },
  {
   "cell_type": "code",
   "execution_count": 14,
   "id": "113ebb66",
   "metadata": {
    "execution": {
     "iopub.execute_input": "2024-12-17T22:25:04.337599Z",
     "iopub.status.busy": "2024-12-17T22:25:04.336292Z",
     "iopub.status.idle": "2024-12-17T22:25:04.406574Z",
     "shell.execute_reply": "2024-12-17T22:25:04.405309Z"
    },
    "papermill": {
     "duration": 0.103399,
     "end_time": "2024-12-17T22:25:04.409260",
     "exception": false,
     "start_time": "2024-12-17T22:25:04.305861",
     "status": "completed"
    },
    "tags": []
   },
   "outputs": [],
   "source": [
    "main_train_df = pd.merge(train_df[features], train_ts, how=\"left\", on='id')\n",
    "main_test_df = pd.merge(test_df, test_ts, how=\"left\", on='id')"
   ]
  },
  {
   "cell_type": "code",
   "execution_count": 15,
   "id": "355f2523",
   "metadata": {
    "execution": {
     "iopub.execute_input": "2024-12-17T22:25:04.471148Z",
     "iopub.status.busy": "2024-12-17T22:25:04.470746Z",
     "iopub.status.idle": "2024-12-17T22:25:04.496768Z",
     "shell.execute_reply": "2024-12-17T22:25:04.495244Z"
    },
    "papermill": {
     "duration": 0.060542,
     "end_time": "2024-12-17T22:25:04.499407",
     "exception": false,
     "start_time": "2024-12-17T22:25:04.438865",
     "status": "completed"
    },
    "tags": []
   },
   "outputs": [],
   "source": [
    "X = main_train_df.copy()\n",
    "y = train_df['sii']\n",
    "XX = main_test_df.copy()"
   ]
  },
  {
   "cell_type": "code",
   "execution_count": 16,
   "id": "37f8c494",
   "metadata": {
    "execution": {
     "iopub.execute_input": "2024-12-17T22:25:04.549581Z",
     "iopub.status.busy": "2024-12-17T22:25:04.549151Z",
     "iopub.status.idle": "2024-12-17T22:25:14.223108Z",
     "shell.execute_reply": "2024-12-17T22:25:14.221787Z"
    },
    "papermill": {
     "duration": 9.70294,
     "end_time": "2024-12-17T22:25:14.225952",
     "exception": false,
     "start_time": "2024-12-17T22:25:04.523012",
     "status": "completed"
    },
    "tags": []
   },
   "outputs": [
    {
     "data": {
      "text/html": [
       "<style>#sk-container-id-1 {color: black;background-color: white;}#sk-container-id-1 pre{padding: 0;}#sk-container-id-1 div.sk-toggleable {background-color: white;}#sk-container-id-1 label.sk-toggleable__label {cursor: pointer;display: block;width: 100%;margin-bottom: 0;padding: 0.3em;box-sizing: border-box;text-align: center;}#sk-container-id-1 label.sk-toggleable__label-arrow:before {content: \"▸\";float: left;margin-right: 0.25em;color: #696969;}#sk-container-id-1 label.sk-toggleable__label-arrow:hover:before {color: black;}#sk-container-id-1 div.sk-estimator:hover label.sk-toggleable__label-arrow:before {color: black;}#sk-container-id-1 div.sk-toggleable__content {max-height: 0;max-width: 0;overflow: hidden;text-align: left;background-color: #f0f8ff;}#sk-container-id-1 div.sk-toggleable__content pre {margin: 0.2em;color: black;border-radius: 0.25em;background-color: #f0f8ff;}#sk-container-id-1 input.sk-toggleable__control:checked~div.sk-toggleable__content {max-height: 200px;max-width: 100%;overflow: auto;}#sk-container-id-1 input.sk-toggleable__control:checked~label.sk-toggleable__label-arrow:before {content: \"▾\";}#sk-container-id-1 div.sk-estimator input.sk-toggleable__control:checked~label.sk-toggleable__label {background-color: #d4ebff;}#sk-container-id-1 div.sk-label input.sk-toggleable__control:checked~label.sk-toggleable__label {background-color: #d4ebff;}#sk-container-id-1 input.sk-hidden--visually {border: 0;clip: rect(1px 1px 1px 1px);clip: rect(1px, 1px, 1px, 1px);height: 1px;margin: -1px;overflow: hidden;padding: 0;position: absolute;width: 1px;}#sk-container-id-1 div.sk-estimator {font-family: monospace;background-color: #f0f8ff;border: 1px dotted black;border-radius: 0.25em;box-sizing: border-box;margin-bottom: 0.5em;}#sk-container-id-1 div.sk-estimator:hover {background-color: #d4ebff;}#sk-container-id-1 div.sk-parallel-item::after {content: \"\";width: 100%;border-bottom: 1px solid gray;flex-grow: 1;}#sk-container-id-1 div.sk-label:hover label.sk-toggleable__label {background-color: #d4ebff;}#sk-container-id-1 div.sk-serial::before {content: \"\";position: absolute;border-left: 1px solid gray;box-sizing: border-box;top: 0;bottom: 0;left: 50%;z-index: 0;}#sk-container-id-1 div.sk-serial {display: flex;flex-direction: column;align-items: center;background-color: white;padding-right: 0.2em;padding-left: 0.2em;position: relative;}#sk-container-id-1 div.sk-item {position: relative;z-index: 1;}#sk-container-id-1 div.sk-parallel {display: flex;align-items: stretch;justify-content: center;background-color: white;position: relative;}#sk-container-id-1 div.sk-item::before, #sk-container-id-1 div.sk-parallel-item::before {content: \"\";position: absolute;border-left: 1px solid gray;box-sizing: border-box;top: 0;bottom: 0;left: 50%;z-index: -1;}#sk-container-id-1 div.sk-parallel-item {display: flex;flex-direction: column;z-index: 1;position: relative;background-color: white;}#sk-container-id-1 div.sk-parallel-item:first-child::after {align-self: flex-end;width: 50%;}#sk-container-id-1 div.sk-parallel-item:last-child::after {align-self: flex-start;width: 50%;}#sk-container-id-1 div.sk-parallel-item:only-child::after {width: 0;}#sk-container-id-1 div.sk-dashed-wrapped {border: 1px dashed gray;margin: 0 0.4em 0.5em 0.4em;box-sizing: border-box;padding-bottom: 0.4em;background-color: white;}#sk-container-id-1 div.sk-label label {font-family: monospace;font-weight: bold;display: inline-block;line-height: 1.2em;}#sk-container-id-1 div.sk-label-container {text-align: center;}#sk-container-id-1 div.sk-container {/* jupyter's `normalize.less` sets `[hidden] { display: none; }` but bootstrap.min.css set `[hidden] { display: none !important; }` so we also need the `!important` here to be able to override the default hidden behavior on the sphinx rendered scikit-learn.org. See: https://github.com/scikit-learn/scikit-learn/issues/21755 */display: inline-block !important;position: relative;}#sk-container-id-1 div.sk-text-repr-fallback {display: none;}</style><div id=\"sk-container-id-1\" class=\"sk-top-container\"><div class=\"sk-text-repr-fallback\"><pre>Pipeline(steps=[(&#x27;preprocess&#x27;,\n",
       "                 ColumnTransformer(transformers=[(&#x27;numerical&#x27;,\n",
       "                                                  Pipeline(steps=[(&#x27;KNNimputer&#x27;,\n",
       "                                                                   KNNImputer(n_neighbors=2)),\n",
       "                                                                  (&#x27;MinMaxScaler&#x27;,\n",
       "                                                                   MinMaxScaler())]),\n",
       "                                                  [&#x27;Basic_Demos-Age&#x27;,\n",
       "                                                   &#x27;CGAS-CGAS_Score&#x27;,\n",
       "                                                   &#x27;Physical-BMI&#x27;,\n",
       "                                                   &#x27;Physical-Height&#x27;,\n",
       "                                                   &#x27;Physical-Weight&#x27;,\n",
       "                                                   &#x27;Physical-Waist_Circumference&#x27;,\n",
       "                                                   &#x27;Physical-Diastolic_BP&#x27;,\n",
       "                                                   &#x27;Physical-HeartRate&#x27;,\n",
       "                                                   &#x27;Physical-Systolic_B...\n",
       "                                                   &#x27;stat_29&#x27;, ...])])),\n",
       "                (&#x27;feature_selection&#x27;,\n",
       "                 SelectKBest(k=117,\n",
       "                             score_func=&lt;function r_regression at 0x7bd9a7dd9480&gt;)),\n",
       "                (&#x27;model&#x27;,\n",
       "                 LGBMRegressor(colsample_bytree=0.5, learning_rate=0.04,\n",
       "                               max_depth=12, metric=&#x27;rmse&#x27;,\n",
       "                               min_child_samples=14, min_child_weight=12,\n",
       "                               n_estimators=300, num_leaves=59,\n",
       "                               objective=&#x27;regression&#x27;, reg_alpha=0.23,\n",
       "                               reg_lambda=0.36, subsample=0.7, verbose=-1))])</pre><b>In a Jupyter environment, please rerun this cell to show the HTML representation or trust the notebook. <br />On GitHub, the HTML representation is unable to render, please try loading this page with nbviewer.org.</b></div><div class=\"sk-container\" hidden><div class=\"sk-item sk-dashed-wrapped\"><div class=\"sk-label-container\"><div class=\"sk-label sk-toggleable\"><input class=\"sk-toggleable__control sk-hidden--visually\" id=\"sk-estimator-id-1\" type=\"checkbox\" ><label for=\"sk-estimator-id-1\" class=\"sk-toggleable__label sk-toggleable__label-arrow\">Pipeline</label><div class=\"sk-toggleable__content\"><pre>Pipeline(steps=[(&#x27;preprocess&#x27;,\n",
       "                 ColumnTransformer(transformers=[(&#x27;numerical&#x27;,\n",
       "                                                  Pipeline(steps=[(&#x27;KNNimputer&#x27;,\n",
       "                                                                   KNNImputer(n_neighbors=2)),\n",
       "                                                                  (&#x27;MinMaxScaler&#x27;,\n",
       "                                                                   MinMaxScaler())]),\n",
       "                                                  [&#x27;Basic_Demos-Age&#x27;,\n",
       "                                                   &#x27;CGAS-CGAS_Score&#x27;,\n",
       "                                                   &#x27;Physical-BMI&#x27;,\n",
       "                                                   &#x27;Physical-Height&#x27;,\n",
       "                                                   &#x27;Physical-Weight&#x27;,\n",
       "                                                   &#x27;Physical-Waist_Circumference&#x27;,\n",
       "                                                   &#x27;Physical-Diastolic_BP&#x27;,\n",
       "                                                   &#x27;Physical-HeartRate&#x27;,\n",
       "                                                   &#x27;Physical-Systolic_B...\n",
       "                                                   &#x27;stat_29&#x27;, ...])])),\n",
       "                (&#x27;feature_selection&#x27;,\n",
       "                 SelectKBest(k=117,\n",
       "                             score_func=&lt;function r_regression at 0x7bd9a7dd9480&gt;)),\n",
       "                (&#x27;model&#x27;,\n",
       "                 LGBMRegressor(colsample_bytree=0.5, learning_rate=0.04,\n",
       "                               max_depth=12, metric=&#x27;rmse&#x27;,\n",
       "                               min_child_samples=14, min_child_weight=12,\n",
       "                               n_estimators=300, num_leaves=59,\n",
       "                               objective=&#x27;regression&#x27;, reg_alpha=0.23,\n",
       "                               reg_lambda=0.36, subsample=0.7, verbose=-1))])</pre></div></div></div><div class=\"sk-serial\"><div class=\"sk-item sk-dashed-wrapped\"><div class=\"sk-label-container\"><div class=\"sk-label sk-toggleable\"><input class=\"sk-toggleable__control sk-hidden--visually\" id=\"sk-estimator-id-2\" type=\"checkbox\" ><label for=\"sk-estimator-id-2\" class=\"sk-toggleable__label sk-toggleable__label-arrow\">preprocess: ColumnTransformer</label><div class=\"sk-toggleable__content\"><pre>ColumnTransformer(transformers=[(&#x27;numerical&#x27;,\n",
       "                                 Pipeline(steps=[(&#x27;KNNimputer&#x27;,\n",
       "                                                  KNNImputer(n_neighbors=2)),\n",
       "                                                 (&#x27;MinMaxScaler&#x27;,\n",
       "                                                  MinMaxScaler())]),\n",
       "                                 [&#x27;Basic_Demos-Age&#x27;, &#x27;CGAS-CGAS_Score&#x27;,\n",
       "                                  &#x27;Physical-BMI&#x27;, &#x27;Physical-Height&#x27;,\n",
       "                                  &#x27;Physical-Weight&#x27;,\n",
       "                                  &#x27;Physical-Waist_Circumference&#x27;,\n",
       "                                  &#x27;Physical-Diastolic_BP&#x27;, &#x27;Physical-HeartRate&#x27;,\n",
       "                                  &#x27;Physical-Systolic_BP&#x27;,\n",
       "                                  &#x27;Fitness_Endurance-Max_Stag...\n",
       "                                                  MinMaxScaler()),\n",
       "                                                 (&#x27;imputer&#x27;,\n",
       "                                                  SimpleImputer(strategy=&#x27;median&#x27;))]),\n",
       "                                 [&#x27;stat_0&#x27;, &#x27;stat_1&#x27;, &#x27;stat_2&#x27;, &#x27;stat_3&#x27;,\n",
       "                                  &#x27;stat_4&#x27;, &#x27;stat_5&#x27;, &#x27;stat_6&#x27;, &#x27;stat_7&#x27;,\n",
       "                                  &#x27;stat_8&#x27;, &#x27;stat_9&#x27;, &#x27;stat_10&#x27;, &#x27;stat_11&#x27;,\n",
       "                                  &#x27;stat_12&#x27;, &#x27;stat_13&#x27;, &#x27;stat_14&#x27;, &#x27;stat_15&#x27;,\n",
       "                                  &#x27;stat_16&#x27;, &#x27;stat_17&#x27;, &#x27;stat_18&#x27;, &#x27;stat_19&#x27;,\n",
       "                                  &#x27;stat_20&#x27;, &#x27;stat_21&#x27;, &#x27;stat_22&#x27;, &#x27;stat_23&#x27;,\n",
       "                                  &#x27;stat_24&#x27;, &#x27;stat_25&#x27;, &#x27;stat_26&#x27;, &#x27;stat_27&#x27;,\n",
       "                                  &#x27;stat_28&#x27;, &#x27;stat_29&#x27;, ...])])</pre></div></div></div><div class=\"sk-parallel\"><div class=\"sk-parallel-item\"><div class=\"sk-item\"><div class=\"sk-label-container\"><div class=\"sk-label sk-toggleable\"><input class=\"sk-toggleable__control sk-hidden--visually\" id=\"sk-estimator-id-3\" type=\"checkbox\" ><label for=\"sk-estimator-id-3\" class=\"sk-toggleable__label sk-toggleable__label-arrow\">numerical</label><div class=\"sk-toggleable__content\"><pre>[&#x27;Basic_Demos-Age&#x27;, &#x27;CGAS-CGAS_Score&#x27;, &#x27;Physical-BMI&#x27;, &#x27;Physical-Height&#x27;, &#x27;Physical-Weight&#x27;, &#x27;Physical-Waist_Circumference&#x27;, &#x27;Physical-Diastolic_BP&#x27;, &#x27;Physical-HeartRate&#x27;, &#x27;Physical-Systolic_BP&#x27;, &#x27;Fitness_Endurance-Max_Stage&#x27;, &#x27;Fitness_Endurance-Time_Mins&#x27;, &#x27;Fitness_Endurance-Time_Sec&#x27;, &#x27;FGC-FGC_CU&#x27;, &#x27;FGC-FGC_CU_Zone&#x27;, &#x27;FGC-FGC_GSND&#x27;, &#x27;FGC-FGC_GSND_Zone&#x27;, &#x27;FGC-FGC_GSD&#x27;, &#x27;FGC-FGC_GSD_Zone&#x27;, &#x27;FGC-FGC_PU&#x27;, &#x27;FGC-FGC_PU_Zone&#x27;, &#x27;FGC-FGC_SRL&#x27;, &#x27;FGC-FGC_SRL_Zone&#x27;, &#x27;FGC-FGC_SRR&#x27;, &#x27;FGC-FGC_SRR_Zone&#x27;, &#x27;FGC-FGC_TL&#x27;, &#x27;FGC-FGC_TL_Zone&#x27;, &#x27;BIA-BIA_Activity_Level_num&#x27;, &#x27;BIA-BIA_BMC&#x27;, &#x27;BIA-BIA_BMI&#x27;, &#x27;BIA-BIA_BMR&#x27;, &#x27;BIA-BIA_DEE&#x27;, &#x27;BIA-BIA_ECW&#x27;, &#x27;BIA-BIA_FFM&#x27;, &#x27;BIA-BIA_FFMI&#x27;, &#x27;BIA-BIA_FMI&#x27;, &#x27;BIA-BIA_Fat&#x27;, &#x27;BIA-BIA_Frame_num&#x27;, &#x27;BIA-BIA_ICW&#x27;, &#x27;BIA-BIA_LDM&#x27;, &#x27;BIA-BIA_LST&#x27;, &#x27;BIA-BIA_SMM&#x27;, &#x27;BIA-BIA_TBW&#x27;, &#x27;PAQ_A-PAQ_A_Total&#x27;, &#x27;PAQ_C-PAQ_C_Total&#x27;, &#x27;SDS-SDS_Total_Raw&#x27;, &#x27;SDS-SDS_Total_T&#x27;, &#x27;PreInt_EduHx-computerinternet_hoursday&#x27;]</pre></div></div></div><div class=\"sk-serial\"><div class=\"sk-item\"><div class=\"sk-serial\"><div class=\"sk-item\"><div class=\"sk-estimator sk-toggleable\"><input class=\"sk-toggleable__control sk-hidden--visually\" id=\"sk-estimator-id-4\" type=\"checkbox\" ><label for=\"sk-estimator-id-4\" class=\"sk-toggleable__label sk-toggleable__label-arrow\">KNNImputer</label><div class=\"sk-toggleable__content\"><pre>KNNImputer(n_neighbors=2)</pre></div></div></div><div class=\"sk-item\"><div class=\"sk-estimator sk-toggleable\"><input class=\"sk-toggleable__control sk-hidden--visually\" id=\"sk-estimator-id-5\" type=\"checkbox\" ><label for=\"sk-estimator-id-5\" class=\"sk-toggleable__label sk-toggleable__label-arrow\">MinMaxScaler</label><div class=\"sk-toggleable__content\"><pre>MinMaxScaler()</pre></div></div></div></div></div></div></div></div><div class=\"sk-parallel-item\"><div class=\"sk-item\"><div class=\"sk-label-container\"><div class=\"sk-label sk-toggleable\"><input class=\"sk-toggleable__control sk-hidden--visually\" id=\"sk-estimator-id-6\" type=\"checkbox\" ><label for=\"sk-estimator-id-6\" class=\"sk-toggleable__label sk-toggleable__label-arrow\">categorical</label><div class=\"sk-toggleable__content\"><pre>[&#x27;Basic_Demos-Enroll_Season&#x27;, &#x27;Basic_Demos-Sex&#x27;, &#x27;CGAS-Season&#x27;, &#x27;Physical-Season&#x27;, &#x27;Fitness_Endurance-Season&#x27;, &#x27;FGC-Season&#x27;, &#x27;BIA-Season&#x27;, &#x27;PAQ_A-Season&#x27;, &#x27;PAQ_C-Season&#x27;, &#x27;SDS-Season&#x27;, &#x27;PreInt_EduHx-Season&#x27;]</pre></div></div></div><div class=\"sk-serial\"><div class=\"sk-item\"><div class=\"sk-serial\"><div class=\"sk-item\"><div class=\"sk-estimator sk-toggleable\"><input class=\"sk-toggleable__control sk-hidden--visually\" id=\"sk-estimator-id-7\" type=\"checkbox\" ><label for=\"sk-estimator-id-7\" class=\"sk-toggleable__label sk-toggleable__label-arrow\">SimpleImputer</label><div class=\"sk-toggleable__content\"><pre>SimpleImputer(fill_value=&#x27;unknown&#x27;, strategy=&#x27;constant&#x27;)</pre></div></div></div><div class=\"sk-item\"><div class=\"sk-estimator sk-toggleable\"><input class=\"sk-toggleable__control sk-hidden--visually\" id=\"sk-estimator-id-8\" type=\"checkbox\" ><label for=\"sk-estimator-id-8\" class=\"sk-toggleable__label sk-toggleable__label-arrow\">OneHotEncoder</label><div class=\"sk-toggleable__content\"><pre>OneHotEncoder(handle_unknown=&#x27;ignore&#x27;)</pre></div></div></div></div></div></div></div></div><div class=\"sk-parallel-item\"><div class=\"sk-item\"><div class=\"sk-label-container\"><div class=\"sk-label sk-toggleable\"><input class=\"sk-toggleable__control sk-hidden--visually\" id=\"sk-estimator-id-9\" type=\"checkbox\" ><label for=\"sk-estimator-id-9\" class=\"sk-toggleable__label sk-toggleable__label-arrow\">time_series</label><div class=\"sk-toggleable__content\"><pre>[&#x27;stat_0&#x27;, &#x27;stat_1&#x27;, &#x27;stat_2&#x27;, &#x27;stat_3&#x27;, &#x27;stat_4&#x27;, &#x27;stat_5&#x27;, &#x27;stat_6&#x27;, &#x27;stat_7&#x27;, &#x27;stat_8&#x27;, &#x27;stat_9&#x27;, &#x27;stat_10&#x27;, &#x27;stat_11&#x27;, &#x27;stat_12&#x27;, &#x27;stat_13&#x27;, &#x27;stat_14&#x27;, &#x27;stat_15&#x27;, &#x27;stat_16&#x27;, &#x27;stat_17&#x27;, &#x27;stat_18&#x27;, &#x27;stat_19&#x27;, &#x27;stat_20&#x27;, &#x27;stat_21&#x27;, &#x27;stat_22&#x27;, &#x27;stat_23&#x27;, &#x27;stat_24&#x27;, &#x27;stat_25&#x27;, &#x27;stat_26&#x27;, &#x27;stat_27&#x27;, &#x27;stat_28&#x27;, &#x27;stat_29&#x27;, &#x27;stat_30&#x27;, &#x27;stat_31&#x27;, &#x27;stat_32&#x27;, &#x27;stat_33&#x27;, &#x27;stat_34&#x27;, &#x27;stat_35&#x27;, &#x27;stat_36&#x27;, &#x27;stat_37&#x27;, &#x27;stat_38&#x27;, &#x27;stat_39&#x27;, &#x27;stat_40&#x27;, &#x27;stat_41&#x27;, &#x27;stat_42&#x27;, &#x27;stat_43&#x27;, &#x27;stat_44&#x27;, &#x27;stat_45&#x27;, &#x27;stat_46&#x27;, &#x27;stat_47&#x27;, &#x27;stat_48&#x27;, &#x27;stat_49&#x27;, &#x27;stat_50&#x27;, &#x27;stat_51&#x27;, &#x27;stat_52&#x27;, &#x27;stat_53&#x27;, &#x27;stat_54&#x27;, &#x27;stat_55&#x27;, &#x27;stat_56&#x27;, &#x27;stat_57&#x27;, &#x27;stat_58&#x27;, &#x27;stat_59&#x27;, &#x27;stat_60&#x27;, &#x27;stat_61&#x27;, &#x27;stat_62&#x27;, &#x27;stat_63&#x27;, &#x27;stat_64&#x27;, &#x27;stat_65&#x27;, &#x27;stat_66&#x27;, &#x27;stat_67&#x27;, &#x27;stat_68&#x27;, &#x27;stat_69&#x27;, &#x27;stat_70&#x27;, &#x27;stat_71&#x27;, &#x27;stat_72&#x27;, &#x27;stat_73&#x27;, &#x27;stat_74&#x27;, &#x27;stat_75&#x27;, &#x27;stat_76&#x27;, &#x27;stat_77&#x27;, &#x27;stat_78&#x27;, &#x27;stat_79&#x27;, &#x27;stat_80&#x27;, &#x27;stat_81&#x27;, &#x27;stat_82&#x27;, &#x27;stat_83&#x27;, &#x27;stat_84&#x27;, &#x27;stat_85&#x27;, &#x27;stat_86&#x27;, &#x27;stat_87&#x27;, &#x27;stat_88&#x27;, &#x27;stat_89&#x27;, &#x27;stat_90&#x27;, &#x27;stat_91&#x27;, &#x27;stat_92&#x27;, &#x27;stat_93&#x27;, &#x27;stat_94&#x27;, &#x27;stat_95&#x27;]</pre></div></div></div><div class=\"sk-serial\"><div class=\"sk-item\"><div class=\"sk-serial\"><div class=\"sk-item\"><div class=\"sk-estimator sk-toggleable\"><input class=\"sk-toggleable__control sk-hidden--visually\" id=\"sk-estimator-id-10\" type=\"checkbox\" ><label for=\"sk-estimator-id-10\" class=\"sk-toggleable__label sk-toggleable__label-arrow\">MinMaxScaler</label><div class=\"sk-toggleable__content\"><pre>MinMaxScaler()</pre></div></div></div><div class=\"sk-item\"><div class=\"sk-estimator sk-toggleable\"><input class=\"sk-toggleable__control sk-hidden--visually\" id=\"sk-estimator-id-11\" type=\"checkbox\" ><label for=\"sk-estimator-id-11\" class=\"sk-toggleable__label sk-toggleable__label-arrow\">SimpleImputer</label><div class=\"sk-toggleable__content\"><pre>SimpleImputer(strategy=&#x27;median&#x27;)</pre></div></div></div></div></div></div></div></div></div></div><div class=\"sk-item\"><div class=\"sk-estimator sk-toggleable\"><input class=\"sk-toggleable__control sk-hidden--visually\" id=\"sk-estimator-id-12\" type=\"checkbox\" ><label for=\"sk-estimator-id-12\" class=\"sk-toggleable__label sk-toggleable__label-arrow\">SelectKBest</label><div class=\"sk-toggleable__content\"><pre>SelectKBest(k=117, score_func=&lt;function r_regression at 0x7bd9a7dd9480&gt;)</pre></div></div></div><div class=\"sk-item\"><div class=\"sk-estimator sk-toggleable\"><input class=\"sk-toggleable__control sk-hidden--visually\" id=\"sk-estimator-id-13\" type=\"checkbox\" ><label for=\"sk-estimator-id-13\" class=\"sk-toggleable__label sk-toggleable__label-arrow\">LGBMRegressor</label><div class=\"sk-toggleable__content\"><pre>LGBMRegressor(colsample_bytree=0.5, learning_rate=0.04, max_depth=12,\n",
       "              metric=&#x27;rmse&#x27;, min_child_samples=14, min_child_weight=12,\n",
       "              n_estimators=300, num_leaves=59, objective=&#x27;regression&#x27;,\n",
       "              reg_alpha=0.23, reg_lambda=0.36, subsample=0.7, verbose=-1)</pre></div></div></div></div></div></div></div>"
      ],
      "text/plain": [
       "Pipeline(steps=[('preprocess',\n",
       "                 ColumnTransformer(transformers=[('numerical',\n",
       "                                                  Pipeline(steps=[('KNNimputer',\n",
       "                                                                   KNNImputer(n_neighbors=2)),\n",
       "                                                                  ('MinMaxScaler',\n",
       "                                                                   MinMaxScaler())]),\n",
       "                                                  ['Basic_Demos-Age',\n",
       "                                                   'CGAS-CGAS_Score',\n",
       "                                                   'Physical-BMI',\n",
       "                                                   'Physical-Height',\n",
       "                                                   'Physical-Weight',\n",
       "                                                   'Physical-Waist_Circumference',\n",
       "                                                   'Physical-Diastolic_BP',\n",
       "                                                   'Physical-HeartRate',\n",
       "                                                   'Physical-Systolic_B...\n",
       "                                                   'stat_29', ...])])),\n",
       "                ('feature_selection',\n",
       "                 SelectKBest(k=117,\n",
       "                             score_func=<function r_regression at 0x7bd9a7dd9480>)),\n",
       "                ('model',\n",
       "                 LGBMRegressor(colsample_bytree=0.5, learning_rate=0.04,\n",
       "                               max_depth=12, metric='rmse',\n",
       "                               min_child_samples=14, min_child_weight=12,\n",
       "                               n_estimators=300, num_leaves=59,\n",
       "                               objective='regression', reg_alpha=0.23,\n",
       "                               reg_lambda=0.36, subsample=0.7, verbose=-1))])"
      ]
     },
     "execution_count": 16,
     "metadata": {},
     "output_type": "execute_result"
    }
   ],
   "source": [
    "pipeline1.fit(X, y)"
   ]
  },
  {
   "cell_type": "code",
   "execution_count": 17,
   "id": "198e84e6",
   "metadata": {
    "execution": {
     "iopub.execute_input": "2024-12-17T22:25:14.294019Z",
     "iopub.status.busy": "2024-12-17T22:25:14.293629Z",
     "iopub.status.idle": "2024-12-17T22:25:23.720412Z",
     "shell.execute_reply": "2024-12-17T22:25:23.718877Z"
    },
    "papermill": {
     "duration": 9.467754,
     "end_time": "2024-12-17T22:25:23.726106",
     "exception": false,
     "start_time": "2024-12-17T22:25:14.258352",
     "status": "completed"
    },
    "tags": []
   },
   "outputs": [
    {
     "data": {
      "text/html": [
       "<style>#sk-container-id-2 {color: black;background-color: white;}#sk-container-id-2 pre{padding: 0;}#sk-container-id-2 div.sk-toggleable {background-color: white;}#sk-container-id-2 label.sk-toggleable__label {cursor: pointer;display: block;width: 100%;margin-bottom: 0;padding: 0.3em;box-sizing: border-box;text-align: center;}#sk-container-id-2 label.sk-toggleable__label-arrow:before {content: \"▸\";float: left;margin-right: 0.25em;color: #696969;}#sk-container-id-2 label.sk-toggleable__label-arrow:hover:before {color: black;}#sk-container-id-2 div.sk-estimator:hover label.sk-toggleable__label-arrow:before {color: black;}#sk-container-id-2 div.sk-toggleable__content {max-height: 0;max-width: 0;overflow: hidden;text-align: left;background-color: #f0f8ff;}#sk-container-id-2 div.sk-toggleable__content pre {margin: 0.2em;color: black;border-radius: 0.25em;background-color: #f0f8ff;}#sk-container-id-2 input.sk-toggleable__control:checked~div.sk-toggleable__content {max-height: 200px;max-width: 100%;overflow: auto;}#sk-container-id-2 input.sk-toggleable__control:checked~label.sk-toggleable__label-arrow:before {content: \"▾\";}#sk-container-id-2 div.sk-estimator input.sk-toggleable__control:checked~label.sk-toggleable__label {background-color: #d4ebff;}#sk-container-id-2 div.sk-label input.sk-toggleable__control:checked~label.sk-toggleable__label {background-color: #d4ebff;}#sk-container-id-2 input.sk-hidden--visually {border: 0;clip: rect(1px 1px 1px 1px);clip: rect(1px, 1px, 1px, 1px);height: 1px;margin: -1px;overflow: hidden;padding: 0;position: absolute;width: 1px;}#sk-container-id-2 div.sk-estimator {font-family: monospace;background-color: #f0f8ff;border: 1px dotted black;border-radius: 0.25em;box-sizing: border-box;margin-bottom: 0.5em;}#sk-container-id-2 div.sk-estimator:hover {background-color: #d4ebff;}#sk-container-id-2 div.sk-parallel-item::after {content: \"\";width: 100%;border-bottom: 1px solid gray;flex-grow: 1;}#sk-container-id-2 div.sk-label:hover label.sk-toggleable__label {background-color: #d4ebff;}#sk-container-id-2 div.sk-serial::before {content: \"\";position: absolute;border-left: 1px solid gray;box-sizing: border-box;top: 0;bottom: 0;left: 50%;z-index: 0;}#sk-container-id-2 div.sk-serial {display: flex;flex-direction: column;align-items: center;background-color: white;padding-right: 0.2em;padding-left: 0.2em;position: relative;}#sk-container-id-2 div.sk-item {position: relative;z-index: 1;}#sk-container-id-2 div.sk-parallel {display: flex;align-items: stretch;justify-content: center;background-color: white;position: relative;}#sk-container-id-2 div.sk-item::before, #sk-container-id-2 div.sk-parallel-item::before {content: \"\";position: absolute;border-left: 1px solid gray;box-sizing: border-box;top: 0;bottom: 0;left: 50%;z-index: -1;}#sk-container-id-2 div.sk-parallel-item {display: flex;flex-direction: column;z-index: 1;position: relative;background-color: white;}#sk-container-id-2 div.sk-parallel-item:first-child::after {align-self: flex-end;width: 50%;}#sk-container-id-2 div.sk-parallel-item:last-child::after {align-self: flex-start;width: 50%;}#sk-container-id-2 div.sk-parallel-item:only-child::after {width: 0;}#sk-container-id-2 div.sk-dashed-wrapped {border: 1px dashed gray;margin: 0 0.4em 0.5em 0.4em;box-sizing: border-box;padding-bottom: 0.4em;background-color: white;}#sk-container-id-2 div.sk-label label {font-family: monospace;font-weight: bold;display: inline-block;line-height: 1.2em;}#sk-container-id-2 div.sk-label-container {text-align: center;}#sk-container-id-2 div.sk-container {/* jupyter's `normalize.less` sets `[hidden] { display: none; }` but bootstrap.min.css set `[hidden] { display: none !important; }` so we also need the `!important` here to be able to override the default hidden behavior on the sphinx rendered scikit-learn.org. See: https://github.com/scikit-learn/scikit-learn/issues/21755 */display: inline-block !important;position: relative;}#sk-container-id-2 div.sk-text-repr-fallback {display: none;}</style><div id=\"sk-container-id-2\" class=\"sk-top-container\"><div class=\"sk-text-repr-fallback\"><pre>Pipeline(steps=[(&#x27;preprocess&#x27;,\n",
       "                 ColumnTransformer(transformers=[(&#x27;numerical&#x27;,\n",
       "                                                  Pipeline(steps=[(&#x27;KNNimputer&#x27;,\n",
       "                                                                   KNNImputer(n_neighbors=2)),\n",
       "                                                                  (&#x27;MinMaxScaler&#x27;,\n",
       "                                                                   MinMaxScaler())]),\n",
       "                                                  [&#x27;Basic_Demos-Age&#x27;,\n",
       "                                                   &#x27;CGAS-CGAS_Score&#x27;,\n",
       "                                                   &#x27;Physical-BMI&#x27;,\n",
       "                                                   &#x27;Physical-Height&#x27;,\n",
       "                                                   &#x27;Physical-Weight&#x27;,\n",
       "                                                   &#x27;Physical-Waist_Circumference&#x27;,\n",
       "                                                   &#x27;Physical-Diastolic_BP&#x27;,\n",
       "                                                   &#x27;Physical-HeartRate&#x27;,\n",
       "                                                   &#x27;Physical-Systolic_B...\n",
       "                                                   &#x27;stat_29&#x27;, ...])])),\n",
       "                (&#x27;feature_selection&#x27;,\n",
       "                 SelectKBest(k=117,\n",
       "                             score_func=&lt;function r_regression at 0x7bd9a7dd9480&gt;)),\n",
       "                (&#x27;model&#x27;,\n",
       "                 LGBMRegressor(colsample_bytree=0.5, learning_rate=0.05,\n",
       "                               max_depth=9, metric=&#x27;rmse&#x27;, min_child_samples=14,\n",
       "                               min_child_weight=12, n_estimators=300,\n",
       "                               num_leaves=59, objective=&#x27;regression&#x27;,\n",
       "                               reg_alpha=0.23, reg_lambda=0.36, subsample=0.8,\n",
       "                               verbose=-1))])</pre><b>In a Jupyter environment, please rerun this cell to show the HTML representation or trust the notebook. <br />On GitHub, the HTML representation is unable to render, please try loading this page with nbviewer.org.</b></div><div class=\"sk-container\" hidden><div class=\"sk-item sk-dashed-wrapped\"><div class=\"sk-label-container\"><div class=\"sk-label sk-toggleable\"><input class=\"sk-toggleable__control sk-hidden--visually\" id=\"sk-estimator-id-14\" type=\"checkbox\" ><label for=\"sk-estimator-id-14\" class=\"sk-toggleable__label sk-toggleable__label-arrow\">Pipeline</label><div class=\"sk-toggleable__content\"><pre>Pipeline(steps=[(&#x27;preprocess&#x27;,\n",
       "                 ColumnTransformer(transformers=[(&#x27;numerical&#x27;,\n",
       "                                                  Pipeline(steps=[(&#x27;KNNimputer&#x27;,\n",
       "                                                                   KNNImputer(n_neighbors=2)),\n",
       "                                                                  (&#x27;MinMaxScaler&#x27;,\n",
       "                                                                   MinMaxScaler())]),\n",
       "                                                  [&#x27;Basic_Demos-Age&#x27;,\n",
       "                                                   &#x27;CGAS-CGAS_Score&#x27;,\n",
       "                                                   &#x27;Physical-BMI&#x27;,\n",
       "                                                   &#x27;Physical-Height&#x27;,\n",
       "                                                   &#x27;Physical-Weight&#x27;,\n",
       "                                                   &#x27;Physical-Waist_Circumference&#x27;,\n",
       "                                                   &#x27;Physical-Diastolic_BP&#x27;,\n",
       "                                                   &#x27;Physical-HeartRate&#x27;,\n",
       "                                                   &#x27;Physical-Systolic_B...\n",
       "                                                   &#x27;stat_29&#x27;, ...])])),\n",
       "                (&#x27;feature_selection&#x27;,\n",
       "                 SelectKBest(k=117,\n",
       "                             score_func=&lt;function r_regression at 0x7bd9a7dd9480&gt;)),\n",
       "                (&#x27;model&#x27;,\n",
       "                 LGBMRegressor(colsample_bytree=0.5, learning_rate=0.05,\n",
       "                               max_depth=9, metric=&#x27;rmse&#x27;, min_child_samples=14,\n",
       "                               min_child_weight=12, n_estimators=300,\n",
       "                               num_leaves=59, objective=&#x27;regression&#x27;,\n",
       "                               reg_alpha=0.23, reg_lambda=0.36, subsample=0.8,\n",
       "                               verbose=-1))])</pre></div></div></div><div class=\"sk-serial\"><div class=\"sk-item sk-dashed-wrapped\"><div class=\"sk-label-container\"><div class=\"sk-label sk-toggleable\"><input class=\"sk-toggleable__control sk-hidden--visually\" id=\"sk-estimator-id-15\" type=\"checkbox\" ><label for=\"sk-estimator-id-15\" class=\"sk-toggleable__label sk-toggleable__label-arrow\">preprocess: ColumnTransformer</label><div class=\"sk-toggleable__content\"><pre>ColumnTransformer(transformers=[(&#x27;numerical&#x27;,\n",
       "                                 Pipeline(steps=[(&#x27;KNNimputer&#x27;,\n",
       "                                                  KNNImputer(n_neighbors=2)),\n",
       "                                                 (&#x27;MinMaxScaler&#x27;,\n",
       "                                                  MinMaxScaler())]),\n",
       "                                 [&#x27;Basic_Demos-Age&#x27;, &#x27;CGAS-CGAS_Score&#x27;,\n",
       "                                  &#x27;Physical-BMI&#x27;, &#x27;Physical-Height&#x27;,\n",
       "                                  &#x27;Physical-Weight&#x27;,\n",
       "                                  &#x27;Physical-Waist_Circumference&#x27;,\n",
       "                                  &#x27;Physical-Diastolic_BP&#x27;, &#x27;Physical-HeartRate&#x27;,\n",
       "                                  &#x27;Physical-Systolic_BP&#x27;,\n",
       "                                  &#x27;Fitness_Endurance-Max_Stag...\n",
       "                                                  MinMaxScaler()),\n",
       "                                                 (&#x27;imputer&#x27;,\n",
       "                                                  SimpleImputer(strategy=&#x27;median&#x27;))]),\n",
       "                                 [&#x27;stat_0&#x27;, &#x27;stat_1&#x27;, &#x27;stat_2&#x27;, &#x27;stat_3&#x27;,\n",
       "                                  &#x27;stat_4&#x27;, &#x27;stat_5&#x27;, &#x27;stat_6&#x27;, &#x27;stat_7&#x27;,\n",
       "                                  &#x27;stat_8&#x27;, &#x27;stat_9&#x27;, &#x27;stat_10&#x27;, &#x27;stat_11&#x27;,\n",
       "                                  &#x27;stat_12&#x27;, &#x27;stat_13&#x27;, &#x27;stat_14&#x27;, &#x27;stat_15&#x27;,\n",
       "                                  &#x27;stat_16&#x27;, &#x27;stat_17&#x27;, &#x27;stat_18&#x27;, &#x27;stat_19&#x27;,\n",
       "                                  &#x27;stat_20&#x27;, &#x27;stat_21&#x27;, &#x27;stat_22&#x27;, &#x27;stat_23&#x27;,\n",
       "                                  &#x27;stat_24&#x27;, &#x27;stat_25&#x27;, &#x27;stat_26&#x27;, &#x27;stat_27&#x27;,\n",
       "                                  &#x27;stat_28&#x27;, &#x27;stat_29&#x27;, ...])])</pre></div></div></div><div class=\"sk-parallel\"><div class=\"sk-parallel-item\"><div class=\"sk-item\"><div class=\"sk-label-container\"><div class=\"sk-label sk-toggleable\"><input class=\"sk-toggleable__control sk-hidden--visually\" id=\"sk-estimator-id-16\" type=\"checkbox\" ><label for=\"sk-estimator-id-16\" class=\"sk-toggleable__label sk-toggleable__label-arrow\">numerical</label><div class=\"sk-toggleable__content\"><pre>[&#x27;Basic_Demos-Age&#x27;, &#x27;CGAS-CGAS_Score&#x27;, &#x27;Physical-BMI&#x27;, &#x27;Physical-Height&#x27;, &#x27;Physical-Weight&#x27;, &#x27;Physical-Waist_Circumference&#x27;, &#x27;Physical-Diastolic_BP&#x27;, &#x27;Physical-HeartRate&#x27;, &#x27;Physical-Systolic_BP&#x27;, &#x27;Fitness_Endurance-Max_Stage&#x27;, &#x27;Fitness_Endurance-Time_Mins&#x27;, &#x27;Fitness_Endurance-Time_Sec&#x27;, &#x27;FGC-FGC_CU&#x27;, &#x27;FGC-FGC_CU_Zone&#x27;, &#x27;FGC-FGC_GSND&#x27;, &#x27;FGC-FGC_GSND_Zone&#x27;, &#x27;FGC-FGC_GSD&#x27;, &#x27;FGC-FGC_GSD_Zone&#x27;, &#x27;FGC-FGC_PU&#x27;, &#x27;FGC-FGC_PU_Zone&#x27;, &#x27;FGC-FGC_SRL&#x27;, &#x27;FGC-FGC_SRL_Zone&#x27;, &#x27;FGC-FGC_SRR&#x27;, &#x27;FGC-FGC_SRR_Zone&#x27;, &#x27;FGC-FGC_TL&#x27;, &#x27;FGC-FGC_TL_Zone&#x27;, &#x27;BIA-BIA_Activity_Level_num&#x27;, &#x27;BIA-BIA_BMC&#x27;, &#x27;BIA-BIA_BMI&#x27;, &#x27;BIA-BIA_BMR&#x27;, &#x27;BIA-BIA_DEE&#x27;, &#x27;BIA-BIA_ECW&#x27;, &#x27;BIA-BIA_FFM&#x27;, &#x27;BIA-BIA_FFMI&#x27;, &#x27;BIA-BIA_FMI&#x27;, &#x27;BIA-BIA_Fat&#x27;, &#x27;BIA-BIA_Frame_num&#x27;, &#x27;BIA-BIA_ICW&#x27;, &#x27;BIA-BIA_LDM&#x27;, &#x27;BIA-BIA_LST&#x27;, &#x27;BIA-BIA_SMM&#x27;, &#x27;BIA-BIA_TBW&#x27;, &#x27;PAQ_A-PAQ_A_Total&#x27;, &#x27;PAQ_C-PAQ_C_Total&#x27;, &#x27;SDS-SDS_Total_Raw&#x27;, &#x27;SDS-SDS_Total_T&#x27;, &#x27;PreInt_EduHx-computerinternet_hoursday&#x27;]</pre></div></div></div><div class=\"sk-serial\"><div class=\"sk-item\"><div class=\"sk-serial\"><div class=\"sk-item\"><div class=\"sk-estimator sk-toggleable\"><input class=\"sk-toggleable__control sk-hidden--visually\" id=\"sk-estimator-id-17\" type=\"checkbox\" ><label for=\"sk-estimator-id-17\" class=\"sk-toggleable__label sk-toggleable__label-arrow\">KNNImputer</label><div class=\"sk-toggleable__content\"><pre>KNNImputer(n_neighbors=2)</pre></div></div></div><div class=\"sk-item\"><div class=\"sk-estimator sk-toggleable\"><input class=\"sk-toggleable__control sk-hidden--visually\" id=\"sk-estimator-id-18\" type=\"checkbox\" ><label for=\"sk-estimator-id-18\" class=\"sk-toggleable__label sk-toggleable__label-arrow\">MinMaxScaler</label><div class=\"sk-toggleable__content\"><pre>MinMaxScaler()</pre></div></div></div></div></div></div></div></div><div class=\"sk-parallel-item\"><div class=\"sk-item\"><div class=\"sk-label-container\"><div class=\"sk-label sk-toggleable\"><input class=\"sk-toggleable__control sk-hidden--visually\" id=\"sk-estimator-id-19\" type=\"checkbox\" ><label for=\"sk-estimator-id-19\" class=\"sk-toggleable__label sk-toggleable__label-arrow\">categorical</label><div class=\"sk-toggleable__content\"><pre>[&#x27;Basic_Demos-Enroll_Season&#x27;, &#x27;Basic_Demos-Sex&#x27;, &#x27;CGAS-Season&#x27;, &#x27;Physical-Season&#x27;, &#x27;Fitness_Endurance-Season&#x27;, &#x27;FGC-Season&#x27;, &#x27;BIA-Season&#x27;, &#x27;PAQ_A-Season&#x27;, &#x27;PAQ_C-Season&#x27;, &#x27;SDS-Season&#x27;, &#x27;PreInt_EduHx-Season&#x27;]</pre></div></div></div><div class=\"sk-serial\"><div class=\"sk-item\"><div class=\"sk-serial\"><div class=\"sk-item\"><div class=\"sk-estimator sk-toggleable\"><input class=\"sk-toggleable__control sk-hidden--visually\" id=\"sk-estimator-id-20\" type=\"checkbox\" ><label for=\"sk-estimator-id-20\" class=\"sk-toggleable__label sk-toggleable__label-arrow\">SimpleImputer</label><div class=\"sk-toggleable__content\"><pre>SimpleImputer(fill_value=&#x27;unknown&#x27;, strategy=&#x27;constant&#x27;)</pre></div></div></div><div class=\"sk-item\"><div class=\"sk-estimator sk-toggleable\"><input class=\"sk-toggleable__control sk-hidden--visually\" id=\"sk-estimator-id-21\" type=\"checkbox\" ><label for=\"sk-estimator-id-21\" class=\"sk-toggleable__label sk-toggleable__label-arrow\">OneHotEncoder</label><div class=\"sk-toggleable__content\"><pre>OneHotEncoder(handle_unknown=&#x27;ignore&#x27;)</pre></div></div></div></div></div></div></div></div><div class=\"sk-parallel-item\"><div class=\"sk-item\"><div class=\"sk-label-container\"><div class=\"sk-label sk-toggleable\"><input class=\"sk-toggleable__control sk-hidden--visually\" id=\"sk-estimator-id-22\" type=\"checkbox\" ><label for=\"sk-estimator-id-22\" class=\"sk-toggleable__label sk-toggleable__label-arrow\">time_series</label><div class=\"sk-toggleable__content\"><pre>[&#x27;stat_0&#x27;, &#x27;stat_1&#x27;, &#x27;stat_2&#x27;, &#x27;stat_3&#x27;, &#x27;stat_4&#x27;, &#x27;stat_5&#x27;, &#x27;stat_6&#x27;, &#x27;stat_7&#x27;, &#x27;stat_8&#x27;, &#x27;stat_9&#x27;, &#x27;stat_10&#x27;, &#x27;stat_11&#x27;, &#x27;stat_12&#x27;, &#x27;stat_13&#x27;, &#x27;stat_14&#x27;, &#x27;stat_15&#x27;, &#x27;stat_16&#x27;, &#x27;stat_17&#x27;, &#x27;stat_18&#x27;, &#x27;stat_19&#x27;, &#x27;stat_20&#x27;, &#x27;stat_21&#x27;, &#x27;stat_22&#x27;, &#x27;stat_23&#x27;, &#x27;stat_24&#x27;, &#x27;stat_25&#x27;, &#x27;stat_26&#x27;, &#x27;stat_27&#x27;, &#x27;stat_28&#x27;, &#x27;stat_29&#x27;, &#x27;stat_30&#x27;, &#x27;stat_31&#x27;, &#x27;stat_32&#x27;, &#x27;stat_33&#x27;, &#x27;stat_34&#x27;, &#x27;stat_35&#x27;, &#x27;stat_36&#x27;, &#x27;stat_37&#x27;, &#x27;stat_38&#x27;, &#x27;stat_39&#x27;, &#x27;stat_40&#x27;, &#x27;stat_41&#x27;, &#x27;stat_42&#x27;, &#x27;stat_43&#x27;, &#x27;stat_44&#x27;, &#x27;stat_45&#x27;, &#x27;stat_46&#x27;, &#x27;stat_47&#x27;, &#x27;stat_48&#x27;, &#x27;stat_49&#x27;, &#x27;stat_50&#x27;, &#x27;stat_51&#x27;, &#x27;stat_52&#x27;, &#x27;stat_53&#x27;, &#x27;stat_54&#x27;, &#x27;stat_55&#x27;, &#x27;stat_56&#x27;, &#x27;stat_57&#x27;, &#x27;stat_58&#x27;, &#x27;stat_59&#x27;, &#x27;stat_60&#x27;, &#x27;stat_61&#x27;, &#x27;stat_62&#x27;, &#x27;stat_63&#x27;, &#x27;stat_64&#x27;, &#x27;stat_65&#x27;, &#x27;stat_66&#x27;, &#x27;stat_67&#x27;, &#x27;stat_68&#x27;, &#x27;stat_69&#x27;, &#x27;stat_70&#x27;, &#x27;stat_71&#x27;, &#x27;stat_72&#x27;, &#x27;stat_73&#x27;, &#x27;stat_74&#x27;, &#x27;stat_75&#x27;, &#x27;stat_76&#x27;, &#x27;stat_77&#x27;, &#x27;stat_78&#x27;, &#x27;stat_79&#x27;, &#x27;stat_80&#x27;, &#x27;stat_81&#x27;, &#x27;stat_82&#x27;, &#x27;stat_83&#x27;, &#x27;stat_84&#x27;, &#x27;stat_85&#x27;, &#x27;stat_86&#x27;, &#x27;stat_87&#x27;, &#x27;stat_88&#x27;, &#x27;stat_89&#x27;, &#x27;stat_90&#x27;, &#x27;stat_91&#x27;, &#x27;stat_92&#x27;, &#x27;stat_93&#x27;, &#x27;stat_94&#x27;, &#x27;stat_95&#x27;]</pre></div></div></div><div class=\"sk-serial\"><div class=\"sk-item\"><div class=\"sk-serial\"><div class=\"sk-item\"><div class=\"sk-estimator sk-toggleable\"><input class=\"sk-toggleable__control sk-hidden--visually\" id=\"sk-estimator-id-23\" type=\"checkbox\" ><label for=\"sk-estimator-id-23\" class=\"sk-toggleable__label sk-toggleable__label-arrow\">MinMaxScaler</label><div class=\"sk-toggleable__content\"><pre>MinMaxScaler()</pre></div></div></div><div class=\"sk-item\"><div class=\"sk-estimator sk-toggleable\"><input class=\"sk-toggleable__control sk-hidden--visually\" id=\"sk-estimator-id-24\" type=\"checkbox\" ><label for=\"sk-estimator-id-24\" class=\"sk-toggleable__label sk-toggleable__label-arrow\">SimpleImputer</label><div class=\"sk-toggleable__content\"><pre>SimpleImputer(strategy=&#x27;median&#x27;)</pre></div></div></div></div></div></div></div></div></div></div><div class=\"sk-item\"><div class=\"sk-estimator sk-toggleable\"><input class=\"sk-toggleable__control sk-hidden--visually\" id=\"sk-estimator-id-25\" type=\"checkbox\" ><label for=\"sk-estimator-id-25\" class=\"sk-toggleable__label sk-toggleable__label-arrow\">SelectKBest</label><div class=\"sk-toggleable__content\"><pre>SelectKBest(k=117, score_func=&lt;function r_regression at 0x7bd9a7dd9480&gt;)</pre></div></div></div><div class=\"sk-item\"><div class=\"sk-estimator sk-toggleable\"><input class=\"sk-toggleable__control sk-hidden--visually\" id=\"sk-estimator-id-26\" type=\"checkbox\" ><label for=\"sk-estimator-id-26\" class=\"sk-toggleable__label sk-toggleable__label-arrow\">LGBMRegressor</label><div class=\"sk-toggleable__content\"><pre>LGBMRegressor(colsample_bytree=0.5, learning_rate=0.05, max_depth=9,\n",
       "              metric=&#x27;rmse&#x27;, min_child_samples=14, min_child_weight=12,\n",
       "              n_estimators=300, num_leaves=59, objective=&#x27;regression&#x27;,\n",
       "              reg_alpha=0.23, reg_lambda=0.36, subsample=0.8, verbose=-1)</pre></div></div></div></div></div></div></div>"
      ],
      "text/plain": [
       "Pipeline(steps=[('preprocess',\n",
       "                 ColumnTransformer(transformers=[('numerical',\n",
       "                                                  Pipeline(steps=[('KNNimputer',\n",
       "                                                                   KNNImputer(n_neighbors=2)),\n",
       "                                                                  ('MinMaxScaler',\n",
       "                                                                   MinMaxScaler())]),\n",
       "                                                  ['Basic_Demos-Age',\n",
       "                                                   'CGAS-CGAS_Score',\n",
       "                                                   'Physical-BMI',\n",
       "                                                   'Physical-Height',\n",
       "                                                   'Physical-Weight',\n",
       "                                                   'Physical-Waist_Circumference',\n",
       "                                                   'Physical-Diastolic_BP',\n",
       "                                                   'Physical-HeartRate',\n",
       "                                                   'Physical-Systolic_B...\n",
       "                                                   'stat_29', ...])])),\n",
       "                ('feature_selection',\n",
       "                 SelectKBest(k=117,\n",
       "                             score_func=<function r_regression at 0x7bd9a7dd9480>)),\n",
       "                ('model',\n",
       "                 LGBMRegressor(colsample_bytree=0.5, learning_rate=0.05,\n",
       "                               max_depth=9, metric='rmse', min_child_samples=14,\n",
       "                               min_child_weight=12, n_estimators=300,\n",
       "                               num_leaves=59, objective='regression',\n",
       "                               reg_alpha=0.23, reg_lambda=0.36, subsample=0.8,\n",
       "                               verbose=-1))])"
      ]
     },
     "execution_count": 17,
     "metadata": {},
     "output_type": "execute_result"
    }
   ],
   "source": [
    "pipeline2.fit(X, y)"
   ]
  },
  {
   "cell_type": "code",
   "execution_count": 18,
   "id": "6ff0812c",
   "metadata": {
    "execution": {
     "iopub.execute_input": "2024-12-17T22:25:23.781589Z",
     "iopub.status.busy": "2024-12-17T22:25:23.781127Z",
     "iopub.status.idle": "2024-12-17T22:25:31.112716Z",
     "shell.execute_reply": "2024-12-17T22:25:31.111472Z"
    },
    "papermill": {
     "duration": 7.361699,
     "end_time": "2024-12-17T22:25:31.115542",
     "exception": false,
     "start_time": "2024-12-17T22:25:23.753843",
     "status": "completed"
    },
    "tags": []
   },
   "outputs": [
    {
     "data": {
      "text/html": [
       "<style>#sk-container-id-3 {color: black;background-color: white;}#sk-container-id-3 pre{padding: 0;}#sk-container-id-3 div.sk-toggleable {background-color: white;}#sk-container-id-3 label.sk-toggleable__label {cursor: pointer;display: block;width: 100%;margin-bottom: 0;padding: 0.3em;box-sizing: border-box;text-align: center;}#sk-container-id-3 label.sk-toggleable__label-arrow:before {content: \"▸\";float: left;margin-right: 0.25em;color: #696969;}#sk-container-id-3 label.sk-toggleable__label-arrow:hover:before {color: black;}#sk-container-id-3 div.sk-estimator:hover label.sk-toggleable__label-arrow:before {color: black;}#sk-container-id-3 div.sk-toggleable__content {max-height: 0;max-width: 0;overflow: hidden;text-align: left;background-color: #f0f8ff;}#sk-container-id-3 div.sk-toggleable__content pre {margin: 0.2em;color: black;border-radius: 0.25em;background-color: #f0f8ff;}#sk-container-id-3 input.sk-toggleable__control:checked~div.sk-toggleable__content {max-height: 200px;max-width: 100%;overflow: auto;}#sk-container-id-3 input.sk-toggleable__control:checked~label.sk-toggleable__label-arrow:before {content: \"▾\";}#sk-container-id-3 div.sk-estimator input.sk-toggleable__control:checked~label.sk-toggleable__label {background-color: #d4ebff;}#sk-container-id-3 div.sk-label input.sk-toggleable__control:checked~label.sk-toggleable__label {background-color: #d4ebff;}#sk-container-id-3 input.sk-hidden--visually {border: 0;clip: rect(1px 1px 1px 1px);clip: rect(1px, 1px, 1px, 1px);height: 1px;margin: -1px;overflow: hidden;padding: 0;position: absolute;width: 1px;}#sk-container-id-3 div.sk-estimator {font-family: monospace;background-color: #f0f8ff;border: 1px dotted black;border-radius: 0.25em;box-sizing: border-box;margin-bottom: 0.5em;}#sk-container-id-3 div.sk-estimator:hover {background-color: #d4ebff;}#sk-container-id-3 div.sk-parallel-item::after {content: \"\";width: 100%;border-bottom: 1px solid gray;flex-grow: 1;}#sk-container-id-3 div.sk-label:hover label.sk-toggleable__label {background-color: #d4ebff;}#sk-container-id-3 div.sk-serial::before {content: \"\";position: absolute;border-left: 1px solid gray;box-sizing: border-box;top: 0;bottom: 0;left: 50%;z-index: 0;}#sk-container-id-3 div.sk-serial {display: flex;flex-direction: column;align-items: center;background-color: white;padding-right: 0.2em;padding-left: 0.2em;position: relative;}#sk-container-id-3 div.sk-item {position: relative;z-index: 1;}#sk-container-id-3 div.sk-parallel {display: flex;align-items: stretch;justify-content: center;background-color: white;position: relative;}#sk-container-id-3 div.sk-item::before, #sk-container-id-3 div.sk-parallel-item::before {content: \"\";position: absolute;border-left: 1px solid gray;box-sizing: border-box;top: 0;bottom: 0;left: 50%;z-index: -1;}#sk-container-id-3 div.sk-parallel-item {display: flex;flex-direction: column;z-index: 1;position: relative;background-color: white;}#sk-container-id-3 div.sk-parallel-item:first-child::after {align-self: flex-end;width: 50%;}#sk-container-id-3 div.sk-parallel-item:last-child::after {align-self: flex-start;width: 50%;}#sk-container-id-3 div.sk-parallel-item:only-child::after {width: 0;}#sk-container-id-3 div.sk-dashed-wrapped {border: 1px dashed gray;margin: 0 0.4em 0.5em 0.4em;box-sizing: border-box;padding-bottom: 0.4em;background-color: white;}#sk-container-id-3 div.sk-label label {font-family: monospace;font-weight: bold;display: inline-block;line-height: 1.2em;}#sk-container-id-3 div.sk-label-container {text-align: center;}#sk-container-id-3 div.sk-container {/* jupyter's `normalize.less` sets `[hidden] { display: none; }` but bootstrap.min.css set `[hidden] { display: none !important; }` so we also need the `!important` here to be able to override the default hidden behavior on the sphinx rendered scikit-learn.org. See: https://github.com/scikit-learn/scikit-learn/issues/21755 */display: inline-block !important;position: relative;}#sk-container-id-3 div.sk-text-repr-fallback {display: none;}</style><div id=\"sk-container-id-3\" class=\"sk-top-container\"><div class=\"sk-text-repr-fallback\"><pre>Pipeline(steps=[(&#x27;preprocess&#x27;,\n",
       "                 ColumnTransformer(transformers=[(&#x27;numerical&#x27;,\n",
       "                                                  Pipeline(steps=[(&#x27;KNNimputer&#x27;,\n",
       "                                                                   KNNImputer(n_neighbors=2)),\n",
       "                                                                  (&#x27;MinMaxScaler&#x27;,\n",
       "                                                                   MinMaxScaler())]),\n",
       "                                                  [&#x27;Basic_Demos-Age&#x27;,\n",
       "                                                   &#x27;CGAS-CGAS_Score&#x27;,\n",
       "                                                   &#x27;Physical-BMI&#x27;,\n",
       "                                                   &#x27;Physical-Height&#x27;,\n",
       "                                                   &#x27;Physical-Weight&#x27;,\n",
       "                                                   &#x27;Physical-Waist_Circumference&#x27;,\n",
       "                                                   &#x27;Physical-Diastolic_BP&#x27;,\n",
       "                                                   &#x27;Physical-HeartRate&#x27;,\n",
       "                                                   &#x27;Physical-Systolic_B...\n",
       "                                                   &#x27;stat_29&#x27;, ...])])),\n",
       "                (&#x27;feature_selection&#x27;,\n",
       "                 SelectKBest(k=117,\n",
       "                             score_func=&lt;function r_regression at 0x7bd9a7dd9480&gt;)),\n",
       "                (&#x27;model&#x27;,\n",
       "                 LGBMRegressor(bagging_fraction=0.784, bagging_freq=4,\n",
       "                               feature_fraction=0.893, lambda_l1=10,\n",
       "                               lambda_l2=0.01, learning_rate=0.046,\n",
       "                               max_depth=12, metric=&#x27;rmse&#x27;, min_data_in_leaf=13,\n",
       "                               n_estimators=300, num_leaves=478,\n",
       "                               objective=&#x27;regression&#x27;, verbose=-1))])</pre><b>In a Jupyter environment, please rerun this cell to show the HTML representation or trust the notebook. <br />On GitHub, the HTML representation is unable to render, please try loading this page with nbviewer.org.</b></div><div class=\"sk-container\" hidden><div class=\"sk-item sk-dashed-wrapped\"><div class=\"sk-label-container\"><div class=\"sk-label sk-toggleable\"><input class=\"sk-toggleable__control sk-hidden--visually\" id=\"sk-estimator-id-27\" type=\"checkbox\" ><label for=\"sk-estimator-id-27\" class=\"sk-toggleable__label sk-toggleable__label-arrow\">Pipeline</label><div class=\"sk-toggleable__content\"><pre>Pipeline(steps=[(&#x27;preprocess&#x27;,\n",
       "                 ColumnTransformer(transformers=[(&#x27;numerical&#x27;,\n",
       "                                                  Pipeline(steps=[(&#x27;KNNimputer&#x27;,\n",
       "                                                                   KNNImputer(n_neighbors=2)),\n",
       "                                                                  (&#x27;MinMaxScaler&#x27;,\n",
       "                                                                   MinMaxScaler())]),\n",
       "                                                  [&#x27;Basic_Demos-Age&#x27;,\n",
       "                                                   &#x27;CGAS-CGAS_Score&#x27;,\n",
       "                                                   &#x27;Physical-BMI&#x27;,\n",
       "                                                   &#x27;Physical-Height&#x27;,\n",
       "                                                   &#x27;Physical-Weight&#x27;,\n",
       "                                                   &#x27;Physical-Waist_Circumference&#x27;,\n",
       "                                                   &#x27;Physical-Diastolic_BP&#x27;,\n",
       "                                                   &#x27;Physical-HeartRate&#x27;,\n",
       "                                                   &#x27;Physical-Systolic_B...\n",
       "                                                   &#x27;stat_29&#x27;, ...])])),\n",
       "                (&#x27;feature_selection&#x27;,\n",
       "                 SelectKBest(k=117,\n",
       "                             score_func=&lt;function r_regression at 0x7bd9a7dd9480&gt;)),\n",
       "                (&#x27;model&#x27;,\n",
       "                 LGBMRegressor(bagging_fraction=0.784, bagging_freq=4,\n",
       "                               feature_fraction=0.893, lambda_l1=10,\n",
       "                               lambda_l2=0.01, learning_rate=0.046,\n",
       "                               max_depth=12, metric=&#x27;rmse&#x27;, min_data_in_leaf=13,\n",
       "                               n_estimators=300, num_leaves=478,\n",
       "                               objective=&#x27;regression&#x27;, verbose=-1))])</pre></div></div></div><div class=\"sk-serial\"><div class=\"sk-item sk-dashed-wrapped\"><div class=\"sk-label-container\"><div class=\"sk-label sk-toggleable\"><input class=\"sk-toggleable__control sk-hidden--visually\" id=\"sk-estimator-id-28\" type=\"checkbox\" ><label for=\"sk-estimator-id-28\" class=\"sk-toggleable__label sk-toggleable__label-arrow\">preprocess: ColumnTransformer</label><div class=\"sk-toggleable__content\"><pre>ColumnTransformer(transformers=[(&#x27;numerical&#x27;,\n",
       "                                 Pipeline(steps=[(&#x27;KNNimputer&#x27;,\n",
       "                                                  KNNImputer(n_neighbors=2)),\n",
       "                                                 (&#x27;MinMaxScaler&#x27;,\n",
       "                                                  MinMaxScaler())]),\n",
       "                                 [&#x27;Basic_Demos-Age&#x27;, &#x27;CGAS-CGAS_Score&#x27;,\n",
       "                                  &#x27;Physical-BMI&#x27;, &#x27;Physical-Height&#x27;,\n",
       "                                  &#x27;Physical-Weight&#x27;,\n",
       "                                  &#x27;Physical-Waist_Circumference&#x27;,\n",
       "                                  &#x27;Physical-Diastolic_BP&#x27;, &#x27;Physical-HeartRate&#x27;,\n",
       "                                  &#x27;Physical-Systolic_BP&#x27;,\n",
       "                                  &#x27;Fitness_Endurance-Max_Stag...\n",
       "                                                  MinMaxScaler()),\n",
       "                                                 (&#x27;imputer&#x27;,\n",
       "                                                  SimpleImputer(strategy=&#x27;median&#x27;))]),\n",
       "                                 [&#x27;stat_0&#x27;, &#x27;stat_1&#x27;, &#x27;stat_2&#x27;, &#x27;stat_3&#x27;,\n",
       "                                  &#x27;stat_4&#x27;, &#x27;stat_5&#x27;, &#x27;stat_6&#x27;, &#x27;stat_7&#x27;,\n",
       "                                  &#x27;stat_8&#x27;, &#x27;stat_9&#x27;, &#x27;stat_10&#x27;, &#x27;stat_11&#x27;,\n",
       "                                  &#x27;stat_12&#x27;, &#x27;stat_13&#x27;, &#x27;stat_14&#x27;, &#x27;stat_15&#x27;,\n",
       "                                  &#x27;stat_16&#x27;, &#x27;stat_17&#x27;, &#x27;stat_18&#x27;, &#x27;stat_19&#x27;,\n",
       "                                  &#x27;stat_20&#x27;, &#x27;stat_21&#x27;, &#x27;stat_22&#x27;, &#x27;stat_23&#x27;,\n",
       "                                  &#x27;stat_24&#x27;, &#x27;stat_25&#x27;, &#x27;stat_26&#x27;, &#x27;stat_27&#x27;,\n",
       "                                  &#x27;stat_28&#x27;, &#x27;stat_29&#x27;, ...])])</pre></div></div></div><div class=\"sk-parallel\"><div class=\"sk-parallel-item\"><div class=\"sk-item\"><div class=\"sk-label-container\"><div class=\"sk-label sk-toggleable\"><input class=\"sk-toggleable__control sk-hidden--visually\" id=\"sk-estimator-id-29\" type=\"checkbox\" ><label for=\"sk-estimator-id-29\" class=\"sk-toggleable__label sk-toggleable__label-arrow\">numerical</label><div class=\"sk-toggleable__content\"><pre>[&#x27;Basic_Demos-Age&#x27;, &#x27;CGAS-CGAS_Score&#x27;, &#x27;Physical-BMI&#x27;, &#x27;Physical-Height&#x27;, &#x27;Physical-Weight&#x27;, &#x27;Physical-Waist_Circumference&#x27;, &#x27;Physical-Diastolic_BP&#x27;, &#x27;Physical-HeartRate&#x27;, &#x27;Physical-Systolic_BP&#x27;, &#x27;Fitness_Endurance-Max_Stage&#x27;, &#x27;Fitness_Endurance-Time_Mins&#x27;, &#x27;Fitness_Endurance-Time_Sec&#x27;, &#x27;FGC-FGC_CU&#x27;, &#x27;FGC-FGC_CU_Zone&#x27;, &#x27;FGC-FGC_GSND&#x27;, &#x27;FGC-FGC_GSND_Zone&#x27;, &#x27;FGC-FGC_GSD&#x27;, &#x27;FGC-FGC_GSD_Zone&#x27;, &#x27;FGC-FGC_PU&#x27;, &#x27;FGC-FGC_PU_Zone&#x27;, &#x27;FGC-FGC_SRL&#x27;, &#x27;FGC-FGC_SRL_Zone&#x27;, &#x27;FGC-FGC_SRR&#x27;, &#x27;FGC-FGC_SRR_Zone&#x27;, &#x27;FGC-FGC_TL&#x27;, &#x27;FGC-FGC_TL_Zone&#x27;, &#x27;BIA-BIA_Activity_Level_num&#x27;, &#x27;BIA-BIA_BMC&#x27;, &#x27;BIA-BIA_BMI&#x27;, &#x27;BIA-BIA_BMR&#x27;, &#x27;BIA-BIA_DEE&#x27;, &#x27;BIA-BIA_ECW&#x27;, &#x27;BIA-BIA_FFM&#x27;, &#x27;BIA-BIA_FFMI&#x27;, &#x27;BIA-BIA_FMI&#x27;, &#x27;BIA-BIA_Fat&#x27;, &#x27;BIA-BIA_Frame_num&#x27;, &#x27;BIA-BIA_ICW&#x27;, &#x27;BIA-BIA_LDM&#x27;, &#x27;BIA-BIA_LST&#x27;, &#x27;BIA-BIA_SMM&#x27;, &#x27;BIA-BIA_TBW&#x27;, &#x27;PAQ_A-PAQ_A_Total&#x27;, &#x27;PAQ_C-PAQ_C_Total&#x27;, &#x27;SDS-SDS_Total_Raw&#x27;, &#x27;SDS-SDS_Total_T&#x27;, &#x27;PreInt_EduHx-computerinternet_hoursday&#x27;]</pre></div></div></div><div class=\"sk-serial\"><div class=\"sk-item\"><div class=\"sk-serial\"><div class=\"sk-item\"><div class=\"sk-estimator sk-toggleable\"><input class=\"sk-toggleable__control sk-hidden--visually\" id=\"sk-estimator-id-30\" type=\"checkbox\" ><label for=\"sk-estimator-id-30\" class=\"sk-toggleable__label sk-toggleable__label-arrow\">KNNImputer</label><div class=\"sk-toggleable__content\"><pre>KNNImputer(n_neighbors=2)</pre></div></div></div><div class=\"sk-item\"><div class=\"sk-estimator sk-toggleable\"><input class=\"sk-toggleable__control sk-hidden--visually\" id=\"sk-estimator-id-31\" type=\"checkbox\" ><label for=\"sk-estimator-id-31\" class=\"sk-toggleable__label sk-toggleable__label-arrow\">MinMaxScaler</label><div class=\"sk-toggleable__content\"><pre>MinMaxScaler()</pre></div></div></div></div></div></div></div></div><div class=\"sk-parallel-item\"><div class=\"sk-item\"><div class=\"sk-label-container\"><div class=\"sk-label sk-toggleable\"><input class=\"sk-toggleable__control sk-hidden--visually\" id=\"sk-estimator-id-32\" type=\"checkbox\" ><label for=\"sk-estimator-id-32\" class=\"sk-toggleable__label sk-toggleable__label-arrow\">categorical</label><div class=\"sk-toggleable__content\"><pre>[&#x27;Basic_Demos-Enroll_Season&#x27;, &#x27;Basic_Demos-Sex&#x27;, &#x27;CGAS-Season&#x27;, &#x27;Physical-Season&#x27;, &#x27;Fitness_Endurance-Season&#x27;, &#x27;FGC-Season&#x27;, &#x27;BIA-Season&#x27;, &#x27;PAQ_A-Season&#x27;, &#x27;PAQ_C-Season&#x27;, &#x27;SDS-Season&#x27;, &#x27;PreInt_EduHx-Season&#x27;]</pre></div></div></div><div class=\"sk-serial\"><div class=\"sk-item\"><div class=\"sk-serial\"><div class=\"sk-item\"><div class=\"sk-estimator sk-toggleable\"><input class=\"sk-toggleable__control sk-hidden--visually\" id=\"sk-estimator-id-33\" type=\"checkbox\" ><label for=\"sk-estimator-id-33\" class=\"sk-toggleable__label sk-toggleable__label-arrow\">SimpleImputer</label><div class=\"sk-toggleable__content\"><pre>SimpleImputer(fill_value=&#x27;unknown&#x27;, strategy=&#x27;constant&#x27;)</pre></div></div></div><div class=\"sk-item\"><div class=\"sk-estimator sk-toggleable\"><input class=\"sk-toggleable__control sk-hidden--visually\" id=\"sk-estimator-id-34\" type=\"checkbox\" ><label for=\"sk-estimator-id-34\" class=\"sk-toggleable__label sk-toggleable__label-arrow\">OneHotEncoder</label><div class=\"sk-toggleable__content\"><pre>OneHotEncoder(handle_unknown=&#x27;ignore&#x27;)</pre></div></div></div></div></div></div></div></div><div class=\"sk-parallel-item\"><div class=\"sk-item\"><div class=\"sk-label-container\"><div class=\"sk-label sk-toggleable\"><input class=\"sk-toggleable__control sk-hidden--visually\" id=\"sk-estimator-id-35\" type=\"checkbox\" ><label for=\"sk-estimator-id-35\" class=\"sk-toggleable__label sk-toggleable__label-arrow\">time_series</label><div class=\"sk-toggleable__content\"><pre>[&#x27;stat_0&#x27;, &#x27;stat_1&#x27;, &#x27;stat_2&#x27;, &#x27;stat_3&#x27;, &#x27;stat_4&#x27;, &#x27;stat_5&#x27;, &#x27;stat_6&#x27;, &#x27;stat_7&#x27;, &#x27;stat_8&#x27;, &#x27;stat_9&#x27;, &#x27;stat_10&#x27;, &#x27;stat_11&#x27;, &#x27;stat_12&#x27;, &#x27;stat_13&#x27;, &#x27;stat_14&#x27;, &#x27;stat_15&#x27;, &#x27;stat_16&#x27;, &#x27;stat_17&#x27;, &#x27;stat_18&#x27;, &#x27;stat_19&#x27;, &#x27;stat_20&#x27;, &#x27;stat_21&#x27;, &#x27;stat_22&#x27;, &#x27;stat_23&#x27;, &#x27;stat_24&#x27;, &#x27;stat_25&#x27;, &#x27;stat_26&#x27;, &#x27;stat_27&#x27;, &#x27;stat_28&#x27;, &#x27;stat_29&#x27;, &#x27;stat_30&#x27;, &#x27;stat_31&#x27;, &#x27;stat_32&#x27;, &#x27;stat_33&#x27;, &#x27;stat_34&#x27;, &#x27;stat_35&#x27;, &#x27;stat_36&#x27;, &#x27;stat_37&#x27;, &#x27;stat_38&#x27;, &#x27;stat_39&#x27;, &#x27;stat_40&#x27;, &#x27;stat_41&#x27;, &#x27;stat_42&#x27;, &#x27;stat_43&#x27;, &#x27;stat_44&#x27;, &#x27;stat_45&#x27;, &#x27;stat_46&#x27;, &#x27;stat_47&#x27;, &#x27;stat_48&#x27;, &#x27;stat_49&#x27;, &#x27;stat_50&#x27;, &#x27;stat_51&#x27;, &#x27;stat_52&#x27;, &#x27;stat_53&#x27;, &#x27;stat_54&#x27;, &#x27;stat_55&#x27;, &#x27;stat_56&#x27;, &#x27;stat_57&#x27;, &#x27;stat_58&#x27;, &#x27;stat_59&#x27;, &#x27;stat_60&#x27;, &#x27;stat_61&#x27;, &#x27;stat_62&#x27;, &#x27;stat_63&#x27;, &#x27;stat_64&#x27;, &#x27;stat_65&#x27;, &#x27;stat_66&#x27;, &#x27;stat_67&#x27;, &#x27;stat_68&#x27;, &#x27;stat_69&#x27;, &#x27;stat_70&#x27;, &#x27;stat_71&#x27;, &#x27;stat_72&#x27;, &#x27;stat_73&#x27;, &#x27;stat_74&#x27;, &#x27;stat_75&#x27;, &#x27;stat_76&#x27;, &#x27;stat_77&#x27;, &#x27;stat_78&#x27;, &#x27;stat_79&#x27;, &#x27;stat_80&#x27;, &#x27;stat_81&#x27;, &#x27;stat_82&#x27;, &#x27;stat_83&#x27;, &#x27;stat_84&#x27;, &#x27;stat_85&#x27;, &#x27;stat_86&#x27;, &#x27;stat_87&#x27;, &#x27;stat_88&#x27;, &#x27;stat_89&#x27;, &#x27;stat_90&#x27;, &#x27;stat_91&#x27;, &#x27;stat_92&#x27;, &#x27;stat_93&#x27;, &#x27;stat_94&#x27;, &#x27;stat_95&#x27;]</pre></div></div></div><div class=\"sk-serial\"><div class=\"sk-item\"><div class=\"sk-serial\"><div class=\"sk-item\"><div class=\"sk-estimator sk-toggleable\"><input class=\"sk-toggleable__control sk-hidden--visually\" id=\"sk-estimator-id-36\" type=\"checkbox\" ><label for=\"sk-estimator-id-36\" class=\"sk-toggleable__label sk-toggleable__label-arrow\">MinMaxScaler</label><div class=\"sk-toggleable__content\"><pre>MinMaxScaler()</pre></div></div></div><div class=\"sk-item\"><div class=\"sk-estimator sk-toggleable\"><input class=\"sk-toggleable__control sk-hidden--visually\" id=\"sk-estimator-id-37\" type=\"checkbox\" ><label for=\"sk-estimator-id-37\" class=\"sk-toggleable__label sk-toggleable__label-arrow\">SimpleImputer</label><div class=\"sk-toggleable__content\"><pre>SimpleImputer(strategy=&#x27;median&#x27;)</pre></div></div></div></div></div></div></div></div></div></div><div class=\"sk-item\"><div class=\"sk-estimator sk-toggleable\"><input class=\"sk-toggleable__control sk-hidden--visually\" id=\"sk-estimator-id-38\" type=\"checkbox\" ><label for=\"sk-estimator-id-38\" class=\"sk-toggleable__label sk-toggleable__label-arrow\">SelectKBest</label><div class=\"sk-toggleable__content\"><pre>SelectKBest(k=117, score_func=&lt;function r_regression at 0x7bd9a7dd9480&gt;)</pre></div></div></div><div class=\"sk-item\"><div class=\"sk-estimator sk-toggleable\"><input class=\"sk-toggleable__control sk-hidden--visually\" id=\"sk-estimator-id-39\" type=\"checkbox\" ><label for=\"sk-estimator-id-39\" class=\"sk-toggleable__label sk-toggleable__label-arrow\">LGBMRegressor</label><div class=\"sk-toggleable__content\"><pre>LGBMRegressor(bagging_fraction=0.784, bagging_freq=4, feature_fraction=0.893,\n",
       "              lambda_l1=10, lambda_l2=0.01, learning_rate=0.046, max_depth=12,\n",
       "              metric=&#x27;rmse&#x27;, min_data_in_leaf=13, n_estimators=300,\n",
       "              num_leaves=478, objective=&#x27;regression&#x27;, verbose=-1)</pre></div></div></div></div></div></div></div>"
      ],
      "text/plain": [
       "Pipeline(steps=[('preprocess',\n",
       "                 ColumnTransformer(transformers=[('numerical',\n",
       "                                                  Pipeline(steps=[('KNNimputer',\n",
       "                                                                   KNNImputer(n_neighbors=2)),\n",
       "                                                                  ('MinMaxScaler',\n",
       "                                                                   MinMaxScaler())]),\n",
       "                                                  ['Basic_Demos-Age',\n",
       "                                                   'CGAS-CGAS_Score',\n",
       "                                                   'Physical-BMI',\n",
       "                                                   'Physical-Height',\n",
       "                                                   'Physical-Weight',\n",
       "                                                   'Physical-Waist_Circumference',\n",
       "                                                   'Physical-Diastolic_BP',\n",
       "                                                   'Physical-HeartRate',\n",
       "                                                   'Physical-Systolic_B...\n",
       "                                                   'stat_29', ...])])),\n",
       "                ('feature_selection',\n",
       "                 SelectKBest(k=117,\n",
       "                             score_func=<function r_regression at 0x7bd9a7dd9480>)),\n",
       "                ('model',\n",
       "                 LGBMRegressor(bagging_fraction=0.784, bagging_freq=4,\n",
       "                               feature_fraction=0.893, lambda_l1=10,\n",
       "                               lambda_l2=0.01, learning_rate=0.046,\n",
       "                               max_depth=12, metric='rmse', min_data_in_leaf=13,\n",
       "                               n_estimators=300, num_leaves=478,\n",
       "                               objective='regression', verbose=-1))])"
      ]
     },
     "execution_count": 18,
     "metadata": {},
     "output_type": "execute_result"
    }
   ],
   "source": [
    "pipeline3.fit(X, y)"
   ]
  },
  {
   "cell_type": "code",
   "execution_count": 19,
   "id": "03924f25",
   "metadata": {
    "execution": {
     "iopub.execute_input": "2024-12-17T22:25:31.167485Z",
     "iopub.status.busy": "2024-12-17T22:25:31.166479Z",
     "iopub.status.idle": "2024-12-17T22:25:31.171659Z",
     "shell.execute_reply": "2024-12-17T22:25:31.170593Z"
    },
    "papermill": {
     "duration": 0.032899,
     "end_time": "2024-12-17T22:25:31.173677",
     "exception": false,
     "start_time": "2024-12-17T22:25:31.140778",
     "status": "completed"
    },
    "tags": []
   },
   "outputs": [],
   "source": [
    "pred = np.zeros(len(XX))"
   ]
  },
  {
   "cell_type": "code",
   "execution_count": 20,
   "id": "abdfb912",
   "metadata": {
    "execution": {
     "iopub.execute_input": "2024-12-17T22:25:31.224731Z",
     "iopub.status.busy": "2024-12-17T22:25:31.224275Z",
     "iopub.status.idle": "2024-12-17T22:25:31.536405Z",
     "shell.execute_reply": "2024-12-17T22:25:31.534973Z"
    },
    "papermill": {
     "duration": 0.342287,
     "end_time": "2024-12-17T22:25:31.540621",
     "exception": false,
     "start_time": "2024-12-17T22:25:31.198334",
     "status": "completed"
    },
    "tags": []
   },
   "outputs": [],
   "source": [
    "pred += pipeline1.predict(XX)\n",
    "pred += pipeline2.predict(XX)\n",
    "pred += pipeline3.predict(XX)"
   ]
  },
  {
   "cell_type": "code",
   "execution_count": 21,
   "id": "1df8fd1c",
   "metadata": {
    "execution": {
     "iopub.execute_input": "2024-12-17T22:25:31.608151Z",
     "iopub.status.busy": "2024-12-17T22:25:31.607380Z",
     "iopub.status.idle": "2024-12-17T22:25:31.619898Z",
     "shell.execute_reply": "2024-12-17T22:25:31.618935Z"
    },
    "papermill": {
     "duration": 0.04021,
     "end_time": "2024-12-17T22:25:31.621974",
     "exception": false,
     "start_time": "2024-12-17T22:25:31.581764",
     "status": "completed"
    },
    "tags": []
   },
   "outputs": [],
   "source": [
    "sub = pd.DataFrame({'id': XX['id'], 'sii': np.round(pred / 3)})\n",
    "sub.to_csv('submission.csv', index=False)"
   ]
  }
 ],
 "metadata": {
  "kaggle": {
   "accelerator": "none",
   "dataSources": [
    {
     "databundleVersionId": 9643020,
     "sourceId": 81933,
     "sourceType": "competition"
    },
    {
     "sourceId": 212457019,
     "sourceType": "kernelVersion"
    }
   ],
   "dockerImageVersionId": 30804,
   "isGpuEnabled": false,
   "isInternetEnabled": false,
   "language": "python",
   "sourceType": "notebook"
  },
  "kernelspec": {
   "display_name": "Python 3",
   "language": "python",
   "name": "python3"
  },
  "language_info": {
   "codemirror_mode": {
    "name": "ipython",
    "version": 3
   },
   "file_extension": ".py",
   "mimetype": "text/x-python",
   "name": "python",
   "nbconvert_exporter": "python",
   "pygments_lexer": "ipython3",
   "version": "3.10.14"
  },
  "papermill": {
   "default_parameters": {},
   "duration": 122.555768,
   "end_time": "2024-12-17T22:25:32.569648",
   "environment_variables": {},
   "exception": null,
   "input_path": "__notebook__.ipynb",
   "output_path": "__notebook__.ipynb",
   "parameters": {},
   "start_time": "2024-12-17T22:23:30.013880",
   "version": "2.6.0"
  }
 },
 "nbformat": 4,
 "nbformat_minor": 5
}
