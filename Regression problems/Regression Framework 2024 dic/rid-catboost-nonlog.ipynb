{
 "cells": [
  {
   "cell_type": "code",
   "execution_count": 1,
   "id": "fa3b6b66",
   "metadata": {
    "execution": {
     "iopub.execute_input": "2024-12-04T13:57:46.232353Z",
     "iopub.status.busy": "2024-12-04T13:57:46.232032Z",
     "iopub.status.idle": "2024-12-04T13:57:48.523402Z",
     "shell.execute_reply": "2024-12-04T13:57:48.522754Z"
    },
    "papermill": {
     "duration": 2.297393,
     "end_time": "2024-12-04T13:57:48.525478",
     "exception": false,
     "start_time": "2024-12-04T13:57:46.228085",
     "status": "completed"
    },
    "tags": []
   },
   "outputs": [],
   "source": [
    "import pandas as pd\n",
    "import numpy as np\n",
    "from catboost import CatBoostRegressor\n",
    "from sklearn.model_selection import KFold\n",
    "from sklearn.metrics import mean_squared_log_error\n",
    "\n",
    "import warnings\n",
    "warnings.filterwarnings(\"ignore\")\n",
    "\n",
    "import joblib"
   ]
  },
  {
   "cell_type": "code",
   "execution_count": 2,
   "id": "dc4257b8",
   "metadata": {
    "execution": {
     "iopub.execute_input": "2024-12-04T13:57:48.531811Z",
     "iopub.status.busy": "2024-12-04T13:57:48.531401Z",
     "iopub.status.idle": "2024-12-04T13:57:57.210643Z",
     "shell.execute_reply": "2024-12-04T13:57:57.209886Z"
    },
    "papermill": {
     "duration": 8.684449,
     "end_time": "2024-12-04T13:57:57.212675",
     "exception": false,
     "start_time": "2024-12-04T13:57:48.528226",
     "status": "completed"
    },
    "tags": []
   },
   "outputs": [],
   "source": [
    "train = pd.read_csv(\"/kaggle/input/playground-series-s4e12/train.csv\")\n",
    "test = pd.read_csv(\"/kaggle/input/playground-series-s4e12/test.csv\")\n",
    "\n",
    "sample = pd.read_csv('/kaggle/input/playground-series-s4e12/sample_submission.csv')\n",
    "\n",
    "train.drop('id', axis=1, inplace=True)\n",
    "test.drop('id', axis=1, inplace=True) "
   ]
  },
  {
   "cell_type": "code",
   "execution_count": 3,
   "id": "ffb13a7b",
   "metadata": {
    "execution": {
     "iopub.execute_input": "2024-12-04T13:57:57.218782Z",
     "iopub.status.busy": "2024-12-04T13:57:57.218232Z",
     "iopub.status.idle": "2024-12-04T13:57:57.225093Z",
     "shell.execute_reply": "2024-12-04T13:57:57.224279Z"
    },
    "papermill": {
     "duration": 0.011545,
     "end_time": "2024-12-04T13:57:57.226736",
     "exception": false,
     "start_time": "2024-12-04T13:57:57.215191",
     "status": "completed"
    },
    "tags": []
   },
   "outputs": [],
   "source": [
    "def date(Df):\n",
    "\n",
    "    Df['Policy Start Date'] = pd.to_datetime(Df['Policy Start Date'])\n",
    "    Df['Year'] = Df['Policy Start Date'].dt.year\n",
    "    Df['Day'] = Df['Policy Start Date'].dt.day\n",
    "    Df['Month'] = Df['Policy Start Date'].dt.month\n",
    "    Df['Month_name'] = Df['Policy Start Date'].dt.month_name()\n",
    "    Df['Day_of_week'] = Df['Policy Start Date'].dt.day_name()\n",
    "    Df['Week'] = Df['Policy Start Date'].dt.isocalendar().week\n",
    "    Df['Year_sin'] = np.sin(2 * np.pi * Df['Year'])\n",
    "    Df['Year_cos'] = np.cos(2 * np.pi * Df['Year'])\n",
    "    Df['Month_sin'] = np.sin(2 * np.pi * Df['Month'] / 12) \n",
    "    Df['Month_cos'] = np.cos(2 * np.pi * Df['Month'] / 12)\n",
    "    Df['Day_sin'] = np.sin(2 * np.pi * Df['Day'] / 31)  \n",
    "    Df['Day_cos'] = np.cos(2 * np.pi * Df['Day'] / 31)\n",
    "    Df['Group']=(Df['Year']-2020)*48+Df['Month']*4+Df['Day']//7\n",
    "    \n",
    "    Df.drop('Policy Start Date', axis=1, inplace=True)\n",
    "\n",
    "    return Df"
   ]
  },
  {
   "cell_type": "code",
   "execution_count": 4,
   "id": "7a6ea394",
   "metadata": {
    "execution": {
     "iopub.execute_input": "2024-12-04T13:57:57.232014Z",
     "iopub.status.busy": "2024-12-04T13:57:57.231790Z",
     "iopub.status.idle": "2024-12-04T13:58:21.476556Z",
     "shell.execute_reply": "2024-12-04T13:58:21.475525Z"
    },
    "papermill": {
     "duration": 24.251025,
     "end_time": "2024-12-04T13:58:21.479906",
     "exception": false,
     "start_time": "2024-12-04T13:57:57.228881",
     "status": "completed"
    },
    "tags": []
   },
   "outputs": [],
   "source": [
    "train = date(train)\n",
    "test = date(test)\n",
    "\n",
    "# cat_c = [col for col in train.columns if train[col].dtype == 'object']\n",
    "\n",
    "# def update(df):\n",
    "#     global cat_c\n",
    "\n",
    "#     for c in cat_c:\n",
    "#         df[c] = df[c].fillna('None').astype('category')\n",
    "                \n",
    "#     return df\n",
    "\n",
    "# train = update(train)\n",
    "# test = update(test)\n",
    "\n",
    "columns_to_convert = train.columns.difference(['Premium Amount'])\n",
    "\n",
    "train[columns_to_convert] = train[columns_to_convert].fillna('None').astype('string')\n",
    "test[columns_to_convert] = test[columns_to_convert].fillna('None').astype('string')"
   ]
  },
  {
   "cell_type": "code",
   "execution_count": 5,
   "id": "194cb46f",
   "metadata": {
    "execution": {
     "iopub.execute_input": "2024-12-04T13:58:21.486763Z",
     "iopub.status.busy": "2024-12-04T13:58:21.486326Z",
     "iopub.status.idle": "2024-12-04T13:58:22.443952Z",
     "shell.execute_reply": "2024-12-04T13:58:22.442993Z"
    },
    "papermill": {
     "duration": 0.963331,
     "end_time": "2024-12-04T13:58:22.446118",
     "exception": false,
     "start_time": "2024-12-04T13:58:21.482787",
     "status": "completed"
    },
    "tags": []
   },
   "outputs": [],
   "source": [
    "X = train.drop('Premium Amount', axis=1)  \n",
    "y = train['Premium Amount']\n",
    "cat_features = X.columns.values"
   ]
  },
  {
   "cell_type": "code",
   "execution_count": 6,
   "id": "12ce1489",
   "metadata": {
    "execution": {
     "iopub.execute_input": "2024-12-04T13:58:22.452213Z",
     "iopub.status.busy": "2024-12-04T13:58:22.451627Z",
     "iopub.status.idle": "2024-12-04T13:58:22.455485Z",
     "shell.execute_reply": "2024-12-04T13:58:22.454818Z"
    },
    "papermill": {
     "duration": 0.00853,
     "end_time": "2024-12-04T13:58:22.457072",
     "exception": false,
     "start_time": "2024-12-04T13:58:22.448542",
     "status": "completed"
    },
    "tags": []
   },
   "outputs": [],
   "source": [
    "def rmsle(y_true, y_pred):\n",
    "    return np.sqrt(mean_squared_log_error(y_true, y_pred))"
   ]
  },
  {
   "cell_type": "code",
   "execution_count": 7,
   "id": "ac7e1bc6",
   "metadata": {
    "execution": {
     "iopub.execute_input": "2024-12-04T13:58:22.463459Z",
     "iopub.status.busy": "2024-12-04T13:58:22.463236Z",
     "iopub.status.idle": "2024-12-04T13:58:22.647297Z",
     "shell.execute_reply": "2024-12-04T13:58:22.646621Z"
    },
    "papermill": {
     "duration": 0.189737,
     "end_time": "2024-12-04T13:58:22.649001",
     "exception": false,
     "start_time": "2024-12-04T13:58:22.459264",
     "status": "completed"
    },
    "tags": []
   },
   "outputs": [],
   "source": [
    "def train():\n",
    "    kf = KFold(n_splits=5, shuffle=True, random_state=42)\n",
    "    oof = np.zeros(len(X))\n",
    "    models = []\n",
    "\n",
    "    for fold, (train_idx, valid_idx) in enumerate(kf.split(X)):\n",
    "        print(f\"Fold {fold + 1}\")\n",
    "        X_train, X_valid = X.iloc[train_idx], X.iloc[valid_idx]\n",
    "        y_train, y_valid = y.iloc[train_idx], y.iloc[valid_idx]\n",
    "\n",
    "        model = CatBoostRegressor(\n",
    "            iterations=1000,\n",
    "            learning_rate=0.1,\n",
    "            depth=6,\n",
    "            eval_metric=\"RMSE\",\n",
    "            random_seed=42,\n",
    "            verbose=200,\n",
    "            task_type='GPU',\n",
    "            l2_leaf_reg =  0.7,\n",
    "        )\n",
    "        \n",
    "        model.fit(X_train,\n",
    "                  y_train,\n",
    "                  eval_set=(X_valid, y_valid), \n",
    "                  early_stopping_rounds=300,\n",
    "                  cat_features=cat_features,\n",
    "                 )\n",
    "        models.append(model)\n",
    "        oof[valid_idx] = np.maximum(0, model.predict(X_valid))\n",
    "        fold_rmsle = rmsle(y_valid, oof[valid_idx])\n",
    "        print(f\"Fold {fold + 1} RMSLE: {fold_rmsle}\")\n",
    "        \n",
    "    return models, oof"
   ]
  },
  {
   "cell_type": "code",
   "execution_count": 8,
   "id": "5d1630f7",
   "metadata": {
    "execution": {
     "iopub.execute_input": "2024-12-04T13:58:22.654413Z",
     "iopub.status.busy": "2024-12-04T13:58:22.654154Z",
     "iopub.status.idle": "2024-12-04T14:10:40.706101Z",
     "shell.execute_reply": "2024-12-04T14:10:40.705156Z"
    },
    "papermill": {
     "duration": 738.056676,
     "end_time": "2024-12-04T14:10:40.707893",
     "exception": false,
     "start_time": "2024-12-04T13:58:22.651217",
     "status": "completed"
    },
    "tags": []
   },
   "outputs": [
    {
     "name": "stdout",
     "output_type": "stream",
     "text": [
      "Fold 1\n",
      "0:\tlearn: 863.0665179\ttest: 862.0076188\tbest: 862.0076188 (0)\ttotal: 2.44s\tremaining: 40m 33s\n",
      "200:\tlearn: 844.2642746\ttest: 839.9112690\tbest: 839.9111877 (199)\ttotal: 24.4s\tremaining: 1m 37s\n",
      "400:\tlearn: 842.8756264\ttest: 839.3871034\tbest: 839.3858428 (396)\ttotal: 47.5s\tremaining: 1m 11s\n",
      "600:\tlearn: 841.8764362\ttest: 839.1342129\tbest: 839.1339688 (599)\ttotal: 1m 10s\tremaining: 47.1s\n",
      "800:\tlearn: 840.8740291\ttest: 839.0453292\tbest: 839.0448004 (793)\ttotal: 1m 34s\tremaining: 23.4s\n",
      "999:\tlearn: 840.0187934\ttest: 839.0566385\tbest: 839.0319450 (854)\ttotal: 1m 57s\tremaining: 0us\n",
      "bestTest = 839.031945\n",
      "bestIteration = 854\n",
      "Shrink model to first 855 iterations.\n",
      "Fold 1 RMSLE: 1.1407747931996586\n",
      "Fold 2\n",
      "0:\tlearn: 863.3809140\ttest: 861.3106193\tbest: 861.3106193 (0)\ttotal: 107ms\tremaining: 1m 47s\n",
      "200:\tlearn: 844.4909738\ttest: 838.6962937\tbest: 838.6960902 (198)\ttotal: 22.1s\tremaining: 1m 27s\n",
      "400:\tlearn: 843.0542366\ttest: 838.1310510\tbest: 838.1253087 (372)\ttotal: 45s\tremaining: 1m 7s\n",
      "600:\tlearn: 842.0656354\ttest: 837.9577460\tbest: 837.9577460 (600)\ttotal: 1m 8s\tremaining: 45.2s\n",
      "800:\tlearn: 841.1124367\ttest: 837.8397721\tbest: 837.8397721 (800)\ttotal: 1m 31s\tremaining: 22.7s\n",
      "999:\tlearn: 840.2519190\ttest: 837.8194020\tbest: 837.8073019 (953)\ttotal: 1m 54s\tremaining: 0us\n",
      "bestTest = 837.8073019\n",
      "bestIteration = 953\n",
      "Shrink model to first 954 iterations.\n",
      "Fold 2 RMSLE: 1.1402890779958093\n",
      "Fold 3\n",
      "0:\tlearn: 862.5556322\ttest: 864.1617231\tbest: 864.1617231 (0)\ttotal: 101ms\tremaining: 1m 40s\n",
      "200:\tlearn: 843.6380696\ttest: 842.3662317\tbest: 842.3647324 (198)\ttotal: 22s\tremaining: 1m 27s\n",
      "400:\tlearn: 842.3899765\ttest: 841.8679219\tbest: 841.8679219 (400)\ttotal: 45.3s\tremaining: 1m 7s\n",
      "600:\tlearn: 841.3611220\ttest: 841.6162635\tbest: 841.6147629 (597)\ttotal: 1m 8s\tremaining: 45.5s\n",
      "800:\tlearn: 840.4281220\ttest: 841.4883373\tbest: 841.4851734 (790)\ttotal: 1m 31s\tremaining: 22.8s\n",
      "999:\tlearn: 839.5573081\ttest: 841.4225821\tbest: 841.4220953 (998)\ttotal: 1m 55s\tremaining: 0us\n",
      "bestTest = 841.4220953\n",
      "bestIteration = 998\n",
      "Shrink model to first 999 iterations.\n",
      "Fold 3 RMSLE: 1.1390998912349568\n",
      "Fold 4\n",
      "0:\tlearn: 862.9994008\ttest: 862.2722874\tbest: 862.2722874 (0)\ttotal: 101ms\tremaining: 1m 41s\n",
      "200:\tlearn: 844.1078377\ttest: 839.4164627\tbest: 839.4164627 (200)\ttotal: 21.9s\tremaining: 1m 27s\n",
      "400:\tlearn: 842.9123152\ttest: 839.0279989\tbest: 839.0245409 (397)\ttotal: 45.2s\tremaining: 1m 7s\n",
      "600:\tlearn: 841.9076143\ttest: 838.8312784\tbest: 838.8312784 (600)\ttotal: 1m 8s\tremaining: 45.6s\n",
      "800:\tlearn: 840.9872345\ttest: 838.7067123\tbest: 838.7067123 (800)\ttotal: 1m 31s\tremaining: 22.8s\n",
      "999:\tlearn: 840.0899812\ttest: 838.6363433\tbest: 838.6285287 (941)\ttotal: 1m 55s\tremaining: 0us\n",
      "bestTest = 838.6285287\n",
      "bestIteration = 941\n",
      "Shrink model to first 942 iterations.\n",
      "Fold 4 RMSLE: 1.1419108751756408\n",
      "Fold 5\n",
      "0:\tlearn: 862.8497232\ttest: 863.0813882\tbest: 863.0813882 (0)\ttotal: 102ms\tremaining: 1m 41s\n",
      "200:\tlearn: 844.1007207\ttest: 840.5398037\tbest: 840.5398037 (200)\ttotal: 21.9s\tremaining: 1m 27s\n",
      "400:\tlearn: 842.7484990\ttest: 839.9944127\tbest: 839.9934374 (388)\ttotal: 44.9s\tremaining: 1m 7s\n",
      "600:\tlearn: 841.7382903\ttest: 839.8379526\tbest: 839.8378307 (599)\ttotal: 1m 8s\tremaining: 45.3s\n",
      "800:\tlearn: 840.8121230\ttest: 839.7788153\tbest: 839.7779211 (796)\ttotal: 1m 31s\tremaining: 22.8s\n",
      "999:\tlearn: 839.9522323\ttest: 839.7560941\tbest: 839.7560941 (999)\ttotal: 1m 54s\tremaining: 0us\n",
      "bestTest = 839.7560941\n",
      "bestIteration = 999\n",
      "Fold 5 RMSLE: 1.1422869115554553\n"
     ]
    }
   ],
   "source": [
    "models,oof = train()"
   ]
  },
  {
   "cell_type": "code",
   "execution_count": 9,
   "id": "cadbf3e1",
   "metadata": {
    "execution": {
     "iopub.execute_input": "2024-12-04T14:10:40.716883Z",
     "iopub.status.busy": "2024-12-04T14:10:40.716568Z",
     "iopub.status.idle": "2024-12-04T14:10:40.735851Z",
     "shell.execute_reply": "2024-12-04T14:10:40.734920Z"
    },
    "papermill": {
     "duration": 0.025623,
     "end_time": "2024-12-04T14:10:40.737624",
     "exception": false,
     "start_time": "2024-12-04T14:10:40.712001",
     "status": "completed"
    },
    "tags": []
   },
   "outputs": [
    {
     "name": "stdout",
     "output_type": "stream",
     "text": [
      "1.1408728857820265\n"
     ]
    }
   ],
   "source": [
    "print(rmsle(y, oof))"
   ]
  },
  {
   "cell_type": "code",
   "execution_count": 10,
   "id": "66966d4e",
   "metadata": {
    "execution": {
     "iopub.execute_input": "2024-12-04T14:10:40.746811Z",
     "iopub.status.busy": "2024-12-04T14:10:40.746252Z",
     "iopub.status.idle": "2024-12-04T14:12:14.408725Z",
     "shell.execute_reply": "2024-12-04T14:12:14.407815Z"
    },
    "papermill": {
     "duration": 93.672309,
     "end_time": "2024-12-04T14:12:14.413895",
     "exception": false,
     "start_time": "2024-12-04T14:10:40.741586",
     "status": "completed"
    },
    "tags": []
   },
   "outputs": [
    {
     "data": {
      "text/plain": [
       "['cat_non_loged.pkl']"
      ]
     },
     "execution_count": 10,
     "metadata": {},
     "output_type": "execute_result"
    }
   ],
   "source": [
    "test_predictions = np.zeros(len(test))\n",
    "\n",
    "for model in models:\n",
    "    test_predictions += np.maximum(0, model.predict(test)) / len(models)\n",
    "\n",
    "\n",
    "sample['Premium Amount'] = test_predictions\n",
    "sample.to_csv('submission.csv', index = False)\n",
    "\n",
    "joblib.dump([oof,test_predictions],\"cat_non_loged.pkl\")"
   ]
  }
 ],
 "metadata": {
  "kaggle": {
   "accelerator": "gpu",
   "dataSources": [
    {
     "databundleVersionId": 10305135,
     "sourceId": 84896,
     "sourceType": "competition"
    }
   ],
   "dockerImageVersionId": 30787,
   "isGpuEnabled": true,
   "isInternetEnabled": true,
   "language": "python",
   "sourceType": "notebook"
  },
  "kernelspec": {
   "display_name": "Python 3",
   "language": "python",
   "name": "python3"
  },
  "language_info": {
   "codemirror_mode": {
    "name": "ipython",
    "version": 3
   },
   "file_extension": ".py",
   "mimetype": "text/x-python",
   "name": "python",
   "nbconvert_exporter": "python",
   "pygments_lexer": "ipython3",
   "version": "3.10.14"
  },
  "papermill": {
   "default_parameters": {},
   "duration": 873.0156,
   "end_time": "2024-12-04T14:12:16.840947",
   "environment_variables": {},
   "exception": null,
   "input_path": "__notebook__.ipynb",
   "output_path": "__notebook__.ipynb",
   "parameters": {},
   "start_time": "2024-12-04T13:57:43.825347",
   "version": "2.6.0"
  }
 },
 "nbformat": 4,
 "nbformat_minor": 5
}
