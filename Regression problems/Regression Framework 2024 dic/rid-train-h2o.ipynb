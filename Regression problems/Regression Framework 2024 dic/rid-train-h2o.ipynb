{
 "cells": [
  {
   "cell_type": "code",
   "execution_count": 1,
   "id": "2f79e15f",
   "metadata": {
    "execution": {
     "iopub.execute_input": "2024-12-05T00:39:08.550152Z",
     "iopub.status.busy": "2024-12-05T00:39:08.549741Z",
     "iopub.status.idle": "2024-12-05T00:39:12.324407Z",
     "shell.execute_reply": "2024-12-05T00:39:12.323134Z"
    },
    "papermill": {
     "duration": 3.783506,
     "end_time": "2024-12-05T00:39:12.327199",
     "exception": false,
     "start_time": "2024-12-05T00:39:08.543693",
     "status": "completed"
    },
    "tags": []
   },
   "outputs": [],
   "source": [
    "import pandas as pd\n",
    "import numpy as np\n",
    "from sklearn.model_selection import KFold\n",
    "from sklearn.metrics import mean_squared_log_error\n",
    "from sklearn.preprocessing import LabelEncoder, OrdinalEncoder\n",
    "from sklearn.preprocessing import OneHotEncoder\n",
    "from sklearn.linear_model import Lasso, Ridge\n",
    "import lightgbm as lgb\n",
    "\n",
    "import joblib\n",
    "\n",
    "train_ag = False\n",
    "\n",
    "import warnings\n",
    "warnings.filterwarnings(\"ignore\")"
   ]
  },
  {
   "cell_type": "code",
   "execution_count": 2,
   "id": "43cbb66b",
   "metadata": {
    "execution": {
     "iopub.execute_input": "2024-12-05T00:39:12.337791Z",
     "iopub.status.busy": "2024-12-05T00:39:12.337144Z",
     "iopub.status.idle": "2024-12-05T00:39:21.883900Z",
     "shell.execute_reply": "2024-12-05T00:39:21.882503Z"
    },
    "papermill": {
     "duration": 9.555079,
     "end_time": "2024-12-05T00:39:21.886466",
     "exception": false,
     "start_time": "2024-12-05T00:39:12.331387",
     "status": "completed"
    },
    "tags": []
   },
   "outputs": [
    {
     "name": "stdout",
     "output_type": "stream",
     "text": [
      "Checking whether there is an H2O instance running at http://localhost:54321..... not found.\n",
      "Attempting to start a local H2O server...\n",
      "  Java Version: openjdk version \"11.0.24\" 2024-07-16; OpenJDK Runtime Environment (build 11.0.24+8-post-Ubuntu-1ubuntu320.04); OpenJDK 64-Bit Server VM (build 11.0.24+8-post-Ubuntu-1ubuntu320.04, mixed mode, sharing)\n",
      "  Starting server from /opt/conda/lib/python3.10/site-packages/h2o/backend/bin/h2o.jar\n",
      "  Ice root: /tmp/tmprub4m9d4\n",
      "  JVM stdout: /tmp/tmprub4m9d4/h2o_unknownUser_started_from_python.out\n",
      "  JVM stderr: /tmp/tmprub4m9d4/h2o_unknownUser_started_from_python.err\n",
      "  Server is running at http://127.0.0.1:54321\n",
      "Connecting to H2O server at http://127.0.0.1:54321 ... successful.\n"
     ]
    },
    {
     "data": {
      "text/html": [
       "\n",
       "<style>\n",
       "\n",
       "#h2o-table-1.h2o-container {\n",
       "  overflow-x: auto;\n",
       "}\n",
       "#h2o-table-1 .h2o-table {\n",
       "  /* width: 100%; */\n",
       "  margin-top: 1em;\n",
       "  margin-bottom: 1em;\n",
       "}\n",
       "#h2o-table-1 .h2o-table caption {\n",
       "  white-space: nowrap;\n",
       "  caption-side: top;\n",
       "  text-align: left;\n",
       "  /* margin-left: 1em; */\n",
       "  margin: 0;\n",
       "  font-size: larger;\n",
       "}\n",
       "#h2o-table-1 .h2o-table thead {\n",
       "  white-space: nowrap; \n",
       "  position: sticky;\n",
       "  top: 0;\n",
       "  box-shadow: 0 -1px inset;\n",
       "}\n",
       "#h2o-table-1 .h2o-table tbody {\n",
       "  overflow: auto;\n",
       "}\n",
       "#h2o-table-1 .h2o-table th,\n",
       "#h2o-table-1 .h2o-table td {\n",
       "  text-align: right;\n",
       "  /* border: 1px solid; */\n",
       "}\n",
       "#h2o-table-1 .h2o-table tr:nth-child(even) {\n",
       "  /* background: #F5F5F5 */\n",
       "}\n",
       "\n",
       "</style>      \n",
       "<div id=\"h2o-table-1\" class=\"h2o-container\">\n",
       "  <table class=\"h2o-table\">\n",
       "    <caption></caption>\n",
       "    <thead></thead>\n",
       "    <tbody><tr><td>H2O_cluster_uptime:</td>\n",
       "<td>03 secs</td></tr>\n",
       "<tr><td>H2O_cluster_timezone:</td>\n",
       "<td>Etc/UTC</td></tr>\n",
       "<tr><td>H2O_data_parsing_timezone:</td>\n",
       "<td>UTC</td></tr>\n",
       "<tr><td>H2O_cluster_version:</td>\n",
       "<td>3.46.0.5</td></tr>\n",
       "<tr><td>H2O_cluster_version_age:</td>\n",
       "<td>3 months and 5 days</td></tr>\n",
       "<tr><td>H2O_cluster_name:</td>\n",
       "<td>H2O_from_python_unknownUser_5fmcsj</td></tr>\n",
       "<tr><td>H2O_cluster_total_nodes:</td>\n",
       "<td>1</td></tr>\n",
       "<tr><td>H2O_cluster_free_memory:</td>\n",
       "<td>7.500 Gb</td></tr>\n",
       "<tr><td>H2O_cluster_total_cores:</td>\n",
       "<td>4</td></tr>\n",
       "<tr><td>H2O_cluster_allowed_cores:</td>\n",
       "<td>4</td></tr>\n",
       "<tr><td>H2O_cluster_status:</td>\n",
       "<td>locked, healthy</td></tr>\n",
       "<tr><td>H2O_connection_url:</td>\n",
       "<td>http://127.0.0.1:54321</td></tr>\n",
       "<tr><td>H2O_connection_proxy:</td>\n",
       "<td>{\"http\": null, \"https\": null}</td></tr>\n",
       "<tr><td>H2O_internal_security:</td>\n",
       "<td>False</td></tr>\n",
       "<tr><td>Python_version:</td>\n",
       "<td>3.10.14 final</td></tr></tbody>\n",
       "  </table>\n",
       "</div>\n"
      ],
      "text/plain": [
       "--------------------------  ----------------------------------\n",
       "H2O_cluster_uptime:         03 secs\n",
       "H2O_cluster_timezone:       Etc/UTC\n",
       "H2O_data_parsing_timezone:  UTC\n",
       "H2O_cluster_version:        3.46.0.5\n",
       "H2O_cluster_version_age:    3 months and 5 days\n",
       "H2O_cluster_name:           H2O_from_python_unknownUser_5fmcsj\n",
       "H2O_cluster_total_nodes:    1\n",
       "H2O_cluster_free_memory:    7.500 Gb\n",
       "H2O_cluster_total_cores:    4\n",
       "H2O_cluster_allowed_cores:  4\n",
       "H2O_cluster_status:         locked, healthy\n",
       "H2O_connection_url:         http://127.0.0.1:54321\n",
       "H2O_connection_proxy:       {\"http\": null, \"https\": null}\n",
       "H2O_internal_security:      False\n",
       "Python_version:             3.10.14 final\n",
       "--------------------------  ----------------------------------"
      ]
     },
     "metadata": {},
     "output_type": "display_data"
    }
   ],
   "source": [
    "import h2o\n",
    "from h2o.automl import H2OAutoML\n",
    "\n",
    "h2o.init()"
   ]
  },
  {
   "cell_type": "code",
   "execution_count": 3,
   "id": "96ad0a24",
   "metadata": {
    "execution": {
     "iopub.execute_input": "2024-12-05T00:39:21.897207Z",
     "iopub.status.busy": "2024-12-05T00:39:21.896789Z",
     "iopub.status.idle": "2024-12-05T00:39:35.167177Z",
     "shell.execute_reply": "2024-12-05T00:39:35.165691Z"
    },
    "papermill": {
     "duration": 13.278807,
     "end_time": "2024-12-05T00:39:35.169747",
     "exception": false,
     "start_time": "2024-12-05T00:39:21.890940",
     "status": "completed"
    },
    "tags": []
   },
   "outputs": [],
   "source": [
    "train = pd.read_csv(\"/kaggle/input/playground-series-s4e12/train.csv\")\n",
    "test = pd.read_csv(\"/kaggle/input/playground-series-s4e12/test.csv\")\n",
    "\n",
    "sample = pd.read_csv('/kaggle/input/playground-series-s4e12/sample_submission.csv')\n",
    "\n",
    "train.drop('id', axis=1, inplace=True)\n",
    "test.drop('id', axis=1, inplace=True) "
   ]
  },
  {
   "cell_type": "code",
   "execution_count": 4,
   "id": "4acb5c41",
   "metadata": {
    "execution": {
     "iopub.execute_input": "2024-12-05T00:39:35.180106Z",
     "iopub.status.busy": "2024-12-05T00:39:35.179701Z",
     "iopub.status.idle": "2024-12-05T00:39:35.188606Z",
     "shell.execute_reply": "2024-12-05T00:39:35.187356Z"
    },
    "papermill": {
     "duration": 0.016838,
     "end_time": "2024-12-05T00:39:35.191039",
     "exception": false,
     "start_time": "2024-12-05T00:39:35.174201",
     "status": "completed"
    },
    "tags": []
   },
   "outputs": [],
   "source": [
    "def date(Df):\n",
    "\n",
    "    Df['Policy Start Date'] = pd.to_datetime(Df['Policy Start Date'])\n",
    "    Df['Year'] = Df['Policy Start Date'].dt.year\n",
    "    Df['Day'] = Df['Policy Start Date'].dt.day\n",
    "    Df['Month'] = Df['Policy Start Date'].dt.month\n",
    "    Df['Month_name'] = Df['Policy Start Date'].dt.month_name()\n",
    "    Df['Day_of_week'] = Df['Policy Start Date'].dt.day_name()\n",
    "    Df['Week'] = Df['Policy Start Date'].dt.isocalendar().week\n",
    "    Df['Year_sin'] = np.sin(2 * np.pi * Df['Year'])\n",
    "    Df['Year_cos'] = np.cos(2 * np.pi * Df['Year'])\n",
    "    Df['Month_sin'] = np.sin(2 * np.pi * Df['Month'] / 12) \n",
    "    Df['Month_cos'] = np.cos(2 * np.pi * Df['Month'] / 12)\n",
    "    Df['Day_sin'] = np.sin(2 * np.pi * Df['Day'] / 31)  \n",
    "    Df['Day_cos'] = np.cos(2 * np.pi * Df['Day'] / 31)\n",
    "    Df['Group']=(Df['Year']-2020)*48+Df['Month']*4+Df['Day']//7\n",
    "    \n",
    "    Df.drop('Policy Start Date', axis=1, inplace=True)\n",
    "\n",
    "    return Df"
   ]
  },
  {
   "cell_type": "code",
   "execution_count": 5,
   "id": "e889b879",
   "metadata": {
    "execution": {
     "iopub.execute_input": "2024-12-05T00:39:35.201504Z",
     "iopub.status.busy": "2024-12-05T00:39:35.201124Z",
     "iopub.status.idle": "2024-12-05T00:39:38.422958Z",
     "shell.execute_reply": "2024-12-05T00:39:38.421788Z"
    },
    "papermill": {
     "duration": 3.229922,
     "end_time": "2024-12-05T00:39:38.425483",
     "exception": false,
     "start_time": "2024-12-05T00:39:35.195561",
     "status": "completed"
    },
    "tags": []
   },
   "outputs": [],
   "source": [
    "train = date(train)\n",
    "test = date(test)\n",
    "\n",
    "cat_cols = [col for col in train.columns if train[col].dtype == 'object']\n",
    "feature_cols = list(test.columns)"
   ]
  },
  {
   "cell_type": "code",
   "execution_count": 6,
   "id": "6a13526d",
   "metadata": {
    "execution": {
     "iopub.execute_input": "2024-12-05T00:39:38.438759Z",
     "iopub.status.busy": "2024-12-05T00:39:38.438309Z",
     "iopub.status.idle": "2024-12-05T00:39:38.446352Z",
     "shell.execute_reply": "2024-12-05T00:39:38.445206Z"
    },
    "papermill": {
     "duration": 0.016124,
     "end_time": "2024-12-05T00:39:38.448610",
     "exception": false,
     "start_time": "2024-12-05T00:39:38.432486",
     "status": "completed"
    },
    "tags": []
   },
   "outputs": [],
   "source": [
    "class CategoricalEncoder:\n",
    "    def __init__(self, train, test):\n",
    "        self.train = train\n",
    "        self.test = test\n",
    "\n",
    "    def frequency_encode(self, cat_cols, feature_cols, drop_org=False):\n",
    "\n",
    "        new_cat_cols = []\n",
    "        for col in cat_cols:\n",
    "            freq_encoding = self.train[col].value_counts().to_dict()\n",
    "\n",
    "            self.train[f\"{col}_freq\"] = self.train[col].map(freq_encoding).astype('category')\n",
    "            self.test[f\"{col}_freq\"] = self.test[col].map(freq_encoding).astype('category')\n",
    "\n",
    "            new_col_name = f\"{col}_freq\"\n",
    "            new_cat_cols.append(new_col_name)\n",
    "            feature_cols.append(new_col_name)\n",
    "            if drop_org:\n",
    "                feature_cols.remove(col)\n",
    "\n",
    "        return self.train, self.test, new_cat_cols, feature_cols"
   ]
  },
  {
   "cell_type": "code",
   "execution_count": 7,
   "id": "b7313476",
   "metadata": {
    "execution": {
     "iopub.execute_input": "2024-12-05T00:39:38.460822Z",
     "iopub.status.busy": "2024-12-05T00:39:38.460069Z",
     "iopub.status.idle": "2024-12-05T00:39:41.854788Z",
     "shell.execute_reply": "2024-12-05T00:39:41.853862Z"
    },
    "papermill": {
     "duration": 3.402912,
     "end_time": "2024-12-05T00:39:41.857260",
     "exception": false,
     "start_time": "2024-12-05T00:39:38.454348",
     "status": "completed"
    },
    "tags": []
   },
   "outputs": [],
   "source": [
    "encoder = CategoricalEncoder(train, test)\n",
    "train, test, cat_cols, feature_cols = encoder.frequency_encode(cat_cols, feature_cols, drop_org=True)\n",
    "\n",
    "train = train[feature_cols + ['Premium Amount']]\n",
    "test = test[feature_cols]\n",
    "\n",
    "train['Premium Amount'] = np.log1p(train['Premium Amount'])"
   ]
  },
  {
   "cell_type": "code",
   "execution_count": 8,
   "id": "8c49c9fe",
   "metadata": {
    "execution": {
     "iopub.execute_input": "2024-12-05T00:39:41.868097Z",
     "iopub.status.busy": "2024-12-05T00:39:41.867221Z",
     "iopub.status.idle": "2024-12-05T00:39:41.899255Z",
     "shell.execute_reply": "2024-12-05T00:39:41.898161Z"
    },
    "papermill": {
     "duration": 0.040259,
     "end_time": "2024-12-05T00:39:41.902006",
     "exception": false,
     "start_time": "2024-12-05T00:39:41.861747",
     "status": "completed"
    },
    "tags": []
   },
   "outputs": [
    {
     "data": {
      "text/html": [
       "<div>\n",
       "<style scoped>\n",
       "    .dataframe tbody tr th:only-of-type {\n",
       "        vertical-align: middle;\n",
       "    }\n",
       "\n",
       "    .dataframe tbody tr th {\n",
       "        vertical-align: top;\n",
       "    }\n",
       "\n",
       "    .dataframe thead th {\n",
       "        text-align: right;\n",
       "    }\n",
       "</style>\n",
       "<table border=\"1\" class=\"dataframe\">\n",
       "  <thead>\n",
       "    <tr style=\"text-align: right;\">\n",
       "      <th></th>\n",
       "      <th>Age</th>\n",
       "      <th>Annual Income</th>\n",
       "      <th>Number of Dependents</th>\n",
       "      <th>Health Score</th>\n",
       "      <th>Previous Claims</th>\n",
       "      <th>Vehicle Age</th>\n",
       "      <th>Credit Score</th>\n",
       "      <th>Insurance Duration</th>\n",
       "      <th>Year</th>\n",
       "      <th>Day</th>\n",
       "      <th>...</th>\n",
       "      <th>Occupation_freq</th>\n",
       "      <th>Location_freq</th>\n",
       "      <th>Policy Type_freq</th>\n",
       "      <th>Customer Feedback_freq</th>\n",
       "      <th>Smoking Status_freq</th>\n",
       "      <th>Exercise Frequency_freq</th>\n",
       "      <th>Property Type_freq</th>\n",
       "      <th>Month_name_freq</th>\n",
       "      <th>Day_of_week_freq</th>\n",
       "      <th>Premium Amount</th>\n",
       "    </tr>\n",
       "  </thead>\n",
       "  <tbody>\n",
       "    <tr>\n",
       "      <th>0</th>\n",
       "      <td>19.0</td>\n",
       "      <td>10049.0</td>\n",
       "      <td>1.0</td>\n",
       "      <td>22.598761</td>\n",
       "      <td>2.0</td>\n",
       "      <td>17.0</td>\n",
       "      <td>372.0</td>\n",
       "      <td>5.0</td>\n",
       "      <td>2023</td>\n",
       "      <td>23</td>\n",
       "      <td>...</td>\n",
       "      <td>282645.0</td>\n",
       "      <td>397511</td>\n",
       "      <td>401846</td>\n",
       "      <td>375518.0</td>\n",
       "      <td>598127</td>\n",
       "      <td>306179</td>\n",
       "      <td>400349</td>\n",
       "      <td>97522</td>\n",
       "      <td>171232</td>\n",
       "      <td>7.962067</td>\n",
       "    </tr>\n",
       "    <tr>\n",
       "      <th>1</th>\n",
       "      <td>39.0</td>\n",
       "      <td>31678.0</td>\n",
       "      <td>3.0</td>\n",
       "      <td>15.569731</td>\n",
       "      <td>1.0</td>\n",
       "      <td>12.0</td>\n",
       "      <td>694.0</td>\n",
       "      <td>2.0</td>\n",
       "      <td>2023</td>\n",
       "      <td>12</td>\n",
       "      <td>...</td>\n",
       "      <td>NaN</td>\n",
       "      <td>400947</td>\n",
       "      <td>399600</td>\n",
       "      <td>377905.0</td>\n",
       "      <td>601873</td>\n",
       "      <td>299830</td>\n",
       "      <td>400349</td>\n",
       "      <td>98500</td>\n",
       "      <td>172495</td>\n",
       "      <td>7.302496</td>\n",
       "    </tr>\n",
       "    <tr>\n",
       "      <th>2</th>\n",
       "      <td>23.0</td>\n",
       "      <td>25602.0</td>\n",
       "      <td>3.0</td>\n",
       "      <td>47.177549</td>\n",
       "      <td>1.0</td>\n",
       "      <td>14.0</td>\n",
       "      <td>NaN</td>\n",
       "      <td>3.0</td>\n",
       "      <td>2023</td>\n",
       "      <td>30</td>\n",
       "      <td>...</td>\n",
       "      <td>282645.0</td>\n",
       "      <td>401542</td>\n",
       "      <td>401846</td>\n",
       "      <td>368753.0</td>\n",
       "      <td>601873</td>\n",
       "      <td>306179</td>\n",
       "      <td>400349</td>\n",
       "      <td>99377</td>\n",
       "      <td>171232</td>\n",
       "      <td>6.342121</td>\n",
       "    </tr>\n",
       "    <tr>\n",
       "      <th>3</th>\n",
       "      <td>21.0</td>\n",
       "      <td>141855.0</td>\n",
       "      <td>2.0</td>\n",
       "      <td>10.938144</td>\n",
       "      <td>1.0</td>\n",
       "      <td>0.0</td>\n",
       "      <td>367.0</td>\n",
       "      <td>1.0</td>\n",
       "      <td>2024</td>\n",
       "      <td>12</td>\n",
       "      <td>...</td>\n",
       "      <td>NaN</td>\n",
       "      <td>400947</td>\n",
       "      <td>398554</td>\n",
       "      <td>375518.0</td>\n",
       "      <td>601873</td>\n",
       "      <td>294571</td>\n",
       "      <td>399978</td>\n",
       "      <td>98500</td>\n",
       "      <td>172546</td>\n",
       "      <td>6.641182</td>\n",
       "    </tr>\n",
       "    <tr>\n",
       "      <th>4</th>\n",
       "      <td>21.0</td>\n",
       "      <td>39651.0</td>\n",
       "      <td>1.0</td>\n",
       "      <td>20.376094</td>\n",
       "      <td>0.0</td>\n",
       "      <td>8.0</td>\n",
       "      <td>598.0</td>\n",
       "      <td>4.0</td>\n",
       "      <td>2021</td>\n",
       "      <td>1</td>\n",
       "      <td>...</td>\n",
       "      <td>282645.0</td>\n",
       "      <td>400947</td>\n",
       "      <td>401846</td>\n",
       "      <td>375518.0</td>\n",
       "      <td>601873</td>\n",
       "      <td>306179</td>\n",
       "      <td>400349</td>\n",
       "      <td>97522</td>\n",
       "      <td>172546</td>\n",
       "      <td>7.612337</td>\n",
       "    </tr>\n",
       "  </tbody>\n",
       "</table>\n",
       "<p>5 rows × 32 columns</p>\n",
       "</div>"
      ],
      "text/plain": [
       "    Age  Annual Income  Number of Dependents  Health Score  Previous Claims  \\\n",
       "0  19.0        10049.0                   1.0     22.598761              2.0   \n",
       "1  39.0        31678.0                   3.0     15.569731              1.0   \n",
       "2  23.0        25602.0                   3.0     47.177549              1.0   \n",
       "3  21.0       141855.0                   2.0     10.938144              1.0   \n",
       "4  21.0        39651.0                   1.0     20.376094              0.0   \n",
       "\n",
       "   Vehicle Age  Credit Score  Insurance Duration  Year  Day  ...  \\\n",
       "0         17.0         372.0                 5.0  2023   23  ...   \n",
       "1         12.0         694.0                 2.0  2023   12  ...   \n",
       "2         14.0           NaN                 3.0  2023   30  ...   \n",
       "3          0.0         367.0                 1.0  2024   12  ...   \n",
       "4          8.0         598.0                 4.0  2021    1  ...   \n",
       "\n",
       "   Occupation_freq  Location_freq  Policy Type_freq  Customer Feedback_freq  \\\n",
       "0         282645.0         397511            401846                375518.0   \n",
       "1              NaN         400947            399600                377905.0   \n",
       "2         282645.0         401542            401846                368753.0   \n",
       "3              NaN         400947            398554                375518.0   \n",
       "4         282645.0         400947            401846                375518.0   \n",
       "\n",
       "   Smoking Status_freq  Exercise Frequency_freq  Property Type_freq  \\\n",
       "0               598127                   306179              400349   \n",
       "1               601873                   299830              400349   \n",
       "2               601873                   306179              400349   \n",
       "3               601873                   294571              399978   \n",
       "4               601873                   306179              400349   \n",
       "\n",
       "   Month_name_freq  Day_of_week_freq Premium Amount  \n",
       "0            97522            171232       7.962067  \n",
       "1            98500            172495       7.302496  \n",
       "2            99377            171232       6.342121  \n",
       "3            98500            172546       6.641182  \n",
       "4            97522            172546       7.612337  \n",
       "\n",
       "[5 rows x 32 columns]"
      ]
     },
     "execution_count": 8,
     "metadata": {},
     "output_type": "execute_result"
    }
   ],
   "source": [
    "train.head()"
   ]
  },
  {
   "cell_type": "code",
   "execution_count": 9,
   "id": "f03dc7ed",
   "metadata": {
    "execution": {
     "iopub.execute_input": "2024-12-05T00:39:41.914209Z",
     "iopub.status.busy": "2024-12-05T00:39:41.913793Z",
     "iopub.status.idle": "2024-12-05T00:39:41.919360Z",
     "shell.execute_reply": "2024-12-05T00:39:41.918165Z"
    },
    "papermill": {
     "duration": 0.01356,
     "end_time": "2024-12-05T00:39:41.921544",
     "exception": false,
     "start_time": "2024-12-05T00:39:41.907984",
     "status": "completed"
    },
    "tags": []
   },
   "outputs": [],
   "source": [
    "def rmsle(y_true, y_pred):\n",
    "    return np.sqrt(mean_squared_log_error(y_true, y_pred))"
   ]
  },
  {
   "cell_type": "code",
   "execution_count": 10,
   "id": "c9aed26f",
   "metadata": {
    "execution": {
     "iopub.execute_input": "2024-12-05T00:39:41.932432Z",
     "iopub.status.busy": "2024-12-05T00:39:41.932013Z",
     "iopub.status.idle": "2024-12-05T00:40:48.893683Z",
     "shell.execute_reply": "2024-12-05T00:40:48.892491Z"
    },
    "papermill": {
     "duration": 66.970145,
     "end_time": "2024-12-05T00:40:48.896323",
     "exception": false,
     "start_time": "2024-12-05T00:39:41.926178",
     "status": "completed"
    },
    "tags": []
   },
   "outputs": [
    {
     "name": "stdout",
     "output_type": "stream",
     "text": [
      "Parse progress: |████████████████████████████████████████████████████████████████| (done) 100%\n",
      "Parse progress: |████████████████████████████████████████████████████████████████| (done) 100%\n"
     ]
    }
   ],
   "source": [
    "kf = KFold(n_splits=5, shuffle=True, random_state=42)\n",
    "\n",
    "for i, (_, val_index) in enumerate(kf.split(train)):\n",
    "    train.loc[val_index, 'fold'] = i\n",
    "\n",
    "h_train = h2o.H2OFrame(train)\n",
    "h_test = h2o.H2OFrame(test)\n",
    "\n",
    "x = [col for col in h_train.columns if col not in ['Premium Amount', 'fold']]\n",
    "y = 'Premium Amount'\n",
    "fold_column = 'fold'"
   ]
  },
  {
   "cell_type": "code",
   "execution_count": 11,
   "id": "d47c1866",
   "metadata": {
    "execution": {
     "iopub.execute_input": "2024-12-05T00:40:48.921061Z",
     "iopub.status.busy": "2024-12-05T00:40:48.920707Z",
     "iopub.status.idle": "2024-12-05T00:41:01.155731Z",
     "shell.execute_reply": "2024-12-05T00:41:01.154594Z"
    },
    "papermill": {
     "duration": 12.250939,
     "end_time": "2024-12-05T00:41:01.158990",
     "exception": false,
     "start_time": "2024-12-05T00:40:48.908051",
     "status": "completed"
    },
    "tags": []
   },
   "outputs": [],
   "source": [
    "if train_ag:\n",
    "    aml = H2OAutoML(\n",
    "            max_runtime_secs=3600* 5,\n",
    "            include_algos=[\"GBM\", \"DRF\", \"XGBoost\", \"DeepLearning\"],\n",
    "            keep_cross_validation_predictions=True,\n",
    "            seed=42,\n",
    "            verbosity=\"info\"\n",
    "        )\n",
    "    aml.train(x=x, y=y, training_frame=h_train,fold_column=fold_column)\n",
    "    \n",
    "    leaderboard = aml.leaderboard.as_data_frame()\n",
    "    print(leaderboard)\n",
    "\n",
    "    model_ids = leaderboard['model_id'].tolist()\n",
    "    \n",
    "    oofs = pd.DataFrame()\n",
    "    for model_id in model_ids:\n",
    "        model = h2o.get_model(model_id)\n",
    "        oof_predictions = model.cross_validation_holdout_predictions().as_data_frame()\n",
    "        oofs[model_id] = oof_predictions['predict']\n",
    "\n",
    "    preds = pd.DataFrame()\n",
    "    for model_id in model_ids:\n",
    "        model = h2o.get_model(model_id)\n",
    "        test_predictions = model.predict(h_test).as_data_frame()\n",
    "        preds[model_id] = test_predictions['predict']\n",
    "    \n",
    "    joblib.dump([oofs, preds], \"h2o_automl.pkl\")\n",
    "\n",
    "else:\n",
    "    oofs, preds = joblib.load(\"/kaggle/input/h2o-automl/h2o_automl_2.pkl\")"
   ]
  },
  {
   "cell_type": "code",
   "execution_count": 12,
   "id": "55d413d6",
   "metadata": {
    "execution": {
     "iopub.execute_input": "2024-12-05T00:41:01.192035Z",
     "iopub.status.busy": "2024-12-05T00:41:01.191546Z",
     "iopub.status.idle": "2024-12-05T00:41:11.795691Z",
     "shell.execute_reply": "2024-12-05T00:41:11.794497Z"
    },
    "papermill": {
     "duration": 10.619624,
     "end_time": "2024-12-05T00:41:11.798012",
     "exception": false,
     "start_time": "2024-12-05T00:41:01.178388",
     "status": "completed"
    },
    "tags": []
   },
   "outputs": [
    {
     "name": "stdout",
     "output_type": "stream",
     "text": [
      "GBM_3_AutoML_1_20241204_143413: 1.0320014297226836\n",
      "GBM_grid_1_AutoML_1_20241204_143413_model_5: 1.0321768694470312\n",
      "GBM_2_AutoML_1_20241204_143413: 1.0325475642308148\n",
      "GBM_4_AutoML_1_20241204_143413: 1.0325850144687516\n",
      "GBM_grid_1_AutoML_1_20241204_143413_model_8: 1.0326429468128449\n",
      "GBM_grid_1_AutoML_1_20241204_143413_model_13: 1.0327319049016155\n",
      "GBM_5_AutoML_1_20241204_143413: 1.0329097423704767\n",
      "GBM_grid_1_AutoML_1_20241204_143413_model_22: 1.0329897098749885\n",
      "GBM_grid_1_AutoML_1_20241204_143413_model_6: 1.0330098489551862\n",
      "XGBoost_grid_1_AutoML_1_20241204_143413_model_20: 1.0331724947254493\n",
      "XGBoost_grid_1_AutoML_1_20241204_143413_model_43: 1.0332206890379585\n",
      "XGBoost_grid_1_AutoML_1_20241204_143413_model_25: 1.0332744459198833\n",
      "GBM_grid_1_AutoML_1_20241204_143413_model_15: 1.0334064188394942\n",
      "XGBoost_grid_1_AutoML_1_20241204_143413_model_38: 1.0334706090313233\n",
      "GBM_grid_1_AutoML_1_20241204_143413_model_2: 1.033577885597724\n",
      "XGBoost_grid_1_AutoML_1_20241204_143413_model_56: 1.0335950784282746\n",
      "XGBoost_grid_1_AutoML_1_20241204_143413_model_29: 1.0337292044395028\n",
      "XGBoost_grid_1_AutoML_1_20241204_143413_model_31: 1.0337908152951174\n",
      "XGBoost_grid_1_AutoML_1_20241204_143413_model_13: 1.0338209973472008\n",
      "GBM_grid_1_AutoML_1_20241204_143413_model_14: 1.03384239147757\n",
      "XGBoost_grid_1_AutoML_1_20241204_143413_model_55: 1.0338799819186892\n",
      "XGBoost_grid_1_AutoML_1_20241204_143413_model_8: 1.03389237136864\n",
      "XGBoost_grid_1_AutoML_1_20241204_143413_model_30: 1.0339420712588714\n",
      "GBM_grid_1_AutoML_1_20241204_143413_model_23: 1.0340791248287464\n",
      "GBM_grid_1_AutoML_1_20241204_143413_model_12: 1.0340926842940088\n",
      "XGBoost_grid_1_AutoML_1_20241204_143413_model_15: 1.0340958315047148\n",
      "XGBoost_3_AutoML_1_20241204_143413: 1.0340961580555776\n",
      "GBM_grid_1_AutoML_1_20241204_143413_model_18: 1.0344570239426865\n",
      "GBM_1_AutoML_1_20241204_143413: 1.0347604172772602\n",
      "GBM_grid_1_AutoML_1_20241204_143413_model_10: 1.0347895875693944\n",
      "XGBoost_grid_1_AutoML_1_20241204_143413_model_24: 1.0348811481009972\n",
      "GBM_grid_1_AutoML_1_20241204_143413_model_1: 1.0350165021808035\n",
      "GBM_grid_1_AutoML_1_20241204_143413_model_19: 1.0359318381875458\n",
      "XRT_1_AutoML_1_20241204_143413: 1.035972455431234\n",
      "XGBoost_grid_1_AutoML_1_20241204_143413_model_51: 1.0361522258730982\n",
      "XGBoost_grid_1_AutoML_1_20241204_143413_model_17: 1.0363258867411729\n",
      "DRF_1_AutoML_1_20241204_143413: 1.0364087164510685\n",
      "XGBoost_grid_1_AutoML_1_20241204_143413_model_37: 1.0366806109682236\n",
      "XGBoost_grid_1_AutoML_1_20241204_143413_model_5: 1.0367218147517445\n",
      "GBM_grid_1_AutoML_1_20241204_143413_model_17: 1.0367506080001052\n",
      "XGBoost_grid_1_AutoML_1_20241204_143413_model_33: 1.036791922848346\n",
      "XGBoost_grid_1_AutoML_1_20241204_143413_model_4: 1.0368129626771876\n",
      "XGBoost_grid_1_AutoML_1_20241204_143413_model_48: 1.0368209029899453\n",
      "XGBoost_grid_1_AutoML_1_20241204_143413_model_2: 1.0368471306300617\n",
      "XGBoost_grid_1_AutoML_1_20241204_143413_model_50: 1.0368613344380075\n",
      "XGBoost_grid_1_AutoML_1_20241204_143413_model_34: 1.036968788693774\n",
      "XGBoost_grid_1_AutoML_1_20241204_143413_model_46: 1.037017232719306\n",
      "XGBoost_grid_1_AutoML_1_20241204_143413_model_45: 1.0371196694228615\n",
      "XGBoost_grid_1_AutoML_1_20241204_143413_model_47: 1.0371881832885446\n",
      "XGBoost_grid_1_AutoML_1_20241204_143413_model_18: 1.0372236702370767\n",
      "XGBoost_grid_1_AutoML_1_20241204_143413_model_49: 1.037256833375212\n",
      "XGBoost_grid_1_AutoML_1_20241204_143413_model_52: 1.0372666028189752\n",
      "XGBoost_grid_1_AutoML_1_20241204_143413_model_21: 1.0374204074947375\n",
      "GBM_grid_1_AutoML_1_20241204_143413_model_7: 1.0374642209205502\n",
      "XGBoost_grid_1_AutoML_1_20241204_143413_model_35: 1.0375564921709581\n",
      "XGBoost_grid_1_AutoML_1_20241204_143413_model_6: 1.0377418924195205\n",
      "XGBoost_grid_1_AutoML_1_20241204_143413_model_27: 1.0379051785376396\n",
      "XGBoost_grid_1_AutoML_1_20241204_143413_model_28: 1.0379351736263012\n",
      "XGBoost_grid_1_AutoML_1_20241204_143413_model_36: 1.0386236751512734\n",
      "XGBoost_grid_1_AutoML_1_20241204_143413_model_44: 1.0395144272456134\n",
      "XGBoost_grid_1_AutoML_1_20241204_143413_model_12: 1.0395882680555433\n",
      "GBM_grid_1_AutoML_1_20241204_143413_model_16: 1.0396635381701393\n",
      "GBM_grid_1_AutoML_1_20241204_143413_model_4: 1.040037298294104\n",
      "XGBoost_grid_1_AutoML_1_20241204_143413_model_54: 1.0402285385421979\n",
      "GBM_grid_1_AutoML_1_20241204_143413_model_21: 1.0403519065208977\n",
      "XGBoost_grid_1_AutoML_1_20241204_143413_model_22: 1.0408072152023005\n",
      "GBM_grid_1_AutoML_1_20241204_143413_model_9: 1.0408300400514934\n",
      "XGBoost_grid_1_AutoML_1_20241204_143413_model_14: 1.0414188229857126\n",
      "GBM_grid_1_AutoML_1_20241204_143413_model_24: 1.0415417699099028\n",
      "XGBoost_grid_1_AutoML_1_20241204_143413_model_40: 1.042743803590595\n",
      "GBM_grid_1_AutoML_1_20241204_143413_model_11: 1.0428285067468586\n",
      "GBM_grid_1_AutoML_1_20241204_143413_model_20: 1.0434366865232125\n",
      "XGBoost_2_AutoML_1_20241204_143413: 1.0451359028834202\n",
      "XGBoost_grid_1_AutoML_1_20241204_143413_model_26: 1.0463001650937176\n",
      "XGBoost_grid_1_AutoML_1_20241204_143413_model_42: 1.0485401181206464\n",
      "DeepLearning_1_AutoML_1_20241204_143413: 1.0492393204374584\n",
      "GBM_grid_1_AutoML_1_20241204_143413_model_25: 1.049454938814512\n",
      "GBM_grid_1_AutoML_1_20241204_143413_model_3: 1.0508982704329999\n",
      "XGBoost_grid_1_AutoML_1_20241204_143413_model_11: 1.051039964339327\n",
      "XGBoost_grid_1_AutoML_1_20241204_143413_model_53: 1.051845023847217\n",
      "XGBoost_grid_1_AutoML_1_20241204_143413_model_7: 1.0529862340584708\n",
      "XGBoost_grid_1_AutoML_1_20241204_143413_model_10: 1.0532408053219147\n",
      "XGBoost_grid_1_AutoML_1_20241204_143413_model_3: 1.0540422306078265\n",
      "XGBoost_grid_1_AutoML_1_20241204_143413_model_32: 1.0543847500067909\n",
      "XGBoost_grid_1_AutoML_1_20241204_143413_model_9: 1.0548676540049795\n",
      "XGBoost_grid_1_AutoML_1_20241204_143413_model_19: 1.0549410794002079\n",
      "XGBoost_grid_1_AutoML_1_20241204_143413_model_39: 1.0551022166482165\n",
      "DeepLearning_grid_1_AutoML_1_20241204_143413_model_1: 1.0553198903598309\n",
      "DeepLearning_grid_1_AutoML_1_20241204_143413_model_7: 1.0563995092202751\n",
      "XGBoost_grid_1_AutoML_1_20241204_143413_model_16: 1.0572660695956073\n",
      "XGBoost_grid_1_AutoML_1_20241204_143413_model_1: 1.0574802599459925\n",
      "DeepLearning_grid_1_AutoML_1_20241204_143413_model_6: 1.0578837390055327\n",
      "DeepLearning_grid_1_AutoML_1_20241204_143413_model_8: 1.0585104827825025\n",
      "DeepLearning_grid_1_AutoML_1_20241204_143413_model_2: 1.0587791755138083\n",
      "DeepLearning_grid_1_AutoML_1_20241204_143413_model_4: 1.0609560053643798\n",
      "DeepLearning_grid_1_AutoML_1_20241204_143413_model_5: 1.061689278967193\n",
      "DeepLearning_grid_1_AutoML_1_20241204_143413_model_3: 1.0666022077547153\n",
      "XGBoost_grid_1_AutoML_1_20241204_143413_model_41: 1.073502141823388\n",
      "XGBoost_1_AutoML_1_20241204_143413: 1.087166612009042\n",
      "XGBoost_grid_1_AutoML_1_20241204_143413_model_23: 1.0932290401785845\n"
     ]
    }
   ],
   "source": [
    "models = list(oofs.columns)\n",
    "for model in models:\n",
    "    print(f\"{model}: {rmsle(np.expm1(oofs[model]), np.expm1(train['Premium Amount']))}\")"
   ]
  },
  {
   "cell_type": "code",
   "execution_count": 13,
   "id": "0d43fe7d",
   "metadata": {
    "execution": {
     "iopub.execute_input": "2024-12-05T00:41:11.827946Z",
     "iopub.status.busy": "2024-12-05T00:41:11.827561Z",
     "iopub.status.idle": "2024-12-05T00:41:14.250079Z",
     "shell.execute_reply": "2024-12-05T00:41:14.248924Z"
    },
    "papermill": {
     "duration": 2.440184,
     "end_time": "2024-12-05T00:41:14.252321",
     "exception": false,
     "start_time": "2024-12-05T00:41:11.812137",
     "status": "completed"
    },
    "tags": []
   },
   "outputs": [
    {
     "name": "stdout",
     "output_type": "stream",
     "text": [
      "1.030959465086669\n"
     ]
    }
   ],
   "source": [
    "ridge = Ridge(alpha=0.1)  \n",
    "\n",
    "ridge.fit(oofs, train['Premium Amount'])\n",
    "oof_preds = ridge.predict(oofs)\n",
    "print(rmsle(np.expm1(oof_preds), np.expm1(train['Premium Amount'])))"
   ]
  },
  {
   "cell_type": "code",
   "execution_count": 14,
   "id": "972e3966",
   "metadata": {
    "execution": {
     "iopub.execute_input": "2024-12-05T00:41:14.282028Z",
     "iopub.status.busy": "2024-12-05T00:41:14.281480Z",
     "iopub.status.idle": "2024-12-05T00:41:16.288447Z",
     "shell.execute_reply": "2024-12-05T00:41:16.287377Z"
    },
    "papermill": {
     "duration": 2.024815,
     "end_time": "2024-12-05T00:41:16.290951",
     "exception": false,
     "start_time": "2024-12-05T00:41:14.266136",
     "status": "completed"
    },
    "tags": []
   },
   "outputs": [],
   "source": [
    "test_predictions = ridge.predict(preds)\n",
    "\n",
    "sample['Premium Amount'] = np.expm1(test_predictions)\n",
    "sample.to_csv('submission.csv', index = False)"
   ]
  }
 ],
 "metadata": {
  "kaggle": {
   "accelerator": "none",
   "dataSources": [
    {
     "databundleVersionId": 10305135,
     "sourceId": 84896,
     "sourceType": "competition"
    },
    {
     "datasetId": 6220067,
     "sourceId": 10087945,
     "sourceType": "datasetVersion"
    },
    {
     "datasetId": 6228803,
     "sourceId": 10103971,
     "sourceType": "datasetVersion"
    }
   ],
   "dockerImageVersionId": 30787,
   "isGpuEnabled": false,
   "isInternetEnabled": true,
   "language": "python",
   "sourceType": "notebook"
  },
  "kernelspec": {
   "display_name": "Python 3",
   "language": "python",
   "name": "python3"
  },
  "language_info": {
   "codemirror_mode": {
    "name": "ipython",
    "version": 3
   },
   "file_extension": ".py",
   "mimetype": "text/x-python",
   "name": "python",
   "nbconvert_exporter": "python",
   "pygments_lexer": "ipython3",
   "version": "3.10.14"
  },
  "papermill": {
   "default_parameters": {},
   "duration": 132.335249,
   "end_time": "2024-12-05T00:41:17.931219",
   "environment_variables": {},
   "exception": null,
   "input_path": "__notebook__.ipynb",
   "output_path": "__notebook__.ipynb",
   "parameters": {},
   "start_time": "2024-12-05T00:39:05.595970",
   "version": "2.6.0"
  }
 },
 "nbformat": 4,
 "nbformat_minor": 5
}
