{
 "cells": [
  {
   "cell_type": "code",
   "execution_count": 1,
   "id": "a2fe999f",
   "metadata": {
    "_cell_guid": "b1076dfc-b9ad-4769-8c92-a6c4dae69d19",
    "_uuid": "8f2839f25d086af736a60e9eeb907d3b93b6e0e5",
    "execution": {
     "iopub.execute_input": "2025-01-10T23:32:40.089980Z",
     "iopub.status.busy": "2025-01-10T23:32:40.089435Z",
     "iopub.status.idle": "2025-01-10T23:32:42.720094Z",
     "shell.execute_reply": "2025-01-10T23:32:42.719104Z"
    },
    "papermill": {
     "duration": 2.647435,
     "end_time": "2025-01-10T23:32:42.722553",
     "exception": false,
     "start_time": "2025-01-10T23:32:40.075118",
     "status": "completed"
    },
    "tags": []
   },
   "outputs": [
    {
     "name": "stdout",
     "output_type": "stream",
     "text": [
      "/kaggle/input/house-prices-advanced-regression-techniques/sample_submission.csv\n",
      "/kaggle/input/house-prices-advanced-regression-techniques/data_description.txt\n",
      "/kaggle/input/house-prices-advanced-regression-techniques/train.csv\n",
      "/kaggle/input/house-prices-advanced-regression-techniques/test.csv\n"
     ]
    }
   ],
   "source": [
    "import numpy as np # linear algebra\n",
    "import pandas as pd # data processing, CSV file I/O (e.g. pd.read_csv)\n",
    "import missingno as msno # visualizing missing values\n",
    "import seaborn as sns # for data visualization\n",
    "import matplotlib.pyplot as plt # for plot\n",
    "%matplotlib inline\n",
    "\n",
    "import torch \n",
    "import torch.nn as nn # For neural network building\n",
    "import torch.nn.functional as F # For activation function\n",
    "from torch.utils import data  # For data handling\n",
    "from torch.utils.data import DataLoader, TensorDataset, SubsetRandomSampler\n",
    "from sklearn.model_selection import train_test_split # For splitting the data\n",
    "# from sklearn.model_selection import KFold # For kfold training\n",
    "\n",
    "import os\n",
    "for dirname, _, filenames in os.walk('/kaggle/input'):\n",
    "    for filename in filenames:\n",
    "        print(os.path.join(dirname, filename))\n"
   ]
  },
  {
   "cell_type": "markdown",
   "id": "5ba60de5",
   "metadata": {
    "papermill": {
     "duration": 0.010065,
     "end_time": "2025-01-10T23:32:42.742140",
     "exception": false,
     "start_time": "2025-01-10T23:32:42.732075",
     "status": "completed"
    },
    "tags": []
   },
   "source": [
    "# Data Processing"
   ]
  },
  {
   "cell_type": "code",
   "execution_count": 2,
   "id": "4751ffaf",
   "metadata": {
    "execution": {
     "iopub.execute_input": "2025-01-10T23:32:42.761680Z",
     "iopub.status.busy": "2025-01-10T23:32:42.760751Z",
     "iopub.status.idle": "2025-01-10T23:32:42.797306Z",
     "shell.execute_reply": "2025-01-10T23:32:42.796313Z"
    },
    "papermill": {
     "duration": 0.048424,
     "end_time": "2025-01-10T23:32:42.799438",
     "exception": false,
     "start_time": "2025-01-10T23:32:42.751014",
     "status": "completed"
    },
    "tags": []
   },
   "outputs": [],
   "source": [
    "# Load: data\n",
    "df_train_raw = pd.read_csv(r'/kaggle/input/house-prices-advanced-regression-techniques/train.csv')"
   ]
  },
  {
   "cell_type": "code",
   "execution_count": 3,
   "id": "b3869719",
   "metadata": {
    "execution": {
     "iopub.execute_input": "2025-01-10T23:32:42.818864Z",
     "iopub.status.busy": "2025-01-10T23:32:42.817986Z",
     "iopub.status.idle": "2025-01-10T23:32:42.845155Z",
     "shell.execute_reply": "2025-01-10T23:32:42.844346Z"
    },
    "papermill": {
     "duration": 0.038651,
     "end_time": "2025-01-10T23:32:42.846917",
     "exception": false,
     "start_time": "2025-01-10T23:32:42.808266",
     "status": "completed"
    },
    "tags": []
   },
   "outputs": [
    {
     "data": {
      "text/html": [
       "<div>\n",
       "<style scoped>\n",
       "    .dataframe tbody tr th:only-of-type {\n",
       "        vertical-align: middle;\n",
       "    }\n",
       "\n",
       "    .dataframe tbody tr th {\n",
       "        vertical-align: top;\n",
       "    }\n",
       "\n",
       "    .dataframe thead th {\n",
       "        text-align: right;\n",
       "    }\n",
       "</style>\n",
       "<table border=\"1\" class=\"dataframe\">\n",
       "  <thead>\n",
       "    <tr style=\"text-align: right;\">\n",
       "      <th></th>\n",
       "      <th>Id</th>\n",
       "      <th>MSSubClass</th>\n",
       "      <th>MSZoning</th>\n",
       "      <th>LotFrontage</th>\n",
       "      <th>LotArea</th>\n",
       "      <th>Street</th>\n",
       "      <th>Alley</th>\n",
       "      <th>LotShape</th>\n",
       "      <th>LandContour</th>\n",
       "      <th>Utilities</th>\n",
       "      <th>...</th>\n",
       "      <th>PoolArea</th>\n",
       "      <th>PoolQC</th>\n",
       "      <th>Fence</th>\n",
       "      <th>MiscFeature</th>\n",
       "      <th>MiscVal</th>\n",
       "      <th>MoSold</th>\n",
       "      <th>YrSold</th>\n",
       "      <th>SaleType</th>\n",
       "      <th>SaleCondition</th>\n",
       "      <th>SalePrice</th>\n",
       "    </tr>\n",
       "  </thead>\n",
       "  <tbody>\n",
       "    <tr>\n",
       "      <th>0</th>\n",
       "      <td>1</td>\n",
       "      <td>60</td>\n",
       "      <td>RL</td>\n",
       "      <td>65.0</td>\n",
       "      <td>8450</td>\n",
       "      <td>Pave</td>\n",
       "      <td>NaN</td>\n",
       "      <td>Reg</td>\n",
       "      <td>Lvl</td>\n",
       "      <td>AllPub</td>\n",
       "      <td>...</td>\n",
       "      <td>0</td>\n",
       "      <td>NaN</td>\n",
       "      <td>NaN</td>\n",
       "      <td>NaN</td>\n",
       "      <td>0</td>\n",
       "      <td>2</td>\n",
       "      <td>2008</td>\n",
       "      <td>WD</td>\n",
       "      <td>Normal</td>\n",
       "      <td>208500</td>\n",
       "    </tr>\n",
       "    <tr>\n",
       "      <th>1</th>\n",
       "      <td>2</td>\n",
       "      <td>20</td>\n",
       "      <td>RL</td>\n",
       "      <td>80.0</td>\n",
       "      <td>9600</td>\n",
       "      <td>Pave</td>\n",
       "      <td>NaN</td>\n",
       "      <td>Reg</td>\n",
       "      <td>Lvl</td>\n",
       "      <td>AllPub</td>\n",
       "      <td>...</td>\n",
       "      <td>0</td>\n",
       "      <td>NaN</td>\n",
       "      <td>NaN</td>\n",
       "      <td>NaN</td>\n",
       "      <td>0</td>\n",
       "      <td>5</td>\n",
       "      <td>2007</td>\n",
       "      <td>WD</td>\n",
       "      <td>Normal</td>\n",
       "      <td>181500</td>\n",
       "    </tr>\n",
       "    <tr>\n",
       "      <th>2</th>\n",
       "      <td>3</td>\n",
       "      <td>60</td>\n",
       "      <td>RL</td>\n",
       "      <td>68.0</td>\n",
       "      <td>11250</td>\n",
       "      <td>Pave</td>\n",
       "      <td>NaN</td>\n",
       "      <td>IR1</td>\n",
       "      <td>Lvl</td>\n",
       "      <td>AllPub</td>\n",
       "      <td>...</td>\n",
       "      <td>0</td>\n",
       "      <td>NaN</td>\n",
       "      <td>NaN</td>\n",
       "      <td>NaN</td>\n",
       "      <td>0</td>\n",
       "      <td>9</td>\n",
       "      <td>2008</td>\n",
       "      <td>WD</td>\n",
       "      <td>Normal</td>\n",
       "      <td>223500</td>\n",
       "    </tr>\n",
       "    <tr>\n",
       "      <th>3</th>\n",
       "      <td>4</td>\n",
       "      <td>70</td>\n",
       "      <td>RL</td>\n",
       "      <td>60.0</td>\n",
       "      <td>9550</td>\n",
       "      <td>Pave</td>\n",
       "      <td>NaN</td>\n",
       "      <td>IR1</td>\n",
       "      <td>Lvl</td>\n",
       "      <td>AllPub</td>\n",
       "      <td>...</td>\n",
       "      <td>0</td>\n",
       "      <td>NaN</td>\n",
       "      <td>NaN</td>\n",
       "      <td>NaN</td>\n",
       "      <td>0</td>\n",
       "      <td>2</td>\n",
       "      <td>2006</td>\n",
       "      <td>WD</td>\n",
       "      <td>Abnorml</td>\n",
       "      <td>140000</td>\n",
       "    </tr>\n",
       "    <tr>\n",
       "      <th>4</th>\n",
       "      <td>5</td>\n",
       "      <td>60</td>\n",
       "      <td>RL</td>\n",
       "      <td>84.0</td>\n",
       "      <td>14260</td>\n",
       "      <td>Pave</td>\n",
       "      <td>NaN</td>\n",
       "      <td>IR1</td>\n",
       "      <td>Lvl</td>\n",
       "      <td>AllPub</td>\n",
       "      <td>...</td>\n",
       "      <td>0</td>\n",
       "      <td>NaN</td>\n",
       "      <td>NaN</td>\n",
       "      <td>NaN</td>\n",
       "      <td>0</td>\n",
       "      <td>12</td>\n",
       "      <td>2008</td>\n",
       "      <td>WD</td>\n",
       "      <td>Normal</td>\n",
       "      <td>250000</td>\n",
       "    </tr>\n",
       "  </tbody>\n",
       "</table>\n",
       "<p>5 rows × 81 columns</p>\n",
       "</div>"
      ],
      "text/plain": [
       "   Id  MSSubClass MSZoning  LotFrontage  LotArea Street Alley LotShape  \\\n",
       "0   1          60       RL         65.0     8450   Pave   NaN      Reg   \n",
       "1   2          20       RL         80.0     9600   Pave   NaN      Reg   \n",
       "2   3          60       RL         68.0    11250   Pave   NaN      IR1   \n",
       "3   4          70       RL         60.0     9550   Pave   NaN      IR1   \n",
       "4   5          60       RL         84.0    14260   Pave   NaN      IR1   \n",
       "\n",
       "  LandContour Utilities  ... PoolArea PoolQC Fence MiscFeature MiscVal MoSold  \\\n",
       "0         Lvl    AllPub  ...        0    NaN   NaN         NaN       0      2   \n",
       "1         Lvl    AllPub  ...        0    NaN   NaN         NaN       0      5   \n",
       "2         Lvl    AllPub  ...        0    NaN   NaN         NaN       0      9   \n",
       "3         Lvl    AllPub  ...        0    NaN   NaN         NaN       0      2   \n",
       "4         Lvl    AllPub  ...        0    NaN   NaN         NaN       0     12   \n",
       "\n",
       "  YrSold  SaleType  SaleCondition  SalePrice  \n",
       "0   2008        WD         Normal     208500  \n",
       "1   2007        WD         Normal     181500  \n",
       "2   2008        WD         Normal     223500  \n",
       "3   2006        WD        Abnorml     140000  \n",
       "4   2008        WD         Normal     250000  \n",
       "\n",
       "[5 rows x 81 columns]"
      ]
     },
     "execution_count": 3,
     "metadata": {},
     "output_type": "execute_result"
    }
   ],
   "source": [
    "# Check the first 5 rows\n",
    "df_train_raw.head()"
   ]
  },
  {
   "cell_type": "code",
   "execution_count": 4,
   "id": "1dc0ff7d",
   "metadata": {
    "execution": {
     "iopub.execute_input": "2025-01-10T23:32:42.865216Z",
     "iopub.status.busy": "2025-01-10T23:32:42.864957Z",
     "iopub.status.idle": "2025-01-10T23:32:42.892237Z",
     "shell.execute_reply": "2025-01-10T23:32:42.891474Z"
    },
    "papermill": {
     "duration": 0.038564,
     "end_time": "2025-01-10T23:32:42.894002",
     "exception": false,
     "start_time": "2025-01-10T23:32:42.855438",
     "status": "completed"
    },
    "tags": []
   },
   "outputs": [
    {
     "name": "stdout",
     "output_type": "stream",
     "text": [
      " CARDINALITY\n"
     ]
    },
    {
     "data": {
      "text/html": [
       "<div>\n",
       "<style scoped>\n",
       "    .dataframe tbody tr th:only-of-type {\n",
       "        vertical-align: middle;\n",
       "    }\n",
       "\n",
       "    .dataframe tbody tr th {\n",
       "        vertical-align: top;\n",
       "    }\n",
       "\n",
       "    .dataframe thead th {\n",
       "        text-align: right;\n",
       "    }\n",
       "</style>\n",
       "<table border=\"1\" class=\"dataframe\">\n",
       "  <thead>\n",
       "    <tr style=\"text-align: right;\">\n",
       "      <th></th>\n",
       "      <th>Id</th>\n",
       "      <th>LotArea</th>\n",
       "      <th>GrLivArea</th>\n",
       "      <th>BsmtUnfSF</th>\n",
       "      <th>1stFlrSF</th>\n",
       "      <th>TotalBsmtSF</th>\n",
       "      <th>SalePrice</th>\n",
       "      <th>BsmtFinSF1</th>\n",
       "      <th>GarageArea</th>\n",
       "      <th>2ndFlrSF</th>\n",
       "      <th>...</th>\n",
       "      <th>PavedDrive</th>\n",
       "      <th>GarageFinish</th>\n",
       "      <th>PoolQC</th>\n",
       "      <th>BsmtHalfBath</th>\n",
       "      <th>LandSlope</th>\n",
       "      <th>HalfBath</th>\n",
       "      <th>Street</th>\n",
       "      <th>CentralAir</th>\n",
       "      <th>Utilities</th>\n",
       "      <th>Alley</th>\n",
       "    </tr>\n",
       "  </thead>\n",
       "  <tbody>\n",
       "    <tr>\n",
       "      <th>0</th>\n",
       "      <td>1460</td>\n",
       "      <td>1073</td>\n",
       "      <td>861</td>\n",
       "      <td>780</td>\n",
       "      <td>753</td>\n",
       "      <td>721</td>\n",
       "      <td>663</td>\n",
       "      <td>637</td>\n",
       "      <td>441</td>\n",
       "      <td>417</td>\n",
       "      <td>...</td>\n",
       "      <td>3</td>\n",
       "      <td>3</td>\n",
       "      <td>3</td>\n",
       "      <td>3</td>\n",
       "      <td>3</td>\n",
       "      <td>3</td>\n",
       "      <td>2</td>\n",
       "      <td>2</td>\n",
       "      <td>2</td>\n",
       "      <td>2</td>\n",
       "    </tr>\n",
       "  </tbody>\n",
       "</table>\n",
       "<p>1 rows × 81 columns</p>\n",
       "</div>"
      ],
      "text/plain": [
       "     Id  LotArea  GrLivArea  BsmtUnfSF  1stFlrSF  TotalBsmtSF  SalePrice  \\\n",
       "0  1460     1073        861        780       753          721        663   \n",
       "\n",
       "   BsmtFinSF1  GarageArea  2ndFlrSF  ...  PavedDrive  GarageFinish  PoolQC  \\\n",
       "0         637         441       417  ...           3             3       3   \n",
       "\n",
       "   BsmtHalfBath  LandSlope  HalfBath  Street  CentralAir  Utilities  Alley  \n",
       "0             3          3         3       2           2          2      2  \n",
       "\n",
       "[1 rows x 81 columns]"
      ]
     },
     "execution_count": 4,
     "metadata": {},
     "output_type": "execute_result"
    }
   ],
   "source": [
    "print(\" CARDINALITY\")\n",
    "aux = pd.DataFrame(df_train_raw.nunique().sort_values(ascending = False))\n",
    "aux.T"
   ]
  },
  {
   "cell_type": "markdown",
   "id": "42842356",
   "metadata": {
    "papermill": {
     "duration": 0.009588,
     "end_time": "2025-01-10T23:32:42.912890",
     "exception": false,
     "start_time": "2025-01-10T23:32:42.903302",
     "status": "completed"
    },
    "tags": []
   },
   "source": [
    "We want to remove Id column as it will be unecessary for our inputs"
   ]
  },
  {
   "cell_type": "code",
   "execution_count": 5,
   "id": "4b3d20f1",
   "metadata": {
    "execution": {
     "iopub.execute_input": "2025-01-10T23:32:42.932653Z",
     "iopub.status.busy": "2025-01-10T23:32:42.931908Z",
     "iopub.status.idle": "2025-01-10T23:32:42.937281Z",
     "shell.execute_reply": "2025-01-10T23:32:42.936453Z"
    },
    "papermill": {
     "duration": 0.016846,
     "end_time": "2025-01-10T23:32:42.939087",
     "exception": false,
     "start_time": "2025-01-10T23:32:42.922241",
     "status": "completed"
    },
    "tags": []
   },
   "outputs": [
    {
     "data": {
      "text/plain": [
       "(1460, 81)"
      ]
     },
     "execution_count": 5,
     "metadata": {},
     "output_type": "execute_result"
    }
   ],
   "source": [
    "# Checking the (number of rows, number of columns)\n",
    "df_train_raw.shape"
   ]
  },
  {
   "cell_type": "markdown",
   "id": "cac75114",
   "metadata": {
    "papermill": {
     "duration": 0.008888,
     "end_time": "2025-01-10T23:32:42.956796",
     "exception": false,
     "start_time": "2025-01-10T23:32:42.947908",
     "status": "completed"
    },
    "tags": []
   },
   "source": [
    "# Statistical Hypotesis test's:"
   ]
  },
  {
   "cell_type": "markdown",
   "id": "60ef2bab",
   "metadata": {
    "papermill": {
     "duration": 0.008739,
     "end_time": "2025-01-10T23:32:42.975520",
     "exception": false,
     "start_time": "2025-01-10T23:32:42.966781",
     "status": "completed"
    },
    "tags": []
   },
   "source": [
    "## 1) Numerical: Distribution Tests\n",
    "\n",
    "\n",
    "\n",
    "1. **Shapiro-Wilk Test**: This test evaluates if a dataset comes from a normal distribution. A low p-value (typically less than 0.05) indicates that the data significantly deviates from normality. \n",
    "\n",
    "2. **D'Agostino Test**: This test checks for skewness and kurtosis to evaluate normality. Similar to the Shapiro-Wilk test, a low p-value indicates that the data is not normally distributed. Variables like \"LotFrontage\" have a p-value of 1, suggesting normality, while others like \"LotArea\" show extremely small p-values, signaling a departure from normality.\n",
    "\n",
    "This could influence the choice of statistical methods used for further analysis (parametric vs. non-parametric methods). In this notebook we contrast both methods"
   ]
  },
  {
   "cell_type": "code",
   "execution_count": 6,
   "id": "6899ef94",
   "metadata": {
    "execution": {
     "iopub.execute_input": "2025-01-10T23:32:42.994278Z",
     "iopub.status.busy": "2025-01-10T23:32:42.993721Z",
     "iopub.status.idle": "2025-01-10T23:32:43.055504Z",
     "shell.execute_reply": "2025-01-10T23:32:43.054604Z"
    },
    "papermill": {
     "duration": 0.072989,
     "end_time": "2025-01-10T23:32:43.057195",
     "exception": false,
     "start_time": "2025-01-10T23:32:42.984206",
     "status": "completed"
    },
    "tags": []
   },
   "outputs": [
    {
     "data": {
      "text/html": [
       "<div>\n",
       "<style scoped>\n",
       "    .dataframe tbody tr th:only-of-type {\n",
       "        vertical-align: middle;\n",
       "    }\n",
       "\n",
       "    .dataframe tbody tr th {\n",
       "        vertical-align: top;\n",
       "    }\n",
       "\n",
       "    .dataframe thead th {\n",
       "        text-align: right;\n",
       "    }\n",
       "</style>\n",
       "<table border=\"1\" class=\"dataframe\">\n",
       "  <thead>\n",
       "    <tr style=\"text-align: right;\">\n",
       "      <th></th>\n",
       "      <th>Feature</th>\n",
       "      <th>Shapiro-Wilk p-value</th>\n",
       "      <th>D'Agostino p-value</th>\n",
       "      <th>Shapiro Result</th>\n",
       "      <th>D'Agostino Result</th>\n",
       "    </tr>\n",
       "  </thead>\n",
       "  <tbody>\n",
       "    <tr>\n",
       "      <th>0</th>\n",
       "      <td>Id</td>\n",
       "      <td>7.979264e-21</td>\n",
       "      <td>5.132322e-247</td>\n",
       "      <td>Not Normal</td>\n",
       "      <td>Not Normal</td>\n",
       "    </tr>\n",
       "    <tr>\n",
       "      <th>1</th>\n",
       "      <td>MSSubClass</td>\n",
       "      <td>9.105929e-39</td>\n",
       "      <td>6.037486e-74</td>\n",
       "      <td>Not Normal</td>\n",
       "      <td>Not Normal</td>\n",
       "    </tr>\n",
       "    <tr>\n",
       "      <th>2</th>\n",
       "      <td>LotFrontage</td>\n",
       "      <td>1.000000e+00</td>\n",
       "      <td>NaN</td>\n",
       "      <td>Normal</td>\n",
       "      <td>Not Normal</td>\n",
       "    </tr>\n",
       "    <tr>\n",
       "      <th>3</th>\n",
       "      <td>LotArea</td>\n",
       "      <td>0.000000e+00</td>\n",
       "      <td>0.000000e+00</td>\n",
       "      <td>Not Normal</td>\n",
       "      <td>Not Normal</td>\n",
       "    </tr>\n",
       "    <tr>\n",
       "      <th>4</th>\n",
       "      <td>OverallQual</td>\n",
       "      <td>2.689927e-22</td>\n",
       "      <td>2.599901e-03</td>\n",
       "      <td>Not Normal</td>\n",
       "      <td>Not Normal</td>\n",
       "    </tr>\n",
       "    <tr>\n",
       "      <th>5</th>\n",
       "      <td>OverallCond</td>\n",
       "      <td>6.778476e-37</td>\n",
       "      <td>3.092807e-29</td>\n",
       "      <td>Not Normal</td>\n",
       "      <td>Not Normal</td>\n",
       "    </tr>\n",
       "    <tr>\n",
       "      <th>6</th>\n",
       "      <td>YearBuilt</td>\n",
       "      <td>2.770050e-26</td>\n",
       "      <td>4.440905e-22</td>\n",
       "      <td>Not Normal</td>\n",
       "      <td>Not Normal</td>\n",
       "    </tr>\n",
       "    <tr>\n",
       "      <th>7</th>\n",
       "      <td>YearRemodAdd</td>\n",
       "      <td>6.725454e-34</td>\n",
       "      <td>0.000000e+00</td>\n",
       "      <td>Not Normal</td>\n",
       "      <td>Not Normal</td>\n",
       "    </tr>\n",
       "    <tr>\n",
       "      <th>8</th>\n",
       "      <td>MasVnrArea</td>\n",
       "      <td>1.000000e+00</td>\n",
       "      <td>NaN</td>\n",
       "      <td>Normal</td>\n",
       "      <td>Not Normal</td>\n",
       "    </tr>\n",
       "    <tr>\n",
       "      <th>9</th>\n",
       "      <td>BsmtFinSF1</td>\n",
       "      <td>2.814012e-35</td>\n",
       "      <td>2.499388e-139</td>\n",
       "      <td>Not Normal</td>\n",
       "      <td>Not Normal</td>\n",
       "    </tr>\n",
       "    <tr>\n",
       "      <th>10</th>\n",
       "      <td>BsmtFinSF2</td>\n",
       "      <td>0.000000e+00</td>\n",
       "      <td>2.723649e-280</td>\n",
       "      <td>Not Normal</td>\n",
       "      <td>Not Normal</td>\n",
       "    </tr>\n",
       "    <tr>\n",
       "      <th>11</th>\n",
       "      <td>BsmtUnfSF</td>\n",
       "      <td>1.641128e-25</td>\n",
       "      <td>2.914870e-36</td>\n",
       "      <td>Not Normal</td>\n",
       "      <td>Not Normal</td>\n",
       "    </tr>\n",
       "    <tr>\n",
       "      <th>12</th>\n",
       "      <td>TotalBsmtSF</td>\n",
       "      <td>1.611658e-27</td>\n",
       "      <td>5.496002e-136</td>\n",
       "      <td>Not Normal</td>\n",
       "      <td>Not Normal</td>\n",
       "    </tr>\n",
       "    <tr>\n",
       "      <th>13</th>\n",
       "      <td>1stFlrSF</td>\n",
       "      <td>4.517706e-26</td>\n",
       "      <td>7.828130e-101</td>\n",
       "      <td>Not Normal</td>\n",
       "      <td>Not Normal</td>\n",
       "    </tr>\n",
       "    <tr>\n",
       "      <th>14</th>\n",
       "      <td>2ndFlrSF</td>\n",
       "      <td>2.515050e-41</td>\n",
       "      <td>3.750464e-36</td>\n",
       "      <td>Not Normal</td>\n",
       "      <td>Not Normal</td>\n",
       "    </tr>\n",
       "    <tr>\n",
       "      <th>15</th>\n",
       "      <td>LowQualFinSF</td>\n",
       "      <td>0.000000e+00</td>\n",
       "      <td>0.000000e+00</td>\n",
       "      <td>Not Normal</td>\n",
       "      <td>Not Normal</td>\n",
       "    </tr>\n",
       "    <tr>\n",
       "      <th>16</th>\n",
       "      <td>GrLivArea</td>\n",
       "      <td>6.598091e-26</td>\n",
       "      <td>1.203767e-95</td>\n",
       "      <td>Not Normal</td>\n",
       "      <td>Not Normal</td>\n",
       "    </tr>\n",
       "    <tr>\n",
       "      <th>17</th>\n",
       "      <td>BsmtFullBath</td>\n",
       "      <td>0.000000e+00</td>\n",
       "      <td>1.317709e-48</td>\n",
       "      <td>Not Normal</td>\n",
       "      <td>Not Normal</td>\n",
       "    </tr>\n",
       "    <tr>\n",
       "      <th>18</th>\n",
       "      <td>BsmtHalfBath</td>\n",
       "      <td>0.000000e+00</td>\n",
       "      <td>1.841262e-267</td>\n",
       "      <td>Not Normal</td>\n",
       "      <td>Not Normal</td>\n",
       "    </tr>\n",
       "    <tr>\n",
       "      <th>19</th>\n",
       "      <td>FullBath</td>\n",
       "      <td>4.203895e-44</td>\n",
       "      <td>3.740153e-35</td>\n",
       "      <td>Not Normal</td>\n",
       "      <td>Not Normal</td>\n",
       "    </tr>\n",
       "    <tr>\n",
       "      <th>20</th>\n",
       "      <td>HalfBath</td>\n",
       "      <td>0.000000e+00</td>\n",
       "      <td>4.539182e-127</td>\n",
       "      <td>Not Normal</td>\n",
       "      <td>Not Normal</td>\n",
       "    </tr>\n",
       "    <tr>\n",
       "      <th>21</th>\n",
       "      <td>BedroomAbvGr</td>\n",
       "      <td>4.109563e-35</td>\n",
       "      <td>2.476569e-20</td>\n",
       "      <td>Not Normal</td>\n",
       "      <td>Not Normal</td>\n",
       "    </tr>\n",
       "    <tr>\n",
       "      <th>22</th>\n",
       "      <td>KitchenAbvGr</td>\n",
       "      <td>0.000000e+00</td>\n",
       "      <td>1.529718e-291</td>\n",
       "      <td>Not Normal</td>\n",
       "      <td>Not Normal</td>\n",
       "    </tr>\n",
       "    <tr>\n",
       "      <th>23</th>\n",
       "      <td>TotRmsAbvGrd</td>\n",
       "      <td>2.004926e-23</td>\n",
       "      <td>2.221005e-26</td>\n",
       "      <td>Not Normal</td>\n",
       "      <td>Not Normal</td>\n",
       "    </tr>\n",
       "    <tr>\n",
       "      <th>24</th>\n",
       "      <td>Fireplaces</td>\n",
       "      <td>4.833078e-42</td>\n",
       "      <td>2.110475e-20</td>\n",
       "      <td>Not Normal</td>\n",
       "      <td>Not Normal</td>\n",
       "    </tr>\n",
       "    <tr>\n",
       "      <th>25</th>\n",
       "      <td>GarageYrBlt</td>\n",
       "      <td>1.000000e+00</td>\n",
       "      <td>NaN</td>\n",
       "      <td>Normal</td>\n",
       "      <td>Not Normal</td>\n",
       "    </tr>\n",
       "    <tr>\n",
       "      <th>26</th>\n",
       "      <td>GarageCars</td>\n",
       "      <td>2.305242e-36</td>\n",
       "      <td>3.175486e-07</td>\n",
       "      <td>Not Normal</td>\n",
       "      <td>Not Normal</td>\n",
       "    </tr>\n",
       "    <tr>\n",
       "      <th>27</th>\n",
       "      <td>GarageArea</td>\n",
       "      <td>4.018699e-15</td>\n",
       "      <td>4.055158e-08</td>\n",
       "      <td>Not Normal</td>\n",
       "      <td>Not Normal</td>\n",
       "    </tr>\n",
       "    <tr>\n",
       "      <th>28</th>\n",
       "      <td>WoodDeckSF</td>\n",
       "      <td>3.228311e-41</td>\n",
       "      <td>2.736802e-93</td>\n",
       "      <td>Not Normal</td>\n",
       "      <td>Not Normal</td>\n",
       "    </tr>\n",
       "    <tr>\n",
       "      <th>29</th>\n",
       "      <td>OpenPorchSF</td>\n",
       "      <td>1.135052e-43</td>\n",
       "      <td>3.843130e-167</td>\n",
       "      <td>Not Normal</td>\n",
       "      <td>Not Normal</td>\n",
       "    </tr>\n",
       "    <tr>\n",
       "      <th>30</th>\n",
       "      <td>EnclosedPorch</td>\n",
       "      <td>0.000000e+00</td>\n",
       "      <td>4.781781e-209</td>\n",
       "      <td>Not Normal</td>\n",
       "      <td>Not Normal</td>\n",
       "    </tr>\n",
       "    <tr>\n",
       "      <th>31</th>\n",
       "      <td>3SsnPorch</td>\n",
       "      <td>0.000000e+00</td>\n",
       "      <td>0.000000e+00</td>\n",
       "      <td>Not Normal</td>\n",
       "      <td>Not Normal</td>\n",
       "    </tr>\n",
       "    <tr>\n",
       "      <th>32</th>\n",
       "      <td>ScreenPorch</td>\n",
       "      <td>0.000000e+00</td>\n",
       "      <td>3.840378e-272</td>\n",
       "      <td>Not Normal</td>\n",
       "      <td>Not Normal</td>\n",
       "    </tr>\n",
       "    <tr>\n",
       "      <th>33</th>\n",
       "      <td>PoolArea</td>\n",
       "      <td>0.000000e+00</td>\n",
       "      <td>0.000000e+00</td>\n",
       "      <td>Not Normal</td>\n",
       "      <td>Not Normal</td>\n",
       "    </tr>\n",
       "    <tr>\n",
       "      <th>34</th>\n",
       "      <td>MiscVal</td>\n",
       "      <td>0.000000e+00</td>\n",
       "      <td>0.000000e+00</td>\n",
       "      <td>Not Normal</td>\n",
       "      <td>Not Normal</td>\n",
       "    </tr>\n",
       "    <tr>\n",
       "      <th>35</th>\n",
       "      <td>MoSold</td>\n",
       "      <td>3.190920e-17</td>\n",
       "      <td>1.932416e-06</td>\n",
       "      <td>Not Normal</td>\n",
       "      <td>Not Normal</td>\n",
       "    </tr>\n",
       "    <tr>\n",
       "      <th>36</th>\n",
       "      <td>YrSold</td>\n",
       "      <td>3.419013e-30</td>\n",
       "      <td>3.951160e-229</td>\n",
       "      <td>Not Normal</td>\n",
       "      <td>Not Normal</td>\n",
       "    </tr>\n",
       "    <tr>\n",
       "      <th>37</th>\n",
       "      <td>SalePrice</td>\n",
       "      <td>3.206248e-33</td>\n",
       "      <td>2.283848e-133</td>\n",
       "      <td>Not Normal</td>\n",
       "      <td>Not Normal</td>\n",
       "    </tr>\n",
       "  </tbody>\n",
       "</table>\n",
       "</div>"
      ],
      "text/plain": [
       "          Feature  Shapiro-Wilk p-value  D'Agostino p-value Shapiro Result  \\\n",
       "0              Id          7.979264e-21       5.132322e-247     Not Normal   \n",
       "1      MSSubClass          9.105929e-39        6.037486e-74     Not Normal   \n",
       "2     LotFrontage          1.000000e+00                 NaN         Normal   \n",
       "3         LotArea          0.000000e+00        0.000000e+00     Not Normal   \n",
       "4     OverallQual          2.689927e-22        2.599901e-03     Not Normal   \n",
       "5     OverallCond          6.778476e-37        3.092807e-29     Not Normal   \n",
       "6       YearBuilt          2.770050e-26        4.440905e-22     Not Normal   \n",
       "7    YearRemodAdd          6.725454e-34        0.000000e+00     Not Normal   \n",
       "8      MasVnrArea          1.000000e+00                 NaN         Normal   \n",
       "9      BsmtFinSF1          2.814012e-35       2.499388e-139     Not Normal   \n",
       "10     BsmtFinSF2          0.000000e+00       2.723649e-280     Not Normal   \n",
       "11      BsmtUnfSF          1.641128e-25        2.914870e-36     Not Normal   \n",
       "12    TotalBsmtSF          1.611658e-27       5.496002e-136     Not Normal   \n",
       "13       1stFlrSF          4.517706e-26       7.828130e-101     Not Normal   \n",
       "14       2ndFlrSF          2.515050e-41        3.750464e-36     Not Normal   \n",
       "15   LowQualFinSF          0.000000e+00        0.000000e+00     Not Normal   \n",
       "16      GrLivArea          6.598091e-26        1.203767e-95     Not Normal   \n",
       "17   BsmtFullBath          0.000000e+00        1.317709e-48     Not Normal   \n",
       "18   BsmtHalfBath          0.000000e+00       1.841262e-267     Not Normal   \n",
       "19       FullBath          4.203895e-44        3.740153e-35     Not Normal   \n",
       "20       HalfBath          0.000000e+00       4.539182e-127     Not Normal   \n",
       "21   BedroomAbvGr          4.109563e-35        2.476569e-20     Not Normal   \n",
       "22   KitchenAbvGr          0.000000e+00       1.529718e-291     Not Normal   \n",
       "23   TotRmsAbvGrd          2.004926e-23        2.221005e-26     Not Normal   \n",
       "24     Fireplaces          4.833078e-42        2.110475e-20     Not Normal   \n",
       "25    GarageYrBlt          1.000000e+00                 NaN         Normal   \n",
       "26     GarageCars          2.305242e-36        3.175486e-07     Not Normal   \n",
       "27     GarageArea          4.018699e-15        4.055158e-08     Not Normal   \n",
       "28     WoodDeckSF          3.228311e-41        2.736802e-93     Not Normal   \n",
       "29    OpenPorchSF          1.135052e-43       3.843130e-167     Not Normal   \n",
       "30  EnclosedPorch          0.000000e+00       4.781781e-209     Not Normal   \n",
       "31      3SsnPorch          0.000000e+00        0.000000e+00     Not Normal   \n",
       "32    ScreenPorch          0.000000e+00       3.840378e-272     Not Normal   \n",
       "33       PoolArea          0.000000e+00        0.000000e+00     Not Normal   \n",
       "34        MiscVal          0.000000e+00        0.000000e+00     Not Normal   \n",
       "35         MoSold          3.190920e-17        1.932416e-06     Not Normal   \n",
       "36         YrSold          3.419013e-30       3.951160e-229     Not Normal   \n",
       "37      SalePrice          3.206248e-33       2.283848e-133     Not Normal   \n",
       "\n",
       "   D'Agostino Result  \n",
       "0         Not Normal  \n",
       "1         Not Normal  \n",
       "2         Not Normal  \n",
       "3         Not Normal  \n",
       "4         Not Normal  \n",
       "5         Not Normal  \n",
       "6         Not Normal  \n",
       "7         Not Normal  \n",
       "8         Not Normal  \n",
       "9         Not Normal  \n",
       "10        Not Normal  \n",
       "11        Not Normal  \n",
       "12        Not Normal  \n",
       "13        Not Normal  \n",
       "14        Not Normal  \n",
       "15        Not Normal  \n",
       "16        Not Normal  \n",
       "17        Not Normal  \n",
       "18        Not Normal  \n",
       "19        Not Normal  \n",
       "20        Not Normal  \n",
       "21        Not Normal  \n",
       "22        Not Normal  \n",
       "23        Not Normal  \n",
       "24        Not Normal  \n",
       "25        Not Normal  \n",
       "26        Not Normal  \n",
       "27        Not Normal  \n",
       "28        Not Normal  \n",
       "29        Not Normal  \n",
       "30        Not Normal  \n",
       "31        Not Normal  \n",
       "32        Not Normal  \n",
       "33        Not Normal  \n",
       "34        Not Normal  \n",
       "35        Not Normal  \n",
       "36        Not Normal  \n",
       "37        Not Normal  "
      ]
     },
     "metadata": {},
     "output_type": "display_data"
    }
   ],
   "source": [
    "import pandas as pd\n",
    "import numpy as np\n",
    "from scipy.stats import shapiro, normaltest\n",
    "\n",
    "\n",
    "def norm_test(df):\n",
    "    \n",
    "    # Filtrar solo las columnas numéricas\n",
    "    numerical_features = df.select_dtypes(include=[np.number])\n",
    "    \n",
    "    # Realizar tests de normalidad para cada característica numérica\n",
    "    results = []\n",
    "    \n",
    "    for column in numerical_features.columns:\n",
    "        data = df[column]\n",
    "        \n",
    "        # Shapiro-Wilk Test\n",
    "        stat_shapiro, p_shapiro = shapiro(data)\n",
    "        \n",
    "        # D'Agostino's K-squared Test\n",
    "        stat_dagostino, p_dagostino = normaltest(data)\n",
    "        \n",
    "        results.append({\n",
    "            \"Feature\": column,\n",
    "            \"Shapiro-Wilk p-value\": p_shapiro,\n",
    "            \"D'Agostino p-value\": p_dagostino,\n",
    "            \"Shapiro Result\": \"Normal\" if p_shapiro > 0.05 else \"Not Normal\",\n",
    "            \"D'Agostino Result\": \"Normal\" if p_dagostino > 0.05 else \"Not Normal\"\n",
    "        })\n",
    "    \n",
    "    # Crear un DataFrame con los resultados\n",
    "    results_df = pd.DataFrame(results)\n",
    "    \n",
    "    # Mostrar los resultados\n",
    "    display(results_df)\n",
    "\n",
    "norm_test(df_train_raw)\n"
   ]
  },
  {
   "cell_type": "code",
   "execution_count": 7,
   "id": "b34fb843",
   "metadata": {
    "execution": {
     "iopub.execute_input": "2025-01-10T23:32:43.077037Z",
     "iopub.status.busy": "2025-01-10T23:32:43.076808Z",
     "iopub.status.idle": "2025-01-10T23:32:43.080608Z",
     "shell.execute_reply": "2025-01-10T23:32:43.079810Z"
    },
    "papermill": {
     "duration": 0.015846,
     "end_time": "2025-01-10T23:32:43.082393",
     "exception": false,
     "start_time": "2025-01-10T23:32:43.066547",
     "status": "completed"
    },
    "tags": []
   },
   "outputs": [],
   "source": [
    "# def histPlots(df):\n",
    "#     train = df\n",
    "#     num_columns = 3 \n",
    "#     num_rows = len(train.columns) // num_columns + (1 if len(train.columns) % num_columns != 0 else 0)\n",
    "    \n",
    "#     fig, axes = plt.subplots(num_rows, num_columns, figsize=(15, num_rows * 5))\n",
    "    \n",
    "    \n",
    "#     axes = axes.flatten()\n",
    "    \n",
    "    \n",
    "#     for i, col in enumerate(train.select_dtypes(include=['float64', 'int64']).columns):\n",
    "#         train[col].hist(ax=axes[i], bins=30)\n",
    "#         axes[i].set_title(f'Histogram of {col}')\n",
    "#         axes[i].set_xlabel(col)\n",
    "#         axes[i].set_ylabel('Frec')\n",
    "    \n",
    "#     for j in range(i + 1, len(axes)):\n",
    "#         fig.delaxes(axes[j])\n",
    "    \n",
    "#     plt.tight_layout()\n",
    "#     plt.show()\n",
    "\n",
    "# histPlots(df_train_raw)"
   ]
  },
  {
   "cell_type": "markdown",
   "id": "24b9b859",
   "metadata": {
    "papermill": {
     "duration": 0.008697,
     "end_time": "2025-01-10T23:32:43.100153",
     "exception": false,
     "start_time": "2025-01-10T23:32:43.091456",
     "status": "completed"
    },
    "tags": []
   },
   "source": [
    "Most of our features are not normal, so we will have to normalize them.\n",
    "\n",
    "\n",
    "# Target: Visual Analysis"
   ]
  },
  {
   "cell_type": "code",
   "execution_count": 8,
   "id": "f6f6ad4d",
   "metadata": {
    "execution": {
     "iopub.execute_input": "2025-01-10T23:32:43.118847Z",
     "iopub.status.busy": "2025-01-10T23:32:43.118578Z",
     "iopub.status.idle": "2025-01-10T23:32:43.833785Z",
     "shell.execute_reply": "2025-01-10T23:32:43.832795Z"
    },
    "papermill": {
     "duration": 0.727048,
     "end_time": "2025-01-10T23:32:43.836079",
     "exception": false,
     "start_time": "2025-01-10T23:32:43.109031",
     "status": "completed"
    },
    "tags": []
   },
   "outputs": [
    {
     "name": "stderr",
     "output_type": "stream",
     "text": [
      "/opt/conda/lib/python3.7/site-packages/seaborn/distributions.py:2619: FutureWarning: `distplot` is a deprecated function and will be removed in a future version. Please adapt your code to use either `displot` (a figure-level function with similar flexibility) or `histplot` (an axes-level function for histograms).\n",
      "  warnings.warn(msg, FutureWarning)\n",
      "/opt/conda/lib/python3.7/site-packages/seaborn/_decorators.py:43: FutureWarning: Pass the following variable as a keyword arg: x. From version 0.12, the only valid positional argument will be `data`, and passing other arguments without an explicit keyword will result in an error or misinterpretation.\n",
      "  FutureWarning\n"
     ]
    },
    {
     "data": {
      "image/png": "[encoded data removed]",
      "text/plain": [
       "<Figure size 864x576 with 3 Axes>"
      ]
     },
     "metadata": {},
     "output_type": "display_data"
    }
   ],
   "source": [
    "def plotting_3_chart(df, feature):\n",
    "    ## Importing seaborn, matplotlib and scipy modules. \n",
    "    import seaborn as sns\n",
    "    import matplotlib.pyplot as plt\n",
    "    import matplotlib.gridspec as gridspec\n",
    "    from scipy import stats\n",
    "    import matplotlib.style as style\n",
    "    style.use('fivethirtyeight')\n",
    "\n",
    "    ## Creating a customized chart and setting the figsize.\n",
    "    fig = plt.figure(constrained_layout=True, figsize=(12,8))\n",
    "    ## Creating a grid with 3 columns and 3 rows. \n",
    "    grid = gridspec.GridSpec(ncols=3, nrows=3, figure=fig)\n",
    "\n",
    "    ## Customizing the histogram grid. \n",
    "    ax1 = fig.add_subplot(grid[0, :2])\n",
    "    ax1.set_title('Histogram')\n",
    "    sns.distplot(df.loc[:, feature], norm_hist=True, ax=ax1)\n",
    "\n",
    "    ## Customizing the QQ plot.\n",
    "    ax2 = fig.add_subplot(grid[2, :2])\n",
    "    ax2.set_title('QQ Plot')\n",
    "    stats.probplot(df.loc[:, feature], plot=ax2)\n",
    "\n",
    "    ## Customizing the Box Plot.\n",
    "    ax3 = fig.add_subplot(grid[1, :2])  # Move this to the last row\n",
    "    ax3.set_title('Box Plot')\n",
    "    sns.boxplot(df.loc[:, feature], ax=ax3)\n",
    "\n",
    "# Call the function\n",
    "plotting_3_chart(df_train_raw, 'SalePrice')\n"
   ]
  },
  {
   "cell_type": "markdown",
   "id": "9305795d",
   "metadata": {
    "papermill": {
     "duration": 0.011191,
     "end_time": "2025-01-10T23:32:43.858901",
     "exception": false,
     "start_time": "2025-01-10T23:32:43.847710",
     "status": "completed"
    },
    "tags": []
   },
   "source": [
    "The label is positively skewed and is very high in value, therefore we will use log to scale down the label later"
   ]
  },
  {
   "cell_type": "markdown",
   "id": "d4e3226f",
   "metadata": {
    "papermill": {
     "duration": 0.010715,
     "end_time": "2025-01-10T23:32:43.880691",
     "exception": false,
     "start_time": "2025-01-10T23:32:43.869976",
     "status": "completed"
    },
    "tags": []
   },
   "source": [
    "# Missing"
   ]
  },
  {
   "cell_type": "code",
   "execution_count": 9,
   "id": "a3a10022",
   "metadata": {
    "execution": {
     "iopub.execute_input": "2025-01-10T23:32:43.904219Z",
     "iopub.status.busy": "2025-01-10T23:32:43.903108Z",
     "iopub.status.idle": "2025-01-10T23:32:44.604581Z",
     "shell.execute_reply": "2025-01-10T23:32:44.603698Z"
    },
    "papermill": {
     "duration": 0.715141,
     "end_time": "2025-01-10T23:32:44.606440",
     "exception": false,
     "start_time": "2025-01-10T23:32:43.891299",
     "status": "completed"
    },
    "tags": []
   },
   "outputs": [
    {
     "data": {
      "text/plain": [
       "<AxesSubplot:>"
      ]
     },
     "execution_count": 9,
     "metadata": {},
     "output_type": "execute_result"
    },
    {
     "data": {
      "image/png": "[encoded data removed]",
      "text/plain": [
       "<Figure size 1800x720 with 2 Axes>"
      ]
     },
     "metadata": {},
     "output_type": "display_data"
    }
   ],
   "source": [
    "# Check missing values\n",
    "msno.matrix(df_train_raw)"
   ]
  },
  {
   "cell_type": "markdown",
   "id": "2c50b65f",
   "metadata": {
    "papermill": {
     "duration": 0.010434,
     "end_time": "2025-01-10T23:32:44.627827",
     "exception": false,
     "start_time": "2025-01-10T23:32:44.617393",
     "status": "completed"
    },
    "tags": []
   },
   "source": [
    "The white space idicate missing value, and we can see that we have quite a lot of missing value. We will deal this by using imputation for quantitative value and by adding a NA column for qualitative value"
   ]
  },
  {
   "cell_type": "code",
   "execution_count": 10,
   "id": "83c7f38b",
   "metadata": {
    "execution": {
     "iopub.execute_input": "2025-01-10T23:32:44.650807Z",
     "iopub.status.busy": "2025-01-10T23:32:44.650462Z",
     "iopub.status.idle": "2025-01-10T23:32:44.690792Z",
     "shell.execute_reply": "2025-01-10T23:32:44.689919Z"
    },
    "papermill": {
     "duration": 0.054503,
     "end_time": "2025-01-10T23:32:44.692898",
     "exception": false,
     "start_time": "2025-01-10T23:32:44.638395",
     "status": "completed"
    },
    "tags": []
   },
   "outputs": [
    {
     "data": {
      "text/html": [
       "<div>\n",
       "<style scoped>\n",
       "    .dataframe tbody tr th:only-of-type {\n",
       "        vertical-align: middle;\n",
       "    }\n",
       "\n",
       "    .dataframe tbody tr th {\n",
       "        vertical-align: top;\n",
       "    }\n",
       "\n",
       "    .dataframe thead th {\n",
       "        text-align: right;\n",
       "    }\n",
       "</style>\n",
       "<table border=\"1\" class=\"dataframe\">\n",
       "  <thead>\n",
       "    <tr style=\"text-align: right;\">\n",
       "      <th></th>\n",
       "      <th>PoolQC</th>\n",
       "      <th>MiscFeature</th>\n",
       "      <th>Alley</th>\n",
       "      <th>Fence</th>\n",
       "      <th>FireplaceQu</th>\n",
       "      <th>LotFrontage</th>\n",
       "      <th>GarageYrBlt</th>\n",
       "      <th>GarageCond</th>\n",
       "      <th>GarageType</th>\n",
       "      <th>GarageFinish</th>\n",
       "      <th>GarageQual</th>\n",
       "      <th>BsmtFinType2</th>\n",
       "      <th>BsmtExposure</th>\n",
       "      <th>BsmtQual</th>\n",
       "      <th>BsmtCond</th>\n",
       "      <th>BsmtFinType1</th>\n",
       "      <th>MasVnrArea</th>\n",
       "      <th>MasVnrType</th>\n",
       "      <th>Electrical</th>\n",
       "    </tr>\n",
       "  </thead>\n",
       "  <tbody>\n",
       "    <tr>\n",
       "      <th>Total</th>\n",
       "      <td>1453.00</td>\n",
       "      <td>1406.0</td>\n",
       "      <td>1369.00</td>\n",
       "      <td>1179.00</td>\n",
       "      <td>690.00</td>\n",
       "      <td>259.00</td>\n",
       "      <td>81.00</td>\n",
       "      <td>81.00</td>\n",
       "      <td>81.00</td>\n",
       "      <td>81.00</td>\n",
       "      <td>81.00</td>\n",
       "      <td>38.0</td>\n",
       "      <td>38.0</td>\n",
       "      <td>37.00</td>\n",
       "      <td>37.00</td>\n",
       "      <td>37.00</td>\n",
       "      <td>8.00</td>\n",
       "      <td>8.00</td>\n",
       "      <td>1.00</td>\n",
       "    </tr>\n",
       "    <tr>\n",
       "      <th>Percent</th>\n",
       "      <td>99.52</td>\n",
       "      <td>96.3</td>\n",
       "      <td>93.77</td>\n",
       "      <td>80.75</td>\n",
       "      <td>47.26</td>\n",
       "      <td>17.74</td>\n",
       "      <td>5.55</td>\n",
       "      <td>5.55</td>\n",
       "      <td>5.55</td>\n",
       "      <td>5.55</td>\n",
       "      <td>5.55</td>\n",
       "      <td>2.6</td>\n",
       "      <td>2.6</td>\n",
       "      <td>2.53</td>\n",
       "      <td>2.53</td>\n",
       "      <td>2.53</td>\n",
       "      <td>0.55</td>\n",
       "      <td>0.55</td>\n",
       "      <td>0.07</td>\n",
       "    </tr>\n",
       "  </tbody>\n",
       "</table>\n",
       "</div>"
      ],
      "text/plain": [
       "          PoolQC  MiscFeature    Alley    Fence  FireplaceQu  LotFrontage  \\\n",
       "Total    1453.00       1406.0  1369.00  1179.00       690.00       259.00   \n",
       "Percent    99.52         96.3    93.77    80.75        47.26        17.74   \n",
       "\n",
       "         GarageYrBlt  GarageCond  GarageType  GarageFinish  GarageQual  \\\n",
       "Total          81.00       81.00       81.00         81.00       81.00   \n",
       "Percent         5.55        5.55        5.55          5.55        5.55   \n",
       "\n",
       "         BsmtFinType2  BsmtExposure  BsmtQual  BsmtCond  BsmtFinType1  \\\n",
       "Total            38.0          38.0     37.00     37.00         37.00   \n",
       "Percent           2.6           2.6      2.53      2.53          2.53   \n",
       "\n",
       "         MasVnrArea  MasVnrType  Electrical  \n",
       "Total          8.00        8.00        1.00  \n",
       "Percent        0.55        0.55        0.07  "
      ]
     },
     "execution_count": 10,
     "metadata": {},
     "output_type": "execute_result"
    }
   ],
   "source": [
    "def missing_percentage(df):\n",
    "    \"\"\"This function takes a DataFrame(df) as input and returns two columns, total missing values and total missing values percentage\"\"\"\n",
    "    ## the two following line may seem complicated but its actually very simple. \n",
    "    total = df.isnull().sum().sort_values(ascending = False)[df.isnull().sum().sort_values(ascending = False) != 0]\n",
    "    percent = round(df.isnull().sum().sort_values(ascending = False)/len(df)*100,2)[round(df.isnull().sum().sort_values(ascending = False)/len(df)*100,2) != 0]\n",
    "    return pd.concat([total, percent], axis=1, keys=['Total','Percent'])\n",
    "\n",
    "missing_percentage(df_train_raw).T# train"
   ]
  },
  {
   "cell_type": "markdown",
   "id": "d17d516b",
   "metadata": {
    "papermill": {
     "duration": 0.011212,
     "end_time": "2025-01-10T23:32:44.716497",
     "exception": false,
     "start_time": "2025-01-10T23:32:44.705285",
     "status": "completed"
    },
    "tags": []
   },
   "source": [
    "# Tests for relationships between variables\n",
    "\n",
    "## Numericals: Spearman Correlation"
   ]
  },
  {
   "cell_type": "code",
   "execution_count": 11,
   "id": "e6429df4",
   "metadata": {
    "execution": {
     "iopub.execute_input": "2025-01-10T23:32:44.740988Z",
     "iopub.status.busy": "2025-01-10T23:32:44.740643Z",
     "iopub.status.idle": "2025-01-10T23:32:44.809015Z",
     "shell.execute_reply": "2025-01-10T23:32:44.808063Z"
    },
    "papermill": {
     "duration": 0.083045,
     "end_time": "2025-01-10T23:32:44.810861",
     "exception": false,
     "start_time": "2025-01-10T23:32:44.727816",
     "status": "completed"
    },
    "tags": []
   },
   "outputs": [
    {
     "data": {
      "text/html": [
       "<div>\n",
       "<style scoped>\n",
       "    .dataframe tbody tr th:only-of-type {\n",
       "        vertical-align: middle;\n",
       "    }\n",
       "\n",
       "    .dataframe tbody tr th {\n",
       "        vertical-align: top;\n",
       "    }\n",
       "\n",
       "    .dataframe thead th {\n",
       "        text-align: right;\n",
       "    }\n",
       "</style>\n",
       "<table border=\"1\" class=\"dataframe\">\n",
       "  <thead>\n",
       "    <tr style=\"text-align: right;\">\n",
       "      <th></th>\n",
       "      <th>OverallQual</th>\n",
       "      <th>GrLivArea</th>\n",
       "      <th>YearBuilt</th>\n",
       "      <th>GarageCars</th>\n",
       "      <th>FullBath</th>\n",
       "      <th>GarageArea</th>\n",
       "      <th>GarageYrBlt</th>\n",
       "      <th>TotalBsmtSF</th>\n",
       "      <th>YearRemodAdd</th>\n",
       "      <th>1stFlrSF</th>\n",
       "      <th>...</th>\n",
       "      <th>MSSubClass</th>\n",
       "      <th>YrSold</th>\n",
       "      <th>BsmtHalfBath</th>\n",
       "      <th>Id</th>\n",
       "      <th>LowQualFinSF</th>\n",
       "      <th>BsmtFinSF2</th>\n",
       "      <th>MiscVal</th>\n",
       "      <th>OverallCond</th>\n",
       "      <th>KitchenAbvGr</th>\n",
       "      <th>EnclosedPorch</th>\n",
       "    </tr>\n",
       "  </thead>\n",
       "  <tbody>\n",
       "    <tr>\n",
       "      <th>correlation</th>\n",
       "      <td>0.827108</td>\n",
       "      <td>0.724977</td>\n",
       "      <td>0.670198</td>\n",
       "      <td>0.668072</td>\n",
       "      <td>0.651158</td>\n",
       "      <td>0.631303</td>\n",
       "      <td>0.626219</td>\n",
       "      <td>0.618298</td>\n",
       "      <td>0.617311</td>\n",
       "      <td>0.58293</td>\n",
       "      <td>...</td>\n",
       "      <td>-0.006463</td>\n",
       "      <td>-0.01765</td>\n",
       "      <td>-0.03940</td>\n",
       "      <td>-0.041634</td>\n",
       "      <td>-0.05342</td>\n",
       "      <td>-0.076098</td>\n",
       "      <td>-0.091906</td>\n",
       "      <td>-0.174955</td>\n",
       "      <td>-0.176453</td>\n",
       "      <td>-0.241362</td>\n",
       "    </tr>\n",
       "    <tr>\n",
       "      <th>p_value</th>\n",
       "      <td>0.000000</td>\n",
       "      <td>0.000000</td>\n",
       "      <td>0.000000</td>\n",
       "      <td>0.000000</td>\n",
       "      <td>0.000000</td>\n",
       "      <td>0.000000</td>\n",
       "      <td>0.000000</td>\n",
       "      <td>0.000000</td>\n",
       "      <td>0.000000</td>\n",
       "      <td>0.00000</td>\n",
       "      <td>...</td>\n",
       "      <td>0.828870</td>\n",
       "      <td>0.55496</td>\n",
       "      <td>0.18743</td>\n",
       "      <td>0.163620</td>\n",
       "      <td>0.07380</td>\n",
       "      <td>0.010810</td>\n",
       "      <td>0.002070</td>\n",
       "      <td>0.000000</td>\n",
       "      <td>0.000000</td>\n",
       "      <td>0.000000</td>\n",
       "    </tr>\n",
       "  </tbody>\n",
       "</table>\n",
       "<p>2 rows × 37 columns</p>\n",
       "</div>"
      ],
      "text/plain": [
       "             OverallQual  GrLivArea  YearBuilt  GarageCars  FullBath  \\\n",
       "correlation     0.827108   0.724977   0.670198    0.668072  0.651158   \n",
       "p_value         0.000000   0.000000   0.000000    0.000000  0.000000   \n",
       "\n",
       "             GarageArea  GarageYrBlt  TotalBsmtSF  YearRemodAdd  1stFlrSF  \\\n",
       "correlation    0.631303     0.626219     0.618298      0.617311   0.58293   \n",
       "p_value        0.000000     0.000000     0.000000      0.000000   0.00000   \n",
       "\n",
       "             ...  MSSubClass   YrSold  BsmtHalfBath        Id  LowQualFinSF  \\\n",
       "correlation  ...   -0.006463 -0.01765      -0.03940 -0.041634      -0.05342   \n",
       "p_value      ...    0.828870  0.55496       0.18743  0.163620       0.07380   \n",
       "\n",
       "             BsmtFinSF2   MiscVal  OverallCond  KitchenAbvGr  EnclosedPorch  \n",
       "correlation   -0.076098 -0.091906    -0.174955     -0.176453      -0.241362  \n",
       "p_value        0.010810  0.002070     0.000000      0.000000       0.000000  \n",
       "\n",
       "[2 rows x 37 columns]"
      ]
     },
     "execution_count": 11,
     "metadata": {},
     "output_type": "execute_result"
    }
   ],
   "source": [
    "from scipy.stats import spearmanr\n",
    "\n",
    "def spearman_corr(df: pd.DataFrame, target: str) -> pd.DataFrame:\n",
    "\n",
    "    test_num_list = []\n",
    "    test_num_cols = []\n",
    "    num_cols = df.select_dtypes(include=['int64', 'float64']).columns.drop(target)\n",
    "    \n",
    "  \n",
    "    valid_data = df[[target] + list(num_cols)].dropna()\n",
    "    \n",
    "    for num_col in num_cols:\n",
    "   \n",
    "        correlation, p_value = spearmanr(valid_data[num_col], valid_data[target])\n",
    "        \n",
    "        test_num_list.append([correlation, np.round(p_value, 5)])\n",
    "        test_num_cols.append(num_col)\n",
    "    \n",
    "\n",
    "    return pd.DataFrame(test_num_list, index=test_num_cols, columns=['correlation', 'p_value']).sort_values(by=\"correlation\", ascending=False)\n",
    "\n",
    "spearman_corr(df_train_raw, \"SalePrice\").T\n"
   ]
  },
  {
   "cell_type": "markdown",
   "id": "dbc6ab77",
   "metadata": {
    "papermill": {
     "duration": 0.011549,
     "end_time": "2025-01-10T23:32:44.833798",
     "exception": false,
     "start_time": "2025-01-10T23:32:44.822249",
     "status": "completed"
    },
    "tags": []
   },
   "source": [
    "The result of test is that there are a couple of numerical features which have a p-value smaller than 0.05. This means that for these features there is a statistical significant relation between them and the target. Therefore we continu or analysis with a visual inspection of each numerical feature.\n",
    "\n"
   ]
  },
  {
   "cell_type": "code",
   "execution_count": 12,
   "id": "3f1ae5d4",
   "metadata": {
    "execution": {
     "iopub.execute_input": "2025-01-10T23:32:44.858533Z",
     "iopub.status.busy": "2025-01-10T23:32:44.858214Z",
     "iopub.status.idle": "2025-01-10T23:32:44.862113Z",
     "shell.execute_reply": "2025-01-10T23:32:44.861310Z"
    },
    "papermill": {
     "duration": 0.018279,
     "end_time": "2025-01-10T23:32:44.863942",
     "exception": false,
     "start_time": "2025-01-10T23:32:44.845663",
     "status": "completed"
    },
    "tags": []
   },
   "outputs": [],
   "source": [
    "# corr = pd.Series(df_train_raw.corr(\"spearman\").SalePrice.sort_values(ascending = False).head(20)) # Most Correlated features)\n",
    "# display(corr)\n",
    "# corr = list(corr)"
   ]
  },
  {
   "cell_type": "code",
   "execution_count": 13,
   "id": "42403bf6",
   "metadata": {
    "execution": {
     "iopub.execute_input": "2025-01-10T23:32:44.888499Z",
     "iopub.status.busy": "2025-01-10T23:32:44.888237Z",
     "iopub.status.idle": "2025-01-10T23:32:45.611754Z",
     "shell.execute_reply": "2025-01-10T23:32:45.610839Z"
    },
    "papermill": {
     "duration": 0.73961,
     "end_time": "2025-01-10T23:32:45.615243",
     "exception": false,
     "start_time": "2025-01-10T23:32:44.875633",
     "status": "completed"
    },
    "tags": []
   },
   "outputs": [
    {
     "data": {
      "image/png": "[encoded data removed]",
      "text/plain": [
       "<Figure size 1008x576 with 2 Axes>"
      ]
     },
     "metadata": {},
     "output_type": "display_data"
    },
    {
     "name": "stdout",
     "output_type": "stream",
     "text": [
      "CPU times: user 775 ms, sys: 198 ms, total: 972 ms\n",
      "Wall time: 707 ms\n"
     ]
    }
   ],
   "source": [
    "%%time\n",
    "mask = np.triu(np.ones_like(df_train_raw.corr(\"spearman\"), dtype=bool))\n",
    "plt.figure(figsize=(14, 8))\n",
    "sns.heatmap(df_train_raw.corr(\"spearman\"), annot=False, linewidth=0.5, mask=mask, cmap='coolwarm')\n",
    "plt.show()\n"
   ]
  },
  {
   "cell_type": "markdown",
   "id": "fd7b8c82",
   "metadata": {
    "papermill": {
     "duration": 0.014263,
     "end_time": "2025-01-10T23:32:45.643602",
     "exception": false,
     "start_time": "2025-01-10T23:32:45.629339",
     "status": "completed"
    },
    "tags": []
   },
   "source": [
    "Based on the most correlated and meaningful variables, we can focus our analysis on searching for anomalies and/or outliers."
   ]
  },
  {
   "cell_type": "code",
   "execution_count": 14,
   "id": "1ed173a3",
   "metadata": {
    "execution": {
     "iopub.execute_input": "2025-01-10T23:32:45.669617Z",
     "iopub.status.busy": "2025-01-10T23:32:45.669310Z",
     "iopub.status.idle": "2025-01-10T23:32:45.923249Z",
     "shell.execute_reply": "2025-01-10T23:32:45.922228Z"
    },
    "papermill": {
     "duration": 0.270001,
     "end_time": "2025-01-10T23:32:45.926052",
     "exception": false,
     "start_time": "2025-01-10T23:32:45.656051",
     "status": "completed"
    },
    "tags": []
   },
   "outputs": [
    {
     "data": {
      "image/png": "[encoded data removed]",
      "text/plain": [
       "<Figure size 864x576 with 1 Axes>"
      ]
     },
     "metadata": {},
     "output_type": "display_data"
    }
   ],
   "source": [
    "def customized_scatterplot(y, x):\n",
    "        ## Sizing the plot. \n",
    "    plt.subplots(figsize = (12,8))\n",
    "    ## Plotting target variable with predictor variable(OverallQual)\n",
    "    sns.scatterplot(y = y, x = x)\n",
    "\n",
    "customized_scatterplot(df_train_raw.SalePrice, df_train_raw.GrLivArea) # OverallQual   # GarageCars # YearBuilt"
   ]
  },
  {
   "cell_type": "markdown",
   "id": "7f7ca025",
   "metadata": {
    "papermill": {
     "duration": 0.014949,
     "end_time": "2025-01-10T23:32:45.956590",
     "exception": false,
     "start_time": "2025-01-10T23:32:45.941641",
     "status": "completed"
    },
    "tags": []
   },
   "source": [
    "**Highly correlated feature, these outliers complicate the linear relationship, they will be eliminated**"
   ]
  },
  {
   "cell_type": "code",
   "execution_count": 15,
   "id": "9594e9da",
   "metadata": {
    "execution": {
     "iopub.execute_input": "2025-01-10T23:32:45.989931Z",
     "iopub.status.busy": "2025-01-10T23:32:45.989174Z",
     "iopub.status.idle": "2025-01-10T23:32:46.011416Z",
     "shell.execute_reply": "2025-01-10T23:32:46.010472Z"
    },
    "papermill": {
     "duration": 0.039798,
     "end_time": "2025-01-10T23:32:46.013268",
     "exception": false,
     "start_time": "2025-01-10T23:32:45.973470",
     "status": "completed"
    },
    "tags": []
   },
   "outputs": [
    {
     "data": {
      "text/html": [
       "<div>\n",
       "<style scoped>\n",
       "    .dataframe tbody tr th:only-of-type {\n",
       "        vertical-align: middle;\n",
       "    }\n",
       "\n",
       "    .dataframe tbody tr th {\n",
       "        vertical-align: top;\n",
       "    }\n",
       "\n",
       "    .dataframe thead th {\n",
       "        text-align: right;\n",
       "    }\n",
       "</style>\n",
       "<table border=\"1\" class=\"dataframe\">\n",
       "  <thead>\n",
       "    <tr style=\"text-align: right;\">\n",
       "      <th></th>\n",
       "      <th>Id</th>\n",
       "      <th>MSSubClass</th>\n",
       "      <th>MSZoning</th>\n",
       "      <th>LotFrontage</th>\n",
       "      <th>LotArea</th>\n",
       "      <th>Street</th>\n",
       "      <th>Alley</th>\n",
       "      <th>LotShape</th>\n",
       "      <th>LandContour</th>\n",
       "      <th>Utilities</th>\n",
       "      <th>...</th>\n",
       "      <th>PoolArea</th>\n",
       "      <th>PoolQC</th>\n",
       "      <th>Fence</th>\n",
       "      <th>MiscFeature</th>\n",
       "      <th>MiscVal</th>\n",
       "      <th>MoSold</th>\n",
       "      <th>YrSold</th>\n",
       "      <th>SaleType</th>\n",
       "      <th>SaleCondition</th>\n",
       "      <th>SalePrice</th>\n",
       "    </tr>\n",
       "  </thead>\n",
       "  <tbody>\n",
       "    <tr>\n",
       "      <th>523</th>\n",
       "      <td>524</td>\n",
       "      <td>60</td>\n",
       "      <td>RL</td>\n",
       "      <td>130.0</td>\n",
       "      <td>40094</td>\n",
       "      <td>Pave</td>\n",
       "      <td>NaN</td>\n",
       "      <td>IR1</td>\n",
       "      <td>Bnk</td>\n",
       "      <td>AllPub</td>\n",
       "      <td>...</td>\n",
       "      <td>0</td>\n",
       "      <td>NaN</td>\n",
       "      <td>NaN</td>\n",
       "      <td>NaN</td>\n",
       "      <td>0</td>\n",
       "      <td>10</td>\n",
       "      <td>2007</td>\n",
       "      <td>New</td>\n",
       "      <td>Partial</td>\n",
       "      <td>184750</td>\n",
       "    </tr>\n",
       "    <tr>\n",
       "      <th>1298</th>\n",
       "      <td>1299</td>\n",
       "      <td>60</td>\n",
       "      <td>RL</td>\n",
       "      <td>313.0</td>\n",
       "      <td>63887</td>\n",
       "      <td>Pave</td>\n",
       "      <td>NaN</td>\n",
       "      <td>IR3</td>\n",
       "      <td>Bnk</td>\n",
       "      <td>AllPub</td>\n",
       "      <td>...</td>\n",
       "      <td>480</td>\n",
       "      <td>Gd</td>\n",
       "      <td>NaN</td>\n",
       "      <td>NaN</td>\n",
       "      <td>0</td>\n",
       "      <td>1</td>\n",
       "      <td>2008</td>\n",
       "      <td>New</td>\n",
       "      <td>Partial</td>\n",
       "      <td>160000</td>\n",
       "    </tr>\n",
       "  </tbody>\n",
       "</table>\n",
       "<p>2 rows × 81 columns</p>\n",
       "</div>"
      ],
      "text/plain": [
       "        Id  MSSubClass MSZoning  LotFrontage  LotArea Street Alley LotShape  \\\n",
       "523    524          60       RL        130.0    40094   Pave   NaN      IR1   \n",
       "1298  1299          60       RL        313.0    63887   Pave   NaN      IR3   \n",
       "\n",
       "     LandContour Utilities  ... PoolArea PoolQC Fence MiscFeature MiscVal  \\\n",
       "523          Bnk    AllPub  ...        0    NaN   NaN         NaN       0   \n",
       "1298         Bnk    AllPub  ...      480     Gd   NaN         NaN       0   \n",
       "\n",
       "     MoSold YrSold  SaleType  SaleCondition  SalePrice  \n",
       "523      10   2007       New        Partial     184750  \n",
       "1298      1   2008       New        Partial     160000  \n",
       "\n",
       "[2 rows x 81 columns]"
      ]
     },
     "metadata": {},
     "output_type": "display_data"
    }
   ],
   "source": [
    "# Outliers\n",
    "display(df_train_raw[df_train_raw.GrLivArea > 4500])\n",
    "\n",
    "# df_train_raw = df_train_raw[df_train_raw.GrLivArea < 4500]"
   ]
  },
  {
   "cell_type": "code",
   "execution_count": 16,
   "id": "5d03d670",
   "metadata": {
    "execution": {
     "iopub.execute_input": "2025-01-10T23:32:46.044860Z",
     "iopub.status.busy": "2025-01-10T23:32:46.044522Z",
     "iopub.status.idle": "2025-01-10T23:32:46.362281Z",
     "shell.execute_reply": "2025-01-10T23:32:46.361375Z"
    },
    "papermill": {
     "duration": 0.335666,
     "end_time": "2025-01-10T23:32:46.364292",
     "exception": false,
     "start_time": "2025-01-10T23:32:46.028626",
     "status": "completed"
    },
    "tags": []
   },
   "outputs": [
    {
     "data": {
      "image/png": "[encoded data removed]",
      "text/plain": [
       "<Figure size 864x576 with 1 Axes>"
      ]
     },
     "metadata": {},
     "output_type": "display_data"
    }
   ],
   "source": [
    "def customized_boxplot(y, x):\n",
    "        ## Sizing the plot. \n",
    "    plt.subplots(figsize = (12,8))\n",
    "    ## Plotting target variable with predictor variable(OverallQual)\n",
    "    sns.boxplot(y = y, x = x)\n",
    "\n",
    "customized_boxplot(df_train_raw.SalePrice, df_train_raw.OverallQual) #    "
   ]
  },
  {
   "cell_type": "code",
   "execution_count": 17,
   "id": "643f9f6d",
   "metadata": {
    "execution": {
     "iopub.execute_input": "2025-01-10T23:32:46.393690Z",
     "iopub.status.busy": "2025-01-10T23:32:46.393403Z",
     "iopub.status.idle": "2025-01-10T23:32:46.637264Z",
     "shell.execute_reply": "2025-01-10T23:32:46.636379Z"
    },
    "papermill": {
     "duration": 0.260515,
     "end_time": "2025-01-10T23:32:46.639146",
     "exception": false,
     "start_time": "2025-01-10T23:32:46.378631",
     "status": "completed"
    },
    "tags": []
   },
   "outputs": [
    {
     "data": {
      "image/png": "[encoded data removed]",
      "text/plain": [
       "<Figure size 864x576 with 1 Axes>"
      ]
     },
     "metadata": {},
     "output_type": "display_data"
    }
   ],
   "source": [
    "customized_boxplot(df_train_raw.SalePrice, df_train_raw.GarageCars) #"
   ]
  },
  {
   "cell_type": "markdown",
   "id": "39495fff",
   "metadata": {
    "papermill": {
     "duration": 0.014506,
     "end_time": "2025-01-10T23:32:46.668875",
     "exception": false,
     "start_time": "2025-01-10T23:32:46.654369",
     "status": "completed"
    },
    "tags": []
   },
   "source": [
    "## Categorical features. ANOVA and Kruskal-Wallis Test's\n",
    "\n",
    "The goal is the check if there is a statistical significant relationship between the categories and the target 'SalePrice'. A way we can do this is by using a one-way ANOVA test or the Kruskal-Wallis H-test. The one-way ANOVA tests the null hypothesis that two or more groups have the same population mean. The Kruskal-Wallis H-test tests the null hypothesis that the population median of all of the groups are equal. It is a non-parametric version of ANOVA. Because the ANOVA has some underlying assumptions we use both to check for a statistical significant relaton between the categorical features and the target"
   ]
  },
  {
   "cell_type": "code",
   "execution_count": 18,
   "id": "7743ef01",
   "metadata": {
    "execution": {
     "iopub.execute_input": "2025-01-10T23:32:46.699012Z",
     "iopub.status.busy": "2025-01-10T23:32:46.698685Z",
     "iopub.status.idle": "2025-01-10T23:32:46.820914Z",
     "shell.execute_reply": "2025-01-10T23:32:46.819951Z"
    },
    "papermill": {
     "duration": 0.13932,
     "end_time": "2025-01-10T23:32:46.822688",
     "exception": false,
     "start_time": "2025-01-10T23:32:46.683368",
     "status": "completed"
    },
    "tags": []
   },
   "outputs": [
    {
     "data": {
      "text/html": [
       "<div>\n",
       "<style scoped>\n",
       "    .dataframe tbody tr th:only-of-type {\n",
       "        vertical-align: middle;\n",
       "    }\n",
       "\n",
       "    .dataframe tbody tr th {\n",
       "        vertical-align: top;\n",
       "    }\n",
       "\n",
       "    .dataframe thead th {\n",
       "        text-align: right;\n",
       "    }\n",
       "</style>\n",
       "<table border=\"1\" class=\"dataframe\">\n",
       "  <thead>\n",
       "    <tr style=\"text-align: right;\">\n",
       "      <th></th>\n",
       "      <th>anova_statistic</th>\n",
       "      <th>anova_pvalue</th>\n",
       "      <th>anova_conclusion</th>\n",
       "      <th>kruskal_statistic</th>\n",
       "      <th>kruskal_pvalue</th>\n",
       "      <th>kruskal_conclusion</th>\n",
       "    </tr>\n",
       "  </thead>\n",
       "  <tbody>\n",
       "    <tr>\n",
       "      <th>MSZoning</th>\n",
       "      <td>43.840282</td>\n",
       "      <td>8.817634e-35</td>\n",
       "      <td>Significant differences (p &lt; 0.05)</td>\n",
       "      <td>270.070197</td>\n",
       "      <td>3.080724e-57</td>\n",
       "      <td>Significant differences (p &lt; 0.05)</td>\n",
       "    </tr>\n",
       "    <tr>\n",
       "      <th>Street</th>\n",
       "      <td>2.459290</td>\n",
       "      <td>1.170486e-01</td>\n",
       "      <td>No significant differences (p ≥ 0.05)</td>\n",
       "      <td>3.062353</td>\n",
       "      <td>8.012556e-02</td>\n",
       "      <td>No significant differences (p ≥ 0.05)</td>\n",
       "    </tr>\n",
       "    <tr>\n",
       "      <th>Alley</th>\n",
       "      <td>35.562060</td>\n",
       "      <td>4.899826e-08</td>\n",
       "      <td>Significant differences (p &lt; 0.05)</td>\n",
       "      <td>32.530421</td>\n",
       "      <td>1.173413e-08</td>\n",
       "      <td>Significant differences (p &lt; 0.05)</td>\n",
       "    </tr>\n",
       "    <tr>\n",
       "      <th>LotShape</th>\n",
       "      <td>40.132852</td>\n",
       "      <td>6.447524e-25</td>\n",
       "      <td>Significant differences (p &lt; 0.05)</td>\n",
       "      <td>150.954173</td>\n",
       "      <td>1.640323e-32</td>\n",
       "      <td>Significant differences (p &lt; 0.05)</td>\n",
       "    </tr>\n",
       "    <tr>\n",
       "      <th>LandContour</th>\n",
       "      <td>12.850188</td>\n",
       "      <td>2.742217e-08</td>\n",
       "      <td>Significant differences (p &lt; 0.05)</td>\n",
       "      <td>35.309552</td>\n",
       "      <td>1.047923e-07</td>\n",
       "      <td>Significant differences (p &lt; 0.05)</td>\n",
       "    </tr>\n",
       "    <tr>\n",
       "      <th>Utilities</th>\n",
       "      <td>0.298804</td>\n",
       "      <td>5.847168e-01</td>\n",
       "      <td>No significant differences (p ≥ 0.05)</td>\n",
       "      <td>0.407369</td>\n",
       "      <td>5.233080e-01</td>\n",
       "      <td>No significant differences (p ≥ 0.05)</td>\n",
       "    </tr>\n",
       "    <tr>\n",
       "      <th>LotConfig</th>\n",
       "      <td>7.809954</td>\n",
       "      <td>3.163167e-06</td>\n",
       "      <td>Significant differences (p &lt; 0.05)</td>\n",
       "      <td>35.723906</td>\n",
       "      <td>3.297912e-07</td>\n",
       "      <td>Significant differences (p &lt; 0.05)</td>\n",
       "    </tr>\n",
       "    <tr>\n",
       "      <th>LandSlope</th>\n",
       "      <td>1.958817</td>\n",
       "      <td>1.413964e-01</td>\n",
       "      <td>No significant differences (p ≥ 0.05)</td>\n",
       "      <td>3.938837</td>\n",
       "      <td>1.395380e-01</td>\n",
       "      <td>No significant differences (p ≥ 0.05)</td>\n",
       "    </tr>\n",
       "    <tr>\n",
       "      <th>Neighborhood</th>\n",
       "      <td>71.784865</td>\n",
       "      <td>1.558600e-225</td>\n",
       "      <td>Significant differences (p &lt; 0.05)</td>\n",
       "      <td>868.532376</td>\n",
       "      <td>6.696799e-168</td>\n",
       "      <td>Significant differences (p &lt; 0.05)</td>\n",
       "    </tr>\n",
       "    <tr>\n",
       "      <th>Condition1</th>\n",
       "      <td>6.118017</td>\n",
       "      <td>8.904549e-08</td>\n",
       "      <td>Significant differences (p &lt; 0.05)</td>\n",
       "      <td>74.403863</td>\n",
       "      <td>6.492600e-13</td>\n",
       "      <td>Significant differences (p &lt; 0.05)</td>\n",
       "    </tr>\n",
       "    <tr>\n",
       "      <th>Condition2</th>\n",
       "      <td>2.073899</td>\n",
       "      <td>4.342566e-02</td>\n",
       "      <td>Significant differences (p &lt; 0.05)</td>\n",
       "      <td>17.774158</td>\n",
       "      <td>1.303159e-02</td>\n",
       "      <td>Significant differences (p &lt; 0.05)</td>\n",
       "    </tr>\n",
       "    <tr>\n",
       "      <th>BldgType</th>\n",
       "      <td>13.011077</td>\n",
       "      <td>2.056736e-10</td>\n",
       "      <td>Significant differences (p &lt; 0.05)</td>\n",
       "      <td>69.800606</td>\n",
       "      <td>2.500858e-14</td>\n",
       "      <td>Significant differences (p &lt; 0.05)</td>\n",
       "    </tr>\n",
       "    <tr>\n",
       "      <th>HouseStyle</th>\n",
       "      <td>19.595001</td>\n",
       "      <td>3.376777e-25</td>\n",
       "      <td>Significant differences (p &lt; 0.05)</td>\n",
       "      <td>185.429426</td>\n",
       "      <td>1.388507e-36</td>\n",
       "      <td>Significant differences (p &lt; 0.05)</td>\n",
       "    </tr>\n",
       "    <tr>\n",
       "      <th>RoofStyle</th>\n",
       "      <td>17.805497</td>\n",
       "      <td>3.653523e-17</td>\n",
       "      <td>Significant differences (p &lt; 0.05)</td>\n",
       "      <td>39.877541</td>\n",
       "      <td>1.580733e-07</td>\n",
       "      <td>Significant differences (p &lt; 0.05)</td>\n",
       "    </tr>\n",
       "    <tr>\n",
       "      <th>RoofMatl</th>\n",
       "      <td>6.727305</td>\n",
       "      <td>7.231445e-08</td>\n",
       "      <td>Significant differences (p &lt; 0.05)</td>\n",
       "      <td>18.872136</td>\n",
       "      <td>8.597464e-03</td>\n",
       "      <td>Significant differences (p &lt; 0.05)</td>\n",
       "    </tr>\n",
       "    <tr>\n",
       "      <th>Exterior1st</th>\n",
       "      <td>18.611743</td>\n",
       "      <td>2.586089e-43</td>\n",
       "      <td>Significant differences (p &lt; 0.05)</td>\n",
       "      <td>304.044576</td>\n",
       "      <td>1.694486e-56</td>\n",
       "      <td>Significant differences (p &lt; 0.05)</td>\n",
       "    </tr>\n",
       "    <tr>\n",
       "      <th>Exterior2nd</th>\n",
       "      <td>17.500840</td>\n",
       "      <td>4.842186e-43</td>\n",
       "      <td>Significant differences (p &lt; 0.05)</td>\n",
       "      <td>284.231143</td>\n",
       "      <td>1.047636e-51</td>\n",
       "      <td>Significant differences (p &lt; 0.05)</td>\n",
       "    </tr>\n",
       "    <tr>\n",
       "      <th>MasVnrType</th>\n",
       "      <td>111.672380</td>\n",
       "      <td>4.793331e-65</td>\n",
       "      <td>Significant differences (p &lt; 0.05)</td>\n",
       "      <td>275.674763</td>\n",
       "      <td>1.826801e-59</td>\n",
       "      <td>Significant differences (p &lt; 0.05)</td>\n",
       "    </tr>\n",
       "    <tr>\n",
       "      <th>ExterQual</th>\n",
       "      <td>443.334831</td>\n",
       "      <td>1.439551e-204</td>\n",
       "      <td>Significant differences (p &lt; 0.05)</td>\n",
       "      <td>683.440084</td>\n",
       "      <td>8.180798e-148</td>\n",
       "      <td>Significant differences (p &lt; 0.05)</td>\n",
       "    </tr>\n",
       "    <tr>\n",
       "      <th>ExterCond</th>\n",
       "      <td>8.798714</td>\n",
       "      <td>5.106681e-07</td>\n",
       "      <td>Significant differences (p &lt; 0.05)</td>\n",
       "      <td>46.616968</td>\n",
       "      <td>1.832365e-09</td>\n",
       "      <td>Significant differences (p &lt; 0.05)</td>\n",
       "    </tr>\n",
       "    <tr>\n",
       "      <th>Foundation</th>\n",
       "      <td>100.253851</td>\n",
       "      <td>5.791895e-91</td>\n",
       "      <td>Significant differences (p &lt; 0.05)</td>\n",
       "      <td>488.722751</td>\n",
       "      <td>2.169096e-103</td>\n",
       "      <td>Significant differences (p &lt; 0.05)</td>\n",
       "    </tr>\n",
       "    <tr>\n",
       "      <th>BsmtQual</th>\n",
       "      <td>392.913506</td>\n",
       "      <td>9.610615e-186</td>\n",
       "      <td>Significant differences (p &lt; 0.05)</td>\n",
       "      <td>631.833154</td>\n",
       "      <td>1.265030e-136</td>\n",
       "      <td>Significant differences (p &lt; 0.05)</td>\n",
       "    </tr>\n",
       "    <tr>\n",
       "      <th>BsmtCond</th>\n",
       "      <td>14.030600</td>\n",
       "      <td>5.136901e-09</td>\n",
       "      <td>Significant differences (p &lt; 0.05)</td>\n",
       "      <td>62.118425</td>\n",
       "      <td>2.072696e-13</td>\n",
       "      <td>Significant differences (p &lt; 0.05)</td>\n",
       "    </tr>\n",
       "    <tr>\n",
       "      <th>BsmtExposure</th>\n",
       "      <td>70.887984</td>\n",
       "      <td>1.022671e-42</td>\n",
       "      <td>Significant differences (p &lt; 0.05)</td>\n",
       "      <td>138.957049</td>\n",
       "      <td>6.343558e-30</td>\n",
       "      <td>Significant differences (p &lt; 0.05)</td>\n",
       "    </tr>\n",
       "    <tr>\n",
       "      <th>BsmtFinType1</th>\n",
       "      <td>67.602175</td>\n",
       "      <td>1.807731e-63</td>\n",
       "      <td>Significant differences (p &lt; 0.05)</td>\n",
       "      <td>298.223280</td>\n",
       "      <td>2.413404e-62</td>\n",
       "      <td>Significant differences (p &lt; 0.05)</td>\n",
       "    </tr>\n",
       "    <tr>\n",
       "      <th>BsmtFinType2</th>\n",
       "      <td>2.702450</td>\n",
       "      <td>1.941009e-02</td>\n",
       "      <td>Significant differences (p &lt; 0.05)</td>\n",
       "      <td>11.056521</td>\n",
       "      <td>5.027077e-02</td>\n",
       "      <td>No significant differences (p ≥ 0.05)</td>\n",
       "    </tr>\n",
       "    <tr>\n",
       "      <th>Heating</th>\n",
       "      <td>4.259819</td>\n",
       "      <td>7.534721e-04</td>\n",
       "      <td>Significant differences (p &lt; 0.05)</td>\n",
       "      <td>33.266686</td>\n",
       "      <td>3.331280e-06</td>\n",
       "      <td>Significant differences (p &lt; 0.05)</td>\n",
       "    </tr>\n",
       "    <tr>\n",
       "      <th>HeatingQC</th>\n",
       "      <td>88.394462</td>\n",
       "      <td>2.667062e-67</td>\n",
       "      <td>Significant differences (p &lt; 0.05)</td>\n",
       "      <td>356.776407</td>\n",
       "      <td>6.036449e-76</td>\n",
       "      <td>Significant differences (p &lt; 0.05)</td>\n",
       "    </tr>\n",
       "    <tr>\n",
       "      <th>CentralAir</th>\n",
       "      <td>98.305344</td>\n",
       "      <td>1.809506e-22</td>\n",
       "      <td>Significant differences (p &lt; 0.05)</td>\n",
       "      <td>143.198261</td>\n",
       "      <td>5.319642e-33</td>\n",
       "      <td>Significant differences (p &lt; 0.05)</td>\n",
       "    </tr>\n",
       "    <tr>\n",
       "      <th>Electrical</th>\n",
       "      <td>23.067673</td>\n",
       "      <td>1.663249e-18</td>\n",
       "      <td>Significant differences (p &lt; 0.05)</td>\n",
       "      <td>131.423013</td>\n",
       "      <td>1.932218e-27</td>\n",
       "      <td>Significant differences (p &lt; 0.05)</td>\n",
       "    </tr>\n",
       "    <tr>\n",
       "      <th>KitchenQual</th>\n",
       "      <td>407.806352</td>\n",
       "      <td>3.032213e-192</td>\n",
       "      <td>Significant differences (p &lt; 0.05)</td>\n",
       "      <td>661.481587</td>\n",
       "      <td>4.720113e-143</td>\n",
       "      <td>Significant differences (p &lt; 0.05)</td>\n",
       "    </tr>\n",
       "    <tr>\n",
       "      <th>Functional</th>\n",
       "      <td>4.057875</td>\n",
       "      <td>4.841697e-04</td>\n",
       "      <td>Significant differences (p &lt; 0.05)</td>\n",
       "      <td>32.559816</td>\n",
       "      <td>1.274180e-05</td>\n",
       "      <td>Significant differences (p &lt; 0.05)</td>\n",
       "    </tr>\n",
       "    <tr>\n",
       "      <th>FireplaceQu</th>\n",
       "      <td>24.398929</td>\n",
       "      <td>5.016300e-19</td>\n",
       "      <td>Significant differences (p &lt; 0.05)</td>\n",
       "      <td>81.925366</td>\n",
       "      <td>6.807632e-17</td>\n",
       "      <td>Significant differences (p &lt; 0.05)</td>\n",
       "    </tr>\n",
       "    <tr>\n",
       "      <th>GarageType</th>\n",
       "      <td>71.522123</td>\n",
       "      <td>1.247154e-66</td>\n",
       "      <td>Significant differences (p &lt; 0.05)</td>\n",
       "      <td>421.154508</td>\n",
       "      <td>8.166415e-89</td>\n",
       "      <td>Significant differences (p &lt; 0.05)</td>\n",
       "    </tr>\n",
       "    <tr>\n",
       "      <th>GarageFinish</th>\n",
       "      <td>250.962467</td>\n",
       "      <td>1.199117e-93</td>\n",
       "      <td>Significant differences (p &lt; 0.05)</td>\n",
       "      <td>505.207812</td>\n",
       "      <td>1.974775e-110</td>\n",
       "      <td>Significant differences (p &lt; 0.05)</td>\n",
       "    </tr>\n",
       "    <tr>\n",
       "      <th>GarageQual</th>\n",
       "      <td>9.570389</td>\n",
       "      <td>1.240803e-07</td>\n",
       "      <td>Significant differences (p &lt; 0.05)</td>\n",
       "      <td>61.564054</td>\n",
       "      <td>1.360558e-12</td>\n",
       "      <td>Significant differences (p &lt; 0.05)</td>\n",
       "    </tr>\n",
       "    <tr>\n",
       "      <th>GarageCond</th>\n",
       "      <td>9.541161</td>\n",
       "      <td>1.309714e-07</td>\n",
       "      <td>Significant differences (p &lt; 0.05)</td>\n",
       "      <td>60.374685</td>\n",
       "      <td>2.419814e-12</td>\n",
       "      <td>Significant differences (p &lt; 0.05)</td>\n",
       "    </tr>\n",
       "    <tr>\n",
       "      <th>PavedDrive</th>\n",
       "      <td>42.024179</td>\n",
       "      <td>1.803569e-18</td>\n",
       "      <td>Significant differences (p &lt; 0.05)</td>\n",
       "      <td>115.839102</td>\n",
       "      <td>7.012268e-26</td>\n",
       "      <td>Significant differences (p &lt; 0.05)</td>\n",
       "    </tr>\n",
       "    <tr>\n",
       "      <th>PoolQC</th>\n",
       "      <td>1.627469</td>\n",
       "      <td>3.039853e-01</td>\n",
       "      <td>No significant differences (p ≥ 0.05)</td>\n",
       "      <td>1.607143</td>\n",
       "      <td>4.477271e-01</td>\n",
       "      <td>No significant differences (p ≥ 0.05)</td>\n",
       "    </tr>\n",
       "    <tr>\n",
       "      <th>Fence</th>\n",
       "      <td>4.948159</td>\n",
       "      <td>2.312646e-03</td>\n",
       "      <td>Significant differences (p &lt; 0.05)</td>\n",
       "      <td>32.838147</td>\n",
       "      <td>3.484051e-07</td>\n",
       "      <td>Significant differences (p &lt; 0.05)</td>\n",
       "    </tr>\n",
       "    <tr>\n",
       "      <th>MiscFeature</th>\n",
       "      <td>2.157324</td>\n",
       "      <td>1.047276e-01</td>\n",
       "      <td>No significant differences (p ≥ 0.05)</td>\n",
       "      <td>4.851431</td>\n",
       "      <td>1.830050e-01</td>\n",
       "      <td>No significant differences (p ≥ 0.05)</td>\n",
       "    </tr>\n",
       "    <tr>\n",
       "      <th>SaleType</th>\n",
       "      <td>28.863054</td>\n",
       "      <td>5.039767e-42</td>\n",
       "      <td>Significant differences (p &lt; 0.05)</td>\n",
       "      <td>156.382877</td>\n",
       "      <td>9.119744e-30</td>\n",
       "      <td>Significant differences (p &lt; 0.05)</td>\n",
       "    </tr>\n",
       "    <tr>\n",
       "      <th>SaleCondition</th>\n",
       "      <td>45.578428</td>\n",
       "      <td>7.988268e-44</td>\n",
       "      <td>Significant differences (p &lt; 0.05)</td>\n",
       "      <td>168.322541</td>\n",
       "      <td>1.663313e-34</td>\n",
       "      <td>Significant differences (p &lt; 0.05)</td>\n",
       "    </tr>\n",
       "  </tbody>\n",
       "</table>\n",
       "</div>"
      ],
      "text/plain": [
       "               anova_statistic   anova_pvalue  \\\n",
       "MSZoning             43.840282   8.817634e-35   \n",
       "Street                2.459290   1.170486e-01   \n",
       "Alley                35.562060   4.899826e-08   \n",
       "LotShape             40.132852   6.447524e-25   \n",
       "LandContour          12.850188   2.742217e-08   \n",
       "Utilities             0.298804   5.847168e-01   \n",
       "LotConfig             7.809954   3.163167e-06   \n",
       "LandSlope             1.958817   1.413964e-01   \n",
       "Neighborhood         71.784865  1.558600e-225   \n",
       "Condition1            6.118017   8.904549e-08   \n",
       "Condition2            2.073899   4.342566e-02   \n",
       "BldgType             13.011077   2.056736e-10   \n",
       "HouseStyle           19.595001   3.376777e-25   \n",
       "RoofStyle            17.805497   3.653523e-17   \n",
       "RoofMatl              6.727305   7.231445e-08   \n",
       "Exterior1st          18.611743   2.586089e-43   \n",
       "Exterior2nd          17.500840   4.842186e-43   \n",
       "MasVnrType          111.672380   4.793331e-65   \n",
       "ExterQual           443.334831  1.439551e-204   \n",
       "ExterCond             8.798714   5.106681e-07   \n",
       "Foundation          100.253851   5.791895e-91   \n",
       "BsmtQual            392.913506  9.610615e-186   \n",
       "BsmtCond             14.030600   5.136901e-09   \n",
       "BsmtExposure         70.887984   1.022671e-42   \n",
       "BsmtFinType1         67.602175   1.807731e-63   \n",
       "BsmtFinType2          2.702450   1.941009e-02   \n",
       "Heating               4.259819   7.534721e-04   \n",
       "HeatingQC            88.394462   2.667062e-67   \n",
       "CentralAir           98.305344   1.809506e-22   \n",
       "Electrical           23.067673   1.663249e-18   \n",
       "KitchenQual         407.806352  3.032213e-192   \n",
       "Functional            4.057875   4.841697e-04   \n",
       "FireplaceQu          24.398929   5.016300e-19   \n",
       "GarageType           71.522123   1.247154e-66   \n",
       "GarageFinish        250.962467   1.199117e-93   \n",
       "GarageQual            9.570389   1.240803e-07   \n",
       "GarageCond            9.541161   1.309714e-07   \n",
       "PavedDrive           42.024179   1.803569e-18   \n",
       "PoolQC                1.627469   3.039853e-01   \n",
       "Fence                 4.948159   2.312646e-03   \n",
       "MiscFeature           2.157324   1.047276e-01   \n",
       "SaleType             28.863054   5.039767e-42   \n",
       "SaleCondition        45.578428   7.988268e-44   \n",
       "\n",
       "                                    anova_conclusion  kruskal_statistic  \\\n",
       "MSZoning          Significant differences (p < 0.05)         270.070197   \n",
       "Street         No significant differences (p ≥ 0.05)           3.062353   \n",
       "Alley             Significant differences (p < 0.05)          32.530421   \n",
       "LotShape          Significant differences (p < 0.05)         150.954173   \n",
       "LandContour       Significant differences (p < 0.05)          35.309552   \n",
       "Utilities      No significant differences (p ≥ 0.05)           0.407369   \n",
       "LotConfig         Significant differences (p < 0.05)          35.723906   \n",
       "LandSlope      No significant differences (p ≥ 0.05)           3.938837   \n",
       "Neighborhood      Significant differences (p < 0.05)         868.532376   \n",
       "Condition1        Significant differences (p < 0.05)          74.403863   \n",
       "Condition2        Significant differences (p < 0.05)          17.774158   \n",
       "BldgType          Significant differences (p < 0.05)          69.800606   \n",
       "HouseStyle        Significant differences (p < 0.05)         185.429426   \n",
       "RoofStyle         Significant differences (p < 0.05)          39.877541   \n",
       "RoofMatl          Significant differences (p < 0.05)          18.872136   \n",
       "Exterior1st       Significant differences (p < 0.05)         304.044576   \n",
       "Exterior2nd       Significant differences (p < 0.05)         284.231143   \n",
       "MasVnrType        Significant differences (p < 0.05)         275.674763   \n",
       "ExterQual         Significant differences (p < 0.05)         683.440084   \n",
       "ExterCond         Significant differences (p < 0.05)          46.616968   \n",
       "Foundation        Significant differences (p < 0.05)         488.722751   \n",
       "BsmtQual          Significant differences (p < 0.05)         631.833154   \n",
       "BsmtCond          Significant differences (p < 0.05)          62.118425   \n",
       "BsmtExposure      Significant differences (p < 0.05)         138.957049   \n",
       "BsmtFinType1      Significant differences (p < 0.05)         298.223280   \n",
       "BsmtFinType2      Significant differences (p < 0.05)          11.056521   \n",
       "Heating           Significant differences (p < 0.05)          33.266686   \n",
       "HeatingQC         Significant differences (p < 0.05)         356.776407   \n",
       "CentralAir        Significant differences (p < 0.05)         143.198261   \n",
       "Electrical        Significant differences (p < 0.05)         131.423013   \n",
       "KitchenQual       Significant differences (p < 0.05)         661.481587   \n",
       "Functional        Significant differences (p < 0.05)          32.559816   \n",
       "FireplaceQu       Significant differences (p < 0.05)          81.925366   \n",
       "GarageType        Significant differences (p < 0.05)         421.154508   \n",
       "GarageFinish      Significant differences (p < 0.05)         505.207812   \n",
       "GarageQual        Significant differences (p < 0.05)          61.564054   \n",
       "GarageCond        Significant differences (p < 0.05)          60.374685   \n",
       "PavedDrive        Significant differences (p < 0.05)         115.839102   \n",
       "PoolQC         No significant differences (p ≥ 0.05)           1.607143   \n",
       "Fence             Significant differences (p < 0.05)          32.838147   \n",
       "MiscFeature    No significant differences (p ≥ 0.05)           4.851431   \n",
       "SaleType          Significant differences (p < 0.05)         156.382877   \n",
       "SaleCondition     Significant differences (p < 0.05)         168.322541   \n",
       "\n",
       "               kruskal_pvalue                     kruskal_conclusion  \n",
       "MSZoning         3.080724e-57     Significant differences (p < 0.05)  \n",
       "Street           8.012556e-02  No significant differences (p ≥ 0.05)  \n",
       "Alley            1.173413e-08     Significant differences (p < 0.05)  \n",
       "LotShape         1.640323e-32     Significant differences (p < 0.05)  \n",
       "LandContour      1.047923e-07     Significant differences (p < 0.05)  \n",
       "Utilities        5.233080e-01  No significant differences (p ≥ 0.05)  \n",
       "LotConfig        3.297912e-07     Significant differences (p < 0.05)  \n",
       "LandSlope        1.395380e-01  No significant differences (p ≥ 0.05)  \n",
       "Neighborhood    6.696799e-168     Significant differences (p < 0.05)  \n",
       "Condition1       6.492600e-13     Significant differences (p < 0.05)  \n",
       "Condition2       1.303159e-02     Significant differences (p < 0.05)  \n",
       "BldgType         2.500858e-14     Significant differences (p < 0.05)  \n",
       "HouseStyle       1.388507e-36     Significant differences (p < 0.05)  \n",
       "RoofStyle        1.580733e-07     Significant differences (p < 0.05)  \n",
       "RoofMatl         8.597464e-03     Significant differences (p < 0.05)  \n",
       "Exterior1st      1.694486e-56     Significant differences (p < 0.05)  \n",
       "Exterior2nd      1.047636e-51     Significant differences (p < 0.05)  \n",
       "MasVnrType       1.826801e-59     Significant differences (p < 0.05)  \n",
       "ExterQual       8.180798e-148     Significant differences (p < 0.05)  \n",
       "ExterCond        1.832365e-09     Significant differences (p < 0.05)  \n",
       "Foundation      2.169096e-103     Significant differences (p < 0.05)  \n",
       "BsmtQual        1.265030e-136     Significant differences (p < 0.05)  \n",
       "BsmtCond         2.072696e-13     Significant differences (p < 0.05)  \n",
       "BsmtExposure     6.343558e-30     Significant differences (p < 0.05)  \n",
       "BsmtFinType1     2.413404e-62     Significant differences (p < 0.05)  \n",
       "BsmtFinType2     5.027077e-02  No significant differences (p ≥ 0.05)  \n",
       "Heating          3.331280e-06     Significant differences (p < 0.05)  \n",
       "HeatingQC        6.036449e-76     Significant differences (p < 0.05)  \n",
       "CentralAir       5.319642e-33     Significant differences (p < 0.05)  \n",
       "Electrical       1.932218e-27     Significant differences (p < 0.05)  \n",
       "KitchenQual     4.720113e-143     Significant differences (p < 0.05)  \n",
       "Functional       1.274180e-05     Significant differences (p < 0.05)  \n",
       "FireplaceQu      6.807632e-17     Significant differences (p < 0.05)  \n",
       "GarageType       8.166415e-89     Significant differences (p < 0.05)  \n",
       "GarageFinish    1.974775e-110     Significant differences (p < 0.05)  \n",
       "GarageQual       1.360558e-12     Significant differences (p < 0.05)  \n",
       "GarageCond       2.419814e-12     Significant differences (p < 0.05)  \n",
       "PavedDrive       7.012268e-26     Significant differences (p < 0.05)  \n",
       "PoolQC           4.477271e-01  No significant differences (p ≥ 0.05)  \n",
       "Fence            3.484051e-07     Significant differences (p < 0.05)  \n",
       "MiscFeature      1.830050e-01  No significant differences (p ≥ 0.05)  \n",
       "SaleType         9.119744e-30     Significant differences (p < 0.05)  \n",
       "SaleCondition    1.663313e-34     Significant differences (p < 0.05)  "
      ]
     },
     "metadata": {},
     "output_type": "display_data"
    }
   ],
   "source": [
    "from scipy.stats import f_oneway, kruskal\n",
    "import pandas as pd\n",
    "\n",
    "def cat_kruskal(train_df: pd.DataFrame, target: str) -> pd.DataFrame:\n",
    "    test_cat_list = []\n",
    "    test_cat_cols = []\n",
    "\n",
    "    # Identificar columnas categóricas\n",
    "    cat_cols = train_df.select_dtypes(include=['object', 'category']).columns\n",
    "    \n",
    "    for col in cat_cols:\n",
    "        # Agrupar los valores del target por las categorías de la columna\n",
    "        test_group = train_df.groupby(col)[target].apply(list)\n",
    "        \n",
    "        # Pruebas estadísticas\n",
    "        f_oneway_result = f_oneway(*test_group)\n",
    "        kruskal_result = kruskal(*test_group)\n",
    "    \n",
    "        # Evaluar conclusiones según los p-valores\n",
    "        anova_conclusion = (\n",
    "            \"Significant differences (p < 0.05)\"\n",
    "            if f_oneway_result.pvalue < 0.05\n",
    "            else \"No significant differences (p ≥ 0.05)\"\n",
    "        )\n",
    "        kruskal_conclusion = (\n",
    "            \"Significant differences (p < 0.05)\"\n",
    "            if kruskal_result.pvalue < 0.05\n",
    "            else \"No significant differences (p ≥ 0.05)\"\n",
    "        )\n",
    "        \n",
    "        # Agregar resultados y conclusiones\n",
    "        test_cat_list.append([\n",
    "            f_oneway_result.statistic, f_oneway_result.pvalue, anova_conclusion,\n",
    "            kruskal_result.statistic, kruskal_result.pvalue, kruskal_conclusion\n",
    "        ])\n",
    "        test_cat_cols.append(col)\n",
    "    \n",
    "    # Crear DataFrame con resultados\n",
    "    return pd.DataFrame(\n",
    "        test_cat_list,\n",
    "        index=test_cat_cols,\n",
    "        columns=[\n",
    "            'anova_statistic', 'anova_pvalue', 'anova_conclusion',\n",
    "            'kruskal_statistic', 'kruskal_pvalue', 'kruskal_conclusion'\n",
    "        ]\n",
    "    )\n",
    "\n",
    "\n",
    "# Llamar a la función\n",
    "results = cat_kruskal(df_train_raw, \"SalePrice\")\n",
    "display(results)\n"
   ]
  },
  {
   "cell_type": "markdown",
   "id": "974c7d15",
   "metadata": {
    "papermill": {
     "duration": 0.015343,
     "end_time": "2025-01-10T23:32:46.853414",
     "exception": false,
     "start_time": "2025-01-10T23:32:46.838071",
     "status": "completed"
    },
    "tags": []
   },
   "source": [
    "Almost at the end. When interpreting the feature importance of our model, statistically insignificant features are considered unimportant and should be removed for two main reasons."
   ]
  },
  {
   "cell_type": "markdown",
   "id": "400a609a",
   "metadata": {
    "papermill": {
     "duration": 0.015038,
     "end_time": "2025-01-10T23:32:46.883836",
     "exception": false,
     "start_time": "2025-01-10T23:32:46.868798",
     "status": "completed"
    },
    "tags": []
   },
   "source": [
    "# Preprocessing data"
   ]
  },
  {
   "cell_type": "code",
   "execution_count": 19,
   "id": "6834ed66",
   "metadata": {
    "execution": {
     "iopub.execute_input": "2025-01-10T23:32:46.915906Z",
     "iopub.status.busy": "2025-01-10T23:32:46.915392Z",
     "iopub.status.idle": "2025-01-10T23:32:46.921351Z",
     "shell.execute_reply": "2025-01-10T23:32:46.920548Z"
    },
    "papermill": {
     "duration": 0.023844,
     "end_time": "2025-01-10T23:32:46.922983",
     "exception": false,
     "start_time": "2025-01-10T23:32:46.899139",
     "status": "completed"
    },
    "tags": []
   },
   "outputs": [],
   "source": [
    "# Preprocessing function\n",
    "def preprocess(df):\n",
    "    df = df.copy() # Make copy so we don't ruin the original dataframe\n",
    "    df = df.drop(columns=[\"Id\"], errors='ignore') # Drop Id column\n",
    "    \n",
    "    numeric_cols = df.select_dtypes(np.number).columns # Numerical column name\n",
    "    numeric_cols = numeric_cols.drop(\"SalePrice\", errors='ignore') # Drop label\n",
    "    categorical_cols =  df.select_dtypes(include=['object']).columns # Categorical column name\n",
    "    \n",
    "    df_categorical = pd.get_dummies(df[categorical_cols], dummy_na=True) # OneHotEncoding, dummy_na create another column to indicate if the cell contain NA\n",
    "    \n",
    "    df_numerical = df[numeric_cols].apply(lambda x: (x - x.mean()) / (x.std())) # Normalize every numerical column\n",
    "    df_numerical = df_numerical.fillna(0) # Fill in missing value with mean 0\n",
    "    \n",
    "    df = pd.concat([df_numerical, df_categorical], axis=1) # Bind numerical column and categorical column\n",
    "    \n",
    "    return df"
   ]
  },
  {
   "cell_type": "code",
   "execution_count": 20,
   "id": "1833f665",
   "metadata": {
    "execution": {
     "iopub.execute_input": "2025-01-10T23:32:46.954008Z",
     "iopub.status.busy": "2025-01-10T23:32:46.953723Z",
     "iopub.status.idle": "2025-01-10T23:32:47.013967Z",
     "shell.execute_reply": "2025-01-10T23:32:47.013087Z"
    },
    "papermill": {
     "duration": 0.077902,
     "end_time": "2025-01-10T23:32:47.015927",
     "exception": false,
     "start_time": "2025-01-10T23:32:46.938025",
     "status": "completed"
    },
    "tags": []
   },
   "outputs": [],
   "source": [
    "# Get inputs and target\n",
    "df_train_y = df_train_raw[\"SalePrice\"].copy() # Copy the target\n",
    "df_train_y = np.log(df_train_y, where=df_train_y != 0) # Scale the target\n",
    "df_train_X = preprocess(df_train_raw) # Preprocess the inputs"
   ]
  },
  {
   "cell_type": "code",
   "execution_count": 21,
   "id": "301d520c",
   "metadata": {
    "execution": {
     "iopub.execute_input": "2025-01-10T23:32:47.047657Z",
     "iopub.status.busy": "2025-01-10T23:32:47.047393Z",
     "iopub.status.idle": "2025-01-10T23:32:47.064887Z",
     "shell.execute_reply": "2025-01-10T23:32:47.064104Z"
    },
    "papermill": {
     "duration": 0.035116,
     "end_time": "2025-01-10T23:32:47.066608",
     "exception": false,
     "start_time": "2025-01-10T23:32:47.031492",
     "status": "completed"
    },
    "tags": []
   },
   "outputs": [
    {
     "data": {
      "text/html": [
       "<div>\n",
       "<style scoped>\n",
       "    .dataframe tbody tr th:only-of-type {\n",
       "        vertical-align: middle;\n",
       "    }\n",
       "\n",
       "    .dataframe tbody tr th {\n",
       "        vertical-align: top;\n",
       "    }\n",
       "\n",
       "    .dataframe thead th {\n",
       "        text-align: right;\n",
       "    }\n",
       "</style>\n",
       "<table border=\"1\" class=\"dataframe\">\n",
       "  <thead>\n",
       "    <tr style=\"text-align: right;\">\n",
       "      <th></th>\n",
       "      <th>MSSubClass</th>\n",
       "      <th>LotFrontage</th>\n",
       "      <th>LotArea</th>\n",
       "      <th>OverallQual</th>\n",
       "      <th>OverallCond</th>\n",
       "      <th>YearBuilt</th>\n",
       "      <th>YearRemodAdd</th>\n",
       "      <th>MasVnrArea</th>\n",
       "      <th>BsmtFinSF1</th>\n",
       "      <th>BsmtFinSF2</th>\n",
       "      <th>...</th>\n",
       "      <th>SaleType_Oth</th>\n",
       "      <th>SaleType_WD</th>\n",
       "      <th>SaleType_nan</th>\n",
       "      <th>SaleCondition_Abnorml</th>\n",
       "      <th>SaleCondition_AdjLand</th>\n",
       "      <th>SaleCondition_Alloca</th>\n",
       "      <th>SaleCondition_Family</th>\n",
       "      <th>SaleCondition_Normal</th>\n",
       "      <th>SaleCondition_Partial</th>\n",
       "      <th>SaleCondition_nan</th>\n",
       "    </tr>\n",
       "  </thead>\n",
       "  <tbody>\n",
       "    <tr>\n",
       "      <th>1455</th>\n",
       "      <td>0.073350</td>\n",
       "      <td>-0.331482</td>\n",
       "      <td>-0.260471</td>\n",
       "      <td>-0.071812</td>\n",
       "      <td>-0.517023</td>\n",
       "      <td>0.918196</td>\n",
       "      <td>0.733056</td>\n",
       "      <td>-0.572637</td>\n",
       "      <td>-0.972685</td>\n",
       "      <td>-0.288554</td>\n",
       "      <td>...</td>\n",
       "      <td>0</td>\n",
       "      <td>1</td>\n",
       "      <td>0</td>\n",
       "      <td>0</td>\n",
       "      <td>0</td>\n",
       "      <td>0</td>\n",
       "      <td>0</td>\n",
       "      <td>1</td>\n",
       "      <td>0</td>\n",
       "      <td>0</td>\n",
       "    </tr>\n",
       "    <tr>\n",
       "      <th>1456</th>\n",
       "      <td>-0.872264</td>\n",
       "      <td>0.615614</td>\n",
       "      <td>0.266316</td>\n",
       "      <td>-0.071812</td>\n",
       "      <td>0.381612</td>\n",
       "      <td>0.222899</td>\n",
       "      <td>0.151813</td>\n",
       "      <td>0.084581</td>\n",
       "      <td>0.759399</td>\n",
       "      <td>0.721865</td>\n",
       "      <td>...</td>\n",
       "      <td>0</td>\n",
       "      <td>1</td>\n",
       "      <td>0</td>\n",
       "      <td>0</td>\n",
       "      <td>0</td>\n",
       "      <td>0</td>\n",
       "      <td>0</td>\n",
       "      <td>1</td>\n",
       "      <td>0</td>\n",
       "      <td>0</td>\n",
       "    </tr>\n",
       "    <tr>\n",
       "      <th>1457</th>\n",
       "      <td>0.309753</td>\n",
       "      <td>-0.166770</td>\n",
       "      <td>-0.147760</td>\n",
       "      <td>0.651256</td>\n",
       "      <td>3.077516</td>\n",
       "      <td>-1.002149</td>\n",
       "      <td>1.023678</td>\n",
       "      <td>-0.572637</td>\n",
       "      <td>-0.369744</td>\n",
       "      <td>-0.288554</td>\n",
       "      <td>...</td>\n",
       "      <td>0</td>\n",
       "      <td>1</td>\n",
       "      <td>0</td>\n",
       "      <td>0</td>\n",
       "      <td>0</td>\n",
       "      <td>0</td>\n",
       "      <td>0</td>\n",
       "      <td>1</td>\n",
       "      <td>0</td>\n",
       "      <td>0</td>\n",
       "    </tr>\n",
       "    <tr>\n",
       "      <th>1458</th>\n",
       "      <td>-0.872264</td>\n",
       "      <td>-0.084413</td>\n",
       "      <td>-0.080133</td>\n",
       "      <td>-0.794879</td>\n",
       "      <td>0.381612</td>\n",
       "      <td>-0.704164</td>\n",
       "      <td>0.539309</td>\n",
       "      <td>-0.572637</td>\n",
       "      <td>-0.865252</td>\n",
       "      <td>6.090101</td>\n",
       "      <td>...</td>\n",
       "      <td>0</td>\n",
       "      <td>1</td>\n",
       "      <td>0</td>\n",
       "      <td>0</td>\n",
       "      <td>0</td>\n",
       "      <td>0</td>\n",
       "      <td>0</td>\n",
       "      <td>1</td>\n",
       "      <td>0</td>\n",
       "      <td>0</td>\n",
       "    </tr>\n",
       "    <tr>\n",
       "      <th>1459</th>\n",
       "      <td>-0.872264</td>\n",
       "      <td>0.203833</td>\n",
       "      <td>-0.058092</td>\n",
       "      <td>-0.794879</td>\n",
       "      <td>0.381612</td>\n",
       "      <td>-0.207523</td>\n",
       "      <td>-0.962236</td>\n",
       "      <td>-0.572637</td>\n",
       "      <td>0.847099</td>\n",
       "      <td>1.509123</td>\n",
       "      <td>...</td>\n",
       "      <td>0</td>\n",
       "      <td>1</td>\n",
       "      <td>0</td>\n",
       "      <td>0</td>\n",
       "      <td>0</td>\n",
       "      <td>0</td>\n",
       "      <td>0</td>\n",
       "      <td>1</td>\n",
       "      <td>0</td>\n",
       "      <td>0</td>\n",
       "    </tr>\n",
       "  </tbody>\n",
       "</table>\n",
       "<p>5 rows × 331 columns</p>\n",
       "</div>"
      ],
      "text/plain": [
       "      MSSubClass  LotFrontage   LotArea  OverallQual  OverallCond  YearBuilt  \\\n",
       "1455    0.073350    -0.331482 -0.260471    -0.071812    -0.517023   0.918196   \n",
       "1456   -0.872264     0.615614  0.266316    -0.071812     0.381612   0.222899   \n",
       "1457    0.309753    -0.166770 -0.147760     0.651256     3.077516  -1.002149   \n",
       "1458   -0.872264    -0.084413 -0.080133    -0.794879     0.381612  -0.704164   \n",
       "1459   -0.872264     0.203833 -0.058092    -0.794879     0.381612  -0.207523   \n",
       "\n",
       "      YearRemodAdd  MasVnrArea  BsmtFinSF1  BsmtFinSF2  ...  SaleType_Oth  \\\n",
       "1455      0.733056   -0.572637   -0.972685   -0.288554  ...             0   \n",
       "1456      0.151813    0.084581    0.759399    0.721865  ...             0   \n",
       "1457      1.023678   -0.572637   -0.369744   -0.288554  ...             0   \n",
       "1458      0.539309   -0.572637   -0.865252    6.090101  ...             0   \n",
       "1459     -0.962236   -0.572637    0.847099    1.509123  ...             0   \n",
       "\n",
       "      SaleType_WD  SaleType_nan  SaleCondition_Abnorml  SaleCondition_AdjLand  \\\n",
       "1455            1             0                      0                      0   \n",
       "1456            1             0                      0                      0   \n",
       "1457            1             0                      0                      0   \n",
       "1458            1             0                      0                      0   \n",
       "1459            1             0                      0                      0   \n",
       "\n",
       "      SaleCondition_Alloca  SaleCondition_Family  SaleCondition_Normal  \\\n",
       "1455                     0                     0                     1   \n",
       "1456                     0                     0                     1   \n",
       "1457                     0                     0                     1   \n",
       "1458                     0                     0                     1   \n",
       "1459                     0                     0                     1   \n",
       "\n",
       "      SaleCondition_Partial  SaleCondition_nan  \n",
       "1455                      0                  0  \n",
       "1456                      0                  0  \n",
       "1457                      0                  0  \n",
       "1458                      0                  0  \n",
       "1459                      0                  0  \n",
       "\n",
       "[5 rows x 331 columns]"
      ]
     },
     "execution_count": 21,
     "metadata": {},
     "output_type": "execute_result"
    }
   ],
   "source": [
    "# Check our new processed dataframe\n",
    "df_train_X.tail()"
   ]
  },
  {
   "cell_type": "code",
   "execution_count": 22,
   "id": "d654f9ff",
   "metadata": {
    "execution": {
     "iopub.execute_input": "2025-01-10T23:32:47.098710Z",
     "iopub.status.busy": "2025-01-10T23:32:47.098214Z",
     "iopub.status.idle": "2025-01-10T23:32:47.371726Z",
     "shell.execute_reply": "2025-01-10T23:32:47.370966Z"
    },
    "papermill": {
     "duration": 0.291577,
     "end_time": "2025-01-10T23:32:47.373657",
     "exception": false,
     "start_time": "2025-01-10T23:32:47.082080",
     "status": "completed"
    },
    "tags": []
   },
   "outputs": [
    {
     "data": {
      "text/plain": [
       "<AxesSubplot:xlabel='SalePrice', ylabel='Count'>"
      ]
     },
     "execution_count": 22,
     "metadata": {},
     "output_type": "execute_result"
    },
    {
     "data": {
      "image/png": "[encoded data removed]",
      "text/plain": [
       "<Figure size 432x288 with 1 Axes>"
      ]
     },
     "metadata": {},
     "output_type": "display_data"
    }
   ],
   "source": [
    "# Check the distribution of the data\n",
    "sns.histplot(df_train_y, kde=True)"
   ]
  },
  {
   "cell_type": "markdown",
   "id": "dbd9a21c",
   "metadata": {
    "papermill": {
     "duration": 0.015848,
     "end_time": "2025-01-10T23:32:47.405899",
     "exception": false,
     "start_time": "2025-01-10T23:32:47.390051",
     "status": "completed"
    },
    "tags": []
   },
   "source": [
    "Now the values seems more symmetrical and close to each other"
   ]
  },
  {
   "cell_type": "code",
   "execution_count": 23,
   "id": "bb5cec0c",
   "metadata": {
    "execution": {
     "iopub.execute_input": "2025-01-10T23:32:47.438868Z",
     "iopub.status.busy": "2025-01-10T23:32:47.438536Z",
     "iopub.status.idle": "2025-01-10T23:32:47.447648Z",
     "shell.execute_reply": "2025-01-10T23:32:47.447023Z"
    },
    "papermill": {
     "duration": 0.027794,
     "end_time": "2025-01-10T23:32:47.449374",
     "exception": false,
     "start_time": "2025-01-10T23:32:47.421580",
     "status": "completed"
    },
    "tags": []
   },
   "outputs": [],
   "source": [
    "# Split the data into 80% training and 20% validation\n",
    "df_train_X, df_val_X, df_train_y, df_val_y = train_test_split(df_train_X, df_train_y, \n",
    "                                                                        train_size=0.8, random_state=42)\n"
   ]
  },
  {
   "cell_type": "markdown",
   "id": "b02fbb90",
   "metadata": {
    "papermill": {
     "duration": 0.015912,
     "end_time": "2025-01-10T23:32:47.481228",
     "exception": false,
     "start_time": "2025-01-10T23:32:47.465316",
     "status": "completed"
    },
    "tags": []
   },
   "source": [
    "# Model Building"
   ]
  },
  {
   "cell_type": "code",
   "execution_count": 24,
   "id": "e08e4627",
   "metadata": {
    "execution": {
     "iopub.execute_input": "2025-01-10T23:32:47.515921Z",
     "iopub.status.busy": "2025-01-10T23:32:47.515575Z",
     "iopub.status.idle": "2025-01-10T23:32:47.522527Z",
     "shell.execute_reply": "2025-01-10T23:32:47.521583Z"
    },
    "papermill": {
     "duration": 0.026389,
     "end_time": "2025-01-10T23:32:47.524446",
     "exception": false,
     "start_time": "2025-01-10T23:32:47.498057",
     "status": "completed"
    },
    "tags": []
   },
   "outputs": [],
   "source": [
    "# Building a model\n",
    "class Model(nn.Module):\n",
    "    def __init__(self, D_in=331, H=222, D_out=1, Hn=4):\n",
    "        super().__init__()\n",
    "        self.Hn = Hn # Number of hidden layer\n",
    "        self.activation = nn.Softplus() # Activation function\n",
    "        \n",
    "        self.layers = nn.ModuleList([nn.Linear(D_in, H), self.activation]) # First hidden layer\n",
    "        for i in range(self.Hn - 1):\n",
    "            self.layers.extend([nn.Linear(H, H), self.activation]) # Add hidden layer\n",
    "        self.layers.append(nn.Linear(H, D_out)) # Output layer\n",
    "        \n",
    "    def forward(self, x):\n",
    "        for layer in self.layers:\n",
    "            x = layer(x)\n",
    "        return x"
   ]
  },
  {
   "cell_type": "markdown",
   "id": "bc562451",
   "metadata": {
    "papermill": {
     "duration": 0.015703,
     "end_time": "2025-01-10T23:32:47.557536",
     "exception": false,
     "start_time": "2025-01-10T23:32:47.541833",
     "status": "completed"
    },
    "tags": []
   },
   "source": [
    "- D_in is the number of input\n",
    "- D_out is the number of output\n",
    "- H is the number of neuron in each layer, which we can simply use D_in*2/3 + D_out\n",
    "- Hn is the number of hidden layer"
   ]
  },
  {
   "cell_type": "markdown",
   "id": "1acedda1",
   "metadata": {
    "papermill": {
     "duration": 0.015982,
     "end_time": "2025-01-10T23:32:47.589582",
     "exception": false,
     "start_time": "2025-01-10T23:32:47.573600",
     "status": "completed"
    },
    "tags": []
   },
   "source": [
    "# Model Training"
   ]
  },
  {
   "cell_type": "code",
   "execution_count": 25,
   "id": "11d00831",
   "metadata": {
    "execution": {
     "iopub.execute_input": "2025-01-10T23:32:47.622883Z",
     "iopub.status.busy": "2025-01-10T23:32:47.622544Z",
     "iopub.status.idle": "2025-01-10T23:32:47.629610Z",
     "shell.execute_reply": "2025-01-10T23:32:47.628943Z"
    },
    "papermill": {
     "duration": 0.025845,
     "end_time": "2025-01-10T23:32:47.631434",
     "exception": false,
     "start_time": "2025-01-10T23:32:47.605589",
     "status": "completed"
    },
    "tags": []
   },
   "outputs": [],
   "source": [
    "# Setting seed for reproducibility\n",
    "def set_seed(seed):\n",
    "    torch.manual_seed(seed)\n",
    "    torch.cuda.manual_seed(seed)\n",
    "    torch.backends.cudnn.deterministic = True\n",
    "    torch.use_deterministic_algorithms = True\n",
    "    \n",
    "# Set seed for reproducibility\n",
    "set_seed(123)"
   ]
  },
  {
   "cell_type": "code",
   "execution_count": 26,
   "id": "dba1fe6b",
   "metadata": {
    "execution": {
     "iopub.execute_input": "2025-01-10T23:32:47.664345Z",
     "iopub.status.busy": "2025-01-10T23:32:47.664091Z",
     "iopub.status.idle": "2025-01-10T23:32:47.714818Z",
     "shell.execute_reply": "2025-01-10T23:32:47.713790Z"
    },
    "papermill": {
     "duration": 0.069225,
     "end_time": "2025-01-10T23:32:47.716706",
     "exception": false,
     "start_time": "2025-01-10T23:32:47.647481",
     "status": "completed"
    },
    "tags": []
   },
   "outputs": [
    {
     "name": "stdout",
     "output_type": "stream",
     "text": [
      "cuda\n"
     ]
    }
   ],
   "source": [
    "# Set device to gpu (cuda) if it's available\n",
    "device = torch.device('cuda' if torch.cuda.is_available() else 'cpu')\n",
    "print(device)"
   ]
  },
  {
   "cell_type": "code",
   "execution_count": 27,
   "id": "5c340b61",
   "metadata": {
    "execution": {
     "iopub.execute_input": "2025-01-10T23:32:47.750144Z",
     "iopub.status.busy": "2025-01-10T23:32:47.749848Z",
     "iopub.status.idle": "2025-01-10T23:32:50.746142Z",
     "shell.execute_reply": "2025-01-10T23:32:50.745205Z"
    },
    "papermill": {
     "duration": 3.015899,
     "end_time": "2025-01-10T23:32:50.748911",
     "exception": false,
     "start_time": "2025-01-10T23:32:47.733012",
     "status": "completed"
    },
    "tags": []
   },
   "outputs": [],
   "source": [
    "# Data for validation\n",
    "y_val = torch.tensor(df_val_y.values).float().to(device).unsqueeze(1) # Unsqueeze to match the shape of the output of our model\n",
    "X_val = torch.tensor(df_val_X.values).float().to(device)\n",
    "\n",
    "# Prepare data for batch training\n",
    "y_train = torch.tensor(df_train_y.values).float().to(device).unsqueeze(1) # Unsqueeze to match the shape of the output of our model\n",
    "X_train = torch.tensor(df_train_X.values).float().to(device)\n",
    "dataset = TensorDataset(X_train, y_train) # Make X,y into dataset so we can work with DataLoader which iterate our data in batch size\n",
    "dataloader = DataLoader(dataset, batch_size=16, shuffle=True)\n",
    "\n",
    "# Define Model,Optimizer, Criterion\n",
    "model = Model().to(device) # Define model and send to gpu\n",
    "optimizer = torch.optim.SGD(model.parameters(), lr=0.002, momentum=0.9, weight_decay=0.001) # What approach we use to minimize the gradient\n",
    "criterion = nn.MSELoss() # Our loss function"
   ]
  },
  {
   "cell_type": "code",
   "execution_count": 28,
   "id": "ef43406e",
   "metadata": {
    "execution": {
     "iopub.execute_input": "2025-01-10T23:32:50.784752Z",
     "iopub.status.busy": "2025-01-10T23:32:50.783958Z",
     "iopub.status.idle": "2025-01-10T23:33:18.540637Z",
     "shell.execute_reply": "2025-01-10T23:33:18.539904Z"
    },
    "papermill": {
     "duration": 27.776809,
     "end_time": "2025-01-10T23:33:18.542892",
     "exception": false,
     "start_time": "2025-01-10T23:32:50.766083",
     "status": "completed"
    },
    "tags": []
   },
   "outputs": [],
   "source": [
    "train_losses = [] # Store the training loss\n",
    "val_losses = [] # Store the validation loss\n",
    "epochs = 250 # Number of time we go over the whole dataset\n",
    "\n",
    "for epoch in range(epochs):\n",
    "    running_loss = 0.0\n",
    "    \n",
    "    for batch, (X,y) in enumerate(dataloader):\n",
    "        # Forward propagation\n",
    "        y_pred = model(X) # Make prediction by passing X to our model\n",
    "        loss = criterion(y_pred, y) # Calculate loss \n",
    "        running_loss += loss.item() # Add loss to running loss\n",
    "        \n",
    "        # Backward propagation\n",
    "        optimizer.zero_grad() # Empty the gradient (look up this function)\n",
    "        loss.backward() # Do backward propagation and calculate the gradient of loss with respect to every parameters (that require gradient)\n",
    "        optimizer.step() # Adjust parameters to minimize loss\n",
    "    \n",
    "    # Append train loss\n",
    "    train_losses.append(running_loss/(batch + 1)) # Add the average loss of this iteration to training loss\n",
    "    \n",
    "    # Check test loss\n",
    "    y_pred = model(X_val)\n",
    "    val_loss = criterion(y_pred, y_val).item()\n",
    "    val_losses.append(val_loss)"
   ]
  },
  {
   "cell_type": "markdown",
   "id": "32bf1cb4",
   "metadata": {
    "papermill": {
     "duration": 0.016089,
     "end_time": "2025-01-10T23:33:18.575569",
     "exception": false,
     "start_time": "2025-01-10T23:33:18.559480",
     "status": "completed"
    },
    "tags": []
   },
   "source": [
    "# Model Evaluation"
   ]
  },
  {
   "cell_type": "code",
   "execution_count": 29,
   "id": "827ccbd4",
   "metadata": {
    "execution": {
     "iopub.execute_input": "2025-01-10T23:33:18.608895Z",
     "iopub.status.busy": "2025-01-10T23:33:18.608569Z",
     "iopub.status.idle": "2025-01-10T23:33:18.617153Z",
     "shell.execute_reply": "2025-01-10T23:33:18.616376Z"
    },
    "papermill": {
     "duration": 0.027304,
     "end_time": "2025-01-10T23:33:18.618865",
     "exception": false,
     "start_time": "2025-01-10T23:33:18.591561",
     "status": "completed"
    },
    "tags": []
   },
   "outputs": [],
   "source": [
    "# Plotting loss\n",
    "def plot_loss(losses, axes=None, epoch_start = 0):\n",
    "    sns.set_theme(style=\"darkgrid\")\n",
    "    x = [i for i in range(1 + epoch_start, len(losses) + 1)]\n",
    "    sns.lineplot(ax=axes, x=x, y=losses[epoch_start:])\n",
    "    \n",
    "    \n",
    "def plot_epoch_loss(train_losses, test_losses, epoch1=0, epoch2=10, epoch3=50, epoch4=150):\n",
    "    fig, axes = plt.subplots(2, 2, figsize=(12,6), constrained_layout = True)\n",
    "    fig.suptitle(\"Losses against Epochs\")\n",
    "\n",
    "    axes[0][0].set_title('Epoch Start at ' + str(epoch1))\n",
    "    plot_loss(train_losses, axes[0][0], epoch1)\n",
    "    plot_loss(test_losses, axes[0][0], epoch1)\n",
    "\n",
    "    axes[0][1].set_title('Epoch Start at ' + str(epoch2))\n",
    "    plot_loss(train_losses, axes[0][1], epoch2)\n",
    "    plot_loss(test_losses, axes[0][1], epoch2)\n",
    "\n",
    "    axes[1][0].set_title('Epoch Start at ' + str(epoch3))\n",
    "    plot_loss(train_losses, axes[1][0], epoch3)\n",
    "    plot_loss(test_losses, axes[1][0], epoch3)\n",
    "\n",
    "    axes[1][1].set_title('Epoch Start at ' + str(epoch4))\n",
    "    plot_loss(train_losses, axes[1][1], epoch4)\n",
    "    plot_loss(test_losses, axes[1][1], epoch4)"
   ]
  },
  {
   "cell_type": "code",
   "execution_count": 30,
   "id": "1e0324f8",
   "metadata": {
    "execution": {
     "iopub.execute_input": "2025-01-10T23:33:18.652013Z",
     "iopub.status.busy": "2025-01-10T23:33:18.651409Z",
     "iopub.status.idle": "2025-01-10T23:33:19.509925Z",
     "shell.execute_reply": "2025-01-10T23:33:19.509019Z"
    },
    "papermill": {
     "duration": 0.878436,
     "end_time": "2025-01-10T23:33:19.513227",
     "exception": false,
     "start_time": "2025-01-10T23:33:18.634791",
     "status": "completed"
    },
    "tags": []
   },
   "outputs": [
    {
     "data": {
      "image/png": "[encoded data removed]",
      "text/plain": [
       "<Figure size 864x432 with 4 Axes>"
      ]
     },
     "metadata": {},
     "output_type": "display_data"
    }
   ],
   "source": [
    "plot_epoch_loss(train_losses, val_losses)"
   ]
  },
  {
   "cell_type": "code",
   "execution_count": 31,
   "id": "c4e28808",
   "metadata": {
    "execution": {
     "iopub.execute_input": "2025-01-10T23:33:19.551422Z",
     "iopub.status.busy": "2025-01-10T23:33:19.551155Z",
     "iopub.status.idle": "2025-01-10T23:33:19.557063Z",
     "shell.execute_reply": "2025-01-10T23:33:19.556179Z"
    },
    "papermill": {
     "duration": 0.026825,
     "end_time": "2025-01-10T23:33:19.558689",
     "exception": false,
     "start_time": "2025-01-10T23:33:19.531864",
     "status": "completed"
    },
    "tags": []
   },
   "outputs": [],
   "source": [
    "# Calculate the errors and turn into numpy array\n",
    "def numpy_error(model, X, y, exp=True):\n",
    "    y_pred = model(X)\n",
    "    if exp:\n",
    "        y = torch.exp(y)\n",
    "        y_pred = torch.exp(y_pred)\n",
    "\n",
    "    errors = (y_pred - y).flatten().detach().cpu().numpy()\n",
    "    return errors\n",
    "\n",
    "# Calculate the mean absolute error\n",
    "def mae(errors):\n",
    "    return np.abs(errors).mean()\n",
    "\n",
    "# Calculate the root mean squared error\n",
    "def rmse(errors):\n",
    "    mse = ((errors)**2).mean()\n",
    "    return np.sqrt(mse)"
   ]
  },
  {
   "cell_type": "code",
   "execution_count": 32,
   "id": "c5d7783b",
   "metadata": {
    "execution": {
     "iopub.execute_input": "2025-01-10T23:33:19.595454Z",
     "iopub.status.busy": "2025-01-10T23:33:19.595179Z",
     "iopub.status.idle": "2025-01-10T23:33:19.604488Z",
     "shell.execute_reply": "2025-01-10T23:33:19.603377Z"
    },
    "papermill": {
     "duration": 0.029704,
     "end_time": "2025-01-10T23:33:19.606283",
     "exception": false,
     "start_time": "2025-01-10T23:33:19.576579",
     "status": "completed"
    },
    "tags": []
   },
   "outputs": [
    {
     "name": "stdout",
     "output_type": "stream",
     "text": [
      "Error on training set\n",
      "MAE: 0.06746222078800201\n",
      "RMSE: 0.09724729508161545\n",
      "\n",
      "Error on testing set\n",
      "MAE: 0.08699536323547363\n",
      "RMSE: 0.13036629557609558\n"
     ]
    }
   ],
   "source": [
    "# Error on full training set \n",
    "errors = numpy_error(model, X_train, y_train, False)\n",
    "print(\"Error on training set\")\n",
    "print(f\"MAE: {mae(errors)}\\nRMSE: {rmse(errors)}\")\n",
    "\n",
    "# Error on testing set\n",
    "errors = numpy_error(model, X_val, y_val, False)\n",
    "print(\"\\nError on testing set\")\n",
    "print(f\"MAE: {mae(errors)}\\nRMSE: {rmse(errors)}\")"
   ]
  },
  {
   "cell_type": "markdown",
   "id": "8525f7da",
   "metadata": {
    "papermill": {
     "duration": 0.017488,
     "end_time": "2025-01-10T23:33:19.641935",
     "exception": false,
     "start_time": "2025-01-10T23:33:19.624447",
     "status": "completed"
    },
    "tags": []
   },
   "source": [
    "# Submission"
   ]
  },
  {
   "cell_type": "code",
   "execution_count": 33,
   "id": "80083d16",
   "metadata": {
    "execution": {
     "iopub.execute_input": "2025-01-10T23:33:19.678966Z",
     "iopub.status.busy": "2025-01-10T23:33:19.678294Z",
     "iopub.status.idle": "2025-01-10T23:33:19.704325Z",
     "shell.execute_reply": "2025-01-10T23:33:19.703435Z"
    },
    "papermill": {
     "duration": 0.046261,
     "end_time": "2025-01-10T23:33:19.706126",
     "exception": false,
     "start_time": "2025-01-10T23:33:19.659865",
     "status": "completed"
    },
    "tags": []
   },
   "outputs": [],
   "source": [
    "# Load the data and save the Id\n",
    "df_test = pd.read_csv(r'/kaggle/input/house-prices-advanced-regression-techniques/test.csv')\n",
    "submission_id = df_test[\"Id\"].copy()"
   ]
  },
  {
   "cell_type": "code",
   "execution_count": 34,
   "id": "42a17cad",
   "metadata": {
    "execution": {
     "iopub.execute_input": "2025-01-10T23:33:19.743644Z",
     "iopub.status.busy": "2025-01-10T23:33:19.743359Z",
     "iopub.status.idle": "2025-01-10T23:33:19.806784Z",
     "shell.execute_reply": "2025-01-10T23:33:19.805610Z"
    },
    "papermill": {
     "duration": 0.084459,
     "end_time": "2025-01-10T23:33:19.808650",
     "exception": false,
     "start_time": "2025-01-10T23:33:19.724191",
     "status": "completed"
    },
    "tags": []
   },
   "outputs": [
    {
     "name": "stdout",
     "output_type": "stream",
     "text": [
      "Index(['Condition2_RRAe', 'Condition2_RRAn', 'Condition2_RRNn',\n",
      "       'Electrical_Mix', 'Exterior1st_ImStucc', 'Exterior1st_Stone',\n",
      "       'Exterior2nd_Other', 'GarageQual_Ex', 'Heating_Floor', 'Heating_OthW',\n",
      "       'HouseStyle_2.5Fin', 'MiscFeature_TenC', 'PoolQC_Fa',\n",
      "       'RoofMatl_ClyTile', 'RoofMatl_Membran', 'RoofMatl_Metal',\n",
      "       'RoofMatl_Roll', 'Utilities_NoSeWa'],\n",
      "      dtype='object')\n"
     ]
    }
   ],
   "source": [
    "# Check for missing columns on submission inputs (after preprocessing)\n",
    "X_submission = preprocess(df_test)\n",
    "train_cols = df_train_X.columns\n",
    "submission_cols = X_submission.columns\n",
    "diff = train_cols.difference(submission_cols)\n",
    "print(diff)"
   ]
  },
  {
   "cell_type": "code",
   "execution_count": 35,
   "id": "613d88e5",
   "metadata": {
    "execution": {
     "iopub.execute_input": "2025-01-10T23:33:19.845999Z",
     "iopub.status.busy": "2025-01-10T23:33:19.845710Z",
     "iopub.status.idle": "2025-01-10T23:33:20.121960Z",
     "shell.execute_reply": "2025-01-10T23:33:20.120601Z"
    },
    "papermill": {
     "duration": 0.298503,
     "end_time": "2025-01-10T23:33:20.125428",
     "exception": false,
     "start_time": "2025-01-10T23:33:19.826925",
     "status": "completed"
    },
    "tags": []
   },
   "outputs": [],
   "source": [
    "# We can fix this by adding a few rows and on each row we add the value that is missing on specific column (before encoding)\n",
    "added_rows = 0 \n",
    "idx = len(df_test) # Where added row should be modified\n",
    "\n",
    "df_test_copy = df_test.copy() # Copy so we don't ruin the dataframe\n",
    "eg_row = df_test.iloc[0] # Example row\n",
    "\n",
    "for string in diff:\n",
    "    df_test_copy.append(eg_row) # Append the example row at the end of dataframe\n",
    "    col, value = string.split('_') # Split into column and value\n",
    "    df_test_copy.loc[idx, col] = value\n",
    "    idx += 1\n",
    "    added_rows += 1"
   ]
  },
  {
   "cell_type": "code",
   "execution_count": 36,
   "id": "42f282b3",
   "metadata": {
    "execution": {
     "iopub.execute_input": "2025-01-10T23:33:20.169227Z",
     "iopub.status.busy": "2025-01-10T23:33:20.168919Z",
     "iopub.status.idle": "2025-01-10T23:33:20.240229Z",
     "shell.execute_reply": "2025-01-10T23:33:20.239485Z"
    },
    "papermill": {
     "duration": 0.093658,
     "end_time": "2025-01-10T23:33:20.242231",
     "exception": false,
     "start_time": "2025-01-10T23:33:20.148573",
     "status": "completed"
    },
    "tags": []
   },
   "outputs": [],
   "source": [
    "df_test_copy = preprocess(df_test_copy) # Preprocess the copy\n",
    "X_submission = df_test_copy.drop(df_test_copy.tail(added_rows).index) # Remove the added rows\n",
    "X_submission = torch.tensor(X_submission.values).float().to(device) # Change it into tensor for our model"
   ]
  },
  {
   "cell_type": "code",
   "execution_count": 37,
   "id": "07315534",
   "metadata": {
    "execution": {
     "iopub.execute_input": "2025-01-10T23:33:20.282136Z",
     "iopub.status.busy": "2025-01-10T23:33:20.281370Z",
     "iopub.status.idle": "2025-01-10T23:33:20.295397Z",
     "shell.execute_reply": "2025-01-10T23:33:20.294713Z"
    },
    "papermill": {
     "duration": 0.035802,
     "end_time": "2025-01-10T23:33:20.297134",
     "exception": false,
     "start_time": "2025-01-10T23:33:20.261332",
     "status": "completed"
    },
    "tags": []
   },
   "outputs": [],
   "source": [
    "y_submission = model(X_submission).squeeze() # Make it into array\n",
    "y_submission = torch.exp(y_submission) # Scale back to normal value \n",
    "y_submission = y_submission.cpu().detach().numpy() # Change to numpy\n",
    "submission = pd.DataFrame({\"Id\":submission_id, \"SalePrice\":y_submission}) # Make dataframe for submissino\n",
    "submission.to_csv('submission.csv', index=False) # Put into csv file"
   ]
  },
  {
   "cell_type": "markdown",
   "id": "f3a43289",
   "metadata": {
    "papermill": {
     "duration": 0.018124,
     "end_time": "2025-01-10T23:33:20.333927",
     "exception": false,
     "start_time": "2025-01-10T23:33:20.315803",
     "status": "completed"
    },
    "tags": []
   },
   "source": [
    "***"
   ]
  }
 ],
 "metadata": {
  "kaggle": {
   "accelerator": "gpu",
   "dataSources": [
    {
     "databundleVersionId": 868283,
     "sourceId": 5407,
     "sourceType": "competition"
    }
   ],
   "dockerImageVersionId": 30302,
   "isGpuEnabled": true,
   "isInternetEnabled": true,
   "language": "python",
   "sourceType": "notebook"
  },
  "kernelspec": {
   "display_name": "Python 3",
   "language": "python",
   "name": "python3"
  },
  "language_info": {
   "codemirror_mode": {
    "name": "ipython",
    "version": 3
   },
   "file_extension": ".py",
   "mimetype": "text/x-python",
   "name": "python",
   "nbconvert_exporter": "python",
   "pygments_lexer": "ipython3",
   "version": "3.7.12"
  },
  "papermill": {
   "default_parameters": {},
   "duration": 48.900759,
   "end_time": "2025-01-10T23:33:21.575216",
   "environment_variables": {},
   "exception": null,
   "input_path": "__notebook__.ipynb",
   "output_path": "__notebook__.ipynb",
   "parameters": {},
   "start_time": "2025-01-10T23:32:32.674457",
   "version": "2.3.4"
  }
 },
 "nbformat": 4,
 "nbformat_minor": 5
}
