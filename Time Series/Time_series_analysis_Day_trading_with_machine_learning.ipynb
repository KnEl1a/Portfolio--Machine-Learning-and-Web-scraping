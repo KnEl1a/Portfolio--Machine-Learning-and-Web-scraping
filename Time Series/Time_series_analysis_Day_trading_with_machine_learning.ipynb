{
 "cells": [
  {
   "cell_type": "code",
   "execution_count": 27,
   "metadata": {
    "id": "ImIPo0LBiX3Q"
   },
   "outputs": [],
   "source": [
    "# !pip install yfinance"
   ]
  },
  {
   "cell_type": "code",
   "execution_count": 28,
   "metadata": {
    "colab": {
     "base_uri": "https://localhost:8080/",
     "height": 472
    },
    "id": "h8kk6gDEitup",
    "outputId": "4e12b69c-6171-46b9-9996-51a206d044a2"
   },
   "outputs": [
    {
     "name": "stderr",
     "output_type": "stream",
     "text": [
      "\r",
      "[*********************100%***********************]  1 of 1 completed\n"
     ]
    },
    {
     "data": {
      "application/vnd.google.colaboratory.intrinsic+json": {
       "summary": "{\n  \"name\": \"data\",\n  \"rows\": 1258,\n  \"fields\": [\n    {\n      \"column\": [\n        \"Date\",\n        \"\"\n      ],\n      \"properties\": {\n        \"dtype\": \"date\",\n        \"min\": \"2019-11-29 00:00:00+00:00\",\n        \"max\": \"2024-11-27 00:00:00+00:00\",\n        \"num_unique_values\": 1258,\n        \"samples\": [\n          \"2022-02-22 00:00:00+00:00\",\n          \"2020-04-27 00:00:00+00:00\",\n          \"2020-02-13 00:00:00+00:00\"\n        ],\n        \"semantic_type\": \"\",\n        \"description\": \"\"\n      }\n    },\n    {\n      \"column\": [\n        \"Close\",\n        \"TWLO\"\n      ],\n      \"properties\": {\n        \"dtype\": \"number\",\n        \"std\": 117.95533429830505,\n        \"min\": 42.7400016784668,\n        \"max\": 443.489990234375,\n        \"num_unique_values\": 1185,\n        \"samples\": [\n          362.3599853515625,\n          53.619998931884766,\n          104.3499984741211\n        ],\n        \"semantic_type\": \"\",\n        \"description\": \"\"\n      }\n    },\n    {\n      \"column\": [\n        \"Volume\",\n        \"TWLO\"\n      ],\n      \"properties\": {\n        \"dtype\": \"number\",\n        \"std\": 2692929,\n        \"min\": 677500,\n        \"max\": 44840800,\n        \"num_unique_values\": 1240,\n        \"samples\": [\n          1491400,\n          3661500,\n          2206600\n        ],\n        \"semantic_type\": \"\",\n        \"description\": \"\"\n      }\n    }\n  ]\n}",
       "type": "dataframe",
       "variable_name": "data"
      },
      "text/html": [
       "\n",
       "  <div id=\"df-e4610d09-903d-4555-aff3-e88114b4f714\" class=\"colab-df-container\">\n",
       "    <div>\n",
       "<style scoped>\n",
       "    .dataframe tbody tr th:only-of-type {\n",
       "        vertical-align: middle;\n",
       "    }\n",
       "\n",
       "    .dataframe tbody tr th {\n",
       "        vertical-align: top;\n",
       "    }\n",
       "\n",
       "    .dataframe thead tr th {\n",
       "        text-align: left;\n",
       "    }\n",
       "</style>\n",
       "<table border=\"1\" class=\"dataframe\">\n",
       "  <thead>\n",
       "    <tr>\n",
       "      <th>Price</th>\n",
       "      <th>Date</th>\n",
       "      <th>Close</th>\n",
       "      <th>Volume</th>\n",
       "    </tr>\n",
       "    <tr>\n",
       "      <th>Ticker</th>\n",
       "      <th></th>\n",
       "      <th>TWLO</th>\n",
       "      <th>TWLO</th>\n",
       "    </tr>\n",
       "  </thead>\n",
       "  <tbody>\n",
       "    <tr>\n",
       "      <th>0</th>\n",
       "      <td>2019-11-29 00:00:00+00:00</td>\n",
       "      <td>103.279999</td>\n",
       "      <td>1132200</td>\n",
       "    </tr>\n",
       "    <tr>\n",
       "      <th>1</th>\n",
       "      <td>2019-12-02 00:00:00+00:00</td>\n",
       "      <td>97.650002</td>\n",
       "      <td>5268200</td>\n",
       "    </tr>\n",
       "    <tr>\n",
       "      <th>2</th>\n",
       "      <td>2019-12-03 00:00:00+00:00</td>\n",
       "      <td>99.279999</td>\n",
       "      <td>2659500</td>\n",
       "    </tr>\n",
       "    <tr>\n",
       "      <th>3</th>\n",
       "      <td>2019-12-04 00:00:00+00:00</td>\n",
       "      <td>98.930000</td>\n",
       "      <td>2363900</td>\n",
       "    </tr>\n",
       "    <tr>\n",
       "      <th>4</th>\n",
       "      <td>2019-12-05 00:00:00+00:00</td>\n",
       "      <td>97.540001</td>\n",
       "      <td>1610000</td>\n",
       "    </tr>\n",
       "    <tr>\n",
       "      <th>...</th>\n",
       "      <td>...</td>\n",
       "      <td>...</td>\n",
       "      <td>...</td>\n",
       "    </tr>\n",
       "    <tr>\n",
       "      <th>1253</th>\n",
       "      <td>2024-11-21 00:00:00+00:00</td>\n",
       "      <td>102.070000</td>\n",
       "      <td>4216400</td>\n",
       "    </tr>\n",
       "    <tr>\n",
       "      <th>1254</th>\n",
       "      <td>2024-11-22 00:00:00+00:00</td>\n",
       "      <td>104.349998</td>\n",
       "      <td>2504200</td>\n",
       "    </tr>\n",
       "    <tr>\n",
       "      <th>1255</th>\n",
       "      <td>2024-11-25 00:00:00+00:00</td>\n",
       "      <td>105.410004</td>\n",
       "      <td>5962900</td>\n",
       "    </tr>\n",
       "    <tr>\n",
       "      <th>1256</th>\n",
       "      <td>2024-11-26 00:00:00+00:00</td>\n",
       "      <td>104.410004</td>\n",
       "      <td>1761900</td>\n",
       "    </tr>\n",
       "    <tr>\n",
       "      <th>1257</th>\n",
       "      <td>2024-11-27 00:00:00+00:00</td>\n",
       "      <td>102.910004</td>\n",
       "      <td>1397000</td>\n",
       "    </tr>\n",
       "  </tbody>\n",
       "</table>\n",
       "<p>1258 rows × 3 columns</p>\n",
       "</div>\n",
       "    <div class=\"colab-df-buttons\">\n",
       "\n",
       "  <div class=\"colab-df-container\">\n",
       "    <button class=\"colab-df-convert\" onclick=\"convertToInteractive('df-e4610d09-903d-4555-aff3-e88114b4f714')\"\n",
       "            title=\"Convert this dataframe to an interactive table.\"\n",
       "            style=\"display:none;\">\n",
       "\n",
       "  <svg xmlns=\"http://www.w3.org/2000/svg\" height=\"24px\" viewBox=\"0 -960 960 960\">\n",
       "    <path d=\"M120-120v-720h720v720H120Zm60-500h600v-160H180v160Zm220 220h160v-160H400v160Zm0 220h160v-160H400v160ZM180-400h160v-160H180v160Zm440 0h160v-160H620v160ZM180-180h160v-160H180v160Zm440 0h160v-160H620v160Z\"/>\n",
       "  </svg>\n",
       "    </button>\n",
       "\n",
       "  <style>\n",
       "    .colab-df-container {\n",
       "      display:flex;\n",
       "      gap: 12px;\n",
       "    }\n",
       "\n",
       "    .colab-df-convert {\n",
       "      background-color: #E8F0FE;\n",
       "      border: none;\n",
       "      border-radius: 50%;\n",
       "      cursor: pointer;\n",
       "      display: none;\n",
       "      fill: #1967D2;\n",
       "      height: 32px;\n",
       "      padding: 0 0 0 0;\n",
       "      width: 32px;\n",
       "    }\n",
       "\n",
       "    .colab-df-convert:hover {\n",
       "      background-color: #E2EBFA;\n",
       "      box-shadow: 0px 1px 2px rgba(60, 64, 67, 0.3), 0px 1px 3px 1px rgba(60, 64, 67, 0.15);\n",
       "      fill: #174EA6;\n",
       "    }\n",
       "\n",
       "    .colab-df-buttons div {\n",
       "      margin-bottom: 4px;\n",
       "    }\n",
       "\n",
       "    [theme=dark] .colab-df-convert {\n",
       "      background-color: #3B4455;\n",
       "      fill: #D2E3FC;\n",
       "    }\n",
       "\n",
       "    [theme=dark] .colab-df-convert:hover {\n",
       "      background-color: #434B5C;\n",
       "      box-shadow: 0px 1px 3px 1px rgba(0, 0, 0, 0.15);\n",
       "      filter: drop-shadow(0px 1px 2px rgba(0, 0, 0, 0.3));\n",
       "      fill: #FFFFFF;\n",
       "    }\n",
       "  </style>\n",
       "\n",
       "    <script>\n",
       "      const buttonEl =\n",
       "        document.querySelector('#df-e4610d09-903d-4555-aff3-e88114b4f714 button.colab-df-convert');\n",
       "      buttonEl.style.display =\n",
       "        google.colab.kernel.accessAllowed ? 'block' : 'none';\n",
       "\n",
       "      async function convertToInteractive(key) {\n",
       "        const element = document.querySelector('#df-e4610d09-903d-4555-aff3-e88114b4f714');\n",
       "        const dataTable =\n",
       "          await google.colab.kernel.invokeFunction('convertToInteractive',\n",
       "                                                    [key], {});\n",
       "        if (!dataTable) return;\n",
       "\n",
       "        const docLinkHtml = 'Like what you see? Visit the ' +\n",
       "          '<a target=\"_blank\" href=https://colab.research.google.com/notebooks/data_table.ipynb>data table notebook</a>'\n",
       "          + ' to learn more about interactive tables.';\n",
       "        element.innerHTML = '';\n",
       "        dataTable['output_type'] = 'display_data';\n",
       "        await google.colab.output.renderOutput(dataTable, element);\n",
       "        const docLink = document.createElement('div');\n",
       "        docLink.innerHTML = docLinkHtml;\n",
       "        element.appendChild(docLink);\n",
       "      }\n",
       "    </script>\n",
       "  </div>\n",
       "\n",
       "\n",
       "<div id=\"df-075d9a7c-7fd5-46d9-a903-36c39d6d0816\">\n",
       "  <button class=\"colab-df-quickchart\" onclick=\"quickchart('df-075d9a7c-7fd5-46d9-a903-36c39d6d0816')\"\n",
       "            title=\"Suggest charts\"\n",
       "            style=\"display:none;\">\n",
       "\n",
       "<svg xmlns=\"http://www.w3.org/2000/svg\" height=\"24px\"viewBox=\"0 0 24 24\"\n",
       "     width=\"24px\">\n",
       "    <g>\n",
       "        <path d=\"M19 3H5c-1.1 0-2 .9-2 2v14c0 1.1.9 2 2 2h14c1.1 0 2-.9 2-2V5c0-1.1-.9-2-2-2zM9 17H7v-7h2v7zm4 0h-2V7h2v10zm4 0h-2v-4h2v4z\"/>\n",
       "    </g>\n",
       "</svg>\n",
       "  </button>\n",
       "\n",
       "<style>\n",
       "  .colab-df-quickchart {\n",
       "      --bg-color: #E8F0FE;\n",
       "      --fill-color: #1967D2;\n",
       "      --hover-bg-color: #E2EBFA;\n",
       "      --hover-fill-color: #174EA6;\n",
       "      --disabled-fill-color: #AAA;\n",
       "      --disabled-bg-color: #DDD;\n",
       "  }\n",
       "\n",
       "  [theme=dark] .colab-df-quickchart {\n",
       "      --bg-color: #3B4455;\n",
       "      --fill-color: #D2E3FC;\n",
       "      --hover-bg-color: #434B5C;\n",
       "      --hover-fill-color: #FFFFFF;\n",
       "      --disabled-bg-color: #3B4455;\n",
       "      --disabled-fill-color: #666;\n",
       "  }\n",
       "\n",
       "  .colab-df-quickchart {\n",
       "    background-color: var(--bg-color);\n",
       "    border: none;\n",
       "    border-radius: 50%;\n",
       "    cursor: pointer;\n",
       "    display: none;\n",
       "    fill: var(--fill-color);\n",
       "    height: 32px;\n",
       "    padding: 0;\n",
       "    width: 32px;\n",
       "  }\n",
       "\n",
       "  .colab-df-quickchart:hover {\n",
       "    background-color: var(--hover-bg-color);\n",
       "    box-shadow: 0 1px 2px rgba(60, 64, 67, 0.3), 0 1px 3px 1px rgba(60, 64, 67, 0.15);\n",
       "    fill: var(--button-hover-fill-color);\n",
       "  }\n",
       "\n",
       "  .colab-df-quickchart-complete:disabled,\n",
       "  .colab-df-quickchart-complete:disabled:hover {\n",
       "    background-color: var(--disabled-bg-color);\n",
       "    fill: var(--disabled-fill-color);\n",
       "    box-shadow: none;\n",
       "  }\n",
       "\n",
       "  .colab-df-spinner {\n",
       "    border: 2px solid var(--fill-color);\n",
       "    border-color: transparent;\n",
       "    border-bottom-color: var(--fill-color);\n",
       "    animation:\n",
       "      spin 1s steps(1) infinite;\n",
       "  }\n",
       "\n",
       "  @keyframes spin {\n",
       "    0% {\n",
       "      border-color: transparent;\n",
       "      border-bottom-color: var(--fill-color);\n",
       "      border-left-color: var(--fill-color);\n",
       "    }\n",
       "    20% {\n",
       "      border-color: transparent;\n",
       "      border-left-color: var(--fill-color);\n",
       "      border-top-color: var(--fill-color);\n",
       "    }\n",
       "    30% {\n",
       "      border-color: transparent;\n",
       "      border-left-color: var(--fill-color);\n",
       "      border-top-color: var(--fill-color);\n",
       "      border-right-color: var(--fill-color);\n",
       "    }\n",
       "    40% {\n",
       "      border-color: transparent;\n",
       "      border-right-color: var(--fill-color);\n",
       "      border-top-color: var(--fill-color);\n",
       "    }\n",
       "    60% {\n",
       "      border-color: transparent;\n",
       "      border-right-color: var(--fill-color);\n",
       "    }\n",
       "    80% {\n",
       "      border-color: transparent;\n",
       "      border-right-color: var(--fill-color);\n",
       "      border-bottom-color: var(--fill-color);\n",
       "    }\n",
       "    90% {\n",
       "      border-color: transparent;\n",
       "      border-bottom-color: var(--fill-color);\n",
       "    }\n",
       "  }\n",
       "</style>\n",
       "\n",
       "  <script>\n",
       "    async function quickchart(key) {\n",
       "      const quickchartButtonEl =\n",
       "        document.querySelector('#' + key + ' button');\n",
       "      quickchartButtonEl.disabled = true;  // To prevent multiple clicks.\n",
       "      quickchartButtonEl.classList.add('colab-df-spinner');\n",
       "      try {\n",
       "        const charts = await google.colab.kernel.invokeFunction(\n",
       "            'suggestCharts', [key], {});\n",
       "      } catch (error) {\n",
       "        console.error('Error during call to suggestCharts:', error);\n",
       "      }\n",
       "      quickchartButtonEl.classList.remove('colab-df-spinner');\n",
       "      quickchartButtonEl.classList.add('colab-df-quickchart-complete');\n",
       "    }\n",
       "    (() => {\n",
       "      let quickchartButtonEl =\n",
       "        document.querySelector('#df-075d9a7c-7fd5-46d9-a903-36c39d6d0816 button');\n",
       "      quickchartButtonEl.style.display =\n",
       "        google.colab.kernel.accessAllowed ? 'block' : 'none';\n",
       "    })();\n",
       "  </script>\n",
       "</div>\n",
       "\n",
       "  <div id=\"id_20f37418-54ce-4f84-a1d4-653df340f7d0\">\n",
       "    <style>\n",
       "      .colab-df-generate {\n",
       "        background-color: #E8F0FE;\n",
       "        border: none;\n",
       "        border-radius: 50%;\n",
       "        cursor: pointer;\n",
       "        display: none;\n",
       "        fill: #1967D2;\n",
       "        height: 32px;\n",
       "        padding: 0 0 0 0;\n",
       "        width: 32px;\n",
       "      }\n",
       "\n",
       "      .colab-df-generate:hover {\n",
       "        background-color: #E2EBFA;\n",
       "        box-shadow: 0px 1px 2px rgba(60, 64, 67, 0.3), 0px 1px 3px 1px rgba(60, 64, 67, 0.15);\n",
       "        fill: #174EA6;\n",
       "      }\n",
       "\n",
       "      [theme=dark] .colab-df-generate {\n",
       "        background-color: #3B4455;\n",
       "        fill: #D2E3FC;\n",
       "      }\n",
       "\n",
       "      [theme=dark] .colab-df-generate:hover {\n",
       "        background-color: #434B5C;\n",
       "        box-shadow: 0px 1px 3px 1px rgba(0, 0, 0, 0.15);\n",
       "        filter: drop-shadow(0px 1px 2px rgba(0, 0, 0, 0.3));\n",
       "        fill: #FFFFFF;\n",
       "      }\n",
       "    </style>\n",
       "    <button class=\"colab-df-generate\" onclick=\"generateWithVariable('data')\"\n",
       "            title=\"Generate code using this dataframe.\"\n",
       "            style=\"display:none;\">\n",
       "\n",
       "  <svg xmlns=\"http://www.w3.org/2000/svg\" height=\"24px\"viewBox=\"0 0 24 24\"\n",
       "       width=\"24px\">\n",
       "    <path d=\"M7,19H8.4L18.45,9,17,7.55,7,17.6ZM5,21V16.75L18.45,3.32a2,2,0,0,1,2.83,0l1.4,1.43a1.91,1.91,0,0,1,.58,1.4,1.91,1.91,0,0,1-.58,1.4L9.25,21ZM18.45,9,17,7.55Zm-12,3A5.31,5.31,0,0,0,4.9,8.1,5.31,5.31,0,0,0,1,6.5,5.31,5.31,0,0,0,4.9,4.9,5.31,5.31,0,0,0,6.5,1,5.31,5.31,0,0,0,8.1,4.9,5.31,5.31,0,0,0,12,6.5,5.46,5.46,0,0,0,6.5,12Z\"/>\n",
       "  </svg>\n",
       "    </button>\n",
       "    <script>\n",
       "      (() => {\n",
       "      const buttonEl =\n",
       "        document.querySelector('#id_20f37418-54ce-4f84-a1d4-653df340f7d0 button.colab-df-generate');\n",
       "      buttonEl.style.display =\n",
       "        google.colab.kernel.accessAllowed ? 'block' : 'none';\n",
       "\n",
       "      buttonEl.onclick = () => {\n",
       "        google.colab.notebook.generateWithVariable('data');\n",
       "      }\n",
       "      })();\n",
       "    </script>\n",
       "  </div>\n",
       "\n",
       "    </div>\n",
       "  </div>\n"
      ],
      "text/plain": [
       "Price                       Date       Close   Volume\n",
       "Ticker                                  TWLO     TWLO\n",
       "0      2019-11-29 00:00:00+00:00  103.279999  1132200\n",
       "1      2019-12-02 00:00:00+00:00   97.650002  5268200\n",
       "2      2019-12-03 00:00:00+00:00   99.279999  2659500\n",
       "3      2019-12-04 00:00:00+00:00   98.930000  2363900\n",
       "4      2019-12-05 00:00:00+00:00   97.540001  1610000\n",
       "...                          ...         ...      ...\n",
       "1253   2024-11-21 00:00:00+00:00  102.070000  4216400\n",
       "1254   2024-11-22 00:00:00+00:00  104.349998  2504200\n",
       "1255   2024-11-25 00:00:00+00:00  105.410004  5962900\n",
       "1256   2024-11-26 00:00:00+00:00  104.410004  1761900\n",
       "1257   2024-11-27 00:00:00+00:00  102.910004  1397000\n",
       "\n",
       "[1258 rows x 3 columns]"
      ]
     },
     "metadata": {},
     "output_type": "display_data"
    }
   ],
   "source": [
    "import yfinance as yf\n",
    "import pandas as pd\n",
    "\n",
    "# Define the stock ticker symbol for Twilio\n",
    "ticker_symbol = \"TWLO\"\n",
    "\n",
    "# Download the data using yfinance\n",
    "data = yf.download(ticker_symbol, period=\"5y\", interval=\"1d\")  # Example: last month, daily data\n",
    "\n",
    "# Select the 'Close' and 'Volume' columns, and reset index for 'Time'\n",
    "data = data[['Close', 'Volume']].reset_index()\n",
    "\n",
    "# # Rename columns for clarity (optional)\n",
    "# data.rename(columns={'Date': 'Time'}, inplace=True)\n",
    "\n",
    "# Display the resulting DataFrame\n",
    "display(data)\n",
    "price_df = data"
   ]
  },
  {
   "cell_type": "code",
   "execution_count": 29,
   "metadata": {
    "colab": {
     "base_uri": "https://localhost:8080/",
     "height": 238
    },
    "id": "Sn4vaJ0QiWKE",
    "outputId": "c0bd4069-f905-4a9f-b79f-e4e570b3346c"
   },
   "outputs": [
    {
     "data": {
      "application/vnd.google.colaboratory.intrinsic+json": {
       "summary": "{\n  \"name\": \"price_df\",\n  \"rows\": 1258,\n  \"fields\": [\n    {\n      \"column\": [\n        \"Date\",\n        \"\"\n      ],\n      \"properties\": {\n        \"dtype\": \"date\",\n        \"min\": \"2019-11-29 00:00:00+00:00\",\n        \"max\": \"2024-11-27 00:00:00+00:00\",\n        \"num_unique_values\": 1258,\n        \"samples\": [\n          \"2022-02-22 00:00:00+00:00\",\n          \"2020-04-27 00:00:00+00:00\",\n          \"2020-02-13 00:00:00+00:00\"\n        ],\n        \"semantic_type\": \"\",\n        \"description\": \"\"\n      }\n    },\n    {\n      \"column\": [\n        \"Close\",\n        \"TWLO\"\n      ],\n      \"properties\": {\n        \"dtype\": \"number\",\n        \"std\": 117.95533429830505,\n        \"min\": 42.7400016784668,\n        \"max\": 443.489990234375,\n        \"num_unique_values\": 1185,\n        \"samples\": [\n          362.3599853515625,\n          53.619998931884766,\n          104.3499984741211\n        ],\n        \"semantic_type\": \"\",\n        \"description\": \"\"\n      }\n    },\n    {\n      \"column\": [\n        \"Volume\",\n        \"TWLO\"\n      ],\n      \"properties\": {\n        \"dtype\": \"number\",\n        \"std\": 2692929,\n        \"min\": 677500,\n        \"max\": 44840800,\n        \"num_unique_values\": 1240,\n        \"samples\": [\n          1491400,\n          3661500,\n          2206600\n        ],\n        \"semantic_type\": \"\",\n        \"description\": \"\"\n      }\n    }\n  ]\n}",
       "type": "dataframe",
       "variable_name": "price_df"
      },
      "text/html": [
       "\n",
       "  <div id=\"df-920e8e57-be8e-4443-9752-e187c67243ee\" class=\"colab-df-container\">\n",
       "    <div>\n",
       "<style scoped>\n",
       "    .dataframe tbody tr th:only-of-type {\n",
       "        vertical-align: middle;\n",
       "    }\n",
       "\n",
       "    .dataframe tbody tr th {\n",
       "        vertical-align: top;\n",
       "    }\n",
       "\n",
       "    .dataframe thead tr th {\n",
       "        text-align: left;\n",
       "    }\n",
       "</style>\n",
       "<table border=\"1\" class=\"dataframe\">\n",
       "  <thead>\n",
       "    <tr>\n",
       "      <th>Price</th>\n",
       "      <th>Date</th>\n",
       "      <th>Close</th>\n",
       "      <th>Volume</th>\n",
       "    </tr>\n",
       "    <tr>\n",
       "      <th>Ticker</th>\n",
       "      <th></th>\n",
       "      <th>TWLO</th>\n",
       "      <th>TWLO</th>\n",
       "    </tr>\n",
       "  </thead>\n",
       "  <tbody>\n",
       "    <tr>\n",
       "      <th>0</th>\n",
       "      <td>2019-11-29 00:00:00+00:00</td>\n",
       "      <td>103.279999</td>\n",
       "      <td>1132200</td>\n",
       "    </tr>\n",
       "    <tr>\n",
       "      <th>1</th>\n",
       "      <td>2019-12-02 00:00:00+00:00</td>\n",
       "      <td>97.650002</td>\n",
       "      <td>5268200</td>\n",
       "    </tr>\n",
       "    <tr>\n",
       "      <th>2</th>\n",
       "      <td>2019-12-03 00:00:00+00:00</td>\n",
       "      <td>99.279999</td>\n",
       "      <td>2659500</td>\n",
       "    </tr>\n",
       "    <tr>\n",
       "      <th>3</th>\n",
       "      <td>2019-12-04 00:00:00+00:00</td>\n",
       "      <td>98.930000</td>\n",
       "      <td>2363900</td>\n",
       "    </tr>\n",
       "    <tr>\n",
       "      <th>4</th>\n",
       "      <td>2019-12-05 00:00:00+00:00</td>\n",
       "      <td>97.540001</td>\n",
       "      <td>1610000</td>\n",
       "    </tr>\n",
       "  </tbody>\n",
       "</table>\n",
       "</div>\n",
       "    <div class=\"colab-df-buttons\">\n",
       "\n",
       "  <div class=\"colab-df-container\">\n",
       "    <button class=\"colab-df-convert\" onclick=\"convertToInteractive('df-920e8e57-be8e-4443-9752-e187c67243ee')\"\n",
       "            title=\"Convert this dataframe to an interactive table.\"\n",
       "            style=\"display:none;\">\n",
       "\n",
       "  <svg xmlns=\"http://www.w3.org/2000/svg\" height=\"24px\" viewBox=\"0 -960 960 960\">\n",
       "    <path d=\"M120-120v-720h720v720H120Zm60-500h600v-160H180v160Zm220 220h160v-160H400v160Zm0 220h160v-160H400v160ZM180-400h160v-160H180v160Zm440 0h160v-160H620v160ZM180-180h160v-160H180v160Zm440 0h160v-160H620v160Z\"/>\n",
       "  </svg>\n",
       "    </button>\n",
       "\n",
       "  <style>\n",
       "    .colab-df-container {\n",
       "      display:flex;\n",
       "      gap: 12px;\n",
       "    }\n",
       "\n",
       "    .colab-df-convert {\n",
       "      background-color: #E8F0FE;\n",
       "      border: none;\n",
       "      border-radius: 50%;\n",
       "      cursor: pointer;\n",
       "      display: none;\n",
       "      fill: #1967D2;\n",
       "      height: 32px;\n",
       "      padding: 0 0 0 0;\n",
       "      width: 32px;\n",
       "    }\n",
       "\n",
       "    .colab-df-convert:hover {\n",
       "      background-color: #E2EBFA;\n",
       "      box-shadow: 0px 1px 2px rgba(60, 64, 67, 0.3), 0px 1px 3px 1px rgba(60, 64, 67, 0.15);\n",
       "      fill: #174EA6;\n",
       "    }\n",
       "\n",
       "    .colab-df-buttons div {\n",
       "      margin-bottom: 4px;\n",
       "    }\n",
       "\n",
       "    [theme=dark] .colab-df-convert {\n",
       "      background-color: #3B4455;\n",
       "      fill: #D2E3FC;\n",
       "    }\n",
       "\n",
       "    [theme=dark] .colab-df-convert:hover {\n",
       "      background-color: #434B5C;\n",
       "      box-shadow: 0px 1px 3px 1px rgba(0, 0, 0, 0.15);\n",
       "      filter: drop-shadow(0px 1px 2px rgba(0, 0, 0, 0.3));\n",
       "      fill: #FFFFFF;\n",
       "    }\n",
       "  </style>\n",
       "\n",
       "    <script>\n",
       "      const buttonEl =\n",
       "        document.querySelector('#df-920e8e57-be8e-4443-9752-e187c67243ee button.colab-df-convert');\n",
       "      buttonEl.style.display =\n",
       "        google.colab.kernel.accessAllowed ? 'block' : 'none';\n",
       "\n",
       "      async function convertToInteractive(key) {\n",
       "        const element = document.querySelector('#df-920e8e57-be8e-4443-9752-e187c67243ee');\n",
       "        const dataTable =\n",
       "          await google.colab.kernel.invokeFunction('convertToInteractive',\n",
       "                                                    [key], {});\n",
       "        if (!dataTable) return;\n",
       "\n",
       "        const docLinkHtml = 'Like what you see? Visit the ' +\n",
       "          '<a target=\"_blank\" href=https://colab.research.google.com/notebooks/data_table.ipynb>data table notebook</a>'\n",
       "          + ' to learn more about interactive tables.';\n",
       "        element.innerHTML = '';\n",
       "        dataTable['output_type'] = 'display_data';\n",
       "        await google.colab.output.renderOutput(dataTable, element);\n",
       "        const docLink = document.createElement('div');\n",
       "        docLink.innerHTML = docLinkHtml;\n",
       "        element.appendChild(docLink);\n",
       "      }\n",
       "    </script>\n",
       "  </div>\n",
       "\n",
       "\n",
       "<div id=\"df-96833a4b-92d3-447d-9687-20ae67d119c0\">\n",
       "  <button class=\"colab-df-quickchart\" onclick=\"quickchart('df-96833a4b-92d3-447d-9687-20ae67d119c0')\"\n",
       "            title=\"Suggest charts\"\n",
       "            style=\"display:none;\">\n",
       "\n",
       "<svg xmlns=\"http://www.w3.org/2000/svg\" height=\"24px\"viewBox=\"0 0 24 24\"\n",
       "     width=\"24px\">\n",
       "    <g>\n",
       "        <path d=\"M19 3H5c-1.1 0-2 .9-2 2v14c0 1.1.9 2 2 2h14c1.1 0 2-.9 2-2V5c0-1.1-.9-2-2-2zM9 17H7v-7h2v7zm4 0h-2V7h2v10zm4 0h-2v-4h2v4z\"/>\n",
       "    </g>\n",
       "</svg>\n",
       "  </button>\n",
       "\n",
       "<style>\n",
       "  .colab-df-quickchart {\n",
       "      --bg-color: #E8F0FE;\n",
       "      --fill-color: #1967D2;\n",
       "      --hover-bg-color: #E2EBFA;\n",
       "      --hover-fill-color: #174EA6;\n",
       "      --disabled-fill-color: #AAA;\n",
       "      --disabled-bg-color: #DDD;\n",
       "  }\n",
       "\n",
       "  [theme=dark] .colab-df-quickchart {\n",
       "      --bg-color: #3B4455;\n",
       "      --fill-color: #D2E3FC;\n",
       "      --hover-bg-color: #434B5C;\n",
       "      --hover-fill-color: #FFFFFF;\n",
       "      --disabled-bg-color: #3B4455;\n",
       "      --disabled-fill-color: #666;\n",
       "  }\n",
       "\n",
       "  .colab-df-quickchart {\n",
       "    background-color: var(--bg-color);\n",
       "    border: none;\n",
       "    border-radius: 50%;\n",
       "    cursor: pointer;\n",
       "    display: none;\n",
       "    fill: var(--fill-color);\n",
       "    height: 32px;\n",
       "    padding: 0;\n",
       "    width: 32px;\n",
       "  }\n",
       "\n",
       "  .colab-df-quickchart:hover {\n",
       "    background-color: var(--hover-bg-color);\n",
       "    box-shadow: 0 1px 2px rgba(60, 64, 67, 0.3), 0 1px 3px 1px rgba(60, 64, 67, 0.15);\n",
       "    fill: var(--button-hover-fill-color);\n",
       "  }\n",
       "\n",
       "  .colab-df-quickchart-complete:disabled,\n",
       "  .colab-df-quickchart-complete:disabled:hover {\n",
       "    background-color: var(--disabled-bg-color);\n",
       "    fill: var(--disabled-fill-color);\n",
       "    box-shadow: none;\n",
       "  }\n",
       "\n",
       "  .colab-df-spinner {\n",
       "    border: 2px solid var(--fill-color);\n",
       "    border-color: transparent;\n",
       "    border-bottom-color: var(--fill-color);\n",
       "    animation:\n",
       "      spin 1s steps(1) infinite;\n",
       "  }\n",
       "\n",
       "  @keyframes spin {\n",
       "    0% {\n",
       "      border-color: transparent;\n",
       "      border-bottom-color: var(--fill-color);\n",
       "      border-left-color: var(--fill-color);\n",
       "    }\n",
       "    20% {\n",
       "      border-color: transparent;\n",
       "      border-left-color: var(--fill-color);\n",
       "      border-top-color: var(--fill-color);\n",
       "    }\n",
       "    30% {\n",
       "      border-color: transparent;\n",
       "      border-left-color: var(--fill-color);\n",
       "      border-top-color: var(--fill-color);\n",
       "      border-right-color: var(--fill-color);\n",
       "    }\n",
       "    40% {\n",
       "      border-color: transparent;\n",
       "      border-right-color: var(--fill-color);\n",
       "      border-top-color: var(--fill-color);\n",
       "    }\n",
       "    60% {\n",
       "      border-color: transparent;\n",
       "      border-right-color: var(--fill-color);\n",
       "    }\n",
       "    80% {\n",
       "      border-color: transparent;\n",
       "      border-right-color: var(--fill-color);\n",
       "      border-bottom-color: var(--fill-color);\n",
       "    }\n",
       "    90% {\n",
       "      border-color: transparent;\n",
       "      border-bottom-color: var(--fill-color);\n",
       "    }\n",
       "  }\n",
       "</style>\n",
       "\n",
       "  <script>\n",
       "    async function quickchart(key) {\n",
       "      const quickchartButtonEl =\n",
       "        document.querySelector('#' + key + ' button');\n",
       "      quickchartButtonEl.disabled = true;  // To prevent multiple clicks.\n",
       "      quickchartButtonEl.classList.add('colab-df-spinner');\n",
       "      try {\n",
       "        const charts = await google.colab.kernel.invokeFunction(\n",
       "            'suggestCharts', [key], {});\n",
       "      } catch (error) {\n",
       "        console.error('Error during call to suggestCharts:', error);\n",
       "      }\n",
       "      quickchartButtonEl.classList.remove('colab-df-spinner');\n",
       "      quickchartButtonEl.classList.add('colab-df-quickchart-complete');\n",
       "    }\n",
       "    (() => {\n",
       "      let quickchartButtonEl =\n",
       "        document.querySelector('#df-96833a4b-92d3-447d-9687-20ae67d119c0 button');\n",
       "      quickchartButtonEl.style.display =\n",
       "        google.colab.kernel.accessAllowed ? 'block' : 'none';\n",
       "    })();\n",
       "  </script>\n",
       "</div>\n",
       "\n",
       "    </div>\n",
       "  </div>\n"
      ],
      "text/plain": [
       "Price                       Date       Close   Volume\n",
       "Ticker                                  TWLO     TWLO\n",
       "0      2019-11-29 00:00:00+00:00  103.279999  1132200\n",
       "1      2019-12-02 00:00:00+00:00   97.650002  5268200\n",
       "2      2019-12-03 00:00:00+00:00   99.279999  2659500\n",
       "3      2019-12-04 00:00:00+00:00   98.930000  2363900\n",
       "4      2019-12-05 00:00:00+00:00   97.540001  1610000"
      ]
     },
     "execution_count": 29,
     "metadata": {},
     "output_type": "execute_result"
    }
   ],
   "source": [
    "\n",
    "from random import seed\n",
    "\n",
    "seed(42)\n",
    "price_df.head()"
   ]
  },
  {
   "cell_type": "code",
   "execution_count": 30,
   "metadata": {
    "id": "ViGvrBu5iWKP"
   },
   "outputs": [],
   "source": [
    "price_df.index = pd.to_datetime(price_df['Date'])  #  A\n",
    "price_df.index = price_df.index.tz_convert('US/Pacific')  # A\n",
    "\n",
    "price_df.sort_index(inplace=True)  # B\n",
    "\n",
    "del price_df['Date']  # C\n",
    "\n",
    "# A Set our index to be the date column\n",
    "# B Sort our dataframe by the index (time)\n",
    "# C Delete the date column because it is now our index"
   ]
  },
  {
   "cell_type": "code",
   "execution_count": 31,
   "metadata": {
    "colab": {
     "base_uri": "https://localhost:8080/",
     "height": 269
    },
    "id": "N3z2vGbGiWKQ",
    "outputId": "cf7c6d51-3ce4-490d-a8dd-b747b221cbc8"
   },
   "outputs": [
    {
     "data": {
      "application/vnd.google.colaboratory.intrinsic+json": {
       "summary": "{\n  \"name\": \"price_df\",\n  \"rows\": 1258,\n  \"fields\": [\n    {\n      \"column\": [\n        \"Date\",\n        \"\"\n      ],\n      \"properties\": {\n        \"dtype\": \"date\",\n        \"min\": \"2019-11-28 16:00:00-08:00\",\n        \"max\": \"2024-11-26 16:00:00-08:00\",\n        \"num_unique_values\": 1258,\n        \"samples\": [\n          \"2022-02-21 16:00:00-08:00\",\n          \"2020-04-26 17:00:00-07:00\",\n          \"2020-02-12 16:00:00-08:00\"\n        ],\n        \"semantic_type\": \"\",\n        \"description\": \"\"\n      }\n    },\n    {\n      \"column\": [\n        \"Close\",\n        \"TWLO\"\n      ],\n      \"properties\": {\n        \"dtype\": \"number\",\n        \"std\": 117.95533429830505,\n        \"min\": 42.7400016784668,\n        \"max\": 443.489990234375,\n        \"num_unique_values\": 1185,\n        \"samples\": [\n          362.3599853515625,\n          53.619998931884766,\n          104.3499984741211\n        ],\n        \"semantic_type\": \"\",\n        \"description\": \"\"\n      }\n    },\n    {\n      \"column\": [\n        \"Volume\",\n        \"TWLO\"\n      ],\n      \"properties\": {\n        \"dtype\": \"number\",\n        \"std\": 2692929,\n        \"min\": 677500,\n        \"max\": 44840800,\n        \"num_unique_values\": 1240,\n        \"samples\": [\n          1491400,\n          3661500,\n          2206600\n        ],\n        \"semantic_type\": \"\",\n        \"description\": \"\"\n      }\n    }\n  ]\n}",
       "type": "dataframe",
       "variable_name": "price_df"
      },
      "text/html": [
       "\n",
       "  <div id=\"df-41d4a71f-392d-45eb-9c56-6b4ff8e67878\" class=\"colab-df-container\">\n",
       "    <div>\n",
       "<style scoped>\n",
       "    .dataframe tbody tr th:only-of-type {\n",
       "        vertical-align: middle;\n",
       "    }\n",
       "\n",
       "    .dataframe tbody tr th {\n",
       "        vertical-align: top;\n",
       "    }\n",
       "\n",
       "    .dataframe thead tr th {\n",
       "        text-align: left;\n",
       "    }\n",
       "\n",
       "    .dataframe thead tr:last-of-type th {\n",
       "        text-align: right;\n",
       "    }\n",
       "</style>\n",
       "<table border=\"1\" class=\"dataframe\">\n",
       "  <thead>\n",
       "    <tr>\n",
       "      <th>Price</th>\n",
       "      <th>Close</th>\n",
       "      <th>Volume</th>\n",
       "    </tr>\n",
       "    <tr>\n",
       "      <th>Ticker</th>\n",
       "      <th>TWLO</th>\n",
       "      <th>TWLO</th>\n",
       "    </tr>\n",
       "    <tr>\n",
       "      <th>Date</th>\n",
       "      <th></th>\n",
       "      <th></th>\n",
       "    </tr>\n",
       "  </thead>\n",
       "  <tbody>\n",
       "    <tr>\n",
       "      <th>2019-11-28 16:00:00-08:00</th>\n",
       "      <td>103.279999</td>\n",
       "      <td>1132200</td>\n",
       "    </tr>\n",
       "    <tr>\n",
       "      <th>2019-12-01 16:00:00-08:00</th>\n",
       "      <td>97.650002</td>\n",
       "      <td>5268200</td>\n",
       "    </tr>\n",
       "    <tr>\n",
       "      <th>2019-12-02 16:00:00-08:00</th>\n",
       "      <td>99.279999</td>\n",
       "      <td>2659500</td>\n",
       "    </tr>\n",
       "    <tr>\n",
       "      <th>2019-12-03 16:00:00-08:00</th>\n",
       "      <td>98.930000</td>\n",
       "      <td>2363900</td>\n",
       "    </tr>\n",
       "    <tr>\n",
       "      <th>2019-12-04 16:00:00-08:00</th>\n",
       "      <td>97.540001</td>\n",
       "      <td>1610000</td>\n",
       "    </tr>\n",
       "  </tbody>\n",
       "</table>\n",
       "</div>\n",
       "    <div class=\"colab-df-buttons\">\n",
       "\n",
       "  <div class=\"colab-df-container\">\n",
       "    <button class=\"colab-df-convert\" onclick=\"convertToInteractive('df-41d4a71f-392d-45eb-9c56-6b4ff8e67878')\"\n",
       "            title=\"Convert this dataframe to an interactive table.\"\n",
       "            style=\"display:none;\">\n",
       "\n",
       "  <svg xmlns=\"http://www.w3.org/2000/svg\" height=\"24px\" viewBox=\"0 -960 960 960\">\n",
       "    <path d=\"M120-120v-720h720v720H120Zm60-500h600v-160H180v160Zm220 220h160v-160H400v160Zm0 220h160v-160H400v160ZM180-400h160v-160H180v160Zm440 0h160v-160H620v160ZM180-180h160v-160H180v160Zm440 0h160v-160H620v160Z\"/>\n",
       "  </svg>\n",
       "    </button>\n",
       "\n",
       "  <style>\n",
       "    .colab-df-container {\n",
       "      display:flex;\n",
       "      gap: 12px;\n",
       "    }\n",
       "\n",
       "    .colab-df-convert {\n",
       "      background-color: #E8F0FE;\n",
       "      border: none;\n",
       "      border-radius: 50%;\n",
       "      cursor: pointer;\n",
       "      display: none;\n",
       "      fill: #1967D2;\n",
       "      height: 32px;\n",
       "      padding: 0 0 0 0;\n",
       "      width: 32px;\n",
       "    }\n",
       "\n",
       "    .colab-df-convert:hover {\n",
       "      background-color: #E2EBFA;\n",
       "      box-shadow: 0px 1px 2px rgba(60, 64, 67, 0.3), 0px 1px 3px 1px rgba(60, 64, 67, 0.15);\n",
       "      fill: #174EA6;\n",
       "    }\n",
       "\n",
       "    .colab-df-buttons div {\n",
       "      margin-bottom: 4px;\n",
       "    }\n",
       "\n",
       "    [theme=dark] .colab-df-convert {\n",
       "      background-color: #3B4455;\n",
       "      fill: #D2E3FC;\n",
       "    }\n",
       "\n",
       "    [theme=dark] .colab-df-convert:hover {\n",
       "      background-color: #434B5C;\n",
       "      box-shadow: 0px 1px 3px 1px rgba(0, 0, 0, 0.15);\n",
       "      filter: drop-shadow(0px 1px 2px rgba(0, 0, 0, 0.3));\n",
       "      fill: #FFFFFF;\n",
       "    }\n",
       "  </style>\n",
       "\n",
       "    <script>\n",
       "      const buttonEl =\n",
       "        document.querySelector('#df-41d4a71f-392d-45eb-9c56-6b4ff8e67878 button.colab-df-convert');\n",
       "      buttonEl.style.display =\n",
       "        google.colab.kernel.accessAllowed ? 'block' : 'none';\n",
       "\n",
       "      async function convertToInteractive(key) {\n",
       "        const element = document.querySelector('#df-41d4a71f-392d-45eb-9c56-6b4ff8e67878');\n",
       "        const dataTable =\n",
       "          await google.colab.kernel.invokeFunction('convertToInteractive',\n",
       "                                                    [key], {});\n",
       "        if (!dataTable) return;\n",
       "\n",
       "        const docLinkHtml = 'Like what you see? Visit the ' +\n",
       "          '<a target=\"_blank\" href=https://colab.research.google.com/notebooks/data_table.ipynb>data table notebook</a>'\n",
       "          + ' to learn more about interactive tables.';\n",
       "        element.innerHTML = '';\n",
       "        dataTable['output_type'] = 'display_data';\n",
       "        await google.colab.output.renderOutput(dataTable, element);\n",
       "        const docLink = document.createElement('div');\n",
       "        docLink.innerHTML = docLinkHtml;\n",
       "        element.appendChild(docLink);\n",
       "      }\n",
       "    </script>\n",
       "  </div>\n",
       "\n",
       "\n",
       "<div id=\"df-b3cb0026-a6d3-4eef-a1e6-c589f0b1993d\">\n",
       "  <button class=\"colab-df-quickchart\" onclick=\"quickchart('df-b3cb0026-a6d3-4eef-a1e6-c589f0b1993d')\"\n",
       "            title=\"Suggest charts\"\n",
       "            style=\"display:none;\">\n",
       "\n",
       "<svg xmlns=\"http://www.w3.org/2000/svg\" height=\"24px\"viewBox=\"0 0 24 24\"\n",
       "     width=\"24px\">\n",
       "    <g>\n",
       "        <path d=\"M19 3H5c-1.1 0-2 .9-2 2v14c0 1.1.9 2 2 2h14c1.1 0 2-.9 2-2V5c0-1.1-.9-2-2-2zM9 17H7v-7h2v7zm4 0h-2V7h2v10zm4 0h-2v-4h2v4z\"/>\n",
       "    </g>\n",
       "</svg>\n",
       "  </button>\n",
       "\n",
       "<style>\n",
       "  .colab-df-quickchart {\n",
       "      --bg-color: #E8F0FE;\n",
       "      --fill-color: #1967D2;\n",
       "      --hover-bg-color: #E2EBFA;\n",
       "      --hover-fill-color: #174EA6;\n",
       "      --disabled-fill-color: #AAA;\n",
       "      --disabled-bg-color: #DDD;\n",
       "  }\n",
       "\n",
       "  [theme=dark] .colab-df-quickchart {\n",
       "      --bg-color: #3B4455;\n",
       "      --fill-color: #D2E3FC;\n",
       "      --hover-bg-color: #434B5C;\n",
       "      --hover-fill-color: #FFFFFF;\n",
       "      --disabled-bg-color: #3B4455;\n",
       "      --disabled-fill-color: #666;\n",
       "  }\n",
       "\n",
       "  .colab-df-quickchart {\n",
       "    background-color: var(--bg-color);\n",
       "    border: none;\n",
       "    border-radius: 50%;\n",
       "    cursor: pointer;\n",
       "    display: none;\n",
       "    fill: var(--fill-color);\n",
       "    height: 32px;\n",
       "    padding: 0;\n",
       "    width: 32px;\n",
       "  }\n",
       "\n",
       "  .colab-df-quickchart:hover {\n",
       "    background-color: var(--hover-bg-color);\n",
       "    box-shadow: 0 1px 2px rgba(60, 64, 67, 0.3), 0 1px 3px 1px rgba(60, 64, 67, 0.15);\n",
       "    fill: var(--button-hover-fill-color);\n",
       "  }\n",
       "\n",
       "  .colab-df-quickchart-complete:disabled,\n",
       "  .colab-df-quickchart-complete:disabled:hover {\n",
       "    background-color: var(--disabled-bg-color);\n",
       "    fill: var(--disabled-fill-color);\n",
       "    box-shadow: none;\n",
       "  }\n",
       "\n",
       "  .colab-df-spinner {\n",
       "    border: 2px solid var(--fill-color);\n",
       "    border-color: transparent;\n",
       "    border-bottom-color: var(--fill-color);\n",
       "    animation:\n",
       "      spin 1s steps(1) infinite;\n",
       "  }\n",
       "\n",
       "  @keyframes spin {\n",
       "    0% {\n",
       "      border-color: transparent;\n",
       "      border-bottom-color: var(--fill-color);\n",
       "      border-left-color: var(--fill-color);\n",
       "    }\n",
       "    20% {\n",
       "      border-color: transparent;\n",
       "      border-left-color: var(--fill-color);\n",
       "      border-top-color: var(--fill-color);\n",
       "    }\n",
       "    30% {\n",
       "      border-color: transparent;\n",
       "      border-left-color: var(--fill-color);\n",
       "      border-top-color: var(--fill-color);\n",
       "      border-right-color: var(--fill-color);\n",
       "    }\n",
       "    40% {\n",
       "      border-color: transparent;\n",
       "      border-right-color: var(--fill-color);\n",
       "      border-top-color: var(--fill-color);\n",
       "    }\n",
       "    60% {\n",
       "      border-color: transparent;\n",
       "      border-right-color: var(--fill-color);\n",
       "    }\n",
       "    80% {\n",
       "      border-color: transparent;\n",
       "      border-right-color: var(--fill-color);\n",
       "      border-bottom-color: var(--fill-color);\n",
       "    }\n",
       "    90% {\n",
       "      border-color: transparent;\n",
       "      border-bottom-color: var(--fill-color);\n",
       "    }\n",
       "  }\n",
       "</style>\n",
       "\n",
       "  <script>\n",
       "    async function quickchart(key) {\n",
       "      const quickchartButtonEl =\n",
       "        document.querySelector('#' + key + ' button');\n",
       "      quickchartButtonEl.disabled = true;  // To prevent multiple clicks.\n",
       "      quickchartButtonEl.classList.add('colab-df-spinner');\n",
       "      try {\n",
       "        const charts = await google.colab.kernel.invokeFunction(\n",
       "            'suggestCharts', [key], {});\n",
       "      } catch (error) {\n",
       "        console.error('Error during call to suggestCharts:', error);\n",
       "      }\n",
       "      quickchartButtonEl.classList.remove('colab-df-spinner');\n",
       "      quickchartButtonEl.classList.add('colab-df-quickchart-complete');\n",
       "    }\n",
       "    (() => {\n",
       "      let quickchartButtonEl =\n",
       "        document.querySelector('#df-b3cb0026-a6d3-4eef-a1e6-c589f0b1993d button');\n",
       "      quickchartButtonEl.style.display =\n",
       "        google.colab.kernel.accessAllowed ? 'block' : 'none';\n",
       "    })();\n",
       "  </script>\n",
       "</div>\n",
       "\n",
       "    </div>\n",
       "  </div>\n"
      ],
      "text/plain": [
       "Price                           Close   Volume\n",
       "Ticker                           TWLO     TWLO\n",
       "Date                                          \n",
       "2019-11-28 16:00:00-08:00  103.279999  1132200\n",
       "2019-12-01 16:00:00-08:00   97.650002  5268200\n",
       "2019-12-02 16:00:00-08:00   99.279999  2659500\n",
       "2019-12-03 16:00:00-08:00   98.930000  2363900\n",
       "2019-12-04 16:00:00-08:00   97.540001  1610000"
      ]
     },
     "execution_count": 31,
     "metadata": {},
     "output_type": "execute_result"
    }
   ],
   "source": [
    "price_df.head()"
   ]
  },
  {
   "cell_type": "code",
   "execution_count": 32,
   "metadata": {
    "colab": {
     "base_uri": "https://localhost:8080/",
     "height": 439
    },
    "id": "PjL98YrviWKR",
    "outputId": "fbb0af5c-6983-44ea-e093-ea3e8b74a172"
   },
   "outputs": [
    {
     "data": {
      "text/plain": [
       "<Axes: xlabel='Date'>"
      ]
     },
     "execution_count": 32,
     "metadata": {},
     "output_type": "execute_result"
    },
    {
     "data": {
      "image/png": "[encoded data removed]",
      "text/plain": [
       "<Figure size 640x480 with 1 Axes>"
      ]
     },
     "metadata": {},
     "output_type": "display_data"
    }
   ],
   "source": [
    "price_df['Close'].plot()\n"
   ]
  },
  {
   "cell_type": "code",
   "execution_count": 32,
   "metadata": {
    "id": "jWVuNA7fiWKS"
   },
   "outputs": [],
   "source": []
  },
  {
   "cell_type": "code",
   "execution_count": 33,
   "metadata": {
    "colab": {
     "base_uri": "https://localhost:8080/",
     "height": 356
    },
    "id": "TtFT9790iWKT",
    "outputId": "33112f49-caa9-4d81-f70c-8974c0728f76"
   },
   "outputs": [
    {
     "ename": "TypeError",
     "evalue": "'str' object is not callable",
     "output_type": "error",
     "traceback": [
      "\u001b[0;31m---------------------------------------------------------------------------\u001b[0m",
      "\u001b[0;31mTypeError\u001b[0m                                 Traceback (most recent call last)",
      "\u001b[0;32m<ipython-input-33-3c9770402e0a>\u001b[0m in \u001b[0;36m<cell line: 1>\u001b[0;34m()\u001b[0m\n\u001b[0;32m----> 1\u001b[0;31m \u001b[0mlast_price_of_the_day\u001b[0m \u001b[0;34m=\u001b[0m \u001b[0mprice_df\u001b[0m\u001b[0;34m.\u001b[0m\u001b[0mgroupby\u001b[0m\u001b[0;34m(\u001b[0m\u001b[0mprice_df\u001b[0m\u001b[0;34m.\u001b[0m\u001b[0mindex\u001b[0m\u001b[0;34m.\u001b[0m\u001b[0mdate\u001b[0m\u001b[0;34m)\u001b[0m\u001b[0;34m.\u001b[0m\u001b[0mtail\u001b[0m\u001b[0;34m(\u001b[0m\u001b[0;36m1\u001b[0m\u001b[0;34m)\u001b[0m\u001b[0;34m[\u001b[0m\u001b[0;34m'Close'\u001b[0m\u001b[0;34m]\u001b[0m\u001b[0;34m.\u001b[0m\u001b[0mrename\u001b[0m\u001b[0;34m(\u001b[0m\u001b[0;34m'day_close_price'\u001b[0m\u001b[0;34m)\u001b[0m  \u001b[0;31m# A\u001b[0m\u001b[0;34m\u001b[0m\u001b[0;34m\u001b[0m\u001b[0m\n\u001b[0m\u001b[1;32m      2\u001b[0m \u001b[0mlast_price_of_the_day\u001b[0m\u001b[0;34m.\u001b[0m\u001b[0mindex\u001b[0m \u001b[0;34m=\u001b[0m \u001b[0mlast_price_of_the_day\u001b[0m\u001b[0;34m.\u001b[0m\u001b[0mindex\u001b[0m\u001b[0;34m.\u001b[0m\u001b[0mdate\u001b[0m  \u001b[0;31m# A\u001b[0m\u001b[0;34m\u001b[0m\u001b[0;34m\u001b[0m\u001b[0m\n\u001b[1;32m      3\u001b[0m \u001b[0;34m\u001b[0m\u001b[0m\n\u001b[1;32m      4\u001b[0m \u001b[0mprice_df\u001b[0m\u001b[0;34m[\u001b[0m\u001b[0;34m'day'\u001b[0m\u001b[0;34m]\u001b[0m \u001b[0;34m=\u001b[0m \u001b[0mprice_df\u001b[0m\u001b[0;34m.\u001b[0m\u001b[0mindex\u001b[0m\u001b[0;34m.\u001b[0m\u001b[0mdate\u001b[0m  \u001b[0;31m# B\u001b[0m\u001b[0;34m\u001b[0m\u001b[0;34m\u001b[0m\u001b[0m\n\u001b[1;32m      5\u001b[0m \u001b[0;34m\u001b[0m\u001b[0m\n",
      "\u001b[0;32m/usr/local/lib/python3.10/dist-packages/pandas/core/frame.py\u001b[0m in \u001b[0;36mrename\u001b[0;34m(self, mapper, index, columns, axis, copy, inplace, level, errors)\u001b[0m\n\u001b[1;32m   5765\u001b[0m         \u001b[0;36m4\u001b[0m  \u001b[0;36m3\u001b[0m  \u001b[0;36m6\u001b[0m\u001b[0;34m\u001b[0m\u001b[0;34m\u001b[0m\u001b[0m\n\u001b[1;32m   5766\u001b[0m         \"\"\"\n\u001b[0;32m-> 5767\u001b[0;31m         return super()._rename(\n\u001b[0m\u001b[1;32m   5768\u001b[0m             \u001b[0mmapper\u001b[0m\u001b[0;34m=\u001b[0m\u001b[0mmapper\u001b[0m\u001b[0;34m,\u001b[0m\u001b[0;34m\u001b[0m\u001b[0;34m\u001b[0m\u001b[0m\n\u001b[1;32m   5769\u001b[0m             \u001b[0mindex\u001b[0m\u001b[0;34m=\u001b[0m\u001b[0mindex\u001b[0m\u001b[0;34m,\u001b[0m\u001b[0;34m\u001b[0m\u001b[0;34m\u001b[0m\u001b[0m\n",
      "\u001b[0;32m/usr/local/lib/python3.10/dist-packages/pandas/core/generic.py\u001b[0m in \u001b[0;36m_rename\u001b[0;34m(self, mapper, index, columns, axis, copy, inplace, level, errors)\u001b[0m\n\u001b[1;32m   1130\u001b[0m                     \u001b[0;32mraise\u001b[0m \u001b[0mKeyError\u001b[0m\u001b[0;34m(\u001b[0m\u001b[0;34mf\"{missing_labels} not found in axis\"\u001b[0m\u001b[0;34m)\u001b[0m\u001b[0;34m\u001b[0m\u001b[0;34m\u001b[0m\u001b[0m\n\u001b[1;32m   1131\u001b[0m \u001b[0;34m\u001b[0m\u001b[0m\n\u001b[0;32m-> 1132\u001b[0;31m             \u001b[0mnew_index\u001b[0m \u001b[0;34m=\u001b[0m \u001b[0max\u001b[0m\u001b[0;34m.\u001b[0m\u001b[0m_transform_index\u001b[0m\u001b[0;34m(\u001b[0m\u001b[0mf\u001b[0m\u001b[0;34m,\u001b[0m \u001b[0mlevel\u001b[0m\u001b[0;34m=\u001b[0m\u001b[0mlevel\u001b[0m\u001b[0;34m)\u001b[0m\u001b[0;34m\u001b[0m\u001b[0;34m\u001b[0m\u001b[0m\n\u001b[0m\u001b[1;32m   1133\u001b[0m             \u001b[0mresult\u001b[0m\u001b[0;34m.\u001b[0m\u001b[0m_set_axis_nocheck\u001b[0m\u001b[0;34m(\u001b[0m\u001b[0mnew_index\u001b[0m\u001b[0;34m,\u001b[0m \u001b[0maxis\u001b[0m\u001b[0;34m=\u001b[0m\u001b[0maxis_no\u001b[0m\u001b[0;34m,\u001b[0m \u001b[0minplace\u001b[0m\u001b[0;34m=\u001b[0m\u001b[0;32mTrue\u001b[0m\u001b[0;34m,\u001b[0m \u001b[0mcopy\u001b[0m\u001b[0;34m=\u001b[0m\u001b[0;32mFalse\u001b[0m\u001b[0;34m)\u001b[0m\u001b[0;34m\u001b[0m\u001b[0;34m\u001b[0m\u001b[0m\n\u001b[1;32m   1134\u001b[0m             \u001b[0mresult\u001b[0m\u001b[0;34m.\u001b[0m\u001b[0m_clear_item_cache\u001b[0m\u001b[0;34m(\u001b[0m\u001b[0;34m)\u001b[0m\u001b[0;34m\u001b[0m\u001b[0;34m\u001b[0m\u001b[0m\n",
      "\u001b[0;32m/usr/local/lib/python3.10/dist-packages/pandas/core/indexes/base.py\u001b[0m in \u001b[0;36m_transform_index\u001b[0;34m(self, func, level)\u001b[0m\n\u001b[1;32m   6535\u001b[0m             \u001b[0;32mreturn\u001b[0m \u001b[0mtype\u001b[0m\u001b[0;34m(\u001b[0m\u001b[0mself\u001b[0m\u001b[0;34m)\u001b[0m\u001b[0;34m.\u001b[0m\u001b[0mfrom_arrays\u001b[0m\u001b[0;34m(\u001b[0m\u001b[0mvalues\u001b[0m\u001b[0;34m)\u001b[0m\u001b[0;34m\u001b[0m\u001b[0;34m\u001b[0m\u001b[0m\n\u001b[1;32m   6536\u001b[0m         \u001b[0;32melse\u001b[0m\u001b[0;34m:\u001b[0m\u001b[0;34m\u001b[0m\u001b[0;34m\u001b[0m\u001b[0m\n\u001b[0;32m-> 6537\u001b[0;31m             \u001b[0mitems\u001b[0m \u001b[0;34m=\u001b[0m \u001b[0;34m[\u001b[0m\u001b[0mfunc\u001b[0m\u001b[0;34m(\u001b[0m\u001b[0mx\u001b[0m\u001b[0;34m)\u001b[0m \u001b[0;32mfor\u001b[0m \u001b[0mx\u001b[0m \u001b[0;32min\u001b[0m \u001b[0mself\u001b[0m\u001b[0;34m]\u001b[0m\u001b[0;34m\u001b[0m\u001b[0;34m\u001b[0m\u001b[0m\n\u001b[0m\u001b[1;32m   6538\u001b[0m             \u001b[0;32mreturn\u001b[0m \u001b[0mIndex\u001b[0m\u001b[0;34m(\u001b[0m\u001b[0mitems\u001b[0m\u001b[0;34m,\u001b[0m \u001b[0mname\u001b[0m\u001b[0;34m=\u001b[0m\u001b[0mself\u001b[0m\u001b[0;34m.\u001b[0m\u001b[0mname\u001b[0m\u001b[0;34m,\u001b[0m \u001b[0mtupleize_cols\u001b[0m\u001b[0;34m=\u001b[0m\u001b[0;32mFalse\u001b[0m\u001b[0;34m)\u001b[0m\u001b[0;34m\u001b[0m\u001b[0;34m\u001b[0m\u001b[0m\n\u001b[1;32m   6539\u001b[0m \u001b[0;34m\u001b[0m\u001b[0m\n",
      "\u001b[0;32m/usr/local/lib/python3.10/dist-packages/pandas/core/indexes/base.py\u001b[0m in \u001b[0;36m<listcomp>\u001b[0;34m(.0)\u001b[0m\n\u001b[1;32m   6535\u001b[0m             \u001b[0;32mreturn\u001b[0m \u001b[0mtype\u001b[0m\u001b[0;34m(\u001b[0m\u001b[0mself\u001b[0m\u001b[0;34m)\u001b[0m\u001b[0;34m.\u001b[0m\u001b[0mfrom_arrays\u001b[0m\u001b[0;34m(\u001b[0m\u001b[0mvalues\u001b[0m\u001b[0;34m)\u001b[0m\u001b[0;34m\u001b[0m\u001b[0;34m\u001b[0m\u001b[0m\n\u001b[1;32m   6536\u001b[0m         \u001b[0;32melse\u001b[0m\u001b[0;34m:\u001b[0m\u001b[0;34m\u001b[0m\u001b[0;34m\u001b[0m\u001b[0m\n\u001b[0;32m-> 6537\u001b[0;31m             \u001b[0mitems\u001b[0m \u001b[0;34m=\u001b[0m \u001b[0;34m[\u001b[0m\u001b[0mfunc\u001b[0m\u001b[0;34m(\u001b[0m\u001b[0mx\u001b[0m\u001b[0;34m)\u001b[0m \u001b[0;32mfor\u001b[0m \u001b[0mx\u001b[0m \u001b[0;32min\u001b[0m \u001b[0mself\u001b[0m\u001b[0;34m]\u001b[0m\u001b[0;34m\u001b[0m\u001b[0;34m\u001b[0m\u001b[0m\n\u001b[0m\u001b[1;32m   6538\u001b[0m             \u001b[0;32mreturn\u001b[0m \u001b[0mIndex\u001b[0m\u001b[0;34m(\u001b[0m\u001b[0mitems\u001b[0m\u001b[0;34m,\u001b[0m \u001b[0mname\u001b[0m\u001b[0;34m=\u001b[0m\u001b[0mself\u001b[0m\u001b[0;34m.\u001b[0m\u001b[0mname\u001b[0m\u001b[0;34m,\u001b[0m \u001b[0mtupleize_cols\u001b[0m\u001b[0;34m=\u001b[0m\u001b[0;32mFalse\u001b[0m\u001b[0;34m)\u001b[0m\u001b[0;34m\u001b[0m\u001b[0;34m\u001b[0m\u001b[0m\n\u001b[1;32m   6539\u001b[0m \u001b[0;34m\u001b[0m\u001b[0m\n",
      "\u001b[0;31mTypeError\u001b[0m: 'str' object is not callable"
     ]
    }
   ],
   "source": [
    "last_price_of_the_day = price_df.groupby(price_df.index.date).tail(1)['Close'].rename('day_close_price')  # A\n",
    "last_price_of_the_day.index = last_price_of_the_day.index.date  # A\n",
    "\n",
    "price_df['day'] = price_df.index.date  # B\n",
    "\n",
    "price_df = price_df.merge(last_price_of_the_day, left_on='day', right_index=True)  # C\n",
    "\n",
    "price_df['pct_change_eod'] = (price_df['day_close_price'] - price_df['Close']) / price_df['Close']   # D\n",
    "\n",
    "price_df['stock_price_rose'] = price_df['pct_change_eod'] > 0  # E\n",
    "\n",
    "price_df.head()\n",
    "\n",
    "\n",
    "# A calculate the ending price of TWLO for each day\n",
    "# B Add a column to our price dataframe to represent the date\n",
    "# C Merge the ending prices into our granular dataframe\n",
    "# D the percent change from now until the end of the day\n",
    "# E Create our response column: a binary response"
   ]
  },
  {
   "cell_type": "markdown",
   "metadata": {
    "id": "PLQoiMgRiWKW"
   },
   "source": [
    "## Date/time related features\n"
   ]
  },
  {
   "cell_type": "code",
   "execution_count": null,
   "metadata": {
    "id": "oZWA111riWKZ"
   },
   "outputs": [],
   "source": [
    "import matplotlib.pyplot as plt"
   ]
  },
  {
   "cell_type": "code",
   "execution_count": null,
   "metadata": {
    "id": "6p_2ZCM-iWKb"
   },
   "outputs": [],
   "source": [
    "# Datetime features\n",
    "\n",
    "price_df['feature__dayofweek'] = price_df.index.dayofweek  # A\n",
    "price_df['feature__morning'] = price_df.index.hour < 12  # B\n",
    "\n",
    "# A An ordinal feature representing the day of the week\n",
    "# B A binary feature for whether it is before noon or not\n",
    "\n",
    "price_df['feature__dayofweek'].value_counts().sort_index().plot(kind='bar', title='Day of the Week Count')\n",
    "plt.xlabel('Day of the Week')\n"
   ]
  },
  {
   "cell_type": "code",
   "execution_count": null,
   "metadata": {
    "id": "zhHmayuyiWKc"
   },
   "outputs": [],
   "source": [
    "price_df['feature__morning'].value_counts().plot(kind='bar', title='Is Morning Counts')\n",
    "plt.xlabel('Is Morning')\n"
   ]
  },
  {
   "cell_type": "markdown",
   "metadata": {
    "id": "_h35ghmPiWKd"
   },
   "source": [
    "## Lag / Rolling Window features"
   ]
  },
  {
   "cell_type": "code",
   "execution_count": null,
   "metadata": {
    "id": "-t3lb3sDiWKe"
   },
   "outputs": [],
   "source": [
    "price_df['feature__lag_30_min_ago_price'] = price_df['close'].shift(30, freq='T')\n",
    "price_df['feature__lag_7_day_ago_price'] = price_df['close'].shift(7, freq='D')\n",
    "\n",
    "price_df['feature__lag_7_day_ago_price'].plot(figsize=(20,10), title='Close vs Lag Close')\n",
    "price_df['close'].plot()\n",
    "plt.legend()\n",
    "plt.xlabel('Time')\n",
    "plt.ylabel('Price')\n"
   ]
  },
  {
   "cell_type": "code",
   "execution_count": null,
   "metadata": {
    "id": "woNsVFW_iWKf"
   },
   "outputs": [],
   "source": [
    "price_df['feature__rolling_close_mean_60'] = price_df['close'].rolling('60min').mean()\n",
    "\n",
    "price_df['feature__rolling_close_mean_60'].plot(figsize=(20, 10), title='Rolling 60min Close')\n",
    "\n",
    "plt.xlabel('Time')\n",
    "plt.ylabel('Price')\n"
   ]
  },
  {
   "cell_type": "code",
   "execution_count": null,
   "metadata": {
    "id": "gf8VYD38iWKg"
   },
   "outputs": [],
   "source": []
  },
  {
   "cell_type": "code",
   "execution_count": null,
   "metadata": {
    "id": "7f0xnqJHiWKg"
   },
   "outputs": [],
   "source": [
    "# Exercise 7.1 Calculate the rolling 2 and a half hour average closing price and plot that value over the\n",
    "# entirety of the training set.\n",
    "\n",
    "\n",
    "price_df['feature__rolling_close_mean_150'] = price_df['close'].rolling('150min').mean()\n",
    "\n",
    "price_df['feature__rolling_close_mean_150'].plot(figsize=(20, 10), title='Rolling 150min Close')\n",
    "\n",
    "plt.xlabel('Time')\n",
    "plt.ylabel('Price')\n",
    "\n",
    "del price_df['feature__rolling_close_mean_150']\n"
   ]
  },
  {
   "cell_type": "code",
   "execution_count": null,
   "metadata": {
    "id": "_XsE2e9NiWKh"
   },
   "outputs": [],
   "source": []
  },
  {
   "cell_type": "code",
   "execution_count": null,
   "metadata": {
    "id": "joW_QNJBiWKh"
   },
   "outputs": [],
   "source": []
  },
  {
   "cell_type": "code",
   "execution_count": null,
   "metadata": {
    "id": "V1mGwlHXiWKh"
   },
   "outputs": [],
   "source": []
  },
  {
   "cell_type": "code",
   "execution_count": null,
   "metadata": {
    "id": "bMbtihOBiWKh"
   },
   "outputs": [],
   "source": [
    "price_df['feature__rolling_close_mean_60'] = price_df['close'].rolling('60min').mean() # A\n",
    "price_df['feature__rolling_close_std_60'] = price_df['close'].rolling('60min').std() # B\n",
    "price_df['feature__rolling_volume_mean_60'] = price_df['volume'].rolling('60min').mean() # C\n",
    "price_df['feature__rolling_volume_std_60'] = price_df['volume'].rolling('60min').std() # D\n",
    "\n",
    "price_df.dropna(inplace=True)\n",
    "\n",
    "price_df['feature__rolling_close_mean_60'].plot(figsize=(20, 10), title='Rolling 60min Close')\n",
    "plt.xlabel('Time')\n",
    "plt.ylabel('Price')\n",
    "\n",
    "# A Rolling 60-minute average price\n",
    "# B Rolling 60-minute standard deviation of price\n",
    "# C Rolling 60-minute average volume\n",
    "# D Rolling 60-minute standard deviation of volume\n"
   ]
  },
  {
   "cell_type": "code",
   "execution_count": null,
   "metadata": {
    "id": "XUyMkgpuiWKi"
   },
   "outputs": [],
   "source": []
  },
  {
   "cell_type": "markdown",
   "metadata": {
    "id": "rvaQk-bXiWKi"
   },
   "source": [
    "## Expanding Window features"
   ]
  },
  {
   "attachments": {
    "image.png": {
     "image/png": "[encoded data removed]"
    }
   },
   "cell_type": "markdown",
   "metadata": {},
   "source": [
    "![image.png](attachment:image.png)"
   ]
  },
  {
   "cell_type": "code",
   "execution_count": null,
   "metadata": {
    "id": "GQfgmeWQiWKj"
   },
   "outputs": [],
   "source": [
    "price_df['feature__expanding_close_mean'] = price_df['close'].expanding(200).mean()\n",
    "price_df['feature__expanding_volume_mean'] = price_df['volume'].expanding(200).mean()\n",
    "\n",
    "price_df.dropna(inplace=True)"
   ]
  },
  {
   "cell_type": "code",
   "execution_count": null,
   "metadata": {
    "id": "L5ul9mnAiWKj"
   },
   "outputs": [],
   "source": [
    "price_df['feature__expanding_close_mean'].plot(figsize=(20, 10), title='Expanding Window Close')\n",
    "\n",
    "plt.xlabel('Time')\n",
    "plt.ylabel('Price')\n"
   ]
  },
  {
   "cell_type": "code",
   "execution_count": null,
   "metadata": {
    "id": "WZ6LobUgiWKk"
   },
   "outputs": [],
   "source": [
    "price_df['feature__expanding_volume_mean'].plot(figsize=(20, 10), title='Expanding Window Volume')  # A\n",
    "\n",
    "plt.xlabel('Time')\n",
    "plt.ylabel('Shares')\n",
    "\n",
    "# A plot our expanding window features"
   ]
  },
  {
   "cell_type": "code",
   "execution_count": null,
   "metadata": {
    "id": "To6O_PYLiWKk"
   },
   "outputs": [],
   "source": []
  },
  {
   "cell_type": "code",
   "execution_count": null,
   "metadata": {
    "id": "zNBsy--6iWKk"
   },
   "outputs": [],
   "source": [
    "%run ./Base.ipynb"
   ]
  },
  {
   "cell_type": "code",
   "execution_count": null,
   "metadata": {
    "id": "56-kzzcZiWKl"
   },
   "outputs": [],
   "source": []
  },
  {
   "cell_type": "code",
   "execution_count": null,
   "metadata": {
    "id": "4mYsCSR6iWKl"
   },
   "outputs": [],
   "source": [
    "from sklearn.pipeline import Pipeline  # A\n",
    "from sklearn.ensemble import RandomForestClassifier\n",
    "from sklearn.preprocessing import StandardScaler\n",
    "\n",
    "clf = RandomForestClassifier(random_state=0)\n",
    "\n",
    "ml_pipeline = Pipeline([  # B\n",
    "    ('scale', StandardScaler()),\n",
    "    ('classifier', clf)\n",
    "])\n",
    "\n",
    "params = {  # C\n",
    "    'classifier__criterion': ['gini', 'entropy'],\n",
    "    'classifier__min_samples_split': [2, 3, 5],\n",
    "\n",
    "    'classifier__max_depth': [10, None],\n",
    "    'classifier__max_features': [None, 'auto']\n",
    "}\n",
    "\n",
    "# A Import the scikit-learn Pipeline object\n",
    "# B Create a pipeline with feature scaling and our classifier\n",
    "# C Create the base gridsearch parameters\n",
    "\n"
   ]
  },
  {
   "cell_type": "code",
   "execution_count": null,
   "metadata": {
    "id": "5VjOxrl3iWKl"
   },
   "outputs": [],
   "source": [
    "from sklearn.model_selection import TimeSeriesSplit  # A\n",
    "\n",
    "tscv = TimeSeriesSplit(n_splits=2)  # A\n",
    "\n",
    "# A This splitter will give us train/test splits optimized for time data\n"
   ]
  },
  {
   "cell_type": "code",
   "execution_count": null,
   "metadata": {
    "id": "JfAci_7yiWKm"
   },
   "outputs": [],
   "source": [
    "for i, (train_index, test_index) in enumerate(tscv.split(price_df)):\n",
    "    train_times, test_times = price_df.iloc[train_index].index, price_df.iloc[test_index].index\n",
    "    print(f'Iteration {i}\\n-------------')\n",
    "    print(f'''Training between {train_times.min().date()} and {train_times.max().date()}. Testing between {test_times.min().date()} and {test_times.max().date()}\\n'''\n",
    "    )\n"
   ]
  },
  {
   "cell_type": "code",
   "execution_count": null,
   "metadata": {
    "id": "BbP-SxYCiWKm"
   },
   "outputs": [],
   "source": [
    "price_df.filter(regex='feature__').corrwith(price_df['stock_price_rose']).sort_values()"
   ]
  },
  {
   "cell_type": "code",
   "execution_count": null,
   "metadata": {
    "id": "jvORNL5fiWKn"
   },
   "outputs": [],
   "source": []
  },
  {
   "cell_type": "code",
   "execution_count": null,
   "metadata": {
    "id": "iAd4aUNCiWKn"
   },
   "outputs": [],
   "source": [
    "def split_data(price_df):\n",
    "    ''' This function takes in our price dataframe and splits it into a training and validation set\n",
    "    as well as filtering our rows to only use rows that are on the hour\n",
    "    '''\n",
    "    downsized_price_df = price_df[(price_df.index.minute == 0)]  # A\n",
    "    train_df, test_df = downsized_price_df[:'2021-05-31'], downsized_price_df['2021-06-01':]  # B\n",
    "    train_X, test_X = train_df.filter(regex='feature'), test_df.filter(regex='feature')  # C\n",
    "    train_y, test_y = train_df['stock_price_rose'], test_df['stock_price_rose'] # D\n",
    "    return train_df, test_df, train_X, train_y, test_X, test_y\n",
    "\n",
    "# A limit our data to only make trades at the 0 minute mark. Usually 6-7 times a day\n",
    "# B Split our dataframe into training and validation (before and after June 2021)\n",
    "# C Use the pandas filter method to select the features based on the prefix feature__ we have been adding\n",
    "# D Split our target variable based on our June 2021 split\n"
   ]
  },
  {
   "cell_type": "code",
   "execution_count": null,
   "metadata": {
    "id": "CboFPRGRiWKo",
    "scrolled": true
   },
   "outputs": [],
   "source": [
    "train_df, test_df, train_X, train_y, test_X, test_y = split_data(price_df)\n",
    "\n",
    "print(\"Date-time/Lag/Window/Rolling features + Random Forest\\n==========================\")\n",
    "best_model, test_preds, test_probas = advanced_grid_search(\n",
    "    train_X, train_y,\n",
    "    test_X, test_y,\n",
    "    ml_pipeline, params,\n",
    "    cv=tscv, include_probas=True  # C\n",
    ")\n"
   ]
  },
  {
   "cell_type": "code",
   "execution_count": null,
   "metadata": {
    "id": "LQbcMlUYiWKo"
   },
   "outputs": [],
   "source": [
    "def plot_gains(df, response, predictions):\n",
    "    ''' A simulation of acting on the First prediction of the day '''\n",
    "    df['predictions'] =  predictions\n",
    "    df['movement_correct_multiplier'] = (predictions == response).map({True: 1, False: -1})\n",
    "    df['gain'] = df['movement_correct_multiplier'] * df['pct_change_eod'].abs()\n",
    "\n",
    "\n",
    "    bullish = df[predictions == True]\n",
    "    bullish_gains = bullish.sort_index().groupby(bullish.index.date).head(1)['gain']\n",
    "    bullish_gains.cumsum().plot(label='Bullish Only', legend=True)\n",
    "    print(f'% of time with profit: {(bullish_gains.cumsum() > 0).mean():.3f}')\n",
    "    print(f'Total Gains for bullish is {bullish_gains.sum():.3f}')\n",
    "\n",
    "    bearish = df[predictions == False]\n",
    "    bearish_gains = bearish.sort_index().groupby(bearish.index.date).head(1)['gain']\n",
    "    bearish_gains.cumsum().plot(label='Bearish Only', legend=True)\n",
    "    print(f'% of time with profit: {(bearish_gains.cumsum() > 0).mean():.3f}')\n",
    "    print(f'Total Gains for bearish is {bearish_gains.sum():.3f}')\n",
    "\n",
    "    gains = df.sort_index().groupby(df.index.date).head(1)['gain']\n",
    "    gains.cumsum().plot(label='All Predictions', legend=True)\n",
    "    print(f'% of time with profit: {(gains.cumsum() > 0).mean():.3f}')\n",
    "    print(f'Total Gains for all predictions is {gains.sum():.3f}')\n",
    "\n",
    "    plt.title('Gains')\n",
    "    plt.xlabel('Time')\n",
    "    plt.ylabel('Cumulative Gains')\n",
    "\n"
   ]
  },
  {
   "cell_type": "code",
   "execution_count": null,
   "metadata": {
    "id": "lMywLysziWKp"
   },
   "outputs": [],
   "source": [
    "plot_gains(test_df.copy(), test_y, test_preds)\n"
   ]
  },
  {
   "cell_type": "code",
   "execution_count": null,
   "metadata": {
    "id": "ZgC1WRexiWKy"
   },
   "outputs": [],
   "source": []
  },
  {
   "cell_type": "code",
   "execution_count": null,
   "metadata": {
    "id": "fjslTIkxiWKy"
   },
   "outputs": [],
   "source": [
    "test_y.value_counts(normalize=True)  # A\n",
    "\n",
    "# A Guessing bearish has a null accuracy of just over 51%"
   ]
  },
  {
   "cell_type": "code",
   "execution_count": null,
   "metadata": {
    "id": "4RhpgdVpiWKz"
   },
   "outputs": [],
   "source": []
  },
  {
   "cell_type": "code",
   "execution_count": null,
   "metadata": {
    "id": "04jnzQnEiWKz"
   },
   "outputs": [],
   "source": []
  },
  {
   "cell_type": "markdown",
   "metadata": {
    "id": "jip8_cAiiWK0"
   },
   "source": [
    "## Domain Features"
   ]
  },
  {
   "cell_type": "code",
   "execution_count": null,
   "metadata": {
    "id": "ERoUrKbKiWK0"
   },
   "outputs": [],
   "source": [
    "daily_features = pd.DataFrame()  # A\n",
    "\n",
    "daily_features['first_5_min_avg_close'] = price_df.groupby(\n",
    "    price_df.index.date\n",
    ")['close'].apply(lambda x: x.head().mean())  #  B\n",
    "daily_features['last_5_min_avg_close'] = price_df.groupby(\n",
    "    price_df.index.date\n",
    ")['close'].apply(lambda x: x.tail().mean())  # B\n",
    "\n",
    "\n",
    "daily_features['feature__overnight_change_close'] = \\\n",
    "    (daily_features['first_5_min_avg_close'] - daily_features['last_5_min_avg_close'].shift(1)) / daily_features['last_5_min_avg_close'].shift(1)  # C\n",
    "daily_features['feature__monthly_pct_change_close'] = daily_features['first_5_min_avg_close'].pct_change(periods=31)  # D\n",
    "daily_features['feature__expanding_average_close'] = daily_features['first_5_min_avg_close'].expanding(31).mean()  # E\n",
    "\n",
    "# A Make a dataframe to hold stats about the day itself\n",
    "# B Average the first and last 5 minutes of the day to get an opening and closing price\n",
    "# C The overnight change (pct change from the  previous closing price to the current opening price)\n",
    "# D A rolling percent change of opening price (window  of 31 datapoints)\n",
    "# E An expanding window function of average opening price (omitting the first 31 datapoints for stability)\n",
    "\n"
   ]
  },
  {
   "cell_type": "markdown",
   "metadata": {
    "id": "9TtcEPJJiWK1"
   },
   "source": [
    "## MACD"
   ]
  },
  {
   "cell_type": "code",
   "execution_count": null,
   "metadata": {
    "id": "mdSXTbZwiWK1"
   },
   "outputs": [],
   "source": [
    "def macd(ticker):  # A\n",
    "    exp1 = ticker.ewm(span=12, adjust=False).mean()\n",
    "    exp2 = ticker.ewm(span=26, adjust=False).mean()\n",
    "    macd = exp1 - exp2\n",
    "    return macd.ewm(span=9, adjust=False).mean()\n",
    "\n",
    "daily_features['feature__macd'] = macd(daily_features['first_5_min_avg_close'])  # B\n",
    "\n",
    "price_df = price_df.merge(daily_features, left_on=price_df.index.date, right_index=True)  # C\n",
    "price_df.dropna(inplace=True)\n",
    "\n",
    "# A function to calculate macd\n",
    "# B calculate macd using the opening prices\n",
    "# C Merge the daily features into the main price Dataframe"
   ]
  },
  {
   "cell_type": "code",
   "execution_count": null,
   "metadata": {
    "id": "ZexgO8wAiWK1"
   },
   "outputs": [],
   "source": [
    "price_df.describe()"
   ]
  },
  {
   "cell_type": "code",
   "execution_count": null,
   "metadata": {
    "id": "EM4OdL78iWK2"
   },
   "outputs": [],
   "source": []
  },
  {
   "cell_type": "code",
   "execution_count": null,
   "metadata": {
    "id": "U8oZk_V3iWK2"
   },
   "outputs": [],
   "source": [
    "tweet_df = pd.read_csv(f\"../data/twlo_tweets.csv\", encoding='ISO-8859-1')\n",
    "\n",
    "tweet_df.index = pd.to_datetime(tweet_df['date_tweeted'])\n",
    "tweet_df.index = tweet_df.index.tz_convert('US/Pacific')\n",
    "del tweet_df['date_tweeted']\n",
    "\n",
    "tweet_df.sort_index(inplace=True)\n",
    "tweet_df.dropna(inplace=True)\n",
    "\n",
    "tweet_df = tweet_df['2019-12-01':'2021-07-08']\n",
    "\n",
    "\n",
    "tweet_df.head()"
   ]
  },
  {
   "cell_type": "code",
   "execution_count": null,
   "metadata": {
    "id": "UQqF5K4ViWK3"
   },
   "outputs": [],
   "source": [
    "rolling_1_day_verified_count = tweet_df.resample('1T')['author_verified'].sum().rolling('1D').sum()\n",
    "\n",
    "rolling_1_day_verified_count.plot(title='Daily Rolling Count of Verified Tweets')\n",
    "plt.xlabel('Time')\n",
    "plt.ylabel('Number of Verified Tweets')\n"
   ]
  },
  {
   "cell_type": "code",
   "execution_count": null,
   "metadata": {
    "id": "AysG8_tSiWK3"
   },
   "outputs": [],
   "source": [
    "rolling_7_day_total_tweets = tweet_df.resample('1T')['tweet_unique_id'].count().rolling('7D').sum()\n",
    "\n",
    "rolling_7_day_total_tweets.plot(title='Weekly Rolling Count of Tweets')\n",
    "plt.xlabel('Time')\n",
    "plt.ylabel('Number of Tweets')\n"
   ]
  },
  {
   "cell_type": "code",
   "execution_count": null,
   "metadata": {
    "id": "JGIHldTkiWK4"
   },
   "outputs": [],
   "source": [
    "twitter_stats = pd.DataFrame({\n",
    "    'feature__rolling_7_day_total_tweets': rolling_7_day_total_tweets,\n",
    "    'feature__rolling_1_day_verified_count': rolling_1_day_verified_count\n",
    "})  # A\n",
    "\n",
    "twitter_stats.index = pd.to_datetime(twitter_stats.index)  # B\n",
    "twitter_stats.index = twitter_stats.index.tz_convert('US/Pacific')  # B\n",
    "\n",
    "price_df = price_df.merge(twitter_stats, left_index=True, right_index=True)  # C\n",
    "\n",
    "# A Create a dataframe with the twitter stats\n",
    "# B Standardize the index to make the following merge easier\n",
    "# C Merge twitter stats into our price dataframe"
   ]
  },
  {
   "cell_type": "code",
   "execution_count": null,
   "metadata": {
    "id": "xXalD8ESiWK4"
   },
   "outputs": [],
   "source": []
  },
  {
   "cell_type": "code",
   "execution_count": null,
   "metadata": {
    "id": "IP7e5ROtiWK5"
   },
   "outputs": [],
   "source": [
    "#Exercise 7.2\n",
    "\n",
    "price_df.filter(\n",
    "    regex='feature__'\n",
    ").corrwith(\n",
    "    price_df['stock_price_rose']\n",
    ").sort_values()"
   ]
  },
  {
   "cell_type": "code",
   "execution_count": null,
   "metadata": {
    "id": "4m41qR77iWK5"
   },
   "outputs": [],
   "source": [
    "train_df, test_df, train_X, train_y, test_X, test_y = split_data(price_df)\n",
    "\n",
    "print(\"Add Domain Features\\n==========================\")\n",
    "best_model, test_preds, test_probas = advanced_grid_search(\n",
    "    train_X, train_y,\n",
    "    test_X, test_y,\n",
    "    ml_pipeline, params,\n",
    "    cv=tscv, include_probas=True  # C\n",
    ")\n",
    "\n",
    "plot_gains(test_df.copy(), test_y, test_preds)\n",
    "\n",
    "# A new features in price_df require a new split"
   ]
  },
  {
   "cell_type": "code",
   "execution_count": null,
   "metadata": {
    "id": "dEXZ83FdiWK6"
   },
   "outputs": [],
   "source": [
    "price_df.to_csv('fifteen_percent_gains_features.csv', index=False)"
   ]
  },
  {
   "cell_type": "code",
   "execution_count": null,
   "metadata": {
    "id": "QqtZjZZjiWK6"
   },
   "outputs": [],
   "source": []
  },
  {
   "cell_type": "markdown",
   "metadata": {
    "id": "81HA01BxiWK7"
   },
   "source": [
    "## Feature Selection"
   ]
  },
  {
   "cell_type": "code",
   "execution_count": null,
   "metadata": {
    "id": "x_AZSSY-iWK7",
    "scrolled": true
   },
   "outputs": [],
   "source": [
    "from sklearn.feature_selection import SelectFromModel\n",
    "from sklearn.linear_model import LogisticRegression\n",
    "\n",
    "rf = RandomForestClassifier(n_estimators=20, max_depth=None, random_state=0)  # A\n",
    "lr = LogisticRegression(random_state=0)\n",
    "\n",
    "ml_pipeline = Pipeline([\n",
    "    ('scale', StandardScaler()),\n",
    "    ('select_from_model', SelectFromModel(estimator=rf)),\n",
    "    ('classifier', clf)\n",
    "])\n",
    "\n",
    "params.update({\n",
    "    'select_from_model__threshold': [\n",
    "        '0.5 * mean', 'mean', '0.5 * median', 'median'\n",
    "    ],\n",
    "    'select_from_model__estimator':  [rf, lr]\n",
    "})\n",
    "\n",
    "print(\"Feature Selection (SFM) \\n==========================\")\n",
    "best_model, test_preds, test_probas = advanced_grid_search(\n",
    "    train_X, train_y,\n",
    "    test_X, test_y,\n",
    "    ml_pipeline, params,\n",
    "    cv=tscv, include_probas=True  # C\n",
    ")\n",
    "\n",
    "del params['select_from_model__threshold']\n",
    "del params['select_from_model__estimator']\n",
    "\n",
    "plot_gains(test_df.copy(), test_y, test_preds)\n",
    "\n",
    "# The feature importances in this random forest will dictate which features to select"
   ]
  },
  {
   "cell_type": "code",
   "execution_count": null,
   "metadata": {
    "id": "WRwO7qtMiWK8"
   },
   "outputs": [],
   "source": []
  },
  {
   "cell_type": "code",
   "execution_count": null,
   "metadata": {
    "id": "cvT-PkRPiWK8"
   },
   "outputs": [],
   "source": [
    "train_X.shape"
   ]
  },
  {
   "cell_type": "code",
   "execution_count": null,
   "metadata": {
    "id": "tKiHUB9liWK9"
   },
   "outputs": [],
   "source": [
    "from sklearn.feature_selection import RFE\n",
    "\n",
    "ml_pipeline = Pipeline([\n",
    "    ('scale', StandardScaler()),\n",
    "    ('rfe', RFE(estimator=rf)),  # A\n",
    "    ('classifier', clf)\n",
    "])\n",
    "\n",
    "params.update({\n",
    "    'rfe__n_features_to_select': [0.6, 0.7, 0.8, 0.9],\n",
    "    'rfe__estimator':  [rf, lr]\n",
    "})\n",
    "\n",
    "print(\"Feature Selection (RFE) \\n==========================\")\n",
    "best_model, test_preds, test_probas = advanced_grid_search(\n",
    "    train_X, train_y,\n",
    "    test_X, test_y,\n",
    "    ml_pipeline, params,\n",
    "    cv=tscv, include_probas=True  # C\n",
    ")\n",
    "del params['rfe__n_features_to_select']\n",
    "del params['rfe__estimator']\n",
    "\n",
    "plot_gains(test_df.copy(), test_y, test_preds)\n"
   ]
  },
  {
   "cell_type": "code",
   "execution_count": null,
   "metadata": {
    "id": "V3ryuCKiiWK9"
   },
   "outputs": [],
   "source": [
    "list(zip(train_df.filter(regex='feature__').columns, best_model.named_steps['rfe'].ranking_))  # A\n",
    "\n",
    "# A get the ranking of features"
   ]
  },
  {
   "cell_type": "code",
   "execution_count": null,
   "metadata": {
    "id": "BZAbSwGqiWK-"
   },
   "outputs": [],
   "source": []
  },
  {
   "cell_type": "code",
   "execution_count": null,
   "metadata": {
    "id": "AeMDe0nOiWK-"
   },
   "outputs": [],
   "source": [
    "from sklearn.preprocessing import PolynomialFeatures\n",
    "\n",
    "p = PolynomialFeatures(3)\n",
    "small_poly_features = p.fit_transform(\n",
    "    price_df[['feature__rolling_close_mean_60',\n",
    "    'feature__rolling_7_day_total_tweets',\n",
    "    'feature__morning']])\n",
    "\n",
    "pd.DataFrame(small_poly_features, columns=p.get_feature_names())\n"
   ]
  },
  {
   "cell_type": "code",
   "execution_count": null,
   "metadata": {
    "id": "g95J4043iWK_",
    "scrolled": true
   },
   "outputs": [],
   "source": [
    "from sklearn.preprocessing import PolynomialFeatures\n",
    "\n",
    "ml_pipeline = Pipeline([\n",
    "    ('poly', PolynomialFeatures(1, include_bias=False)),\n",
    "    ('scale', StandardScaler()),\n",
    "    ('select_from_model', SelectFromModel(estimator=rf)),  # A\n",
    "    ('classifier', clf)\n",
    "])\n",
    "\n",
    "params.update({\n",
    "    'select_from_model__threshold': ['0.5 * mean', 'mean', '0.5 * median', 'median'],\n",
    "    'select_from_model__estimator':  [rf, lr],\n",
    "    'poly__degree': [2],\n",
    "})\n",
    "\n",
    "print(\"Polynomial Features \\n==========================\")\n",
    "best_model, test_preds, test_probas = advanced_grid_search(\n",
    "    train_X, train_y,\n",
    "    test_X, test_y,\n",
    "    ml_pipeline, params,\n",
    "    cv=tscv, include_probas=True  # C\n",
    ")\n",
    "\n",
    "del params['poly__degree']\n",
    "del params['select_from_model__threshold']\n",
    "del params['select_from_model__estimator']\n",
    "\n",
    "plot_gains(test_df.copy(), test_y, test_preds)\n"
   ]
  },
  {
   "cell_type": "code",
   "execution_count": null,
   "metadata": {
    "id": "G4T1tBJsiWK_"
   },
   "outputs": [],
   "source": [
    "print(best_model)"
   ]
  },
  {
   "cell_type": "code",
   "execution_count": null,
   "metadata": {
    "id": "SvWqgvN8iWK_"
   },
   "outputs": [],
   "source": []
  }
 ],
 "metadata": {
  "colab": {
   "provenance": []
  },
  "kernelspec": {
   "display_name": "Python 3 (ipykernel)",
   "language": "python",
   "name": "python3"
  },
  "language_info": {
   "codemirror_mode": {
    "name": "ipython",
    "version": 3
   },
   "file_extension": ".py",
   "mimetype": "text/x-python",
   "name": "python",
   "nbconvert_exporter": "python",
   "pygments_lexer": "ipython3",
   "version": "3.12.7"
  }
 },
 "nbformat": 4,
 "nbformat_minor": 4
}
